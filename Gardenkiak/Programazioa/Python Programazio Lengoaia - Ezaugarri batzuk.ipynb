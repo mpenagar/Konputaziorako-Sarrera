{
 "cells": [
  {
   "cell_type": "markdown",
   "metadata": {
    "slideshow": {
     "slide_type": "slide"
    }
   },
   "source": [
    "# Python Programazio Lengoaia - Ezaugarri batzuk"
   ]
  },
  {
   "cell_type": "markdown",
   "metadata": {
    "slideshow": {
     "slide_type": "slide"
    }
   },
   "source": [
    "## Trinkoa\n",
    "\n",
    "Python programa bat beste lengoaia batean idatzitako bere programa baliokidea baino laburragoa izango da."
   ]
  },
  {
   "cell_type": "markdown",
   "metadata": {
    "slideshow": {
     "slide_type": "fragment"
    }
   },
   "source": [
    "Adibidez, \"Hello World\" mezua pantailatik erakutsi nahi bagenu, [programazio lengoaia ezberdinak erabiliz](https://en.wikibooks.org/wiki/List_of_hello_world_programs)... \n",
    "\n",
    "* **Python**:\n",
    "\n",
    "```python\n",
    "print(\"Hello, world!\")\n",
    "```"
   ]
  },
  {
   "cell_type": "markdown",
   "metadata": {
    "slideshow": {
     "slide_type": "slide"
    }
   },
   "source": [
    "* **C**:\n",
    "\n",
    "```c\n",
    "#include <stdio.h>\n",
    "\n",
    "int main(void){\n",
    "    printf(\"Hello, world!\");\n",
    "}\n",
    "```\n",
    "\n",
    "* **Java**:\n",
    "\n",
    "```java\n",
    "class HelloWorld {\n",
    "     public static void main(String[] args) {\n",
    "          System.out.println(\"Hello, world!\");\n",
    "     }\n",
    "}\n",
    "```"
   ]
  },
  {
   "cell_type": "markdown",
   "metadata": {
    "slideshow": {
     "slide_type": "slide"
    }
   },
   "source": [
    "* **Assembler (x86 DOS, FASM)**:\n",
    "\n",
    "```asm\n",
    "  org  $100\n",
    "  use16    \n",
    "  mov  ah,9\n",
    "  mov  dx,xhello\n",
    "  int  $21\n",
    "  mov  ah,$4C\n",
    "  int  $21\n",
    "xhello db 'Hello world!'\n",
    "```\n",
    "\n",
    "* **Scratch**:\n",
    "\n",
    "![scream](../../img/120px-Scratchhello.jpg)\n",
    "\n",
    "<!--\n",
    "![Hello World in Scratch](https://upload.wikimedia.org/wikipedia/commons/thumb/d/d1/Scratchhello.jpg/120px-Scratchhello.jpg)\n",
    "-->"
   ]
  },
  {
   "cell_type": "markdown",
   "metadata": {
    "slideshow": {
     "slide_type": "slide"
    }
   },
   "source": [
    "## Irakurgarria \n",
    "\n",
    "Python-en sintaxiak programaren irakurtzea errezten du. Baina kontuz! Ondoko bi kode zatiak baliteke berdinak ez izatea...\n",
    "\n",
    "```python\n",
    "for i in [1,2,3] :\n",
    "    print(i)\n",
    "    print(i+1)\n",
    "```\n",
    "```python\n",
    "for i in [1,2,3] :\n",
    "    print(i)\n",
    "    print(i+1)\n",
    "```\n",
    "\n",
    "![scream](../../img/emoji/36x36/1f631.png)"
   ]
  },
  {
   "cell_type": "markdown",
   "metadata": {
    "slideshow": {
     "slide_type": "slide"
    }
   },
   "source": [
    "\n",
    "## Datu egiturak\n",
    "\n",
    "Ugariak, era errezean erabili daitezkeenak. Tira, funtsean bi baino ez, **zerrendak** eta **hiztegiak**.\n",
    "\n",
    "![face with tears](../../img/emoji/36x36/1f602.png)\n"
   ]
  },
  {
   "cell_type": "markdown",
   "metadata": {
    "slideshow": {
     "slide_type": "slide"
    }
   },
   "source": [
    "## Exekuzio ingurunea\n",
    "\n",
    "Programazio erroreei buruzko informazio ugari ematen du, lengoai konpilatuekin konparatuz.\n",
    "\n"
   ]
  },
  {
   "cell_type": "code",
   "execution_count": 3,
   "metadata": {
    "slideshow": {
     "slide_type": "fragment"
    }
   },
   "outputs": [
    {
     "name": "stdout",
     "output_type": "stream",
     "text": [
      "Maider\n"
     ]
    },
    {
     "ename": "IndexError",
     "evalue": "list index out of range",
     "output_type": "error",
     "traceback": [
      "\u001b[0;31m\u001b[0m",
      "\u001b[0;31mIndexError\u001b[0mTraceback (most recent call last)",
      "\u001b[0;32m<ipython-input-3-7fbc592de240>\u001b[0m in \u001b[0;36m<module>\u001b[0;34m\u001b[0m\n\u001b[1;32m      1\u001b[0m \u001b[0mz\u001b[0m \u001b[0;34m=\u001b[0m \u001b[0;34m[\u001b[0m\u001b[0;34m\"Nerea\"\u001b[0m\u001b[0;34m,\u001b[0m \u001b[0;34m\"Jon\"\u001b[0m\u001b[0;34m,\u001b[0m \u001b[0;34m\"Asier\"\u001b[0m \u001b[0;34m,\u001b[0m \u001b[0;34m\"Maider\"\u001b[0m\u001b[0;34m,\u001b[0m \u001b[0;34m\"nora\"\u001b[0m\u001b[0;34m]\u001b[0m\u001b[0;34m\u001b[0m\u001b[0;34m\u001b[0m\u001b[0m\n\u001b[1;32m      2\u001b[0m \u001b[0mprint\u001b[0m\u001b[0;34m(\u001b[0m\u001b[0mz\u001b[0m\u001b[0;34m[\u001b[0m\u001b[0;36m3\u001b[0m\u001b[0;34m]\u001b[0m\u001b[0;34m)\u001b[0m\u001b[0;34m\u001b[0m\u001b[0;34m\u001b[0m\u001b[0m\n\u001b[0;32m----> 3\u001b[0;31m \u001b[0mprint\u001b[0m\u001b[0;34m(\u001b[0m\u001b[0mz\u001b[0m\u001b[0;34m[\u001b[0m\u001b[0;36m327\u001b[0m\u001b[0;34m]\u001b[0m\u001b[0;34m)\u001b[0m\u001b[0;34m\u001b[0m\u001b[0;34m\u001b[0m\u001b[0m\n\u001b[0m",
      "\u001b[0;31mIndexError\u001b[0m: list index out of range"
     ]
    }
   ],
   "source": [
    "z = [\"Nerea\", \"Jon\", \"Asier\" , \"Maider\", \"nora\"]\n",
    "print(z[3])\n",
    "print(z[327])"
   ]
  },
  {
   "cell_type": "markdown",
   "metadata": {
    "slideshow": {
     "slide_type": "fragment"
    }
   },
   "source": [
    "* **C** programazio lengoaian idatzitako programa baliokidea exekutatzean ikusiko genukeena:\n",
    "\n",
    "```bash\n",
    "Segmentation Fault (core dumped)\n",
    "```"
   ]
  },
  {
   "cell_type": "markdown",
   "metadata": {
    "slideshow": {
     "slide_type": "slide"
    }
   },
   "source": [
    "\n",
    "## Exekuzio ingurunea II\n",
    "\n",
    "*Python* lengoaia **interpretatua** da... beno ez... beno bai...\n",
    "![face with tears](../../img/emoji/36x36/1f602.png)\n",
    "\n",
    "![](../../img/pythonInterpreter.png)"
   ]
  },
  {
   "cell_type": "markdown",
   "metadata": {
    "slideshow": {
     "slide_type": "slide"
    }
   },
   "source": [
    "*Python* lengoaia, gauza bakarra bada ere (beno, hau ere ez da guztiz egia), interpretazio ingurunearen inplementazio ezberdinak existitzen dira:\n",
    " * CPython: Python &rarr; Python Bytecode &rarr; Python VM   (defektu/erreferentziazko inplementazioa)\n",
    " * IronPython (Microsoft): Python &rarr; CLR Codes &rarr; .NET\n",
    " * Jython: Python &rarr; Java Bytecode &rarr; Java VM\n",
    " * ...\n",
    " \n",
    "![](../../img/pythonInterpreter2.png)"
   ]
  },
  {
   "cell_type": "markdown",
   "metadata": {
    "slideshow": {
     "slide_type": "fragment"
    }
   },
   "source": [
    "<div class=\"alert alert-info\">\n",
    "    https://stackoverflow.com/questions/2998215/if-python-is-interpreted-what-are-pyc-files.\n",
    "</div>"
   ]
  },
  {
   "cell_type": "markdown",
   "metadata": {
    "slideshow": {
     "slide_type": "slide"
    }
   },
   "source": [
    "## Exekuzio ingurunea III\n",
    "\n",
    "Interpretea erabiltzeko bi modu:\n",
    " 1. Modu interaktiboa\n",
    " 1. Script modua\n",
    " \n",
    "![](../../img/pythonInterpreter3.png)"
   ]
  },
  {
   "cell_type": "markdown",
   "metadata": {
    "slideshow": {
     "slide_type": "fragment"
    }
   },
   "source": [
    " * Tira, hirugarren bat ere badago gutxienez... hau bera (Jupyter Notebook / iPython). Formatudun testua idatzi eta kodea editatu eta exekutatzeko aukera eskeintzen du. Ez da ez editore bat ez kontsola bat... biak baizik:\n",
    " "
   ]
  },
  {
   "cell_type": "code",
   "execution_count": 5,
   "metadata": {
    "slideshow": {
     "slide_type": "-"
    }
   },
   "outputs": [
    {
     "name": "stdout",
     "output_type": "stream",
     "text": [
      "1704.931515711645\n"
     ]
    }
   ],
   "source": [
    "print(23.5*2354.982/32.46)"
   ]
  },
  {
   "cell_type": "markdown",
   "metadata": {
    "slideshow": {
     "slide_type": "slide"
    }
   },
   "source": [
    "Guk Python-en instalazioarekin defektuz datorren **Idle** ingurunea erabiliko dugu modu interaktiboa edo ta script modua erabiltzeko, baina klaseko gardenkiak Jupyter-en oinarrrituak egongo dira."
   ]
  },
  {
   "cell_type": "markdown",
   "metadata": {
    "slideshow": {
     "slide_type": "-"
    }
   },
   "source": [
    "<table border=\"0\" width=\"100%\" style=\"margin: 0px;\">\n",
    "<tr>  \n",
    "  <td style=\"text-align:left\"><a href=\"../Aurkibidea.ipynb\">&lt; &lt; Aurkibidea &lt; &lt;</a></td>\n",
    "  <td style=\"text-align:right\"><a href=\"Balio literalak eta datu motak.ipynb\">&gt; &gt; Balio literalak eta datu motak &gt; &gt;</a></td>\n",
    "</tr>\n",
    "</table>\n",
    "\n"
   ]
  }
 ],
 "metadata": {
  "celltoolbar": "Slideshow",
  "kernelspec": {
   "display_name": "Python 3",
   "language": "python",
   "name": "python3"
  },
  "language_info": {
   "codemirror_mode": {
    "name": "ipython",
    "version": 3
   },
   "file_extension": ".py",
   "mimetype": "text/x-python",
   "name": "python",
   "nbconvert_exporter": "python",
   "pygments_lexer": "ipython3",
   "version": "3.7.4"
  },
  "rise": {
   "autolaunch": "true",
   "footer": "<h2 align=\"center\">Konputaziorako Sarrera</h2>"
  }
 },
 "nbformat": 4,
 "nbformat_minor": 2
}
