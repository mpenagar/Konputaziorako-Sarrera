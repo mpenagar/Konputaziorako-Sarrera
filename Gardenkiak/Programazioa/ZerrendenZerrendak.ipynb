{
 "cells": [
  {
   "cell_type": "markdown",
   "metadata": {
    "slideshow": {
     "slide_type": "slide"
    }
   },
   "source": [
    "# Matrizeak: zerrenden zerrendak\n",
    "\n",
    "Matrize baten moduko egitura sor daiteke zerrenden zerrendekin:"
   ]
  },
  {
   "cell_type": "code",
   "execution_count": 2,
   "metadata": {
    "slideshow": {
     "slide_type": "slide"
    }
   },
   "outputs": [
    {
     "name": "stdout",
     "output_type": "stream",
     "text": [
      "[[1, 2, 3], [4, 5, 6], [7, 8, 9]]\n",
      "6\n"
     ]
    }
   ],
   "source": [
    "A = [[1,2,3],[4,5,6],[7,8,9]]\n",
    "print(A)\n",
    "print(A[1][2])\n",
    "# Hau okerra litzateke\n",
    "#print(A[1,2])"
   ]
  },
  {
   "cell_type": "code",
   "execution_count": 15,
   "metadata": {
    "slideshow": {
     "slide_type": "slide"
    }
   },
   "outputs": [
    {
     "name": "stdout",
     "output_type": "stream",
     "text": [
      "[[1, 2, 3], [4, 5, 6], [7, 8, 9]]\n",
      "6\n"
     ]
    }
   ],
   "source": [
    "# Lerro berriak gehituz, argiagoa.\n",
    "A = [\n",
    "    [1,2,3],\n",
    "    [4,5,6],\n",
    "    [7,8,9]\n",
    "]\n",
    "print(A)\n",
    "print(A[1][2])\n",
    "# Baina... ez da matrize bat!\n",
    "#A[1].append(100)\n",
    "#print(A)"
   ]
  },
  {
   "cell_type": "code",
   "execution_count": 16,
   "metadata": {
    "slideshow": {
     "slide_type": "slide"
    }
   },
   "outputs": [
    {
     "name": "stdout",
     "output_type": "stream",
     "text": [
      "[[1, 2, 3], [4, 5, 6], [7, 8, 9]]\n",
      "1 2 3 \n",
      "4 5 6 \n",
      "7 8 9 \n"
     ]
    }
   ],
   "source": [
    "def matrizea_idatzi(M):\n",
    "    ilara = len(M)\n",
    "    zutabe = len(M[0])\n",
    "    for i in range(ilara):\n",
    "        for j in range(zutabe):\n",
    "            print(M[i][j],end=\" \")\n",
    "        print()\n",
    "print(A)\n",
    "matrizea_idatzi(A)"
   ]
  },
  {
   "cell_type": "code",
   "execution_count": 17,
   "metadata": {
    "slideshow": {
     "slide_type": "slide"
    }
   },
   "outputs": [
    {
     "name": "stdout",
     "output_type": "stream",
     "text": [
      "[[1, 2, 3], [4, 5, 6], [7, 8, 9]]\n",
      "1 2 3 \n",
      "4 5 6 \n",
      "7 8 9 \n"
     ]
    }
   ],
   "source": [
    "def matrizea_idatzi(M):\n",
    "    for z in M:\n",
    "        for x in z:\n",
    "            print(x,end=\" \")\n",
    "        print()\n",
    "print(A)\n",
    "matrizea_idatzi(A)"
   ]
  },
  {
   "cell_type": "markdown",
   "metadata": {
    "slideshow": {
     "slide_type": "slide"
    }
   },
   "source": [
    "Kontuz espresio literal oso trinkoekin..."
   ]
  },
  {
   "cell_type": "code",
   "execution_count": 21,
   "metadata": {
    "slideshow": {
     "slide_type": "fragment"
    }
   },
   "outputs": [
    {
     "name": "stdout",
     "output_type": "stream",
     "text": [
      "[0, 0, 0, 0]\n",
      "[[0, 0, 0, 0]]\n",
      "[[0, 0, 0, 0], [0, 0, 0, 0], [0, 0, 0, 0]]\n",
      "0 0 0 0 \n",
      "0 0 0 0 \n",
      "0 0 0 0 \n"
     ]
    }
   ],
   "source": [
    "print([0]*4)\n",
    "print([[0]*4])\n",
    "print([[0]*4]*3)\n",
    "A = [[0]*4]*3\n",
    "matrizea_idatzi(A)"
   ]
  },
  {
   "cell_type": "code",
   "execution_count": 22,
   "metadata": {
    "slideshow": {
     "slide_type": "fragment"
    }
   },
   "outputs": [
    {
     "name": "stdout",
     "output_type": "stream",
     "text": [
      "0 5 0 0 \n",
      "0 5 0 0 \n",
      "0 5 0 0 \n"
     ]
    }
   ],
   "source": [
    "A[1][1] = 5\n",
    "matrizea_idatzi(A)"
   ]
  },
  {
   "cell_type": "code",
   "execution_count": 7,
   "metadata": {
    "slideshow": {
     "slide_type": "fragment"
    }
   },
   "outputs": [
    {
     "name": "stdout",
     "output_type": "stream",
     "text": [
      "True True True\n"
     ]
    }
   ],
   "source": [
    "print(A[0] is A[1], A[0] is A[2], A[1] is A[2])"
   ]
  },
  {
   "cell_type": "markdown",
   "metadata": {
    "slideshow": {
     "slide_type": "-"
    }
   },
   "source": [
    "<table border=\"0\" width=\"100%\" style=\"margin: 0px;\">\n",
    "<tr>  \n",
    "  <td style=\"text-align:left\"><a href=\"Zerrendak.ipynb\">&lt; &lt; Zerrendak &lt; &lt;</a></td>\n",
    "  <td style=\"text-align:right\"><a href=\"NKoteak.ipynb\">&gt; &gt; NKoteak &gt; &gt;</a></td>\n",
    "</tr>\n",
    "</table>"
   ]
  }
 ],
 "metadata": {
  "celltoolbar": "Slideshow",
  "kernelspec": {
   "display_name": "Python 3",
   "language": "python",
   "name": "python3"
  },
  "language_info": {
   "codemirror_mode": {
    "name": "ipython",
    "version": 3
   },
   "file_extension": ".py",
   "mimetype": "text/x-python",
   "name": "python",
   "nbconvert_exporter": "python",
   "pygments_lexer": "ipython3",
   "version": "3.7.4"
  },
  "rise": {
   "autolaunch": true,
   "footer": "<h2 align=\"center\">Konputaziorako Sarrera</h2>",
   "scroll": true
  }
 },
 "nbformat": 4,
 "nbformat_minor": 2
}
