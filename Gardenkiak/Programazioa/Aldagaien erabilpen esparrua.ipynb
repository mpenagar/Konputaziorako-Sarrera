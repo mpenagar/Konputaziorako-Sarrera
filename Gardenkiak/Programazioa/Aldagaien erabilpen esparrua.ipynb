{
 "cells": [
  {
   "cell_type": "markdown",
   "metadata": {
    "slideshow": {
     "slide_type": "slide"
    }
   },
   "source": [
    "# Aldagaien erabilpen esparrua\n",
    "\n",
    "Funtzio batetan hiru aldagai mota agertu daitezke:\n",
    "1. Aldagai **globalak** &rarr; kanpoan definitutako aldagaiak\n",
    "1. **Argumentuak** &rarr; funtzioa exekutatzean bertan balioak jaso ditzake\n",
    "1. Aldagai **lokalak** &rarr; funtzioaren barnean emaitza tenporalak gordetzeko erabiliak "
   ]
  },
  {
   "cell_type": "code",
   "execution_count": 4,
   "metadata": {
    "slideshow": {
     "slide_type": "slide"
    }
   },
   "outputs": [
    {
     "name": "stdout",
     "output_type": "stream",
     "text": [
      "3\n"
     ]
    }
   ],
   "source": [
    "aldagai_globala = 1\n",
    "\n",
    "def funtzioa(argumentua):\n",
    "    aldagai_lokala = aldagai_globala + argumentua\n",
    "    return aldagai_lokala\n",
    "\n",
    "print(funtzioa(2))\n",
    "# Ez daude kanpoan definituak\n",
    "#print(argumentua)\n",
    "#print(aldagai_lokala)"
   ]
  },
  {
   "cell_type": "markdown",
   "metadata": {
    "slideshow": {
     "slide_type": "slide"
    }
   },
   "source": [
    "Argumentuek edo aldagai lokalek aldagai global baten identifikadore (izen) berdina badute, aldagai globala *izkutatzen* dute:"
   ]
  },
  {
   "cell_type": "code",
   "execution_count": 5,
   "metadata": {
    "slideshow": {
     "slide_type": "-"
    }
   },
   "outputs": [
    {
     "name": "stdout",
     "output_type": "stream",
     "text": [
      "a-ren balioa funtzioaren barnean 10 da\n",
      "b-ren balioa funtzioaren barnean 20 da\n",
      "a-ren balioa funtzioaren kanpoan 1 da\n",
      "b-ren balioa funtzioaren kanpoan 2 da\n"
     ]
    }
   ],
   "source": [
    "def funtzioa(a):\n",
    "    b = a * 2\n",
    "    print(\"a-ren balioa funtzioaren barnean\",a,\"da\")\n",
    "    print(\"b-ren balioa funtzioaren barnean\",b,\"da\")\n",
    "\n",
    "a = 1\n",
    "b = 2    \n",
    "funtzioa(10)\n",
    "print(\"a-ren balioa funtzioaren kanpoan\",a,\"da\")\n",
    "print(\"b-ren balioa funtzioaren kanpoan\",b,\"da\")"
   ]
  },
  {
   "cell_type": "markdown",
   "metadata": {
    "slideshow": {
     "slide_type": "-"
    }
   },
   "source": [
    "<div class=\"alert alert-warning\">\n",
    "    Badirudi funtzio batetan ezin dela aldagai global baten balioa aldatu...\n",
    "</div>"
   ]
  },
  {
   "cell_type": "markdown",
   "metadata": {
    "slideshow": {
     "slide_type": "slide"
    }
   },
   "source": [
    "## `global` sententzia... aldagai globalak aldatzen\n",
    "\n",
    "Funtzio baten barnean aldatzen ari garen aldagaia aldagai lokal bat ez dela (beraz aldagai globala dela) adierazteko modua da."
   ]
  },
  {
   "cell_type": "code",
   "execution_count": null,
   "metadata": {
    "slideshow": {
     "slide_type": "-"
    }
   },
   "outputs": [],
   "source": [
    "def funtzioa(a):\n",
    "    global b\n",
    "    b = a * 2\n",
    "    print(\"b-ren balioa funtzioaren barnean\",b,\"da\")\n",
    "\n",
    "b = 2    \n",
    "print(\"b-ren balioa funtzioaren kanpoan\",b,\"da\")\n",
    "funtzioa(10)\n",
    "print(\"b-ren balioa funtzioaren kanpoan\",b,\"da\")"
   ]
  },
  {
   "cell_type": "markdown",
   "metadata": {
    "slideshow": {
     "slide_type": "-"
    }
   },
   "source": [
    "<table border=\"0\" width=\"100%\" style=\"margin: 0px;\">\n",
    "<tr>  \n",
    "  <td style=\"text-align:left\"><a href=\"Funtzioak.ipynb\">&lt; &lt; Funtzioak &lt; &lt;</a></td>\n",
    "  <td style=\"text-align:right\"><a href=\"Argumentuak eta defektuzko balioak.ipynb\">&gt; &gt; Argumentuak eta defektuzko balioak &gt; &gt;</a></td>\n",
    "</tr>\n",
    "</table>"
   ]
  }
 ],
 "metadata": {
  "celltoolbar": "Slideshow",
  "kernelspec": {
   "display_name": "Python 3",
   "language": "python",
   "name": "python3"
  },
  "language_info": {
   "codemirror_mode": {
    "name": "ipython",
    "version": 3
   },
   "file_extension": ".py",
   "mimetype": "text/x-python",
   "name": "python",
   "nbconvert_exporter": "python",
   "pygments_lexer": "ipython3",
   "version": "3.7.6"
  },
  "rise": {
   "autolaunch": true,
   "footer": "<h2 align=\"center\">Konputaziorako Sarrera</h2>",
   "scroll": true
  }
 },
 "nbformat": 4,
 "nbformat_minor": 2
}
