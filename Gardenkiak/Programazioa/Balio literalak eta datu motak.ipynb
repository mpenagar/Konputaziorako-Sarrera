{
 "cells": [
  {
   "cell_type": "markdown",
   "metadata": {
    "slideshow": {
     "slide_type": "slide"
    }
   },
   "source": [
    "# Balio literalak eta datu motak\n",
    "\n",
    "Edozein algoritmotan maiz agertzen dira programatzaileak *\"eskuz\"* (literalki) adierazitako balioak, aurrez ezagunak direnak: testuak (`\"kaixo\"`, `\"bai\"`, `\"ez\"`), espresio aritmetiko batetan agertzen diren konstanteak (`2`, `10`, `3.14159265359`), etab.\n",
    "\n",
    "Balio literal hauek adierazten ditugunean, Python-en interpreteak kodifikatu egingo ditu. Balio literalak adierazteko erabiltzen dugun sintaxiak, inplizituki, informazio bakoitzaren datu mota (eta beraz, kodifikazioa) adieraziko du. "
   ]
  },
  {
   "cell_type": "code",
   "execution_count": 5,
   "metadata": {
    "slideshow": {
     "slide_type": "-"
    }
   },
   "outputs": [
    {
     "data": {
      "text/plain": [
       "3.3333333333333335"
      ]
     },
     "execution_count": 5,
     "metadata": {},
     "output_type": "execute_result"
    }
   ],
   "source": [
    "10/3"
   ]
  },
  {
   "cell_type": "code",
   "execution_count": 6,
   "metadata": {
    "slideshow": {
     "slide_type": "-"
    }
   },
   "outputs": [
    {
     "data": {
      "text/plain": [
       "3"
      ]
     },
     "execution_count": 6,
     "metadata": {},
     "output_type": "execute_result"
    }
   ],
   "source": [
    "10//3"
   ]
  },
  {
   "cell_type": "code",
   "execution_count": 7,
   "metadata": {
    "slideshow": {
     "slide_type": "-"
    }
   },
   "outputs": [
    {
     "data": {
      "text/plain": [
       "3.0"
      ]
     },
     "execution_count": 7,
     "metadata": {},
     "output_type": "execute_result"
    }
   ],
   "source": [
    "10.0//3"
   ]
  },
  {
   "cell_type": "markdown",
   "metadata": {
    "slideshow": {
     "slide_type": "slide"
    }
   },
   "source": [
    "## `type()` funtzioa"
   ]
  },
  {
   "cell_type": "markdown",
   "metadata": {
    "slideshow": {
     "slide_type": "-"
    }
   },
   "source": [
    "`type()` funtzioak edozein espresiok duen emaitzaren datu motaren berri emango digu:"
   ]
  },
  {
   "cell_type": "code",
   "execution_count": 8,
   "metadata": {
    "slideshow": {
     "slide_type": "-"
    }
   },
   "outputs": [
    {
     "data": {
      "text/plain": [
       "int"
      ]
     },
     "execution_count": 8,
     "metadata": {},
     "output_type": "execute_result"
    }
   ],
   "source": [
    "type(10)"
   ]
  },
  {
   "cell_type": "code",
   "execution_count": 9,
   "metadata": {
    "slideshow": {
     "slide_type": "-"
    }
   },
   "outputs": [
    {
     "data": {
      "text/plain": [
       "float"
      ]
     },
     "execution_count": 9,
     "metadata": {},
     "output_type": "execute_result"
    }
   ],
   "source": [
    "type(10.0)"
   ]
  },
  {
   "cell_type": "code",
   "execution_count": 10,
   "metadata": {
    "slideshow": {
     "slide_type": "-"
    }
   },
   "outputs": [
    {
     "data": {
      "text/plain": [
       "str"
      ]
     },
     "execution_count": 10,
     "metadata": {},
     "output_type": "execute_result"
    }
   ],
   "source": [
    "type('kaixo')"
   ]
  },
  {
   "cell_type": "markdown",
   "metadata": {
    "slideshow": {
     "slide_type": "fragment"
    }
   },
   "source": [
    "* int &rarr; zenbaki osoak (64bit++, errore aritmetikorik gabea)\n",
    "* float &rarr; zenbaki errealak (64bit, errore aritmetikoak)\n",
    "* str &rarr; karaktere kateak"
   ]
  },
  {
   "cell_type": "code",
   "execution_count": 20,
   "metadata": {
    "slideshow": {
     "slide_type": "slide"
    }
   },
   "outputs": [
    {
     "name": "stdout",
     "output_type": "stream",
     "text": [
      "0.0\n",
      "1.0999999999999999\n"
     ]
    }
   ],
   "source": [
    "print(1000000000000000000.0 + 1.0 - 1000000000000000000.0)\n",
    "print(1.2 - 0.1)"
   ]
  },
  {
   "cell_type": "markdown",
   "metadata": {
    "slideshow": {
     "slide_type": "slide"
    }
   },
   "source": [
    "## `print()` funtzioa"
   ]
  },
  {
   "cell_type": "markdown",
   "metadata": {
    "slideshow": {
     "slide_type": "-"
    }
   },
   "source": [
    "`print()` funtzioak emandako espresioen balioak pantailatik erakutsiko ditu:"
   ]
  },
  {
   "cell_type": "code",
   "execution_count": 21,
   "metadata": {
    "slideshow": {
     "slide_type": "-"
    }
   },
   "outputs": [
    {
     "name": "stdout",
     "output_type": "stream",
     "text": [
      "3.3333333333333335\n"
     ]
    }
   ],
   "source": [
    "print(10.0/3)"
   ]
  },
  {
   "cell_type": "markdown",
   "metadata": {
    "slideshow": {
     "slide_type": "slide"
    }
   },
   "source": [
    "Aurreko adibideetan, ez genuen `print()` funtzioa erabiltzen, baina emaitza pantailatik ikusten genuen... iPython-en kode bloke bat exekutatzean, azkeneko sententziak bueltatzen duen balioa *Out [x]* irteera moduan erakusten da."
   ]
  },
  {
   "cell_type": "code",
   "execution_count": 22,
   "metadata": {
    "slideshow": {
     "slide_type": "-"
    }
   },
   "outputs": [
    {
     "data": {
      "text/plain": [
       "5"
      ]
     },
     "execution_count": 22,
     "metadata": {},
     "output_type": "execute_result"
    }
   ],
   "source": [
    "1+2\n",
    "1+3\n",
    "1+4"
   ]
  },
  {
   "cell_type": "markdown",
   "metadata": {
    "slideshow": {
     "slide_type": "fragment"
    }
   },
   "source": [
    "Beraz, aurrerantzean, pantailatik zerbait ikusi nahi dugunean, `print()` funtzioa erabiliko dugu:"
   ]
  },
  {
   "cell_type": "code",
   "execution_count": 23,
   "metadata": {
    "slideshow": {
     "slide_type": "-"
    }
   },
   "outputs": [
    {
     "name": "stdout",
     "output_type": "stream",
     "text": [
      "3\n",
      "5\n",
      "4\n"
     ]
    }
   ],
   "source": [
    "print(1+2)\n",
    "print(1+4)\n",
    "print(1+3)"
   ]
  },
  {
   "cell_type": "markdown",
   "metadata": {
    "slideshow": {
     "slide_type": "slide"
    }
   },
   "source": [
    "Zergatik `print()` funtzioa erabiltzean ez da *Out [x]* irteerarik erakusten? `print()` funtzioak `None` balio berezia bueltatzen duelako. Aurrez esandakoa berridatziz:\n",
    "\n",
    "<div class=\"alert alert-info\">\n",
    "iPython-en kode bloke bat exekutatzean, azkeneko sententziak bueltatzen duen balioa <code>None</code>-ren ezberdina denean, <b>Out [x]</b> irteera moduan erakusten da.\n",
    "</div>"
   ]
  },
  {
   "cell_type": "code",
   "execution_count": 24,
   "metadata": {
    "slideshow": {
     "slide_type": "-"
    }
   },
   "outputs": [
    {
     "name": "stdout",
     "output_type": "stream",
     "text": [
      "kaixo\n"
     ]
    }
   ],
   "source": [
    "print(\"kaixo\")"
   ]
  },
  {
   "cell_type": "code",
   "execution_count": 25,
   "metadata": {
    "scrolled": true,
    "slideshow": {
     "slide_type": "-"
    }
   },
   "outputs": [
    {
     "name": "stdout",
     "output_type": "stream",
     "text": [
      "kaixo\n"
     ]
    },
    {
     "data": {
      "text/plain": [
       "True"
      ]
     },
     "execution_count": 25,
     "metadata": {},
     "output_type": "execute_result"
    }
   ],
   "source": [
    "print(\"kaixo\") == None"
   ]
  },
  {
   "cell_type": "markdown",
   "metadata": {
    "scrolled": true,
    "slideshow": {
     "slide_type": "slide"
    }
   },
   "source": [
    "IDle-aren kontsolan (*shell*-ean) ere antzeko zerbait gertatzen da, kasu honetan, ilaraz ilara. Exekutatzen den ilara/sententzi bakoitzaren emaitza agertuko da, eta modu berean pantailatik mezuak idazteko aukera izango dugu `print()` funtzioaren bidez.\n",
    "\n",
    "![kontsolaren irteera](../../img/IdleConsole-stdoutput_and_result.png)\n",
    "\n",
    "<div class=\"alert alert-warning\">\n",
    "Bi informazio hauek modu berean agertzen dira eta beraz ezinezkoa da bisualki ezberdintzea\n",
    "</div>"
   ]
  },
  {
   "cell_type": "markdown",
   "metadata": {
    "scrolled": true,
    "slideshow": {
     "slide_type": "slide"
    }
   },
   "source": [
    "Datu mota bakoitzak, mota horretako balioak sortzeko funtzio bat du, izen berekoa, `int()`, `float()` eta `str()`, alegia. Funtzio hauek datu moten arteko konbertsioak egiteko erabil daitezke:"
   ]
  },
  {
   "cell_type": "code",
   "execution_count": 34,
   "metadata": {
    "scrolled": true,
    "slideshow": {
     "slide_type": "-"
    }
   },
   "outputs": [
    {
     "name": "stdout",
     "output_type": "stream",
     "text": [
      "14\n",
      "14.3\n",
      "3.3333333333333335aupa\n"
     ]
    },
    {
     "data": {
      "text/plain": [
       "3"
      ]
     },
     "execution_count": 34,
     "metadata": {},
     "output_type": "execute_result"
    }
   ],
   "source": [
    "print(int(\"10\") + 4)\n",
    "print(float(\"10.3\") + 4)\n",
    "print(str(10/3) + \"aupa\")\n",
    "int(3.9)"
   ]
  },
  {
   "cell_type": "markdown",
   "metadata": {
    "slideshow": {
     "slide_type": "slide"
    }
   },
   "source": [
    "## Boolearrak\n",
    "\n",
    "Datu mota logiko edo boolearrek bi balio posible izan ditzakete soilik: `True` edo `False` . Boolearrei dagokien datu mota `bool` da:"
   ]
  },
  {
   "cell_type": "code",
   "execution_count": 35,
   "metadata": {
    "slideshow": {
     "slide_type": "-"
    }
   },
   "outputs": [
    {
     "data": {
      "text/plain": [
       "bool"
      ]
     },
     "execution_count": 35,
     "metadata": {},
     "output_type": "execute_result"
    }
   ],
   "source": [
    "type(True)"
   ]
  },
  {
   "cell_type": "code",
   "execution_count": 36,
   "metadata": {
    "slideshow": {
     "slide_type": "-"
    }
   },
   "outputs": [
    {
     "data": {
      "text/plain": [
       "bool"
      ]
     },
     "execution_count": 36,
     "metadata": {},
     "output_type": "execute_result"
    }
   ],
   "source": [
    "type(False)"
   ]
  },
  {
   "cell_type": "markdown",
   "metadata": {
    "slideshow": {
     "slide_type": "slide"
    }
   },
   "source": [
    "Pythonen, edozer gauza balio boolear bilaka daiteke `bool()` funtzioaren bidez:\n",
    "   * Zenbakizkoak: `True`, balioa `0`-ren ezberdina denean.\n",
    "   * Sekuentziak: `True`, hutsik ez badaude.\n",
    "   * `None`: `False`.\n",
    "   \n",
    "<div class=\"alert alert-info\">\n",
    "Aurrerago ikusiko dugun moduan, edozein objektu boolear bilakatzeko gaitasun hau erabilgarria izan liteke (eta baita ere errore iturburu bat...)\n",
    "</div>"
   ]
  },
  {
   "cell_type": "code",
   "execution_count": 37,
   "metadata": {
    "slideshow": {
     "slide_type": "slide"
    }
   },
   "outputs": [
    {
     "name": "stdout",
     "output_type": "stream",
     "text": [
      "bool(1): True\n",
      "bool(0): False\n",
      "bool(0.0): False\n",
      "bool(\"eta hau?\"): True\n",
      "bool('True'): True\n",
      "bool(\"False\"): True\n",
      "bool(\"\"): False\n",
      "bool(None): False\n"
     ]
    }
   ],
   "source": [
    "print('bool(1):', bool(1))\n",
    "print('bool(0):', bool(0))\n",
    "print('bool(0.0):', bool(0.0))\n",
    "print('bool(\"eta hau?\"):', bool(\"eta hau?\"))\n",
    "print(\"bool('True'):\", bool(\"True\"))\n",
    "print('bool(\"False\"):', bool(\"False\"))\n",
    "print('bool(\"\"):', bool(\"\"))\n",
    "print('bool(None):', bool(None))\n"
   ]
  },
  {
   "cell_type": "markdown",
   "metadata": {
    "slideshow": {
     "slide_type": "-"
    }
   },
   "source": [
    "<table border=\"0\" width=\"100%\" style=\"margin: 0px;\">\n",
    "<tr>  \n",
    "  <td style=\"text-align:left\"><a href=\"Python Programazio Lengoaia - Ezaugarri batzuk.ipynb\">&lt; &lt; Python Programazio Lengoaia - Ezaugarri batzuk &lt; &lt;</a></td>\n",
    "  <td style=\"text-align:right\"><a href=\"Aldagaiak.ipynb\">&gt; &gt; Aldagaiak &gt; &gt;</a></td>\n",
    "</tr>\n",
    "</table>"
   ]
  }
 ],
 "metadata": {
  "celltoolbar": "Slideshow",
  "kernelspec": {
   "display_name": "Python 3",
   "language": "python",
   "name": "python3"
  },
  "language_info": {
   "codemirror_mode": {
    "name": "ipython",
    "version": 3
   },
   "file_extension": ".py",
   "mimetype": "text/x-python",
   "name": "python",
   "nbconvert_exporter": "python",
   "pygments_lexer": "ipython3",
   "version": "3.7.6"
  },
  "rise": {
   "autolaunch": true,
   "footer": "<h2 align=\"center\">Konputaziorako Sarrera</h2>"
  }
 },
 "nbformat": 4,
 "nbformat_minor": 2
}
