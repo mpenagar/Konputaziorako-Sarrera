{
 "cells": [
  {
   "cell_type": "markdown",
   "metadata": {
    "slideshow": {
     "slide_type": "slide"
    }
   },
   "source": [
    "# NKoteak (Tuplak)\n",
    "\n",
    "* `tuple` motako objektuak\n",
    "* Objektu sekuentzia **ALDAEZINA**.\n",
    "* NKoteak sortzeko aukerak:\n",
    "  1. Objektuaren berezko metodoaz &rarr; `tuple(iteragarria)`\n",
    "  1. Balio literala &rarr; `(obj1 , obj2 , obj3, ... )`\n",
    "  1. NKoteak bueltatzen dituzten metodoak &rarr; `enumerate(\"aeiou\")`\n",
    "* `len()` funtzioa &rarr; elementu kopurua"
   ]
  },
  {
   "cell_type": "markdown",
   "metadata": {
    "slideshow": {
     "slide_type": "slide"
    }
   },
   "source": [
    "### NKote hutsa\n"
   ]
  },
  {
   "cell_type": "code",
   "execution_count": 2,
   "metadata": {
    "slideshow": {
     "slide_type": "-"
    }
   },
   "outputs": [
    {
     "name": "stdout",
     "output_type": "stream",
     "text": [
      "() 0\n"
     ]
    }
   ],
   "source": [
    "# nkote hutsa\n",
    "t = tuple()\n",
    "print(t,len(t))"
   ]
  },
  {
   "cell_type": "code",
   "execution_count": 3,
   "metadata": {
    "slideshow": {
     "slide_type": "-"
    }
   },
   "outputs": [
    {
     "name": "stdout",
     "output_type": "stream",
     "text": [
      "() 0\n"
     ]
    }
   ],
   "source": [
    "# nkote huts literala\n",
    "t = ()\n",
    "print(t,len(t))"
   ]
  },
  {
   "cell_type": "markdown",
   "metadata": {
    "slideshow": {
     "slide_type": "slide"
    }
   },
   "source": [
    "### Elementu bakarreto NKotea\n",
    "Parentesiek, nkoteez gain, beren erabilpena ere badute:\n",
    "* (obj) &rarr; objektu bat (parentesi artean)\n",
    "* (obj,) &rarr; objektu bakarra duen **nkotea**"
   ]
  },
  {
   "cell_type": "code",
   "execution_count": 5,
   "metadata": {
    "slideshow": {
     "slide_type": "-"
    }
   },
   "outputs": [
    {
     "name": "stdout",
     "output_type": "stream",
     "text": [
      "<class 'str'> --> epa\n"
     ]
    }
   ],
   "source": [
    "a = (\"epa\")\n",
    "print(type(a),\"-->\",a)"
   ]
  },
  {
   "cell_type": "code",
   "execution_count": 6,
   "metadata": {
    "slideshow": {
     "slide_type": "-"
    }
   },
   "outputs": [
    {
     "name": "stdout",
     "output_type": "stream",
     "text": [
      "<class 'tuple'> --> ('epa',)\n"
     ]
    }
   ],
   "source": [
    "t = (\"epa\",)\n",
    "print(type(t),\"-->\",t)"
   ]
  },
  {
   "cell_type": "markdown",
   "metadata": {
    "slideshow": {
     "slide_type": "slide"
    }
   },
   "source": [
    "### `tuple(iteragarria)`\n",
    "Iteragarria zeharkatu eta bere edukia nkote moduan bueltatzen du "
   ]
  },
  {
   "cell_type": "code",
   "execution_count": 7,
   "metadata": {
    "slideshow": {
     "slide_type": "fragment"
    }
   },
   "outputs": [
    {
     "name": "stdout",
     "output_type": "stream",
     "text": [
      "(0, 1, 2, 3, 4, 5, 6, 7, 8, 9)\n"
     ]
    }
   ],
   "source": [
    "t = tuple(range(10))\n",
    "print(t)"
   ]
  },
  {
   "cell_type": "code",
   "execution_count": 8,
   "metadata": {
    "slideshow": {
     "slide_type": "fragment"
    }
   },
   "outputs": [
    {
     "name": "stdout",
     "output_type": "stream",
     "text": [
      "('a', 'e', 'i', 'o', 'u')\n"
     ]
    }
   ],
   "source": [
    "t = tuple(\"aeiou\")\n",
    "print(t)"
   ]
  },
  {
   "cell_type": "code",
   "execution_count": 9,
   "metadata": {
    "slideshow": {
     "slide_type": "fragment"
    }
   },
   "outputs": [
    {
     "name": "stdout",
     "output_type": "stream",
     "text": [
      "('Hau testu fitxategi bat da\\n', 'Bi ilara ditu\\n', 'Ez, bi ez, hiru jakiña!\\n')\n"
     ]
    }
   ],
   "source": [
    "f = open(\"MyText.txt\")\n",
    "t = tuple(f)\n",
    "print(t)\n",
    "f.close()"
   ]
  },
  {
   "cell_type": "markdown",
   "metadata": {
    "slideshow": {
     "slide_type": "slide"
    }
   },
   "source": [
    "### `(obj1 , obj2 , obj3, ... )`\n",
    "`obj1`, `obj2`, `obj3`, ...-z osotutako nkotea bueltatzen du "
   ]
  },
  {
   "cell_type": "code",
   "execution_count": 10,
   "metadata": {
    "slideshow": {
     "slide_type": "fragment"
    }
   },
   "outputs": [
    {
     "data": {
      "text/plain": [
       "True"
      ]
     },
     "execution_count": 10,
     "metadata": {},
     "output_type": "execute_result"
    }
   ],
   "source": [
    "(0,1,2,3,4,5,6,7,8,9) == tuple(range(10))"
   ]
  },
  {
   "cell_type": "code",
   "execution_count": 11,
   "metadata": {
    "slideshow": {
     "slide_type": "fragment"
    }
   },
   "outputs": [
    {
     "data": {
      "text/plain": [
       "True"
      ]
     },
     "execution_count": 11,
     "metadata": {},
     "output_type": "execute_result"
    }
   ],
   "source": [
    "(\"a\",\"e\",\"i\",\"o\",\"u\") == tuple(\"aeiou\")"
   ]
  },
  {
   "cell_type": "code",
   "execution_count": null,
   "metadata": {
    "slideshow": {
     "slide_type": "fragment"
    }
   },
   "outputs": [],
   "source": [
    "# Tupletako elementuak edozein motakoak izan daitezke\n",
    "( \"kaixo\" , 1 , 2.0 , True , None , [1,2] , (3,4,[5,6]) )"
   ]
  },
  {
   "cell_type": "markdown",
   "metadata": {
    "slideshow": {
     "slide_type": "slide"
    }
   },
   "source": [
    "## NKoteen ezaugarriak\n",
    "\n",
    "* Indexagarriak &rarr; `t[5]`\n",
    "   * Indize negatiboak, *slize* notazioa...\n",
    "* Iteragarriak &rarr; `for i in t :`\n",
    "* **Aldaezinak**"
   ]
  },
  {
   "cell_type": "code",
   "execution_count": 12,
   "metadata": {
    "slideshow": {
     "slide_type": "slide"
    }
   },
   "outputs": [
    {
     "name": "stdout",
     "output_type": "stream",
     "text": [
      "(0, 1, 2, 3, 4, 5, 6, 7, 8, 9)\n",
      "9\n",
      "(0, 2, 4, 6, 8)\n"
     ]
    }
   ],
   "source": [
    "t = tuple(range(10))\n",
    "print(t)\n",
    "print(t[-1])\n",
    "print(t[0::2])"
   ]
  },
  {
   "cell_type": "markdown",
   "metadata": {
    "slideshow": {
     "slide_type": "slide"
    }
   },
   "source": [
    "## NKoteen eragileak\n",
    "* `a==b`, `a!=b`, `a>b`, `a>=b`, `a<b`, `a<=b` &rarr; `bool` : elementuz-elementuko konparaketa\n",
    "* `a + b` &rarr; `tuple` : konkatenazioa\n",
    "* `a * 4` , `4 * a` &rarr; `tuple` : auto-errepikapena\n",
    "* `a in b`, `a not in b` &rarr; `bool` : `a` elementua `b`-ren barnean ote dagoen\n",
    "* `a is b` &rarr; `bool` : `a` objektua `b` ote den"
   ]
  },
  {
   "cell_type": "code",
   "execution_count": 13,
   "metadata": {
    "slideshow": {
     "slide_type": "slide"
    }
   },
   "outputs": [
    {
     "name": "stdout",
     "output_type": "stream",
     "text": [
      "False\n",
      "True\n"
     ]
    }
   ],
   "source": [
    "# Elementuz-elementuko konparaketa\n",
    "a = ( 1 , 2 , 3 , 4 )\n",
    "b = ( 1 , 2 , 0 , 4 , 5)\n",
    "print(a == b)\n",
    "print(a > b)"
   ]
  },
  {
   "cell_type": "code",
   "execution_count": 14,
   "metadata": {
    "slideshow": {
     "slide_type": "fragment"
    }
   },
   "outputs": [
    {
     "name": "stdout",
     "output_type": "stream",
     "text": [
      "(0, 1, 2, 3, 'a', 'e', 'i', 'o', 'u')\n"
     ]
    }
   ],
   "source": [
    "# konkatenazioa\n",
    "t = tuple(range(4)) + tuple(\"aeiou\")\n",
    "print(t)"
   ]
  },
  {
   "cell_type": "code",
   "execution_count": 15,
   "metadata": {
    "slideshow": {
     "slide_type": "fragment"
    }
   },
   "outputs": [
    {
     "name": "stdout",
     "output_type": "stream",
     "text": [
      "('a', 'e', 'i', 'o', 'u', 'a', 'e', 'i', 'o', 'u', 'a', 'e', 'i', 'o', 'u')\n"
     ]
    }
   ],
   "source": [
    "# auto-errepikapena\n",
    "print(3 * tuple(\"aeiou\"))"
   ]
  },
  {
   "cell_type": "code",
   "execution_count": 16,
   "metadata": {
    "slideshow": {
     "slide_type": "fragment"
    }
   },
   "outputs": [
    {
     "name": "stdout",
     "output_type": "stream",
     "text": [
      "True\n",
      "True\n"
     ]
    }
   ],
   "source": [
    "# in eragilea\n",
    "print(3 in (1,2,3))\n",
    "print((1,2) not in (1,2,3))"
   ]
  },
  {
   "cell_type": "markdown",
   "metadata": {
    "slideshow": {
     "slide_type": "slide"
    }
   },
   "source": [
    "## NKoteen metodoak\n",
    "\n",
    "* Metodo hauek izendatzeko: `nkotea.metodo_izena`\n",
    "* Bi metodo dituzte bakarrik."
   ]
  },
  {
   "cell_type": "markdown",
   "metadata": {
    "slideshow": {
     "slide_type": "slide"
    }
   },
   "source": [
    "### tuple.index\n",
    "```\n",
    "index(...) method of builtins.tuple instance\n",
    "    T.index(value, [start, [stop]]) -> integer -- return first index of value.\n",
    "    Raises ValueError if the value is not present.\n",
    "```"
   ]
  },
  {
   "cell_type": "code",
   "execution_count": 19,
   "metadata": {
    "slideshow": {
     "slide_type": "fragment"
    }
   },
   "outputs": [
    {
     "name": "stdout",
     "output_type": "stream",
     "text": [
      "1\n"
     ]
    }
   ],
   "source": [
    "t = tuple(\"aeiou\")\n",
    "print(t.index(\"e\"))\n",
    "\n",
    "# ValueError: 'ei' is not in tuple\n",
    "#print(t.index(\"ei\"))"
   ]
  },
  {
   "cell_type": "markdown",
   "metadata": {
    "slideshow": {
     "slide_type": "slide"
    }
   },
   "source": [
    "### tuple.count\n",
    "```\n",
    "count(...) method of builtins.tuple instance\n",
    "    T.count(value) -> integer -- return number of occurrences of value\n",
    "```"
   ]
  },
  {
   "cell_type": "code",
   "execution_count": 20,
   "metadata": {
    "slideshow": {
     "slide_type": "fragment"
    }
   },
   "outputs": [
    {
     "name": "stdout",
     "output_type": "stream",
     "text": [
      "123\n",
      "0\n"
     ]
    }
   ],
   "source": [
    "t = tuple(range(10)) * 123\n",
    "print(t.count(6))\n",
    "print(t.count(10))"
   ]
  },
  {
   "cell_type": "markdown",
   "metadata": {
    "slideshow": {
     "slide_type": "slide"
    }
   },
   "source": [
    "## Esleipen anitza\n",
    "* Esleipen baten ezkerraldean aldagai bat baina gehiago egon liteke.\n",
    "* Aldagai bakoitzari eskuineko sekuentziatik dagokion balioa esleituko zaio"
   ]
  },
  {
   "cell_type": "code",
   "execution_count": 23,
   "metadata": {
    "slideshow": {
     "slide_type": "-"
    }
   },
   "outputs": [
    {
     "name": "stdout",
     "output_type": "stream",
     "text": [
      "0 1 2 3 4 5 6\n"
     ]
    }
   ],
   "source": [
    "a,b,c,d,e,f,g = range(7)\n",
    "print(a,b,c,d,e,f,g)"
   ]
  },
  {
   "cell_type": "code",
   "execution_count": 22,
   "metadata": {
    "slideshow": {
     "slide_type": "-"
    }
   },
   "outputs": [
    {
     "name": "stdout",
     "output_type": "stream",
     "text": [
      "1 2 4\n"
     ]
    }
   ],
   "source": [
    "a,b,c = (1,2,4)\n",
    "print(a,b,c)"
   ]
  },
  {
   "cell_type": "markdown",
   "metadata": {
    "slideshow": {
     "slide_type": "slide"
    }
   },
   "source": [
    "Batzuetan ez da beharrezkoa parentesiak jartzea nkote bat adierazteko\n",
    "* Esleipenak"
   ]
  },
  {
   "cell_type": "code",
   "execution_count": 24,
   "metadata": {
    "slideshow": {
     "slide_type": "-"
    }
   },
   "outputs": [
    {
     "name": "stdout",
     "output_type": "stream",
     "text": [
      "1 2 4\n"
     ]
    }
   ],
   "source": [
    "a,b,c = 1,2,4\n",
    "print(a,b,c)"
   ]
  },
  {
   "cell_type": "markdown",
   "metadata": {
    "slideshow": {
     "slide_type": "slide"
    }
   },
   "source": [
    "\n",
    "* `return` sententziak &rarr; balio anitzak bueltatzen dituzten funtzioak"
   ]
  },
  {
   "cell_type": "code",
   "execution_count": 25,
   "metadata": {
    "slideshow": {
     "slide_type": "-"
    }
   },
   "outputs": [
    {
     "name": "stdout",
     "output_type": "stream",
     "text": [
      "4 3\n"
     ]
    }
   ],
   "source": [
    "def zatidura_hondarra(a,b):\n",
    "    z = 0\n",
    "    while a >= b :\n",
    "        a = a - b\n",
    "        z = z + 1\n",
    "    return z,a\n",
    "\n",
    "z,h = zatidura_hondarra(19,4)\n",
    "print(z,h)"
   ]
  },
  {
   "cell_type": "markdown",
   "metadata": {
    "slideshow": {
     "slide_type": "slide"
    }
   },
   "source": [
    "Elkarraldaketak egiteko aproposa:"
   ]
  },
  {
   "cell_type": "code",
   "execution_count": 26,
   "metadata": {
    "slideshow": {
     "slide_type": "-"
    }
   },
   "outputs": [
    {
     "name": "stdout",
     "output_type": "stream",
     "text": [
      "1 2\n",
      "2 1\n",
      "1 2\n",
      "2 1\n",
      "1 2 3 4 5\n",
      "2 3 4 5 1\n"
     ]
    }
   ],
   "source": [
    "a,b = 1,2\n",
    "print(a,b)\n",
    "x = a\n",
    "a = b\n",
    "b = x\n",
    "print(a,b)\n",
    "\n",
    "a,b = 1,2\n",
    "print(a,b)\n",
    "a,b = b,a\n",
    "print(a,b)\n",
    "\n",
    "a,b,c,d,e = 1,2,3,4,5\n",
    "print(a,b,c,d,e)\n",
    "a,b,c,d,e = b,c,d,e,a\n",
    "print(a,b,c,d,e)"
   ]
  },
  {
   "cell_type": "markdown",
   "metadata": {
    "slideshow": {
     "slide_type": "slide"
    }
   },
   "source": [
    "Esleipen anitz egituratuak egon daitezke."
   ]
  },
  {
   "cell_type": "code",
   "execution_count": 27,
   "metadata": {
    "slideshow": {
     "slide_type": "-"
    }
   },
   "outputs": [
    {
     "name": "stdout",
     "output_type": "stream",
     "text": [
      "(1, [2, (3, 4)], 5)\n",
      "1 [2, (3, 4)] 5\n",
      "1 2 (3, 4) 5\n",
      "1 2 3 4 5\n",
      "1 0 1 2 3\n"
     ]
    }
   ],
   "source": [
    "a = 1,[2,(3,4)],5\n",
    "print(a)\n",
    "\n",
    "a,b,c = 1,[2,(3,4)],5\n",
    "print(a,b,c)\n",
    "\n",
    "a,(b,c),d = 1,[2,(3,4)],5\n",
    "print(a,b,c,d)\n",
    "\n",
    "a,(b,(c,d)),e = 1,[2,(3,4)],5\n",
    "print(a,b,c,d,e)\n",
    "\n",
    "a,(b,c,d),e = 1,range(3),3\n",
    "print(a,b,c,d,e)"
   ]
  },
  {
   "cell_type": "code",
   "execution_count": 28,
   "metadata": {
    "slideshow": {
     "slide_type": "slide"
    }
   },
   "outputs": [
    {
     "data": {
      "text/plain": [
       "[(0, 'a'), (1, 'e'), (2, 'i'), (3, 'o'), (4, 'u')]"
      ]
     },
     "execution_count": 28,
     "metadata": {},
     "output_type": "execute_result"
    }
   ],
   "source": [
    "list(enumerate(\"aeiou\"))"
   ]
  },
  {
   "cell_type": "code",
   "execution_count": 32,
   "metadata": {
    "slideshow": {
     "slide_type": "fragment"
    }
   },
   "outputs": [
    {
     "name": "stdout",
     "output_type": "stream",
     "text": [
      "(0, 'a')\n",
      "(1, 'e')\n",
      "(2, 'i')\n",
      "(3, 'o')\n",
      "(4, 'u')\n",
      "[(0, 'a'), (1, 'e'), (2, 'i'), (3, 'o'), (4, 'u')]\n",
      "((0, 'a'), (1, 'e'), (2, 'i'), (3, 'o'), (4, 'u'))\n",
      "0 --> a\n",
      "1 --> e\n",
      "2 --> i\n",
      "3 --> o\n",
      "4 --> u\n",
      "0 --> a\n",
      "1 --> e\n",
      "2 --> i\n",
      "3 --> o\n",
      "4 --> u\n",
      "------------------------------\n",
      "0 -->( bat , bi )\n",
      "1 -->( hiru , lau )\n"
     ]
    }
   ],
   "source": [
    "for x in enumerate(\"aeiou\"):\n",
    "    print(x)\n",
    "print(list(enumerate(\"aeiou\")))\n",
    "print(tuple(enumerate(\"aeiou\")))\n",
    "for x in enumerate(\"aeiou\"):\n",
    "    print(x[0],\"-->\",x[1])\n",
    "for i,b in enumerate(\"aeiou\"):\n",
    "    print(i,\"-->\",b)\n",
    "print(\"-\"*30)\n",
    "for a,(b,c) in enumerate([(\"bat\",\"bi\"),(\"hiru\",\"lau\")]):\n",
    "    print(a,\"-->(\",b,\",\",c,\")\")\n",
    "    "
   ]
  },
  {
   "cell_type": "code",
   "execution_count": 33,
   "metadata": {
    "slideshow": {
     "slide_type": "slide"
    }
   },
   "outputs": [
    {
     "name": "stdout",
     "output_type": "stream",
     "text": [
      "[(0, 23), (1, 235), (2, 235), (3, 235), (4, 23), (5, 52), (6, 35), (7, 234), (8, 6), (9, 34), (10, 23), (11, 4123), (12, 5), (13, 346), (14, 134), (15, 52), (16, 354)]\n",
      "[(23, 0), (235, 1), (235, 2), (235, 3), (23, 4), (52, 5), (35, 6), (234, 7), (6, 8), (34, 9), (23, 10), (4123, 11), (5, 12), (346, 13), (134, 14), (52, 15), (354, 16)]\n",
      "[(5, 12), (6, 8), (23, 0), (23, 4), (23, 10), (34, 9), (35, 6), (52, 5), (52, 15), (134, 14), (234, 7), (235, 1), (235, 2), (235, 3), (346, 13), (354, 16), (4123, 11)]\n",
      "------------------------------\n",
      "minimoa: 5 posizioa: 12\n",
      "minimoa: 5 posizioa: 12\n",
      "maximoa: 4123 posizioa: 11\n",
      "erdikoa: 52 posizioa: 15\n"
     ]
    }
   ],
   "source": [
    "z = [23,235,235,235,23,52,35,234,6,34,23,4123,5,346,134,52,354]\n",
    "print(list(enumerate(z)))\n",
    "z2 = []\n",
    "for i,b in enumerate(z) :\n",
    "    z2.append((b,i))\n",
    "print(z2)\n",
    "z2.sort()\n",
    "print(z2)\n",
    "print(\"-\"*30)\n",
    "\n",
    "b,i = z2[0]\n",
    "print(\"minimoa:\",b,\"posizioa:\",i)\n",
    "print(\"minimoa:\",z2[0][0],\"posizioa:\",z2[0][1])\n",
    "b,i = z2[-1]\n",
    "print(\"maximoa:\",b,\"posizioa:\",i)\n",
    "b,i = z2[len(z)//2]\n",
    "print(\"erdikoa:\",b,\"posizioa:\",i)"
   ]
  },
  {
   "cell_type": "markdown",
   "metadata": {
    "slideshow": {
     "slide_type": "-"
    }
   },
   "source": [
    "<table border=\"0\" width=\"100%\" style=\"margin: 0px;\">\n",
    "<tr>  \n",
    "  <td style=\"text-align:left\"><a href=\"ZerrendenZerrendak.ipynb\">&lt; &lt; Matrizeak: zerrenden zerrendak &lt; &lt;</a></td>\n",
    "  <td style=\"text-align:right\"><a href=\"Hiztegiak.ipynb\">&gt; &gt; Hiztegiak &gt; &gt;</a></td>\n",
    "</tr>\n",
    "</table>"
   ]
  }
 ],
 "metadata": {
  "celltoolbar": "Slideshow",
  "kernelspec": {
   "display_name": "Python 3",
   "language": "python",
   "name": "python3"
  },
  "language_info": {
   "codemirror_mode": {
    "name": "ipython",
    "version": 3
   },
   "file_extension": ".py",
   "mimetype": "text/x-python",
   "name": "python",
   "nbconvert_exporter": "python",
   "pygments_lexer": "ipython3",
   "version": "3.7.6"
  },
  "rise": {
   "autolaunch": true,
   "footer": "<h2 align=\"center\">Konputaziorako Sarrera</h2>",
   "scroll": true
  }
 },
 "nbformat": 4,
 "nbformat_minor": 2
}
