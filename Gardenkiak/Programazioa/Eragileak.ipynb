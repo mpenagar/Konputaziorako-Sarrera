{
 "cells": [
  {
   "cell_type": "markdown",
   "metadata": {
    "slideshow": {
     "slide_type": "slide"
    }
   },
   "source": [
    "# Eragileak\n",
    "\n",
    "Eragileak, eragiketa konkretuak adierazten dituzten zeinu edo gakohitz bereziak dira. Mota ezberdinetako eragileak daude:\n",
    "\n",
    " * Eragile aritmetikoak: +, -, *, / ...\n",
    " * Erlazio eragileak: <, >, ...\n",
    " * Eragile logikoak: and, or, not\n",
    " * Esleipen eragilea: =\n",
    " * ..."
   ]
  },
  {
   "cell_type": "markdown",
   "metadata": {
    "slideshow": {
     "slide_type": "slide"
    }
   },
   "source": [
    "Eragileek eragigai 1, 2 edo gehiago izan ditzakete, eta eragigaien araberako eragiketa errepresenta dezakete: "
   ]
  },
  {
   "cell_type": "code",
   "execution_count": 1,
   "metadata": {
    "slideshow": {
     "slide_type": "-"
    }
   },
   "outputs": [
    {
     "name": "stdout",
     "output_type": "stream",
     "text": [
      "40\n",
      "kaixoagur\n",
      "kaixo kaixo kaixo kaixo kaixo kaixo kaixo kaixo kaixo kaixo \n",
      "kaixo kaixo kaixo kaixo kaixo kaixo kaixo kaixo kaixo kaixo \n"
     ]
    }
   ],
   "source": [
    "print(4 * 10)\n",
    "print(\"kaixo\" + \"agur\")\n",
    "print(\"kaixo \" * 10)\n",
    "print(10 * \"kaixo \")"
   ]
  },
  {
   "cell_type": "markdown",
   "metadata": {
    "slideshow": {
     "slide_type": "-"
    }
   },
   "source": [
    "Eragile gehienek balio bat bueltatzen dute eta, beraz, beste eragileekin konbina daitezke:"
   ]
  },
  {
   "cell_type": "code",
   "execution_count": 2,
   "metadata": {
    "slideshow": {
     "slide_type": "-"
    }
   },
   "outputs": [
    {
     "name": "stdout",
     "output_type": "stream",
     "text": [
      "74\n",
      "kaixo kaixo kaixo kaixo kaixo kaixo kaixo kaixo kaixo kaixo kaixo kaixo kaixo kaixo \n"
     ]
    }
   ],
   "source": [
    "print(4 * 10 + 34)\n",
    "print(\"kaixo \" * (10 + 4))"
   ]
  },
  {
   "cell_type": "markdown",
   "metadata": {
    "slideshow": {
     "slide_type": "slide"
    }
   },
   "source": [
    "## Eragile aritmetikoak\n",
    "\n",
    "Balio numerikoekin erabiliak (bakar batzuk, karaktere kateekin ere):\n",
    "\n",
    "| Eragilea | Eragigaiak | Eragiketa | Adibidea |\n",
    "|:----:|:-------------:| ---       | --- |\n",
    "|  +   | `int` `float` | batura    | `2 + 4` |\n",
    "|  +   | `str`         | kateaketa | `\"kaixo\" + \"agur\"` |\n",
    "|  -   | `int` `float` | kenketa    | `2 - 4` |\n",
    "|  *   | `int` `float` | biderkaketa    | `2.3 * 34` |\n",
    "|  *   | `str` `int`   | kateaketa | `\"kaixo\" * 10` |\n",
    "|  /   | `int` `float` | zatidura erreala  | `10 / 2` | \n",
    "|  //  | `int` `float` | zatidura _\"osoa\"_ | `7 / 2` |\n",
    "|  %   | `int` `float` | hondarra | `7 % 2` |\n",
    "|  **  | `int` `float` | berredura | `2 ** 10` |\n"
   ]
  },
  {
   "cell_type": "code",
   "execution_count": 3,
   "metadata": {
    "slideshow": {
     "slide_type": "-"
    }
   },
   "outputs": [
    {
     "name": "stdout",
     "output_type": "stream",
     "text": [
      "x + y = 13.79\n",
      "x - y = 6.89\n",
      "x * y = 35.673\n",
      "x / y = 2.997101449275362\n",
      "x // y = 2.0\n",
      "x % y = 3.4399999999999995\n",
      "x ** y = 3162.975724135619\n"
     ]
    }
   ],
   "source": [
    "x = 10.34\n",
    "y = 3.45\n",
    "print('x + y =',x+y)\n",
    "print('x - y =',x-y)\n",
    "print('x * y =',x*y)\n",
    "print('x / y =',x/y)\n",
    "print('x // y =',x//y)\n",
    "print('x % y =',x%y)\n",
    "print('x ** y =',x**y)"
   ]
  },
  {
   "cell_type": "markdown",
   "metadata": {
    "slideshow": {
     "slide_type": "-"
    }
   },
   "source": [
    "Eragile aritmetikoetan `int` eta `float` eragigaiak nahastean, `int` &rarr; `float` bilakatzen da. "
   ]
  },
  {
   "cell_type": "markdown",
   "metadata": {
    "slideshow": {
     "slide_type": "slide"
    }
   },
   "source": [
    "## Erlazio eragileak\n",
    "\n",
    "Balioak konparatzeko erabiliak. Bueltatzen duten emaitza beti boolearra izango da: `True` edo `False` (*ikus [Balio literalak eta datu motak](Balio%20literalak%20eta%20datu%20motak.ipynb)*). Erlazio eragileetan ere, `int` eta `float` eragigaiak nahastean, `int` &rarr; `float` bilakatzen da. "
   ]
  },
  {
   "cell_type": "markdown",
   "metadata": {},
   "source": [
    "| Eragilea | Eragigaiak | Eragiketa | Adibidea |\n",
    "| ---  | ---                 | ---       | --- |\n",
    "|  <   | `int` `float`       | txikiagoa    | `2 < 4` |\n",
    "|  <   | `str`               | txikiagoa (alfabetikoki)   | `\"Aralar\" < \"aralar\"` |\n",
    "|  <=  | `int` `float`       | txikiagoa edo berdina   | `2 <= 4 / 2` |\n",
    "|  <=  | `str`               | txikiagoa edo berdina (alfabetikoki)   | `\"Aralar\" <= \"Aralar\"` |\n",
    "|  >   | `int` `float`       | handiagoa    | `2.0 > 1` |\n",
    "|  >   | `str`               | handiagoa (alfabetikoki)   | `\"Aralar\" < \"aralar\"` |\n",
    "|  ==  | `int` `float` `str` `bool` | berdintasuna  |  `7 // 3  == 2` |\n",
    "|  !=  | `int` `float` `str` `bool` | ezberdintasuna  | `\"kaixo\" * 2 != \"kaixo kaixo\"` |"
   ]
  },
  {
   "cell_type": "code",
   "execution_count": 10,
   "metadata": {
    "slideshow": {
     "slide_type": "slide"
    }
   },
   "outputs": [
    {
     "name": "stdout",
     "output_type": "stream",
     "text": [
      "False\n",
      "False\n",
      "True\n"
     ]
    },
    {
     "data": {
      "text/plain": [
       "'abcdefghijklmnopqrstuvwxyz'"
      ]
     },
     "execution_count": 10,
     "metadata": {},
     "output_type": "execute_result"
    }
   ],
   "source": [
    "print(\"kaixo\" > \"kaiño\")\n",
    "print(\"x\" > \"ñ\")\n",
    "print(\"x\" > \"n\")\n",
    "import string\n",
    "string.ascii_lowercase"
   ]
  },
  {
   "cell_type": "markdown",
   "metadata": {
    "slideshow": {
     "slide_type": "slide"
    }
   },
   "source": [
    "**Kontuz `==` zenbaki errealekin erabiltzean.** Beti errore numerikoak izan ditzakegu. Errore hauek zenbaki errealen kodifikaziotik etor daitezke, edo ta zenbaki errealen eragiketak inplementatzen dituzten zirkuitu elektronikoetatik:"
   ]
  },
  {
   "cell_type": "code",
   "execution_count": 11,
   "metadata": {
    "slideshow": {
     "slide_type": "-"
    }
   },
   "outputs": [
    {
     "name": "stdout",
     "output_type": "stream",
     "text": [
      "True\n",
      "True\n",
      "False\n",
      "8.326672684688674e-17\n",
      "0.0\n",
      "True\n",
      "2.1\n",
      "0.10000000000000009\n",
      "0.10000000000000009\n"
     ]
    }
   ],
   "source": [
    "print(2 == 2.0)\n",
    "print(2 + 0.1 == 2.1)\n",
    "print(2 + 0.1 - 2 == 0.1)\n",
    "print(2 + 0.1 - 2 - 0.1)\n",
    "print(10000000000000000.0 + 1.0 - 10000000000000000.0)\n",
    "print(10000000000000000.0 == 10000000000000001.0)\n",
    "print(2 + 0.1)\n",
    "print(2 + 0.1 - 2)\n",
    "print(2.1 - 2)"
   ]
  },
  {
   "cell_type": "markdown",
   "metadata": {
    "slideshow": {
     "slide_type": "slide"
    }
   },
   "source": [
    "## Eragile logikoak\n",
    "\n",
    "Eragile logikoen eragigaiak eta bueltatzen duten balioa balio boolearrak izango dira. Hiru eragile logiko definitzen dira:\n",
    "\n",
    "| Eragilea | Eragigaiak | Eragiketa | Adibidea |\n",
    "| ---  | ---                 | ---       | --- |\n",
    "|  not  | `bool`  | ezezko logikoa (osagarria)  | `not 2 > 4` |\n",
    "|  and  | `bool`  | *eta* eragiketa logikoa | `3 > 1 and \"kaixo\" != \"agur\"`|\n",
    "|  or   | `bool`  | *edo* eragiketa logikoa | `7%2 == 0 or 3/2 > 1` |"
   ]
  },
  {
   "cell_type": "markdown",
   "metadata": {
    "slideshow": {
     "slide_type": "fragment"
    }
   },
   "source": [
    "Eragile logiko bitarrek (`and` eta `or` eragileek) zirkuitulabur (*short-circuited*) propietatea dute, hau da, ezkerraldeko espresioaren baliotik emaitza lortzerik badute, ez dute eskuineko espresioa ebaluatzen:  "
   ]
  },
  {
   "cell_type": "code",
   "execution_count": 12,
   "metadata": {
    "slideshow": {
     "slide_type": "-"
    }
   },
   "outputs": [
    {
     "name": "stdout",
     "output_type": "stream",
     "text": [
      "kaixo\n"
     ]
    },
    {
     "data": {
      "text/plain": [
       "False"
      ]
     },
     "execution_count": 12,
     "metadata": {},
     "output_type": "execute_result"
    }
   ],
   "source": [
    "print(\"kaixo\")==None and 5>10"
   ]
  },
  {
   "cell_type": "code",
   "execution_count": 13,
   "metadata": {
    "slideshow": {
     "slide_type": "-"
    }
   },
   "outputs": [
    {
     "data": {
      "text/plain": [
       "False"
      ]
     },
     "execution_count": 13,
     "metadata": {},
     "output_type": "execute_result"
    }
   ],
   "source": [
    "5>10 and print(\"kaixo\")==None"
   ]
  },
  {
   "cell_type": "markdown",
   "metadata": {
    "slideshow": {
     "slide_type": "slide"
    }
   },
   "source": [
    "Aurretik hala esan badugu ere, ez da guztiz zuzena eragile logikoek balio boolearrak bueltatzen dituztela. Ondoko espresioak ez du errorerik sortzen, baina `and` eragileak ez du `True/False` bueltatzen. Hala balitz, `Out[]` bloke bat agertuko litzateke:"
   ]
  },
  {
   "cell_type": "code",
   "execution_count": 14,
   "metadata": {
    "slideshow": {
     "slide_type": "-"
    }
   },
   "outputs": [
    {
     "name": "stdout",
     "output_type": "stream",
     "text": [
      "Ahhhhhhh!!!!\n"
     ]
    },
    {
     "data": {
      "text/plain": [
       "False"
      ]
     },
     "execution_count": 14,
     "metadata": {},
     "output_type": "execute_result"
    }
   ],
   "source": [
    "bool(print(\"Ahhhhhhh!!!!\")) and True"
   ]
  },
  {
   "cell_type": "code",
   "execution_count": 15,
   "metadata": {},
   "outputs": [
    {
     "data": {
      "text/plain": [
       "23"
      ]
     },
     "execution_count": 15,
     "metadata": {},
     "output_type": "execute_result"
    }
   ],
   "source": [
    "23 or 345"
   ]
  },
  {
   "cell_type": "code",
   "execution_count": 16,
   "metadata": {},
   "outputs": [
    {
     "data": {
      "text/plain": [
       "False"
      ]
     },
     "execution_count": 16,
     "metadata": {},
     "output_type": "execute_result"
    }
   ],
   "source": [
    "not(23)"
   ]
  },
  {
   "cell_type": "markdown",
   "metadata": {
    "slideshow": {
     "slide_type": "slide"
    }
   },
   "source": [
    "Python-ek zihurtatzen duena zera da: eragile logikoek bueltatzen duten objektuaren balio logikoa zuzena izango dela:"
   ]
  },
  {
   "cell_type": "code",
   "execution_count": 17,
   "metadata": {
    "slideshow": {
     "slide_type": "-"
    }
   },
   "outputs": [
    {
     "name": "stdout",
     "output_type": "stream",
     "text": [
      "Ahhhhhhh!!!!\n"
     ]
    },
    {
     "data": {
      "text/plain": [
       "False"
      ]
     },
     "execution_count": 17,
     "metadata": {},
     "output_type": "execute_result"
    }
   ],
   "source": [
    "bool(print(\"Ahhhhhhh!!!!\") and True)"
   ]
  },
  {
   "cell_type": "code",
   "execution_count": 19,
   "metadata": {
    "slideshow": {
     "slide_type": "-"
    }
   },
   "outputs": [
    {
     "name": "stdout",
     "output_type": "stream",
     "text": [
      "Ahhhhhhh!!!!\n"
     ]
    }
   ],
   "source": [
    "print(\"Ahhhhhhh!!!!\") and True"
   ]
  },
  {
   "cell_type": "markdown",
   "metadata": {
    "slideshow": {
     "slide_type": "-"
    }
   },
   "source": [
    "![scream](../../img/emoji/36x36/1f631.png)"
   ]
  },
  {
   "cell_type": "markdown",
   "metadata": {
    "slideshow": {
     "slide_type": "slide"
    }
   },
   "source": [
    "## Esleipen eragileak\n",
    "\n",
    "Esleipen eragileak aldagaiei balioak esleitzeko erabiltzen dira. Oinarrizko `=` eragileaz gain, beste hainbat eragile konposatu existitzen dira, non orohar `a ⊕= espr` esleipenak `a = a ⊕ espr` adierazten duen, `⊕` eragile batentzat: "
   ]
  },
  {
   "cell_type": "markdown",
   "metadata": {
    "slideshow": {
     "slide_type": "-"
    }
   },
   "source": [
    "| Eragilea | Adibidea | Balkiokidetasuna | \n",
    "|:----:|:-------------:| ---       |\n",
    "|  =   | `x = 5`   | ------ |\n",
    "|  +=   | `x += 5`   | `x = x + 5`  |\n",
    "|  -=   | `x -= 5`   | `x = x - 5`  |\n",
    "|  *=   | `x *= 5`   | `x = x * 5`  |\n",
    "|  /=   | `x /= 5`   | `x = x / 5`  |\n",
    "|  //=   | `x //= 5`   | `x = x // 5`  |\n",
    "|  %=   | `x %= 5`   | `x = x % 5`  |\n",
    "|  \\*\\*=   | `x **= 5`   | `x = x ** 5`  |\n"
   ]
  },
  {
   "cell_type": "markdown",
   "metadata": {
    "slideshow": {
     "slide_type": "slide"
    }
   },
   "source": [
    "## Identitate eragileak\n",
    "\n",
    "Identitate eragileak erreferentziak konparatzeko balio dute. Bi eragile daude, `is` eta `is not`. Eragile hauek ezker eta eskubiko erreferentziak berdinak/ezberdinak ote diren bueltatzen dute: "
   ]
  },
  {
   "cell_type": "code",
   "execution_count": 22,
   "metadata": {
    "slideshow": {
     "slide_type": "-"
    }
   },
   "outputs": [
    {
     "name": "stdout",
     "output_type": "stream",
     "text": [
      "False\n",
      "True\n"
     ]
    }
   ],
   "source": [
    "a = 5\n",
    "b = 7\n",
    "c = a\n",
    "print(a is b)\n",
    "print(a is c)"
   ]
  },
  {
   "cell_type": "markdown",
   "metadata": {
    "slideshow": {
     "slide_type": "slide"
    }
   },
   "source": [
    "Bi aldagai `==` zeinuaren bidez konparatzen ditugunean, aldagaiek erreferentziatzen dituzten objektuen balioak konparatzen dira, ez bere erreferentziak:"
   ]
  },
  {
   "cell_type": "code",
   "execution_count": 28,
   "metadata": {
    "slideshow": {
     "slide_type": "fragment"
    }
   },
   "outputs": [
    {
     "name": "stdout",
     "output_type": "stream",
     "text": [
      "True\n",
      "False\n"
     ]
    }
   ],
   "source": [
    "a = 1000\n",
    "b = a + 1 - 1\n",
    "print(a == b)\n",
    "print(a is b)"
   ]
  },
  {
   "cell_type": "code",
   "execution_count": 29,
   "metadata": {
    "slideshow": {
     "slide_type": "fragment"
    }
   },
   "outputs": [
    {
     "name": "stdout",
     "output_type": "stream",
     "text": [
      "True\n",
      "True\n"
     ]
    }
   ],
   "source": [
    "a = 100\n",
    "b = a + 1 - 1\n",
    "print(a == b)\n",
    "print(a is b)"
   ]
  },
  {
   "cell_type": "markdown",
   "metadata": {
    "slideshow": {
     "slide_type": "-"
    }
   },
   "source": [
    "![scream](../../img/emoji/36x36/1f631.png)"
   ]
  },
  {
   "cell_type": "markdown",
   "metadata": {
    "slideshow": {
     "slide_type": "slide"
    }
   },
   "source": [
    "## Eragileen lehentasuna\n",
    "\n",
    "Espresio batetan eragile ezberdinak agertzen badira, eragileen arteko lehentasunak ezarriko du ebaluazio ordena. Gehiegi sakondu gabe, eragile mota ezberdinak ondoko moduan ordena daitezke lehentasun handienetik txikienera:\n",
    "\n",
    "eragile aritmetikoak &rarr; identitate/erlazio eragileak &rarr; eragile logikoak &rarr; esleipen eragileak\n",
    "\n",
    "Beraz, dudarik izatekotan, **parentesiak erabili**."
   ]
  },
  {
   "cell_type": "code",
   "execution_count": 34,
   "metadata": {
    "slideshow": {
     "slide_type": "slide"
    }
   },
   "outputs": [
    {
     "data": {
      "text/plain": [
       "True"
      ]
     },
     "execution_count": 34,
     "metadata": {},
     "output_type": "execute_result"
    }
   ],
   "source": [
    "a = \"kaixo\"\n",
    "b = \"kaixo\"\n",
    "a is b"
   ]
  },
  {
   "attachments": {
    "image.png": {
     "image/png": "[encoded data removed]"
    }
   },
   "cell_type": "markdown",
   "metadata": {
    "slideshow": {
     "slide_type": "slide"
    }
   },
   "source": [
    "## ERRONKA\n",
    "Saia zaitez `\"kaixo\"` balioa duten bi `str` objektu (`a` eta `b`) ezberdin lortzen. Alegia:\n",
    "\n",
    "* `type(a) == str`\n",
    "* `type(b) == str`\n",
    "* `a == \"kaixo\"`\n",
    "* `b == a`\n",
    "* `a is not b`\n",
    "\n",
    "beteko dutenak\n",
    "![image.png](attachment:image.png)"
   ]
  },
  {
   "cell_type": "markdown",
   "metadata": {
    "slideshow": {
     "slide_type": "-"
    }
   },
   "source": [
    "<table border=\"0\" width=\"100%\" style=\"margin: 0px;\">\n",
    "<tr>  \n",
    "  <td style=\"text-align:left\"><a href=\"Aldagai izenak.ipynb\">&lt; &lt; Aldagai izenak &lt; &lt;</a></td>\n",
    "  <td style=\"text-align:right\"><a href=\"Oinarrizko datu sarrera eta irteera.ipynb\">&gt; &gt; Oinarrizko datu sarrera eta irteera &gt; &gt;</a></td>\n",
    "</tr>\n",
    "</table>"
   ]
  }
 ],
 "metadata": {
  "celltoolbar": "Slideshow",
  "kernelspec": {
   "display_name": "Python 3",
   "language": "python",
   "name": "python3"
  },
  "language_info": {
   "codemirror_mode": {
    "name": "ipython",
    "version": 3
   },
   "file_extension": ".py",
   "mimetype": "text/x-python",
   "name": "python",
   "nbconvert_exporter": "python",
   "pygments_lexer": "ipython3",
   "version": "3.7.6"
  },
  "rise": {
   "autolaunch": true,
   "footer": "<h2 align=\"center\">Konputaziorako Sarrera</h2>"
  }
 },
 "nbformat": 4,
 "nbformat_minor": 2
}
