{
 "cells": [
  {
   "cell_type": "markdown",
   "metadata": {
    "slideshow": {
     "slide_type": "slide"
    }
   },
   "source": [
    "# Zerrendak (Listak)\n",
    "\n",
    "* `list` motako objektuak\n",
    "* Objektu sekuentzia **ALDAKORRA**.\n",
    "* Zerrendak sortzeko aukerak:\n",
    "  1. Objektuaren berezko metodoaz &rarr; `list(iteragarria)`\n",
    "  1. Balio literala &rarr; `[obj1 , obj2 , obj3, ... ]`\n",
    "  1. Zerrendak bueltatzen dituzten metodoak &rarr; `\"...\".split()`\n",
    "* `len()` funtzioa &rarr; elementu kopurua\n"
   ]
  },
  {
   "cell_type": "markdown",
   "metadata": {
    "slideshow": {
     "slide_type": "slide"
    }
   },
   "source": [
    "### Zerrenda hutsa\n",
    "Sortzen dugunean hutsik dagoen zerrenda bat "
   ]
  },
  {
   "cell_type": "code",
   "execution_count": 1,
   "metadata": {
    "slideshow": {
     "slide_type": "-"
    }
   },
   "outputs": [
    {
     "name": "stdout",
     "output_type": "stream",
     "text": [
      "[] 0\n"
     ]
    }
   ],
   "source": [
    "# zerrenda hutsa\n",
    "z = list()\n",
    "print(z,len(z))"
   ]
  },
  {
   "cell_type": "code",
   "execution_count": 2,
   "metadata": {
    "slideshow": {
     "slide_type": "-"
    }
   },
   "outputs": [
    {
     "name": "stdout",
     "output_type": "stream",
     "text": [
      "[] 0\n"
     ]
    }
   ],
   "source": [
    "# zerrenda huts literala\n",
    "z = []\n",
    "print(z,len(z))"
   ]
  },
  {
   "cell_type": "markdown",
   "metadata": {
    "slideshow": {
     "slide_type": "slide"
    }
   },
   "source": [
    "### `list(iteragarria)`\n",
    "Iteragarria zeharkatu eta bere edukia zerrenda moduan bueltatzen du "
   ]
  },
  {
   "cell_type": "code",
   "execution_count": 3,
   "metadata": {
    "slideshow": {
     "slide_type": "fragment"
    }
   },
   "outputs": [
    {
     "name": "stdout",
     "output_type": "stream",
     "text": [
      "range(0, 10)\n",
      "[0, 1, 2, 3, 4, 5, 6, 7, 8, 9]\n"
     ]
    }
   ],
   "source": [
    "z = list(range(10))\n",
    "print(range(10))\n",
    "print(z)"
   ]
  },
  {
   "cell_type": "code",
   "execution_count": 4,
   "metadata": {
    "slideshow": {
     "slide_type": "fragment"
    }
   },
   "outputs": [
    {
     "name": "stdout",
     "output_type": "stream",
     "text": [
      "['a', 'e', 'i', 'o', 'u']\n"
     ]
    }
   ],
   "source": [
    "z = list(\"aeiou\")\n",
    "print(z)"
   ]
  },
  {
   "cell_type": "code",
   "execution_count": 5,
   "metadata": {
    "slideshow": {
     "slide_type": "fragment"
    }
   },
   "outputs": [
    {
     "name": "stdout",
     "output_type": "stream",
     "text": [
      "['ilara bat\\n', 'beste bat\\n', 'azken ilara.....']\n"
     ]
    }
   ],
   "source": [
    "f = open(\"MyText.txt\")\n",
    "z = list(f)\n",
    "print(z)\n",
    "f.close()"
   ]
  },
  {
   "cell_type": "markdown",
   "metadata": {
    "slideshow": {
     "slide_type": "slide"
    }
   },
   "source": [
    "### `[obj1 , obj2 , obj3, ... ]`\n",
    "`obj1`, `obj2`, `obj3`, ...-z osotutako zerrenda bueltatzen du "
   ]
  },
  {
   "cell_type": "code",
   "execution_count": 6,
   "metadata": {
    "slideshow": {
     "slide_type": "fragment"
    }
   },
   "outputs": [
    {
     "data": {
      "text/plain": [
       "True"
      ]
     },
     "execution_count": 6,
     "metadata": {},
     "output_type": "execute_result"
    }
   ],
   "source": [
    "[0,1,2,3,4,5,6,7,8,9] == list(range(10))"
   ]
  },
  {
   "cell_type": "code",
   "execution_count": 7,
   "metadata": {
    "slideshow": {
     "slide_type": "fragment"
    }
   },
   "outputs": [
    {
     "data": {
      "text/plain": [
       "True"
      ]
     },
     "execution_count": 7,
     "metadata": {},
     "output_type": "execute_result"
    }
   ],
   "source": [
    "[\"a\",\"e\",\"i\",\"o\",\"u\"] == list(\"aeiou\")"
   ]
  },
  {
   "cell_type": "code",
   "execution_count": 8,
   "metadata": {
    "slideshow": {
     "slide_type": "fragment"
    }
   },
   "outputs": [
    {
     "data": {
      "text/plain": [
       "['kaixo', 1, 2.0, True, None]"
      ]
     },
     "execution_count": 8,
     "metadata": {},
     "output_type": "execute_result"
    }
   ],
   "source": [
    "# Zerrendetako elementuak edozein motakoak izan daitezke\n",
    "[ \"kaixo\" , 1 , 2.0 , True , None ]"
   ]
  },
  {
   "cell_type": "markdown",
   "metadata": {
    "slideshow": {
     "slide_type": "slide"
    }
   },
   "source": [
    "## Zerrenden ezaugarriak\n",
    "\n",
    "* Indexagarriak &rarr; `z[5]`\n",
    "   * Indize negatiboak, *slize* notazioa...\n",
    "* Iteragarriak &rarr; `for i in z :`\n",
    "* Aldakorrak &rarr; `z[5] = \"zerbait\"`"
   ]
  },
  {
   "cell_type": "code",
   "execution_count": 9,
   "metadata": {
    "slideshow": {
     "slide_type": "slide"
    }
   },
   "outputs": [
    {
     "name": "stdout",
     "output_type": "stream",
     "text": [
      "[0, 1, 2, 3, 4, 5, 6, 7, 8, 9]\n"
     ]
    }
   ],
   "source": [
    "z = list(range(10))\n",
    "print(z)"
   ]
  },
  {
   "cell_type": "code",
   "execution_count": 10,
   "metadata": {
    "slideshow": {
     "slide_type": "fragment"
    }
   },
   "outputs": [
    {
     "name": "stdout",
     "output_type": "stream",
     "text": [
      "[0, '???', 2, 3, 4, 5, 6, 7, 8, 9]\n"
     ]
    }
   ],
   "source": [
    "z[1] = \"???\"\n",
    "print(z)"
   ]
  },
  {
   "cell_type": "code",
   "execution_count": 11,
   "metadata": {
    "slideshow": {
     "slide_type": "fragment"
    }
   },
   "outputs": [
    {
     "name": "stdout",
     "output_type": "stream",
     "text": [
      "[0, '???', 2, 3, 4, 5, 6, 7, '!!!', 9]\n"
     ]
    }
   ],
   "source": [
    "z[-2] = \"!!!\"\n",
    "print(z)"
   ]
  },
  {
   "cell_type": "markdown",
   "metadata": {
    "slideshow": {
     "slide_type": "slide"
    }
   },
   "source": [
    "## Zerrenden eragileak\n",
    "* `a==b`, `a!=b`, `a>b`, `a>=b`, `a<b`, `a<=b` &rarr; `bool` : elementuz-elementuko konparaketa\n",
    "* `a + b` &rarr; `list` : konkatenazioa\n",
    "* `a * 4` , `4 * a` &rarr; `list` : auto-errepikapena\n",
    "* `a in b`, `a not in b` &rarr; `bool` : `a` elementua `b`-ren barnean ote dagoen\n",
    "* `a is b` &rarr; `bool` : `a` objektua `b` ote den"
   ]
  },
  {
   "cell_type": "code",
   "execution_count": 12,
   "metadata": {
    "slideshow": {
     "slide_type": "slide"
    }
   },
   "outputs": [
    {
     "name": "stdout",
     "output_type": "stream",
     "text": [
      "False\n",
      "True\n"
     ]
    }
   ],
   "source": [
    "# Elementuz-elementuko konparaketa\n",
    "a = [ 1 , 2 , 3 , 4]\n",
    "b = [ 1 , 2 , 0 , 4 , 5]\n",
    "print(a == b)\n",
    "print(a > b)"
   ]
  },
  {
   "cell_type": "code",
   "execution_count": 13,
   "metadata": {
    "slideshow": {
     "slide_type": "fragment"
    }
   },
   "outputs": [
    {
     "name": "stdout",
     "output_type": "stream",
     "text": [
      "[0, 1, 2, 3, 'a', 'e', 'i', 'o', 'u']\n"
     ]
    }
   ],
   "source": [
    "# konkatenazioa\n",
    "z = list(range(4)) + list(\"aeiou\")\n",
    "print(z)"
   ]
  },
  {
   "cell_type": "code",
   "execution_count": 14,
   "metadata": {
    "slideshow": {
     "slide_type": "fragment"
    }
   },
   "outputs": [
    {
     "name": "stdout",
     "output_type": "stream",
     "text": [
      "['a', 'e', 'i', 'o', 'u', 'a', 'e', 'i', 'o', 'u', 'a', 'e', 'i', 'o', 'u']\n"
     ]
    }
   ],
   "source": [
    "# auto-errepikapena\n",
    "print(3 * list(\"aeiou\"))"
   ]
  },
  {
   "cell_type": "code",
   "execution_count": 15,
   "metadata": {
    "slideshow": {
     "slide_type": "fragment"
    }
   },
   "outputs": [
    {
     "name": "stdout",
     "output_type": "stream",
     "text": [
      "True\n",
      "True\n",
      "True\n",
      "False\n"
     ]
    }
   ],
   "source": [
    "# in eragilea\n",
    "print(3 in [1,2,3])\n",
    "print([1,2] not in [1,2,3])\n",
    "print(\"ai\" in \"kaixo\")\n",
    "print(\"ai\" in list(\"kaixo\"))"
   ]
  },
  {
   "cell_type": "markdown",
   "metadata": {
    "slideshow": {
     "slide_type": "slide"
    }
   },
   "source": [
    "## Zerrenden metodoak\n",
    "\n",
    "* Metodo hauek izendatzeko: `zerrenda.metodo_izena`\n",
    "* Zerrendek, [11 metodo](https://docs.python.org/3/tutorial/datastructures.html#more-on-lists) dituzte."
   ]
  },
  {
   "cell_type": "markdown",
   "metadata": {
    "slideshow": {
     "slide_type": "slide"
    }
   },
   "source": [
    "### list.append\n",
    "```\n",
    "append(...) method of builtins.list instance\n",
    "    L.append(object) -> None -- append object to end\n",
    "```"
   ]
  },
  {
   "cell_type": "code",
   "execution_count": 16,
   "metadata": {
    "slideshow": {
     "slide_type": "fragment"
    }
   },
   "outputs": [
    {
     "name": "stdout",
     "output_type": "stream",
     "text": [
      "[0]\n",
      "[0, 1]\n",
      "[0, 1, 2]\n",
      "[0, 1, 2, 3]\n",
      "[0, 1, 2, 3, 4]\n"
     ]
    }
   ],
   "source": [
    "z = []\n",
    "for i in range(5) :\n",
    "    z.append(i)\n",
    "    print(z)"
   ]
  },
  {
   "cell_type": "markdown",
   "metadata": {
    "slideshow": {
     "slide_type": "slide"
    }
   },
   "source": [
    "### list.extend\n",
    "```\n",
    "extend(...) method of builtins.list instance\n",
    "    L.extend(iterable) -> None -- extend list by appending elements from the iterable\n",
    "```"
   ]
  },
  {
   "cell_type": "code",
   "execution_count": 17,
   "metadata": {
    "slideshow": {
     "slide_type": "fragment"
    }
   },
   "outputs": [
    {
     "name": "stdout",
     "output_type": "stream",
     "text": [
      "[1, 2, 3, [4, 5, 6], 7, 8, 9]\n"
     ]
    }
   ],
   "source": [
    "z = [1,2,3]\n",
    "z.append([4,5,6])\n",
    "z.extend([7,8,9])\n",
    "print(z)"
   ]
  },
  {
   "cell_type": "code",
   "execution_count": 18,
   "metadata": {
    "slideshow": {
     "slide_type": "fragment"
    }
   },
   "outputs": [
    {
     "name": "stdout",
     "output_type": "stream",
     "text": [
      "[1, 2, 3, '4', '5', '6', '7']\n"
     ]
    }
   ],
   "source": [
    "# list.extend(it) == for x in it : z.append(x)\n",
    "z = [1,2,3]\n",
    "for x in \"4567\" :\n",
    "    z.append(x)\n",
    "print(z)"
   ]
  },
  {
   "cell_type": "markdown",
   "metadata": {
    "slideshow": {
     "slide_type": "slide"
    }
   },
   "source": [
    "### list.insert\n",
    "```\n",
    "insert(...) method of builtins.list instance\n",
    "    L.insert(index, object) -> None -- insert object before index\n",
    "```"
   ]
  },
  {
   "cell_type": "code",
   "execution_count": 19,
   "metadata": {
    "slideshow": {
     "slide_type": "fragment"
    }
   },
   "outputs": [
    {
     "name": "stdout",
     "output_type": "stream",
     "text": [
      "[0, 1, 'XXX', 2, 3, 4]\n"
     ]
    }
   ],
   "source": [
    "z = [0,1,2,3,4]\n",
    "z.insert(2,\"XXX\")\n",
    "print(z)"
   ]
  },
  {
   "cell_type": "code",
   "execution_count": 20,
   "metadata": {
    "slideshow": {
     "slide_type": "fragment"
    }
   },
   "outputs": [
    {
     "name": "stdout",
     "output_type": "stream",
     "text": [
      "['a', 'e', 'i', 'XXX', 'o', 'u']\n"
     ]
    }
   ],
   "source": [
    "z = list(\"aeiou\")\n",
    "z.insert(-2,\"XXX\")\n",
    "print(z)"
   ]
  },
  {
   "cell_type": "markdown",
   "metadata": {
    "slideshow": {
     "slide_type": "slide"
    }
   },
   "source": [
    "### list.remove\n",
    "```\n",
    "remove(...) method of builtins.list instance\n",
    "    L.remove(value) -> None -- remove first occurrence of value.\n",
    "    Raises ValueError if the value is not present.\n",
    "```"
   ]
  },
  {
   "cell_type": "code",
   "execution_count": 21,
   "metadata": {
    "slideshow": {
     "slide_type": "fragment"
    }
   },
   "outputs": [
    {
     "name": "stdout",
     "output_type": "stream",
     "text": [
      "[1, 3, 5]\n"
     ]
    }
   ],
   "source": [
    "z = [1,2,3,4,5]\n",
    "z.remove(2)\n",
    "z.remove(4)\n",
    "# ValueError: list.remove(x): x not in list\n",
    "#z.remove(4)\n",
    "print(z)"
   ]
  },
  {
   "cell_type": "markdown",
   "metadata": {
    "slideshow": {
     "slide_type": "slide"
    }
   },
   "source": [
    "### list.pop\n",
    "```\n",
    "pop(...) method of builtins.list instance\n",
    "    L.pop([index]) -> item -- remove and return item at index (default last).\n",
    "    Raises IndexError if list is empty or index is out of range.\n",
    "```"
   ]
  },
  {
   "cell_type": "code",
   "execution_count": 22,
   "metadata": {
    "slideshow": {
     "slide_type": "fragment"
    }
   },
   "outputs": [
    {
     "name": "stdout",
     "output_type": "stream",
     "text": [
      "u\n",
      "o\n",
      "i\n",
      "e\n",
      "a\n",
      "-------------------\n",
      "u\n",
      "o\n",
      "i\n",
      "e\n",
      "a\n"
     ]
    }
   ],
   "source": [
    "z = list(\"aeiou\")\n",
    "for x in range(len(z)) :\n",
    "    print(z.pop())\n",
    "print(\"-------------------\")\n",
    "z = list(\"aeiou\")\n",
    "#while len(z) > 0 :\n",
    "while z :\n",
    "    print(z.pop())"
   ]
  },
  {
   "cell_type": "markdown",
   "metadata": {
    "slideshow": {
     "slide_type": "slide"
    }
   },
   "source": [
    "### list.clear\n",
    "```\n",
    "clear(...) method of builtins.list instance\n",
    "    L.clear() -> None -- remove all items from L\n",
    "```"
   ]
  },
  {
   "cell_type": "code",
   "execution_count": 23,
   "metadata": {
    "slideshow": {
     "slide_type": "fragment"
    }
   },
   "outputs": [
    {
     "name": "stdout",
     "output_type": "stream",
     "text": [
      "[0, 1, 2, 3, 4, 5, 6, 7, 8, 9]\n",
      "[]\n"
     ]
    }
   ],
   "source": [
    "z = list(range(10))\n",
    "print(z)\n",
    "z.clear()\n",
    "print(z)"
   ]
  },
  {
   "cell_type": "markdown",
   "metadata": {
    "slideshow": {
     "slide_type": "slide"
    }
   },
   "source": [
    "### list.index\n",
    "```\n",
    "index(...) method of builtins.list instance\n",
    "    L.index(value, [start, [stop]]) -> integer -- return first index of value.\n",
    "    Raises ValueError if the value is not present.\n",
    "```"
   ]
  },
  {
   "cell_type": "code",
   "execution_count": 24,
   "metadata": {
    "slideshow": {
     "slide_type": "fragment"
    }
   },
   "outputs": [
    {
     "name": "stdout",
     "output_type": "stream",
     "text": [
      "1\n"
     ]
    }
   ],
   "source": [
    "z = list(\"aeiou\")\n",
    "print(z.index(\"e\"))\n",
    "\n",
    "# ValueError: 'ei' is not in list\n",
    "#print(z.index(\"ei\"))"
   ]
  },
  {
   "cell_type": "markdown",
   "metadata": {
    "slideshow": {
     "slide_type": "slide"
    }
   },
   "source": [
    "### list.count\n",
    "```\n",
    "count(...) method of builtins.list instance\n",
    "    L.count(value) -> integer -- return number of occurrences of value\n",
    "```"
   ]
  },
  {
   "cell_type": "code",
   "execution_count": 25,
   "metadata": {
    "slideshow": {
     "slide_type": "fragment"
    }
   },
   "outputs": [
    {
     "name": "stdout",
     "output_type": "stream",
     "text": [
      "123\n",
      "0\n"
     ]
    }
   ],
   "source": [
    "z = list(range(10)) * 123\n",
    "print(z.count(6))\n",
    "print(z.count(10))"
   ]
  },
  {
   "cell_type": "markdown",
   "metadata": {
    "slideshow": {
     "slide_type": "slide"
    }
   },
   "source": [
    "### list.sort\n",
    "```\n",
    "sort(...) method of builtins.list instance\n",
    "    L.sort(key=None, reverse=False) -> None -- stable sort *IN PLACE*\n",
    "```"
   ]
  },
  {
   "cell_type": "code",
   "execution_count": 26,
   "metadata": {
    "slideshow": {
     "slide_type": "fragment"
    }
   },
   "outputs": [
    {
     "name": "stdout",
     "output_type": "stream",
     "text": [
      "[1, 4, 3, 2, 5, 6, 1, 4, 3, 2, 5, 6, 1, 4, 3, 2, 5, 6, 1, 4, 3, 2, 5, 6]\n",
      "[1, 1, 1, 1, 2, 2, 2, 2, 3, 3, 3, 3, 4, 4, 4, 4, 5, 5, 5, 5, 6, 6, 6, 6]\n"
     ]
    }
   ],
   "source": [
    "z = [1,4,3,2,5,6] * 4\n",
    "print(z)\n",
    "z.sort()\n",
    "print(z)"
   ]
  },
  {
   "cell_type": "markdown",
   "metadata": {
    "slideshow": {
     "slide_type": "slide"
    }
   },
   "source": [
    "### list.reverse\n",
    "```\n",
    "reverse(...) method of builtins.list instance\n",
    "    L.reverse() -- reverse *IN PLACE*\n",
    "```"
   ]
  },
  {
   "cell_type": "code",
   "execution_count": 27,
   "metadata": {
    "slideshow": {
     "slide_type": "fragment"
    }
   },
   "outputs": [
    {
     "name": "stdout",
     "output_type": "stream",
     "text": [
      "[0, 1, 2, 3, 4, 5, 6, 7, 8, 9, 10, 11, 12, 13, 14, 15, 16, 17, 18, 19]\n",
      "[19, 18, 17, 16, 15, 14, 13, 12, 11, 10, 9, 8, 7, 6, 5, 4, 3, 2, 1, 0]\n"
     ]
    }
   ],
   "source": [
    "z = list(range(20))\n",
    "print(z)\n",
    "z.reverse()\n",
    "print(z)"
   ]
  },
  {
   "cell_type": "markdown",
   "metadata": {
    "slideshow": {
     "slide_type": "slide"
    }
   },
   "source": [
    "### list.copy\n",
    "```\n",
    "copy(...) method of builtins.list instance\n",
    "    L.copy() -> list -- a shallow copy of L\n",
    "```\n",
    "* `list[:]`-ren baliokidea"
   ]
  },
  {
   "cell_type": "code",
   "execution_count": 28,
   "metadata": {
    "slideshow": {
     "slide_type": "fragment"
    }
   },
   "outputs": [
    {
     "name": "stdout",
     "output_type": "stream",
     "text": [
      "[' ', ' ', ' ', 'a', 'a', 'a', 'a', 'b', 'd', 'f', 'g', 'h', 'o', 'r', 't', 'u']\n",
      "[' ', ' ', ' ', 'a', 'a', 'a', 'a', 'b', 'd', 'f', 'g', 'h', 'o', 'r', 't', 'u']\n",
      "['h', 'a', 'u', ' ', 'f', 'r', 'o', 'g', 'a', ' ', 'b', 'a', 't', ' ', 'd', 'a']\n",
      "['h', 'a', 'u', ' ', 'f', 'r', 'o', 'g', 'a', ' ', 'b', 'a', 't', ' ', 'd', 'a']\n"
     ]
    }
   ],
   "source": [
    "a = list(\"hau froga bat da\")\n",
    "b = a\n",
    "c = a.copy()\n",
    "d = a[:]\n",
    "a.sort()\n",
    "print(a,b,c,d,sep=\"\\n\")"
   ]
  },
  {
   "cell_type": "markdown",
   "metadata": {
    "slideshow": {
     "slide_type": "-"
    }
   },
   "source": [
    "<table border=\"0\" width=\"100%\" style=\"margin: 0px;\">\n",
    "<tr>  \n",
    "  <td style=\"text-align:left\"><a href=\"Fitxategiak.ipynb\">&lt; &lt; Fitxategiak &lt; &lt;</a></td>\n",
    "  <td style=\"text-align:right\"><a href=\"ZerrendenZerrendak.ipynb\">&gt; &gt; Matrizeak: zerrenden zerrendak &gt; &gt;</a></td>\n",
    "</tr>\n",
    "</table>"
   ]
  }
 ],
 "metadata": {
  "celltoolbar": "Slideshow",
  "kernelspec": {
   "display_name": "Python 3",
   "language": "python",
   "name": "python3"
  },
  "language_info": {
   "codemirror_mode": {
    "name": "ipython",
    "version": 3
   },
   "file_extension": ".py",
   "mimetype": "text/x-python",
   "name": "python",
   "nbconvert_exporter": "python",
   "pygments_lexer": "ipython3",
   "version": "3.7.4"
  },
  "rise": {
   "autolaunch": true,
   "footer": "<h2 align=\"center\">Konputaziorako Sarrera</h2>",
   "scroll": true
  }
 },
 "nbformat": 4,
 "nbformat_minor": 2
}
