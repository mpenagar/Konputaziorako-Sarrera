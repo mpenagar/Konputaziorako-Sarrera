{
 "cells": [
  {
   "cell_type": "markdown",
   "metadata": {
    "slideshow": {
     "slide_type": "slide"
    }
   },
   "source": [
    "# Zerrendak (Listak)\n",
    "\n",
    "* `list` motako objektuak\n",
    "* Objektu sekuentzia **ALDAKORRA**.\n",
    "* Zerrendak sortzeko aukerak:\n",
    "  1. Objektuaren berezko metodoaz &rarr; `list(iteragarria)`\n",
    "  1. Balio literala &rarr; `[obj1 , obj2 , obj3, ... ]`\n",
    "  1. Zerrendak bueltatzen dituzten metodoak &rarr; `\"...\".split()`\n",
    "* `len()` funtzioa &rarr; elementu kopurua\n"
   ]
  },
  {
   "cell_type": "markdown",
   "metadata": {
    "slideshow": {
     "slide_type": "slide"
    }
   },
   "source": [
    "### Zerrenda hutsa\n",
    "Sortzen dugunean hutsik dagoen zerrenda bat "
   ]
  },
  {
   "cell_type": "code",
   "execution_count": 2,
   "metadata": {
    "slideshow": {
     "slide_type": "-"
    }
   },
   "outputs": [
    {
     "name": "stdout",
     "output_type": "stream",
     "text": [
      "[] 0\n"
     ]
    }
   ],
   "source": [
    "# zerrenda hutsa\n",
    "z = list()\n",
    "print(z,len(z))"
   ]
  },
  {
   "cell_type": "code",
   "execution_count": 3,
   "metadata": {
    "slideshow": {
     "slide_type": "-"
    }
   },
   "outputs": [
    {
     "name": "stdout",
     "output_type": "stream",
     "text": [
      "[] 0\n"
     ]
    }
   ],
   "source": [
    "# zerrenda huts literala\n",
    "z = []\n",
    "print(z,len(z))"
   ]
  },
  {
   "cell_type": "markdown",
   "metadata": {
    "slideshow": {
     "slide_type": "slide"
    }
   },
   "source": [
    "### `list(iteragarria)`\n",
    "Iteragarria zeharkatu eta bere edukia zerrenda moduan bueltatzen du "
   ]
  },
  {
   "cell_type": "code",
   "execution_count": 4,
   "metadata": {
    "slideshow": {
     "slide_type": "fragment"
    }
   },
   "outputs": [
    {
     "name": "stdout",
     "output_type": "stream",
     "text": [
      "range(0, 10)\n",
      "[0, 1, 2, 3, 4, 5, 6, 7, 8, 9]\n"
     ]
    }
   ],
   "source": [
    "z = list(range(10))\n",
    "print(range(10))\n",
    "print(z)"
   ]
  },
  {
   "cell_type": "code",
   "execution_count": 5,
   "metadata": {
    "slideshow": {
     "slide_type": "fragment"
    }
   },
   "outputs": [
    {
     "name": "stdout",
     "output_type": "stream",
     "text": [
      "['a', 'e', 'i', 'o', 'u']\n"
     ]
    }
   ],
   "source": [
    "z = list(\"aeiou\")\n",
    "print(z)"
   ]
  },
  {
   "cell_type": "code",
   "execution_count": 6,
   "metadata": {
    "slideshow": {
     "slide_type": "fragment"
    }
   },
   "outputs": [
    {
     "name": "stdout",
     "output_type": "stream",
     "text": [
      "['Hau testu fitxategi\\n', 'Bi ilara ditu\\n', 'Ez, bi ez, hiru jakiña!']\n"
     ]
    }
   ],
   "source": [
    "f = open(\"MyText.txt\")\n",
    "z = list(f)\n",
    "print(z)\n",
    "f.close()"
   ]
  },
  {
   "cell_type": "markdown",
   "metadata": {
    "slideshow": {
     "slide_type": "slide"
    }
   },
   "source": [
    "### `[obj1 , obj2 , obj3, ... ]`\n",
    "`obj1`, `obj2`, `obj3`, ...-z osotutako zerrenda bueltatzen du "
   ]
  },
  {
   "cell_type": "code",
   "execution_count": 8,
   "metadata": {
    "slideshow": {
     "slide_type": "fragment"
    }
   },
   "outputs": [
    {
     "data": {
      "text/plain": [
       "True"
      ]
     },
     "execution_count": 8,
     "metadata": {},
     "output_type": "execute_result"
    }
   ],
   "source": [
    "[0,1,2,3,4,5,6,7,8,9] == list(range(10))"
   ]
  },
  {
   "cell_type": "code",
   "execution_count": 9,
   "metadata": {
    "slideshow": {
     "slide_type": "fragment"
    }
   },
   "outputs": [
    {
     "data": {
      "text/plain": [
       "True"
      ]
     },
     "execution_count": 9,
     "metadata": {},
     "output_type": "execute_result"
    }
   ],
   "source": [
    "[\"a\",\"e\",\"i\",\"o\",\"u\"] == list(\"aeiou\")"
   ]
  },
  {
   "cell_type": "code",
   "execution_count": 10,
   "metadata": {
    "slideshow": {
     "slide_type": "fragment"
    }
   },
   "outputs": [
    {
     "data": {
      "text/plain": [
       "['kaixo', 1, 2.0, True, None]"
      ]
     },
     "execution_count": 10,
     "metadata": {},
     "output_type": "execute_result"
    }
   ],
   "source": [
    "# Zerrendetako elementuak edozein motakoak izan daitezke\n",
    "[ \"kaixo\" , 1 , 2.0 , True , None ]"
   ]
  },
  {
   "cell_type": "markdown",
   "metadata": {
    "slideshow": {
     "slide_type": "slide"
    }
   },
   "source": [
    "## Zerrenden ezaugarriak\n",
    "\n",
    "* Indexagarriak &rarr; `z[5]`\n",
    "   * Indize negatiboak, *slize* notazioa...\n",
    "* Iteragarriak &rarr; `for i in z :`\n",
    "* **Aldakorrak** &rarr; `z[5] = \"zerbait\"`"
   ]
  },
  {
   "cell_type": "code",
   "execution_count": 13,
   "metadata": {
    "slideshow": {
     "slide_type": "slide"
    }
   },
   "outputs": [
    {
     "name": "stdout",
     "output_type": "stream",
     "text": [
      "[5, 6, 7, 8, 9, 10, 11, 12, 13, 14]\n"
     ]
    }
   ],
   "source": [
    "z = list(range(5,15))\n",
    "print(z)"
   ]
  },
  {
   "cell_type": "code",
   "execution_count": 14,
   "metadata": {
    "slideshow": {
     "slide_type": "fragment"
    }
   },
   "outputs": [
    {
     "name": "stdout",
     "output_type": "stream",
     "text": [
      "[5, '???', 7, 8, 9, 10, 11, 12, 13, 14]\n"
     ]
    }
   ],
   "source": [
    "z[1] = \"???\"\n",
    "print(z)"
   ]
  },
  {
   "cell_type": "code",
   "execution_count": 15,
   "metadata": {
    "slideshow": {
     "slide_type": "fragment"
    }
   },
   "outputs": [
    {
     "name": "stdout",
     "output_type": "stream",
     "text": [
      "[5, '???', 7, 8, 9, 10, 11, 12, '!!!', 14]\n"
     ]
    }
   ],
   "source": [
    "z[-2] = \"!!!\"\n",
    "print(z)"
   ]
  },
  {
   "cell_type": "markdown",
   "metadata": {
    "slideshow": {
     "slide_type": "slide"
    }
   },
   "source": [
    "## Zerrenden eragileak\n",
    "* `a==b`, `a!=b`, `a>b`, `a>=b`, `a<b`, `a<=b` &rarr; `bool` : elementuz-elementuko konparaketa\n",
    "* `a + b` &rarr; `list` : konkatenazioa\n",
    "* `a * 4` , `4 * a` &rarr; `list` : auto-errepikapena\n",
    "* `a in b`, `a not in b` &rarr; `bool` : `a` elementua `b`-ren barnean ote dagoen\n",
    "* `a is b` &rarr; `bool` : `a` objektua `b` ote den"
   ]
  },
  {
   "cell_type": "code",
   "execution_count": 20,
   "metadata": {
    "slideshow": {
     "slide_type": "slide"
    }
   },
   "outputs": [
    {
     "name": "stdout",
     "output_type": "stream",
     "text": [
      "False\n",
      "True\n"
     ]
    }
   ],
   "source": [
    "# Elementuz-elementuko konparaketa\n",
    "a = [ 1 , 2 , 3 , 4]\n",
    "b = [ 1 , 2 , 0 , 4 , \"kaka\"]\n",
    "print(a == b)\n",
    "print(a > b)"
   ]
  },
  {
   "cell_type": "code",
   "execution_count": 21,
   "metadata": {
    "slideshow": {
     "slide_type": "fragment"
    }
   },
   "outputs": [
    {
     "name": "stdout",
     "output_type": "stream",
     "text": [
      "[0, 1, 2, 3, 'a', 'e', 'i', 'o', 'u']\n"
     ]
    }
   ],
   "source": [
    "# konkatenazioa\n",
    "z = list(range(4)) + list(\"aeiou\")\n",
    "print(z)"
   ]
  },
  {
   "cell_type": "code",
   "execution_count": 22,
   "metadata": {
    "slideshow": {
     "slide_type": "fragment"
    }
   },
   "outputs": [
    {
     "name": "stdout",
     "output_type": "stream",
     "text": [
      "['a', 'e', 'i', 'o', 'u', 'a', 'e', 'i', 'o', 'u', 'a', 'e', 'i', 'o', 'u']\n"
     ]
    }
   ],
   "source": [
    "# auto-errepikapena\n",
    "print(3 * list(\"aeiou\"))"
   ]
  },
  {
   "cell_type": "code",
   "execution_count": 25,
   "metadata": {
    "slideshow": {
     "slide_type": "slide"
    }
   },
   "outputs": [
    {
     "name": "stdout",
     "output_type": "stream",
     "text": [
      "True\n",
      "True\n",
      "True\n",
      "False\n",
      "True\n",
      "False ['gaur', 'ez', 'noa']\n",
      "True gaur\n"
     ]
    }
   ],
   "source": [
    "# in eragilea\n",
    "print(3 in [1,2,3])\n",
    "print([1,2] not in [1,2,3])\n",
    "print(\"ai\" in \"kaixo\")\n",
    "print(\"ai\" in list(\"kaixo\"))\n",
    "print(\"gau\" in \"gaur ez noa\")\n",
    "print(\"gau\" in \"gaur ez noa\".split(), \"gaur ez noa\".split())\n",
    "print(\"gau\" in \"gaur ez noa\".split()[0],\"gaur ez noa\".split()[0])\n",
    "\n"
   ]
  },
  {
   "cell_type": "markdown",
   "metadata": {
    "slideshow": {
     "slide_type": "slide"
    }
   },
   "source": [
    "## Zerrenden metodoak\n",
    "\n",
    "* Metodo hauek izendatzeko: `zerrenda.metodo_izena`\n",
    "* Zerrendek, [11 metodo](https://docs.python.org/3/tutorial/datastructures.html#more-on-lists) dituzte."
   ]
  },
  {
   "cell_type": "markdown",
   "metadata": {
    "slideshow": {
     "slide_type": "slide"
    }
   },
   "source": [
    "### list.append\n",
    "```\n",
    "append(...) method of builtins.list instance\n",
    "    L.append(object) -> None -- append object to end\n",
    "```"
   ]
  },
  {
   "cell_type": "code",
   "execution_count": 29,
   "metadata": {
    "slideshow": {
     "slide_type": "fragment"
    }
   },
   "outputs": [
    {
     "name": "stdout",
     "output_type": "stream",
     "text": [
      "[0]\n",
      "[0, 5]\n",
      "[0, 5, 10]\n",
      "[0, 5, 10, 15]\n",
      "[0, 5, 10, 15, 20]\n"
     ]
    }
   ],
   "source": [
    "z = []\n",
    "for i in range(5) :\n",
    "    z.append(i*5)\n",
    "    print(z)"
   ]
  },
  {
   "cell_type": "markdown",
   "metadata": {
    "slideshow": {
     "slide_type": "slide"
    }
   },
   "source": [
    "### list.extend\n",
    "```\n",
    "extend(...) method of builtins.list instance\n",
    "    L.extend(iterable) -> None -- extend list by appending elements from the iterable\n",
    "```"
   ]
  },
  {
   "cell_type": "code",
   "execution_count": 30,
   "metadata": {
    "slideshow": {
     "slide_type": "fragment"
    }
   },
   "outputs": [
    {
     "name": "stdout",
     "output_type": "stream",
     "text": [
      "[1, 2, 3, [4, 5, 6], 7, 8, 9]\n"
     ]
    }
   ],
   "source": [
    "z = [1,2,3]\n",
    "z.append([4,5,6])\n",
    "z.extend([7,8,9])\n",
    "print(z)"
   ]
  },
  {
   "cell_type": "code",
   "execution_count": 31,
   "metadata": {
    "slideshow": {
     "slide_type": "slide"
    }
   },
   "outputs": [
    {
     "name": "stdout",
     "output_type": "stream",
     "text": [
      "[1, 2, 3, '4', '5', '6', '7', '4', '5', '6', '7']\n"
     ]
    }
   ],
   "source": [
    "# list.extend(it) == for x in it : z.append(x)\n",
    "z = [1,2,3]\n",
    "z.extend(\"4567\")\n",
    "for x in \"4567\" :\n",
    "    z.append(x)\n",
    "print(z)"
   ]
  },
  {
   "cell_type": "markdown",
   "metadata": {
    "slideshow": {
     "slide_type": "slide"
    }
   },
   "source": [
    "### list.insert\n",
    "```\n",
    "insert(...) method of builtins.list instance\n",
    "    L.insert(index, object) -> None -- insert object before index\n",
    "```"
   ]
  },
  {
   "cell_type": "code",
   "execution_count": 32,
   "metadata": {
    "slideshow": {
     "slide_type": "fragment"
    }
   },
   "outputs": [
    {
     "name": "stdout",
     "output_type": "stream",
     "text": [
      "[0, 1, 'XXX', 2, 3, 4]\n"
     ]
    }
   ],
   "source": [
    "z = [0,1,2,3,4]\n",
    "z.insert(2,\"XXX\")\n",
    "print(z)"
   ]
  },
  {
   "cell_type": "code",
   "execution_count": 33,
   "metadata": {
    "slideshow": {
     "slide_type": "fragment"
    }
   },
   "outputs": [
    {
     "name": "stdout",
     "output_type": "stream",
     "text": [
      "['a', 'e', 'i', 'XXX', 'o', 'u']\n"
     ]
    }
   ],
   "source": [
    "z = list(\"aeiou\")\n",
    "z.insert(-2,\"XXX\")\n",
    "print(z)"
   ]
  },
  {
   "cell_type": "markdown",
   "metadata": {
    "slideshow": {
     "slide_type": "slide"
    }
   },
   "source": [
    "### list.remove\n",
    "```\n",
    "remove(...) method of builtins.list instance\n",
    "    L.remove(value) -> None -- remove first occurrence of value.\n",
    "    Raises ValueError if the value is not present.\n",
    "```"
   ]
  },
  {
   "cell_type": "code",
   "execution_count": 36,
   "metadata": {
    "slideshow": {
     "slide_type": "fragment"
    }
   },
   "outputs": [
    {
     "name": "stdout",
     "output_type": "stream",
     "text": [
      "['bat', 'hiru', 'bost']\n"
     ]
    }
   ],
   "source": [
    "z = ['bat','bi','hiru','lau','bost']\n",
    "z.remove('bi')\n",
    "z.remove('lau')\n",
    "# ValueError: list.remove(x): x not in list\n",
    "#z.remove('lau')\n",
    "print(z)"
   ]
  },
  {
   "cell_type": "markdown",
   "metadata": {
    "slideshow": {
     "slide_type": "slide"
    }
   },
   "source": [
    "### list.pop\n",
    "```\n",
    "pop(...) method of builtins.list instance\n",
    "    L.pop([index]) -> item -- remove and return item at index (default last).\n",
    "    Raises IndexError if list is empty or index is out of range.\n",
    "```"
   ]
  },
  {
   "cell_type": "code",
   "execution_count": 38,
   "metadata": {
    "slideshow": {
     "slide_type": "slide"
    }
   },
   "outputs": [
    {
     "name": "stdout",
     "output_type": "stream",
     "text": [
      "u\n",
      "o\n",
      "i\n",
      "e\n",
      "a\n",
      "-------------------\n",
      "u\n",
      "o\n",
      "i\n",
      "e\n",
      "a\n"
     ]
    }
   ],
   "source": [
    "z = list(\"aeiou\")\n",
    "for x in range(len(z)) :\n",
    "    print(z.pop())\n",
    "print(\"-------------------\")\n",
    "z = list(\"aeiou\")\n",
    "#while len(z) > 0 :\n",
    "while z :\n",
    "    print(z.pop())"
   ]
  },
  {
   "cell_type": "markdown",
   "metadata": {
    "slideshow": {
     "slide_type": "slide"
    }
   },
   "source": [
    "### list.clear\n",
    "```\n",
    "clear(...) method of builtins.list instance\n",
    "    L.clear() -> None -- remove all items from L\n",
    "```"
   ]
  },
  {
   "cell_type": "code",
   "execution_count": 39,
   "metadata": {
    "slideshow": {
     "slide_type": "fragment"
    }
   },
   "outputs": [
    {
     "name": "stdout",
     "output_type": "stream",
     "text": [
      "[0, 1, 2, 3, 4, 5, 6, 7, 8, 9]\n",
      "[]\n",
      "['kaixo']\n"
     ]
    }
   ],
   "source": [
    "z = list(range(10))\n",
    "a = z\n",
    "print(z)\n",
    "z.clear()\n",
    "# Kontuz, ez da gauza bera!!!\n",
    "#z = []\n",
    "print(z)\n",
    "z.append(\"kaixo\")\n",
    "print(z)\n",
    "print(a)"
   ]
  },
  {
   "cell_type": "markdown",
   "metadata": {
    "slideshow": {
     "slide_type": "slide"
    }
   },
   "source": [
    "### list.index\n",
    "```\n",
    "index(...) method of builtins.list instance\n",
    "    L.index(value, [start, [stop]]) -> integer -- return first index of value.\n",
    "    Raises ValueError if the value is not present.\n",
    "```"
   ]
  },
  {
   "cell_type": "code",
   "execution_count": 42,
   "metadata": {
    "slideshow": {
     "slide_type": "fragment"
    }
   },
   "outputs": [
    {
     "name": "stdout",
     "output_type": "stream",
     "text": [
      "['a', 'e', 'i', 'o', 'u']\n",
      "1\n"
     ]
    }
   ],
   "source": [
    "z = list(\"aeiou\")\n",
    "print(z)\n",
    "print(z.index(\"e\"))\n",
    "\n",
    "# ValueError: 'ei' is not in list\n",
    "#print(z.index(\"ei\"))"
   ]
  },
  {
   "cell_type": "markdown",
   "metadata": {
    "slideshow": {
     "slide_type": "slide"
    }
   },
   "source": [
    "### list.count\n",
    "```\n",
    "count(...) method of builtins.list instance\n",
    "    L.count(value) -> integer -- return number of occurrences of value\n",
    "```"
   ]
  },
  {
   "cell_type": "code",
   "execution_count": 45,
   "metadata": {
    "slideshow": {
     "slide_type": "fragment"
    }
   },
   "outputs": [
    {
     "name": "stdout",
     "output_type": "stream",
     "text": [
      "123\n",
      "0\n",
      "5 elementuaren lehenengo agerpena 5 posizioan dago\n",
      "50 elementua ez dago zerrendan\n"
     ]
    }
   ],
   "source": [
    "z = list(range(10)) * 123\n",
    "print(z.count(6))\n",
    "print(z.count(10))\n",
    "\n",
    "def f(z,x):\n",
    "    #if z.count(x) > 0 :\n",
    "    if x in z :\n",
    "        i = z.index(x)\n",
    "        print(x,'elementuaren lehenengo agerpena',i,'posizioan dago')\n",
    "    else :\n",
    "        print(x,'elementua ez dago zerrendan')\n",
    "f(list(range(10)),5)\n",
    "f(list(range(10)),50)"
   ]
  },
  {
   "cell_type": "markdown",
   "metadata": {
    "slideshow": {
     "slide_type": "slide"
    }
   },
   "source": [
    "### list.sort\n",
    "```\n",
    "sort(...) method of builtins.list instance\n",
    "    L.sort(key=None, reverse=False) -> None -- stable sort *IN PLACE*\n",
    "```"
   ]
  },
  {
   "cell_type": "code",
   "execution_count": 47,
   "metadata": {
    "slideshow": {
     "slide_type": "fragment"
    }
   },
   "outputs": [
    {
     "name": "stdout",
     "output_type": "stream",
     "text": [
      "[1, 4, 3, 2, 5, 6, 1, 4, 3, 2, 5, 6, 1, 4, 3, 2, 5, 6, 1, 4, 3, 2, 5, 6]\n",
      "[6, 6, 6, 6, 5, 5, 5, 5, 4, 4, 4, 4, 3, 3, 3, 3, 2, 2, 2, 2, 1, 1, 1, 1]\n"
     ]
    }
   ],
   "source": [
    "z = [1,4,3,2,5,6] * 4\n",
    "print(z)\n",
    "#z.sort()\n",
    "z.sort(reverse=True)\n",
    "print(z)"
   ]
  },
  {
   "cell_type": "code",
   "execution_count": 55,
   "metadata": {
    "slideshow": {
     "slide_type": "slide"
    }
   },
   "outputs": [
    {
     "name": "stdout",
     "output_type": "stream",
     "text": [
      "['Jon', 'Ane', 'Nora', 'Jokin', 'Iñigo', 'Agurtzane']\n",
      "[23, -23, -23, -35, -46, 51, -51, 52, 56, -62, 134, 134, 134, 243, -1426, 13465, 3451365]\n"
     ]
    }
   ],
   "source": [
    "def bokal_kopurua(s):\n",
    "    b = 0\n",
    "    for bokal in \"aeiouAEIOU\" :\n",
    "        b = b + s.count(bokal)\n",
    "    return b\n",
    "    \n",
    "z = [\"Jon\",\"Ane\",\"Nora\",\"Iñigo\",\"Jokin\",\"Agurtzane\"]\n",
    "#z.sort()\n",
    "#z.sort(key=len)\n",
    "z.sort(key=bokal_kopurua)\n",
    "print(z)\n",
    "\n",
    "\n",
    "z = [23,-23,-23,52,-35,243,-62,56,134,51,-46,13465,134,-51,3451365,134,-1426]\n",
    "#z.sort()\n",
    "z.sort(key=abs)\n",
    "print(z)"
   ]
  },
  {
   "cell_type": "markdown",
   "metadata": {
    "slideshow": {
     "slide_type": "slide"
    }
   },
   "source": [
    "### list.reverse\n",
    "```\n",
    "reverse(...) method of builtins.list instance\n",
    "    L.reverse() -- reverse *IN PLACE*\n",
    "```"
   ]
  },
  {
   "cell_type": "code",
   "execution_count": null,
   "metadata": {
    "slideshow": {
     "slide_type": "fragment"
    }
   },
   "outputs": [],
   "source": [
    "z = list(range(10)) + [\"kaixo\",None]\n",
    "print(z)\n",
    "z.reverse()\n",
    "print(z)"
   ]
  },
  {
   "cell_type": "markdown",
   "metadata": {
    "slideshow": {
     "slide_type": "slide"
    }
   },
   "source": [
    "### list.copy\n",
    "```\n",
    "copy(...) method of builtins.list instance\n",
    "    L.copy() -> list -- a shallow copy of L\n",
    "```\n",
    "* `list[:]`-ren baliokidea"
   ]
  },
  {
   "cell_type": "code",
   "execution_count": null,
   "metadata": {
    "slideshow": {
     "slide_type": "slide"
    }
   },
   "outputs": [],
   "source": [
    "a = list(\"hau froga bat\")\n",
    "b = a\n",
    "c = a.copy()\n",
    "d = a[:]\n",
    "a.sort()\n",
    "print(a,b,c,d,sep=\"\\n\")"
   ]
  },
  {
   "cell_type": "markdown",
   "metadata": {
    "slideshow": {
     "slide_type": "-"
    }
   },
   "source": [
    "<table border=\"0\" width=\"100%\" style=\"margin: 0px;\">\n",
    "<tr>  \n",
    "  <td style=\"text-align:left\"><a href=\"Fitxategiak.ipynb\">&lt; &lt; Fitxategiak &lt; &lt;</a></td>\n",
    "  <td style=\"text-align:right\"><a href=\"ZerrendenZerrendak.ipynb\">&gt; &gt; Matrizeak: zerrenden zerrendak &gt; &gt;</a></td>\n",
    "</tr>\n",
    "</table>"
   ]
  }
 ],
 "metadata": {
  "celltoolbar": "Slideshow",
  "kernelspec": {
   "display_name": "Python 3",
   "language": "python",
   "name": "python3"
  },
  "language_info": {
   "codemirror_mode": {
    "name": "ipython",
    "version": 3
   },
   "file_extension": ".py",
   "mimetype": "text/x-python",
   "name": "python",
   "nbconvert_exporter": "python",
   "pygments_lexer": "ipython3",
   "version": "3.7.6"
  },
  "rise": {
   "autolaunch": true,
   "footer": "<h2 align=\"center\">Konputaziorako Sarrera</h2>",
   "scroll": true
  }
 },
 "nbformat": 4,
 "nbformat_minor": 2
}
