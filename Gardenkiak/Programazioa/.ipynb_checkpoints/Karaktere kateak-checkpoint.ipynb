{
 "cells": [
  {
   "cell_type": "markdown",
   "metadata": {
    "slideshow": {
     "slide_type": "slide"
    }
   },
   "source": [
    "# `str` - Karaktere kateak\n",
    "\n",
    " * `str` motako objektuak\n",
    " * Karaktere sekuentzia **ALDAEZINA**.\n",
    " * Barne errepresentazioa: [UNICODE](https://en.wikipedia.org/wiki/Unicode)\n",
    " * Balio literalak adierazi daitezke:\n",
    "   * `'...'` komatxo sinpleen artean\n",
    "   * `\"...\"` komatxo bikoitzen artean\n",
    "   * `'''...'''` `\"\"\"...\"\"\"` hiru komatxo sinple/bikoitz artean"
   ]
  },
  {
   "cell_type": "code",
   "execution_count": 1,
   "metadata": {
    "slideshow": {
     "slide_type": "slide"
    }
   },
   "outputs": [
    {
     "name": "stdout",
     "output_type": "stream",
     "text": [
      "Hemen \"komatxo bikoitzak\" sar daitezke\n",
      "Hemen 'komatxo sinpleak' sar daitezke\n",
      "Hemen\n",
      "ilara bat baina gehiago\n",
      "sar daiteke, eta edozein\n",
      "\"motetako\" 'komatxoak' ere\n"
     ]
    }
   ],
   "source": [
    "a = 'Hemen \"komatxo bikoitzak\" sar daitezke'\n",
    "b = \"Hemen 'komatxo sinpleak' sar daitezke\"\n",
    "c = \"\"\"Hemen\n",
    "ilara bat baina gehiago\n",
    "sar daiteke, eta edozein\n",
    "\"motetako\" 'komatxoak' ere\"\"\"\n",
    "\n",
    "print(a)\n",
    "print(b)\n",
    "print(c)"
   ]
  },
  {
   "cell_type": "markdown",
   "metadata": {
    "slideshow": {
     "slide_type": "slide"
    }
   },
   "source": [
    "Karaktere kate literal bat baina gehiago hutsunez bananduak badaude, literal bakarra adierazten dute:"
   ]
  },
  {
   "cell_type": "code",
   "execution_count": 2,
   "metadata": {
    "slideshow": {
     "slide_type": "-"
    }
   },
   "outputs": [
    {
     "name": "stdout",
     "output_type": "stream",
     "text": [
      "karakterekatebatbainahutsunerikgabe\n",
      "karakterekatebatbainahutsunerikgabe\n"
     ]
    }
   ],
   "source": [
    "a = \"karaktere\" \"kate\" \"bat\" \"baina\" \"hutsunerik\" \"gabe\"\n",
    "print(a)\n",
    "a = \"karakterekatebatbainahutsunerikgabe\"\n",
    "print(a)"
   ]
  },
  {
   "cell_type": "markdown",
   "metadata": {
    "slideshow": {
     "slide_type": "slide"
    }
   },
   "source": [
    "Komatxo sinple eta bikoitzak dituen literala sortzeko aukera:"
   ]
  },
  {
   "cell_type": "code",
   "execution_count": 4,
   "metadata": {
    "slideshow": {
     "slide_type": "-"
    }
   },
   "outputs": [
    {
     "name": "stdout",
     "output_type": "stream",
     "text": [
      "Orain \"komatxo bikoitzak\" eta 'komatxo sinpleak' sar daitezke!\n"
     ]
    }
   ],
   "source": [
    "a = 'Orain \"komatxo bikoitzak\"' \" eta 'komatxo sinpleak' sar daitezke!\"\n",
    "print(a)"
   ]
  },
  {
   "cell_type": "code",
   "execution_count": 5,
   "metadata": {
    "slideshow": {
     "slide_type": "-"
    }
   },
   "outputs": [
    {
     "name": "stdout",
     "output_type": "stream",
     "text": [
      "Baina beste aukera \"hau\" 'askozaz' argiagoa da...\n"
     ]
    }
   ],
   "source": [
    "a = \"\"\"Baina beste aukera \"hau\" 'askozaz' argiagoa da...\"\"\"\n",
    "print(a)"
   ]
  },
  {
   "cell_type": "markdown",
   "metadata": {
    "slideshow": {
     "slide_type": "slide"
    }
   },
   "source": [
    "## Karaktere kateen ezaugarriak"
   ]
  },
  {
   "cell_type": "markdown",
   "metadata": {
    "slideshow": {
     "slide_type": "fragment"
    }
   },
   "source": [
    "   * Aldaezinak"
   ]
  },
  {
   "cell_type": "markdown",
   "metadata": {
    "slideshow": {
     "slide_type": "fragment"
    }
   },
   "source": [
    "   * Indexagarriak &rarr; `[]` eragilea\n",
    "       * ```python\n",
    "       \"karaktere katea\"[5]\n",
    "       ```"
   ]
  },
  {
   "cell_type": "markdown",
   "metadata": {
    "slideshow": {
     "slide_type": "fragment"
    }
   },
   "source": [
    "   * Iteragarriak &rarr; `for` kontrol egitura\n",
    "       * ```python\n",
    "       for i in \"karaktere katea\" :\n",
    "       ```"
   ]
  },
  {
   "cell_type": "markdown",
   "metadata": {
    "slideshow": {
     "slide_type": "slide"
    }
   },
   "source": [
    "## Indexagarritasuna\n",
    "* *Normalean*, objektu indexagarrien luzera kontsulta daiteke:"
   ]
  },
  {
   "cell_type": "code",
   "execution_count": 7,
   "metadata": {
    "slideshow": {
     "slide_type": "-"
    }
   },
   "outputs": [
    {
     "data": {
      "text/plain": [
       "15"
      ]
     },
     "execution_count": 7,
     "metadata": {},
     "output_type": "execute_result"
    }
   ],
   "source": [
    "a = \"karaktere katea\"\n",
    "luz = len(a)\n",
    "luz"
   ]
  },
  {
   "cell_type": "markdown",
   "metadata": {
    "slideshow": {
     "slide_type": "-"
    }
   },
   "source": [
    "* *Normalean*, indizeak zenbaki osoak izango dira.\n",
    "* `0`-tik aurrera indexatzen da:\n",
    "  * `a[0]`, `a[1]`, ..., `a[luz-1]`\n",
    "* Indize negatiboek atzeranzko indexazioa adierazten dute:\n",
    "  * `a[-i]` &rarr; `a[luz-i]`\n",
    "  * `a[-1],   a[-2], ...,   a[-luz]`\n",
    "  * `a[luz-1],a[luz-2], ...,a[0]`"
   ]
  },
  {
   "cell_type": "code",
   "execution_count": 8,
   "metadata": {
    "slideshow": {
     "slide_type": "slide"
    }
   },
   "outputs": [
    {
     "name": "stdout",
     "output_type": "stream",
     "text": [
      "katea: kaixo, zer moduz?\n",
      "luzera: 17\n",
      "a[0]: k\n",
      "a[-luz]: k\n",
      "a[luz-1]: ?\n",
      "a[-1]: ?\n",
      "<class 'str'> 1\n"
     ]
    }
   ],
   "source": [
    "a = \"kaixo, zer moduz?\"\n",
    "luz = len(a)\n",
    "print(\"katea:\", a)\n",
    "print(\"luzera:\", luz)\n",
    "print(\"a[0]:\", a[0])\n",
    "print(\"a[-luz]:\", a[-luz])\n",
    "print(\"a[luz-1]:\", a[luz-1])\n",
    "print(\"a[-1]:\", a[-1])\n",
    "print(type(a[0]),len(a[0]))"
   ]
  },
  {
   "cell_type": "code",
   "execution_count": 9,
   "metadata": {
    "slideshow": {
     "slide_type": "slide"
    }
   },
   "outputs": [
    {
     "name": "stdout",
     "output_type": "stream",
     "text": [
      "<class 'str'> k\n",
      "<class 'str'> a\n",
      "<class 'str'> i\n",
      "<class 'str'> x\n",
      "<class 'str'> o\n",
      "<class 'str'> ,\n",
      "<class 'str'>  \n",
      "<class 'str'> z\n",
      "<class 'str'> e\n",
      "<class 'str'> r\n",
      "<class 'str'>  \n",
      "<class 'str'> m\n",
      "<class 'str'> o\n",
      "<class 'str'> d\n",
      "<class 'str'> u\n",
      "<class 'str'> z\n",
      "<class 'str'> ?\n"
     ]
    }
   ],
   "source": [
    "a = \"kaixo, zer moduz?\"\n",
    "for i in range(len(a)) :\n",
    "    print(type(a[i]),a[i])"
   ]
  },
  {
   "cell_type": "markdown",
   "metadata": {
    "slideshow": {
     "slide_type": "slide"
    }
   },
   "source": [
    "`[-luz,luz-1]` tarte kanpoko indizeek erroreak sortuko dituzte:"
   ]
  },
  {
   "cell_type": "code",
   "execution_count": 10,
   "metadata": {
    "slideshow": {
     "slide_type": "-"
    }
   },
   "outputs": [
    {
     "ename": "IndexError",
     "evalue": "string index out of range",
     "output_type": "error",
     "traceback": [
      "\u001b[0;31m\u001b[0m",
      "\u001b[0;31mIndexError\u001b[0mTraceback (most recent call last)",
      "\u001b[0;32m<ipython-input-10-20ad1e47f19c>\u001b[0m in \u001b[0;36m<module>\u001b[0;34m\u001b[0m\n\u001b[1;32m      1\u001b[0m \u001b[0ma\u001b[0m \u001b[0;34m=\u001b[0m \u001b[0;34m\"kaixo, zer moduz?\"\u001b[0m\u001b[0;34m\u001b[0m\u001b[0;34m\u001b[0m\u001b[0m\n\u001b[0;32m----> 2\u001b[0;31m \u001b[0mprint\u001b[0m\u001b[0;34m(\u001b[0m\u001b[0ma\u001b[0m\u001b[0;34m[\u001b[0m\u001b[0;36m100\u001b[0m\u001b[0;34m]\u001b[0m\u001b[0;34m)\u001b[0m\u001b[0;34m\u001b[0m\u001b[0;34m\u001b[0m\u001b[0m\n\u001b[0m",
      "\u001b[0;31mIndexError\u001b[0m: string index out of range"
     ]
    }
   ],
   "source": [
    "a = \"kaixo, zer moduz?\"\n",
    "print(a[100])"
   ]
  },
  {
   "cell_type": "code",
   "execution_count": 11,
   "metadata": {
    "slideshow": {
     "slide_type": "-"
    }
   },
   "outputs": [
    {
     "ename": "IndexError",
     "evalue": "string index out of range",
     "output_type": "error",
     "traceback": [
      "\u001b[0;31m\u001b[0m",
      "\u001b[0;31mIndexError\u001b[0mTraceback (most recent call last)",
      "\u001b[0;32m<ipython-input-11-f405b0b587b8>\u001b[0m in \u001b[0;36m<module>\u001b[0;34m\u001b[0m\n\u001b[0;32m----> 1\u001b[0;31m \u001b[0mprint\u001b[0m\u001b[0;34m(\u001b[0m\u001b[0ma\u001b[0m\u001b[0;34m[\u001b[0m\u001b[0;34m-\u001b[0m\u001b[0;36m100\u001b[0m\u001b[0;34m]\u001b[0m\u001b[0;34m)\u001b[0m\u001b[0;34m\u001b[0m\u001b[0;34m\u001b[0m\u001b[0m\n\u001b[0m",
      "\u001b[0;31mIndexError\u001b[0m: string index out of range"
     ]
    }
   ],
   "source": [
    "print(a[-100])"
   ]
  },
  {
   "cell_type": "markdown",
   "metadata": {
    "slideshow": {
     "slide_type": "slide"
    }
   },
   "source": [
    "Gogoratu: Karaktere Kateak **aldaezinak** dira, eta beraz,\n",
    "* **EZIN DIRA ALDATU**: "
   ]
  },
  {
   "cell_type": "code",
   "execution_count": 12,
   "metadata": {
    "slideshow": {
     "slide_type": "-"
    }
   },
   "outputs": [
    {
     "name": "stdout",
     "output_type": "stream",
     "text": [
      "K\n"
     ]
    },
    {
     "ename": "TypeError",
     "evalue": "'str' object does not support item assignment",
     "output_type": "error",
     "traceback": [
      "\u001b[0;31m\u001b[0m",
      "\u001b[0;31mTypeError\u001b[0mTraceback (most recent call last)",
      "\u001b[0;32m<ipython-input-12-d8357ffb8267>\u001b[0m in \u001b[0;36m<module>\u001b[0;34m\u001b[0m\n\u001b[1;32m      2\u001b[0m \u001b[0mb\u001b[0m \u001b[0;34m=\u001b[0m \u001b[0ma\u001b[0m\u001b[0;34m[\u001b[0m\u001b[0;36m0\u001b[0m\u001b[0;34m]\u001b[0m\u001b[0;34m\u001b[0m\u001b[0;34m\u001b[0m\u001b[0m\n\u001b[1;32m      3\u001b[0m \u001b[0mprint\u001b[0m\u001b[0;34m(\u001b[0m\u001b[0mb\u001b[0m\u001b[0;34m)\u001b[0m\u001b[0;34m\u001b[0m\u001b[0;34m\u001b[0m\u001b[0m\n\u001b[0;32m----> 4\u001b[0;31m \u001b[0ma\u001b[0m\u001b[0;34m[\u001b[0m\u001b[0;36m0\u001b[0m\u001b[0;34m]\u001b[0m \u001b[0;34m=\u001b[0m \u001b[0;34m\"X\"\u001b[0m\u001b[0;34m\u001b[0m\u001b[0;34m\u001b[0m\u001b[0m\n\u001b[0m",
      "\u001b[0;31mTypeError\u001b[0m: 'str' object does not support item assignment"
     ]
    }
   ],
   "source": [
    "a = \"Kaixo\"\n",
    "b = a[0]\n",
    "print(b)\n",
    "a[0] = \"X\""
   ]
  },
  {
   "cell_type": "markdown",
   "metadata": {
    "slideshow": {
     "slide_type": "slide"
    }
   },
   "source": [
    "## *Slice* notazioa\n",
    "Objetu indexagarrietan elementu bat baina gehiago adierazteko aukera\n",
    "* `a[i:j]` : `a`-ko azpi-sekuentzia, `i` indizetik (barne) `j`-ra (kanpo).\n",
    "  * `i` edo `j` negatiboak &rarr; `len(a)-i` , `len(a)-j`\n",
    "  * `i` edo `j` > `len(a)` &rarr; `len(a)`\n",
    "  * `i` ez adierazia edo `None` &rarr; `0`\n",
    "  * `j` ez adierazia edo `None` &rarr; `len(a)`\n",
    "* `a[i:j:k]` : `a`-ko azpi-sekuentzia, `i`-tik (barne) `j`-ra (kanpo), `k` hurratsarekin.\n",
    "* `a[i:j]` eta `a[i:j:k]`-k objektu berriak sortzen dituzte... **ia beti**."
   ]
  },
  {
   "cell_type": "code",
   "execution_count": 23,
   "metadata": {
    "slideshow": {
     "slide_type": "slide"
    }
   },
   "outputs": [
    {
     "data": {
      "text/plain": [
       "'kon!'"
      ]
     },
     "execution_count": 23,
     "metadata": {},
     "output_type": "execute_result"
    }
   ],
   "source": [
    "a = \"kaixo denoi!!!\"\n",
    "a[::4]"
   ]
  },
  {
   "cell_type": "code",
   "execution_count": 24,
   "metadata": {
    "slideshow": {
     "slide_type": "slide"
    }
   },
   "outputs": [
    {
     "name": "stdout",
     "output_type": "stream",
     "text": [
      "abcde\n",
      "fghijklmnñopqrstuvwxyz\n",
      "abcde\n",
      "fghijklmnñopqrstuvwxyz\n",
      "abcdefghijklmnñopqrstuvwxyz\n",
      "True True\n"
     ]
    }
   ],
   "source": [
    "a = \"abcdefghijklmnñopqrstuvwxyz\"\n",
    "print(a[0:5])\n",
    "print(a[5:len(a)])\n",
    "print(a[:5])\n",
    "print(a[5:])\n",
    "print(a[:])\n",
    "print(a==a[:],a is a[:])\n"
   ]
  },
  {
   "cell_type": "code",
   "execution_count": 27,
   "metadata": {
    "slideshow": {
     "slide_type": "slide"
    }
   },
   "outputs": [
    {
     "name": "stdout",
     "output_type": "stream",
     "text": [
      "acegikmñprtvxz\n",
      "acegikmñprtvxz\n",
      "froga1: \n",
      "froga2: \n",
      "zyxwvutsrqpoñnmlkjihgfedcba\n"
     ]
    }
   ],
   "source": [
    "a = \"abcdefghijklmnñopqrstuvwxyz\"\n",
    "print(a[0:len(a):2])\n",
    "print(a[::2])\n",
    "print('froga1:',a[0:len(a):-1])\n",
    "print('froga2:',a[len(a)::-1])\n",
    "print(a[::-1])"
   ]
  },
  {
   "cell_type": "markdown",
   "metadata": {
    "slideshow": {
     "slide_type": "slide"
    }
   },
   "source": [
    "## Iteragarritasuna\n",
    "* Objektu iteragarriak `for` kontrol egitura batekin zeharkatu daitezke.\n",
    "* Karaktere kate bat zeharkatzean, bere karaktereak lortzen ditugu:"
   ]
  },
  {
   "cell_type": "code",
   "execution_count": 28,
   "metadata": {
    "slideshow": {
     "slide_type": "-"
    }
   },
   "outputs": [
    {
     "name": "stdout",
     "output_type": "stream",
     "text": [
      "K|a|r|a|k|t|e|r|e| |k|a|t|e| |b|a|t| |z|e|h|a|r|k|a|t|z|e|n|.|.|.|"
     ]
    }
   ],
   "source": [
    "a = \"Karaktere kate bat zeharkatzen...\"\n",
    "for kar in a :\n",
    "    print(kar,end=\"|\")"
   ]
  },
  {
   "cell_type": "markdown",
   "metadata": {
    "slideshow": {
     "slide_type": "slide"
    }
   },
   "source": [
    "* Karaktereak, karaktere kate moduan lortzen ditugu:"
   ]
  },
  {
   "cell_type": "code",
   "execution_count": 29,
   "metadata": {
    "slideshow": {
     "slide_type": "-"
    }
   },
   "outputs": [
    {
     "name": "stdout",
     "output_type": "stream",
     "text": [
      "Balioa: a Datu mota: <class 'str'>\n",
      "Balioa: e Datu mota: <class 'str'>\n",
      "Balioa: i Datu mota: <class 'str'>\n",
      "Balioa: o Datu mota: <class 'str'>\n",
      "Balioa: u Datu mota: <class 'str'>\n",
      "Balioa: i Datu mota: <class 'str'>\n"
     ]
    }
   ],
   "source": [
    "for x in \"aeiou\" :\n",
    "    print(\"Balioa:\",x,\"Datu mota:\",type(x))\n",
    "a = \"aeiou\"\n",
    "print(\"Balioa:\",a[2],\"Datu mota:\",type(a[2]))"
   ]
  },
  {
   "cell_type": "markdown",
   "metadata": {
    "slideshow": {
     "slide_type": "slide"
    }
   },
   "source": [
    "## Karaktere kateen eragileak\n",
    "* `a==b`, `a!=b`, `a>b`, `a>=b`, `a<b`, `a<=b` &rarr; `bool` : konparaketa *\"alfabetikoa\"* (UNIKODE-n oinarritua, **kontuz...**)\n",
    "* `a + b` &rarr; `str` : konkatenazioa\n",
    "* `a * 4` , `4 * a` &rarr; `str` : auto-errepikapena\n",
    "* `a in b`, `a not in b` &rarr; `bool` : `a` `b`-ren barnean ote dagoen\n",
    "* `a is b` &rarr; `bool` : `a` objektua `b` ote den"
   ]
  },
  {
   "cell_type": "code",
   "execution_count": 30,
   "metadata": {
    "slideshow": {
     "slide_type": "slide"
    }
   },
   "outputs": [
    {
     "name": "stdout",
     "output_type": "stream",
     "text": [
      "True True True True True True\n",
      "True True\n",
      "Kontuz konparaketa alfabetikoekin: True False\n"
     ]
    }
   ],
   "source": [
    "a = \"Azaroa\"\n",
    "b = \"Abendua\"\n",
    "c = \"azaroa\"\n",
    "print(b < a, a != c, a < c, \"A\" < \"a\", \"ñ\" > \"p\", \"é\" > \"z\")\n",
    "print(\"mendi\" in \"Errotamendi\", \"Mendi\" not in \"Errotamendi\")\n",
    "print(\"Kontuz konparaketa alfabetikoekin:\", \"n\" < \"o\", \"ñ\" < \"o\")"
   ]
  },
  {
   "cell_type": "markdown",
   "metadata": {
    "slideshow": {
     "slide_type": "slide"
    }
   },
   "source": [
    "## Karaktere kateen metodoak (funtzioak)\n",
    "\n",
    "* Objektu mota bakoitzak berezko metodo sorta bat eduki dezake.\n",
    "* Metodo hauek izendatzeko: `objektua.metodo_izena`\n",
    "* Karaktere kateek, [45 bat metodo](https://docs.python.org/3.5/library/stdtypes.html#string-methods) dituzte..."
   ]
  },
  {
   "cell_type": "code",
   "execution_count": null,
   "metadata": {},
   "outputs": [],
   "source": [
    "a = \"egunon, kaixo  kaixo!! \"\n",
    "print(a.upper(), \"|\", a.capitalize(), \"|\", a.title())\n",
    "print(\"xo\", a.find(\"xo\"), \"posizioan dago eta\",a.count(\"xo\"),\"aldiz agertzen da\")\n",
    "print(\"|\" + a.strip() + \"|\")\n",
    "print(a.split())\n",
    "print(a.replace(\" \",\"_\"))\n",
    "print(\"_\".join(a.split()))"
   ]
  },
  {
   "cell_type": "code",
   "execution_count": 59,
   "metadata": {
    "slideshow": {
     "slide_type": "slide"
    }
   },
   "outputs": [
    {
     "data": {
      "text/plain": [
       "True"
      ]
     },
     "execution_count": 59,
     "metadata": {},
     "output_type": "execute_result"
    }
   ],
   "source": [
    "a = \"kaixo aixo aixo\"\n",
    "a.count(\"aisdh\")\n",
    "a.endswith(\"txt\")\n",
    "a.find('aixo')\n",
    "a.find('sdfyhsfghs')\n",
    "a.index('aixo')\n",
    "#a.index('sdfyhsfghs')\n",
    "\" \".join(['bat','bi','hiru'])\n",
    "a = \"   Kaixo kaixo Zelan ÑÜÁÉÍÓÚ?   \"\n",
    "a.lower()\n",
    "a.rstrip()\n",
    "a.lstrip()\n",
    "a.strip()\n",
    "a.replace(\"ai\",\"____\")\n",
    "a.replace(\"ai\",\"____\",1)\n",
    "a.split()\n",
    "#a.split(\"ai\")\n",
    "a.upper()\n",
    "a.startswith(\"   Kaixo\")"
   ]
  },
  {
   "cell_type": "markdown",
   "metadata": {
    "slideshow": {
     "slide_type": "-"
    }
   },
   "source": [
    "<table border=\"0\" width=\"100%\" style=\"margin: 0px;\">\n",
    "<tr>  \n",
    "  <td style=\"text-align:left\"><a href=\"Argumentuak eta defektuzko balioak.ipynb\">&lt; &lt; Argumentuak eta defektuzko balioak &lt; &lt;</a></td>\n",
    "  <td style=\"text-align:right\"><a href=\"Fitxategiak.ipynb\">&gt; &gt; Fitxategiak &gt; &gt;</a></td>\n",
    "</tr>\n",
    "</table>"
   ]
  }
 ],
 "metadata": {
  "celltoolbar": "Slideshow",
  "kernelspec": {
   "display_name": "Python 3",
   "language": "python",
   "name": "python3"
  },
  "language_info": {
   "codemirror_mode": {
    "name": "ipython",
    "version": 3
   },
   "file_extension": ".py",
   "mimetype": "text/x-python",
   "name": "python",
   "nbconvert_exporter": "python",
   "pygments_lexer": "ipython3",
   "version": "3.7.6"
  },
  "rise": {
   "autolaunch": true,
   "footer": "<h2 align=\"center\">Konputaziorako Sarrera</h2>",
   "scroll": true
  }
 },
 "nbformat": 4,
 "nbformat_minor": 2
}
