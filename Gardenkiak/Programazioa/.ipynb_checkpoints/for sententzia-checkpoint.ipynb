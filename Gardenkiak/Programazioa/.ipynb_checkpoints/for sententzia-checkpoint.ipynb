{
 "cells": [
  {
   "cell_type": "markdown",
   "metadata": {
    "slideshow": {
     "slide_type": "slide"
    }
   },
   "source": [
    "## `for` sententzia \n",
    "\n",
    "Programazio lengoai gehienetan oinarrizko `for` kontrol egitura errepikakor bat egon ohi da. Python-en kasuan, `for` sententzia ez da horren *oinarrizkoa*:\n",
    "\n",
    "``` python\n",
    "for aldagaia in iteragarria :\n",
    "    kode-blokea1\n",
    "else :\n",
    "    kode-blokea2\n",
    "```\n",
    "\n",
    "<div class=\"alert alert-info\">\n",
    "    Objektu iteragarri batek objektu sekuentzia bat adierazten du.\n",
    "</div>"
   ]
  },
  {
   "cell_type": "markdown",
   "metadata": {
    "slideshow": {
     "slide_type": "slide"
    }
   },
   "source": [
    " ``` python\n",
    "for aldagaia in iteragarria :\n",
    "    kode-blokea1\n",
    "else :\n",
    "    kode-blokea2\n",
    "```\n",
    "\n",
    "Kontrol egituraren konportamoldea:\n",
    "\n",
    " 1. Aldagaiari iteragarriaren objektuak banan-banan esleituko zaizkio, eta esleipen bakoitzaren ondoren lehenengo kode blokea exekutatuko da.\n",
    " 1. Objektu iteragarria *agortzen* denean, Bigarren kode blokea exetutatuko da, kontrol egitura amaituz"
   ]
  },
  {
   "cell_type": "markdown",
   "metadata": {
    "slideshow": {
     "slide_type": "slide"
    }
   },
   "source": [
    "Orain arte ikusitako objektuetatik, `str` motakoak iteragarriak dira. Karaktere kate bat *zeharkatzean* (iteratzean), bere karaktereak lortuko ditugu:"
   ]
  },
  {
   "cell_type": "code",
   "execution_count": null,
   "metadata": {
    "slideshow": {
     "slide_type": "fragment"
    }
   },
   "outputs": [],
   "source": [
    "for k in \"kaixo denoi!\":\n",
    "    print(\"-->\",k,\"<--\",type(k))"
   ]
  },
  {
   "cell_type": "code",
   "execution_count": null,
   "metadata": {},
   "outputs": [],
   "source": [
    "## 1728 * idatzi(\"kaixo\")\n",
    "for aldagaia in \" \"*1728:\n",
    "    print(\"kaixo\")"
   ]
  },
  {
   "cell_type": "markdown",
   "metadata": {
    "slideshow": {
     "slide_type": "slide"
    }
   },
   "source": [
    "## `range()` funtzioa\n",
    "\n",
    "Zenbaki oso zekuentziak sortzen dituen funtzioa da. Funtzioak iteragarria izango den objektu bat bueltatzen du. Objektua zeharkatzean, sekuentziako balioak lortzen ditugu:"
   ]
  },
  {
   "cell_type": "code",
   "execution_count": null,
   "metadata": {
    "slideshow": {
     "slide_type": "-"
    }
   },
   "outputs": [],
   "source": [
    "print(type(range(10)))\n",
    "print(range(10))\n",
    "print(list(range(10)))\n",
    "for i in range(5) : # 0-tik habiatuz, lehenengo 5 zenbaki osoak \n",
    "    print(i,type(i))"
   ]
  },
  {
   "cell_type": "markdown",
   "metadata": {
    "slideshow": {
     "slide_type": "slide"
    }
   },
   "source": [
    "`range()` funtzioan argumentu gehiago erabil ditzakegu:"
   ]
  },
  {
   "cell_type": "code",
   "execution_count": null,
   "metadata": {
    "slideshow": {
     "slide_type": "-"
    }
   },
   "outputs": [],
   "source": [
    "help(range)"
   ]
  },
  {
   "cell_type": "markdown",
   "metadata": {
    "slideshow": {
     "slide_type": "slide"
    }
   },
   "source": [
    "`range()` funtzioarekin 1, 2 edo 3 argumentu erabil daitezke:\n",
    " * `range(g)` &rarr; $\\{0,1,2,...,g-1\\}$\n",
    " * `range(a,g)` &rarr; $\\{a,a+1,a+2,...,g-1\\}$\n",
    " * `range(a,g,h)` &rarr; $\\{a,a+h,a+2h,\\dots,k\\} , k \\lt g \\le k+h$\n",
    "  * `a`: *abiapuntua* (defektuz, 0)\n",
    "  * `g`: *geldiunea*\n",
    "  * `h`: *hurratsa* (defektuz, 1)\n",
    " \n",
    "<div class=\"alert alert-info\">\n",
    "    <code>stop</code>, <code>start</code> eta <code>step</code> argumentuek zenbaki osoak behar dute izan.\n",
    "</div> "
   ]
  },
  {
   "cell_type": "markdown",
   "metadata": {
    "slideshow": {
     "slide_type": "slide"
    }
   },
   "source": [
    "`range()` funtzioa oso erabilgarria da `for` kontrol egiturarekin sententzia multzo bat nahi adina aldiz errepikatzeko:"
   ]
  },
  {
   "cell_type": "code",
   "execution_count": null,
   "metadata": {
    "slideshow": {
     "slide_type": "fragment"
    }
   },
   "outputs": [],
   "source": [
    "n = int(input(\"zenbat aldiz:\"))\n",
    "for i in range(n):\n",
    "    print(\"Ez dut berriro behar baina gehiago idatziko\")"
   ]
  },
  {
   "cell_type": "markdown",
   "metadata": {
    "slideshow": {
     "slide_type": "slide"
    }
   },
   "source": [
    "`for` eta `range()` erabiliz, oso erraza litzateke\n",
    "\n",
    "$\\sum_{i=1}^{100}{i} = 1 + 2 + 3 + \\dots + 100$\n",
    "\n",
    "batukariaren emaitza kalkulatzea:"
   ]
  },
  {
   "cell_type": "code",
   "execution_count": null,
   "metadata": {
    "slideshow": {
     "slide_type": "fragment"
    }
   },
   "outputs": [],
   "source": [
    "b = 0\n",
    "for i in range(1,101):\n",
    "    b += i\n",
    "print(\"Batukariaren emaitza:\",b)"
   ]
  },
  {
   "cell_type": "markdown",
   "metadata": {
    "slideshow": {
     "slide_type": "slide"
    }
   },
   "source": [
    "`range()` funtzioak bueltatzen duen objektuak zekuentzia bat *errepresentatzen* du. Sekuentziako balioak zeharkatu ahala sortzen dira, ez aurrez."
   ]
  },
  {
   "cell_type": "code",
   "execution_count": null,
   "metadata": {
    "slideshow": {
     "slide_type": "-"
    }
   },
   "outputs": [],
   "source": [
    "r = range(10000000000000000000000000000000000000000000000000000)\n",
    "print(r)\n",
    "a = 0"
   ]
  },
  {
   "cell_type": "markdown",
   "metadata": {
    "slideshow": {
     "slide_type": "-"
    }
   },
   "source": [
    "<div class=\"alert alert-info\">\n",
    "    Aurreko sekuentzia honetan sortuko liratekeen zenbaki oso guztiak gordetzeko, munduko disko zurrun guztiak gutxi lirateke!\n",
    "</div> "
   ]
  },
  {
   "cell_type": "markdown",
   "metadata": {
    "slideshow": {
     "slide_type": "-"
    }
   },
   "source": [
    "<table border=\"0\" width=\"100%\" style=\"margin: 0px;\">\n",
    "<tr>  \n",
    "  <td style=\"text-align:left\"><a href=\"while sententzia.ipynb\">&lt; &lt; while sententzia &lt; &lt;</a></td>\n",
    "  <td style=\"text-align:right\"><a href=\"break eta continue sententziak.ipynb\">&gt; &gt; break eta continue sententziak &gt; &gt;</a></td>\n",
    "</tr>\n",
    "</table>"
   ]
  }
 ],
 "metadata": {
  "celltoolbar": "Slideshow",
  "kernelspec": {
   "display_name": "Python 3",
   "language": "python",
   "name": "python3"
  },
  "language_info": {
   "codemirror_mode": {
    "name": "ipython",
    "version": 3
   },
   "file_extension": ".py",
   "mimetype": "text/x-python",
   "name": "python",
   "nbconvert_exporter": "python",
   "pygments_lexer": "ipython3",
   "version": "3.7.6"
  },
  "rise": {
   "autolaunch": true,
   "footer": "<h2 align=\"center\">Konputaziorako Sarrera</h2>",
   "scroll": true
  }
 },
 "nbformat": 4,
 "nbformat_minor": 2
}
