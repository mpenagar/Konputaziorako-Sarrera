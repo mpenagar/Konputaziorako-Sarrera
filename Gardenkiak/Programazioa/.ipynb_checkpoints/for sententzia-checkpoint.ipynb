{
 "cells": [
  {
   "cell_type": "markdown",
   "metadata": {
    "slideshow": {
     "slide_type": "slide"
    }
   },
   "source": [
    "## `for` sententzia \n",
    "\n",
    "Programazio lengoai gehienetan oinarrizko `for` kontrol egitura errepikakor bat egon ohi da. Python-en kasuan, `for` sententzia ez da horren *oinarrizkoa*:\n",
    "\n",
    "``` python\n",
    "for aldagaia in iteragarria :\n",
    "    kode-blokea1\n",
    "else :\n",
    "    kode-blokea2\n",
    "```\n",
    "\n",
    "<div class=\"alert alert-info\">\n",
    "    Objektu iteragarri batek objektu sekuentzia bat adierazten du.\n",
    "</div>"
   ]
  },
  {
   "cell_type": "markdown",
   "metadata": {
    "slideshow": {
     "slide_type": "slide"
    }
   },
   "source": [
    " ``` python\n",
    "for aldagaia in iteragarria :\n",
    "    kode-blokea1\n",
    "else :\n",
    "    kode-blokea2\n",
    "```\n",
    "\n",
    "Kontrol egituraren konportamoldea:\n",
    "\n",
    " 1. Aldagaiari iteragarriaren objektuak banan-banan esleituko zaizkio, eta esleipen bakoitzaren ondoren lehenengo kode blokea exekutatuko da.\n",
    " 1. Objektu iteragarria *agortzen* denean, Bigarren kode blokea exetutatuko da, kontrol egitura amaituz"
   ]
  },
  {
   "cell_type": "markdown",
   "metadata": {
    "slideshow": {
     "slide_type": "slide"
    }
   },
   "source": [
    "Orain arte ikusitako objektuetatik, `str` motakoak iteragarriak dira. Karaktere kate bat *zeharkatzean* (iteratzean), bere karaktereak lortuko ditugu:"
   ]
  },
  {
   "cell_type": "code",
   "execution_count": 12,
   "metadata": {
    "slideshow": {
     "slide_type": "fragment"
    }
   },
   "outputs": [
    {
     "name": "stdout",
     "output_type": "stream",
     "text": [
      "--> k <-- <class 'str'>\n",
      "--> a <-- <class 'str'>\n",
      "--> i <-- <class 'str'>\n",
      "--> x <-- <class 'str'>\n",
      "--> o <-- <class 'str'>\n",
      "-->   <-- <class 'str'>\n",
      "--> d <-- <class 'str'>\n",
      "--> e <-- <class 'str'>\n",
      "--> n <-- <class 'str'>\n",
      "--> o <-- <class 'str'>\n",
      "--> i <-- <class 'str'>\n",
      "--> ! <-- <class 'str'>\n"
     ]
    }
   ],
   "source": [
    "for k in \"kaixo denoi!\":\n",
    "    print(\"-->\",k,\"<--\",type(k))"
   ]
  },
  {
   "cell_type": "code",
   "execution_count": 11,
   "metadata": {},
   "outputs": [
    {
     "name": "stdout",
     "output_type": "stream",
     "text": [
      "kaixo\n",
      "kaixo\n",
      "kaixo\n",
      "kaixo\n",
      "kaixo\n",
      "kaixo\n",
      "kaixo\n",
      "kaixo\n"
     ]
    }
   ],
   "source": [
    "## 1728 * idatzi(\"kaixo\")\n",
    "for aldagaia in \" \"*1728:\n",
    "    print(\"kaixo\")"
   ]
  },
  {
   "cell_type": "markdown",
   "metadata": {
    "slideshow": {
     "slide_type": "slide"
    }
   },
   "source": [
    "## `range()` funtzioa\n",
    "\n",
    "Zenbaki oso zekuentziak sortzen dituen funtzioa da. Funtzioak iteragarria izango den objektu bat bueltatzen du. Objektua zeharkatzean, sekuentziako balioak lortzen ditugu:"
   ]
  },
  {
   "cell_type": "code",
   "execution_count": 18,
   "metadata": {
    "slideshow": {
     "slide_type": "-"
    }
   },
   "outputs": [
    {
     "name": "stdout",
     "output_type": "stream",
     "text": [
      "<class 'range'>\n",
      "range(0, 10)\n",
      "[0, 1, 2, 3, 4, 5, 6, 7, 8, 9]\n",
      "0 <class 'int'>\n",
      "1 <class 'int'>\n",
      "2 <class 'int'>\n",
      "3 <class 'int'>\n",
      "4 <class 'int'>\n"
     ]
    }
   ],
   "source": [
    "print(type(range(10)))\n",
    "print(range(10))\n",
    "for i in range(5) : # 0-tik habiatuz, lehenengo 5 zenbaki osoak \n",
    "    print(i,type(i))"
   ]
  },
  {
   "cell_type": "markdown",
   "metadata": {
    "slideshow": {
     "slide_type": "slide"
    }
   },
   "source": [
    "`range()` funtzioan argumentu gehiago erabil ditzakegu:"
   ]
  },
  {
   "cell_type": "code",
   "execution_count": 3,
   "metadata": {
    "slideshow": {
     "slide_type": "-"
    }
   },
   "outputs": [
    {
     "name": "stdout",
     "output_type": "stream",
     "text": [
      "Help on class range in module builtins:\n",
      "\n",
      "class range(object)\n",
      " |  range(stop) -> range object\n",
      " |  range(start, stop[, step]) -> range object\n",
      " |  \n",
      " |  Return an object that produces a sequence of integers from start (inclusive)\n",
      " |  to stop (exclusive) by step.  range(i, j) produces i, i+1, i+2, ..., j-1.\n",
      " |  start defaults to 0, and stop is omitted!  range(4) produces 0, 1, 2, 3.\n",
      " |  These are exactly the valid indices for a list of 4 elements.\n",
      " |  When step is given, it specifies the increment (or decrement).\n",
      " |  \n",
      " |  Methods defined here:\n",
      " |  \n",
      " |  __bool__(self, /)\n",
      " |      self != 0\n",
      " |  \n",
      " |  __contains__(self, key, /)\n",
      " |      Return key in self.\n",
      " |  \n",
      " |  __eq__(self, value, /)\n",
      " |      Return self==value.\n",
      " |  \n",
      " |  __ge__(self, value, /)\n",
      " |      Return self>=value.\n",
      " |  \n",
      " |  __getattribute__(self, name, /)\n",
      " |      Return getattr(self, name).\n",
      " |  \n",
      " |  __getitem__(self, key, /)\n",
      " |      Return self[key].\n",
      " |  \n",
      " |  __gt__(self, value, /)\n",
      " |      Return self>value.\n",
      " |  \n",
      " |  __hash__(self, /)\n",
      " |      Return hash(self).\n",
      " |  \n",
      " |  __iter__(self, /)\n",
      " |      Implement iter(self).\n",
      " |  \n",
      " |  __le__(self, value, /)\n",
      " |      Return self<=value.\n",
      " |  \n",
      " |  __len__(self, /)\n",
      " |      Return len(self).\n",
      " |  \n",
      " |  __lt__(self, value, /)\n",
      " |      Return self<value.\n",
      " |  \n",
      " |  __ne__(self, value, /)\n",
      " |      Return self!=value.\n",
      " |  \n",
      " |  __reduce__(...)\n",
      " |      Helper for pickle.\n",
      " |  \n",
      " |  __repr__(self, /)\n",
      " |      Return repr(self).\n",
      " |  \n",
      " |  __reversed__(...)\n",
      " |      Return a reverse iterator.\n",
      " |  \n",
      " |  count(...)\n",
      " |      rangeobject.count(value) -> integer -- return number of occurrences of value\n",
      " |  \n",
      " |  index(...)\n",
      " |      rangeobject.index(value) -> integer -- return index of value.\n",
      " |      Raise ValueError if the value is not present.\n",
      " |  \n",
      " |  ----------------------------------------------------------------------\n",
      " |  Static methods defined here:\n",
      " |  \n",
      " |  __new__(*args, **kwargs) from builtins.type\n",
      " |      Create and return a new object.  See help(type) for accurate signature.\n",
      " |  \n",
      " |  ----------------------------------------------------------------------\n",
      " |  Data descriptors defined here:\n",
      " |  \n",
      " |  start\n",
      " |  \n",
      " |  step\n",
      " |  \n",
      " |  stop\n",
      "\n"
     ]
    }
   ],
   "source": [
    "help(range)"
   ]
  },
  {
   "cell_type": "markdown",
   "metadata": {
    "slideshow": {
     "slide_type": "slide"
    }
   },
   "source": [
    "`range()` funtzioarekin 1, 2 edo 3 argumentu erabil daitezke:\n",
    " * `range(g)` &rarr; $\\{0,1,2,...,g-1\\}$\n",
    " * `range(a,g)` &rarr; $\\{a,a+1,a+2,...,g-1\\}$\n",
    " * `range(a,g,h)` &rarr; $\\{a,a+h,a+2h,\\dots,k\\} , k \\lt g \\le k+h$\n",
    "  * `a`: *abiapuntua* (defektuz, 0)\n",
    "  * `g`: *geldiunea*\n",
    "  * `h`: *hurratsa* (defektuz, 1)\n",
    " \n",
    "<div class=\"alert alert-info\">\n",
    "    <code>stop</code>, <code>start</code> eta <code>step</code> argumentuek zenbaki osoak behar dute izan.\n",
    "</div> "
   ]
  },
  {
   "cell_type": "markdown",
   "metadata": {
    "slideshow": {
     "slide_type": "slide"
    }
   },
   "source": [
    "`range()` funtzioa oso erabilgarria da `for` kontrol egiturarekin sententzia multzo bat nahi adina aldiz errepikatzeko:"
   ]
  },
  {
   "cell_type": "code",
   "execution_count": 24,
   "metadata": {
    "slideshow": {
     "slide_type": "fragment"
    }
   },
   "outputs": [
    {
     "name": "stdout",
     "output_type": "stream",
     "text": [
      "zenbat aldiz:4\n",
      "Ez dut berriro behar baina gehiago idatziko\n",
      "Ez dut berriro behar baina gehiago idatziko\n",
      "Ez dut berriro behar baina gehiago idatziko\n",
      "Ez dut berriro behar baina gehiago idatziko\n"
     ]
    }
   ],
   "source": [
    "n = int(input(\"zenbat aldiz:\"))\n",
    "for i in range(n):\n",
    "    print(\"Ez dut berriro behar baina gehiago idatziko\")"
   ]
  },
  {
   "cell_type": "markdown",
   "metadata": {
    "slideshow": {
     "slide_type": "slide"
    }
   },
   "source": [
    "`for` eta `range()` erabiliz, oso erraza litzateke\n",
    "\n",
    "$\\sum_{i=1}^{100}{i} = 1 + 2 + 3 + \\dots + 100$\n",
    "\n",
    "batukariaren emaitza kalkulatzea:"
   ]
  },
  {
   "cell_type": "code",
   "execution_count": 5,
   "metadata": {
    "slideshow": {
     "slide_type": "fragment"
    }
   },
   "outputs": [
    {
     "name": "stdout",
     "output_type": "stream",
     "text": [
      "Batukariaren emaitza: 5050\n"
     ]
    }
   ],
   "source": [
    "b = 0\n",
    "for i in range(1,101):\n",
    "    b += i\n",
    "print(\"Batukariaren emaitza:\",b)"
   ]
  },
  {
   "cell_type": "markdown",
   "metadata": {
    "slideshow": {
     "slide_type": "slide"
    }
   },
   "source": [
    "`range()` funtzioak bueltatzen duen objektuak zekuentzia bat *errepresentatzen* du. Sekuentziako balioak zeharkatu ahala sortzen dira, ez aurrez."
   ]
  },
  {
   "cell_type": "code",
   "execution_count": 6,
   "metadata": {
    "slideshow": {
     "slide_type": "-"
    }
   },
   "outputs": [
    {
     "name": "stdout",
     "output_type": "stream",
     "text": [
      "range(0, 10000000000000000000000000000000000000000000000000000)\n"
     ]
    }
   ],
   "source": [
    "r = range(10000000000000000000000000000000000000000000000000000)\n",
    "print(r)"
   ]
  },
  {
   "cell_type": "markdown",
   "metadata": {
    "slideshow": {
     "slide_type": "-"
    }
   },
   "source": [
    "<div class=\"alert alert-info\">\n",
    "    Aurreko sekuentzia honetan sortuko liratekeen zenbaki oso guztiak gordetzeko, munduko disko zurrun guztiak gutxi lirateke!\n",
    "</div> "
   ]
  },
  {
   "cell_type": "markdown",
   "metadata": {
    "slideshow": {
     "slide_type": "-"
    }
   },
   "source": [
    "<table border=\"0\" width=\"100%\" style=\"margin: 0px;\">\n",
    "<tr>  \n",
    "  <td style=\"text-align:left\"><a href=\"while sententzia.ipynb\">&lt; &lt; while sententzia &lt; &lt;</a></td>\n",
    "  <td style=\"text-align:right\"><a href=\"break eta continue sententziak.ipynb\">&gt; &gt; break eta continue sententziak &gt; &gt;</a></td>\n",
    "</tr>\n",
    "</table>"
   ]
  }
 ],
 "metadata": {
  "celltoolbar": "Slideshow",
  "kernelspec": {
   "display_name": "Python 3",
   "language": "python",
   "name": "python3"
  },
  "language_info": {
   "codemirror_mode": {
    "name": "ipython",
    "version": 3
   },
   "file_extension": ".py",
   "mimetype": "text/x-python",
   "name": "python",
   "nbconvert_exporter": "python",
   "pygments_lexer": "ipython3",
   "version": "3.7.4"
  },
  "rise": {
   "autolaunch": true,
   "footer": "<h2 align=\"center\">Konputaziorako Sarrera</h2>",
   "scroll": true
  }
 },
 "nbformat": 4,
 "nbformat_minor": 2
}
