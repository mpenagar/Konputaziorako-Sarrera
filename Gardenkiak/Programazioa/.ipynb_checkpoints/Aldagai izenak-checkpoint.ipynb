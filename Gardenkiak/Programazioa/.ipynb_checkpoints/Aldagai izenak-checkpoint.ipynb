{
 "cells": [
  {
   "cell_type": "markdown",
   "metadata": {
    "slideshow": {
     "slide_type": "slide"
    }
   },
   "source": [
    "# Aldagai izenak\n",
    "\n",
    "Aldagaiak (funtzio eta klaseak bezala) izen edo identifikadore baten bidez adieraziak izango dira. Orohar, aldagai izenek ondoko propietateak izango dituzte:\n",
    "\n",
    "* **Zentzudunak**: aldagaiak gordeko duen balioa zer den adieraztea.\n",
    "* Ezin dute hutsunerik izan (hutsuneak esanahi sintaktikoa du).\n",
    "* Ezin dira zenbaki batez hasi (balio numeriko literalekin arazorik ez izateko).\n",
    "* Nahi bezain luzeak, baina irakurgarritasuna oztopatu gabe.\n",
    "  * `_` karakterea erabil daiteke hitzak banatzeko: `soldata_gordina`"
   ]
  },
  {
   "cell_type": "markdown",
   "metadata": {
    "slideshow": {
     "slide_type": "slide"
    }
   },
   "source": [
    "Aldagai izen batek aurreko arauren bat hausten badu, `SyntaxError` motako erroreak (errore sintaktikoak) gertatuko dira:"
   ]
  },
  {
   "cell_type": "code",
   "execution_count": null,
   "metadata": {
    "slideshow": {
     "slide_type": "fragment"
    }
   },
   "outputs": [],
   "source": [
    "2emaitza = 10\n"
   ]
  },
  {
   "cell_type": "code",
   "execution_count": null,
   "metadata": {
    "slideshow": {
     "slide_type": "fragment"
    }
   },
   "outputs": [],
   "source": [
    "bigarren emaitza = 10\n"
   ]
  },
  {
   "cell_type": "code",
   "execution_count": null,
   "metadata": {
    "slideshow": {
     "slide_type": "fragment"
    }
   },
   "outputs": [],
   "source": [
    "hau_zuzena_bada_ere_tontakeria_hutsa_ere_bada = 10\n",
    "print(hau_zuzena_bada_ere_tontakeria_hutsa_ere_bada)"
   ]
  },
  {
   "cell_type": "markdown",
   "metadata": {
    "slideshow": {
     "slide_type": "slide"
    }
   },
   "source": [
    "## Keyword edo hitz erreserbatuak\n",
    "\n",
    "Lengoai guztiek bere sintaxiaren parte izango diren identifikadore multzo bat erreserbatzen dute. Hitz erreserbatu hauek ezin dira erabili aldagai, funtzioa edo klase izen bezala. Pythonen kasuan: "
   ]
  },
  {
   "cell_type": "code",
   "execution_count": null,
   "metadata": {
    "slideshow": {
     "slide_type": "-"
    }
   },
   "outputs": [],
   "source": [
    "import keyword # keyword modulua erabili ahal izateko, inportatu egin behar da\n",
    "print(keyword.kwlist)"
   ]
  },
  {
   "cell_type": "markdown",
   "metadata": {
    "slideshow": {
     "slide_type": "fragment"
    }
   },
   "source": [
    "Hauetako bat erabiltzen saiatzen bagara, `SyntaxError` motako erroreak (errore sintaktikoak) gertatuko dira:"
   ]
  },
  {
   "cell_type": "code",
   "execution_count": null,
   "metadata": {
    "slideshow": {
     "slide_type": "-"
    }
   },
   "outputs": [],
   "source": [
    "a = 1\n",
    "as = 2"
   ]
  },
  {
   "cell_type": "markdown",
   "metadata": {
    "slideshow": {
     "slide_type": "slide"
    }
   },
   "source": [
    "Hitz erreserbatuetatik kanpora, beste **EDOZEIN** izen erabiltzeko askatasuna dugu, beti ere gogoratuz, existitzen den identifikadore bat berrerabiltzean *balio* originala galduko dugula:"
   ]
  },
  {
   "cell_type": "code",
   "execution_count": null,
   "metadata": {
    "slideshow": {
     "slide_type": "fragment"
    }
   },
   "outputs": [],
   "source": [
    "a = 3\n",
    "a = 5\n",
    "print(a)\n",
    "inprimatu = print # print funtzioaren \"kopia\" bat egin dut...\n",
    "print = 10 # hemendik aurrera ezingo da print erabili pantailatik idazteko... \n",
    "print(a)"
   ]
  },
  {
   "cell_type": "code",
   "execution_count": null,
   "metadata": {
    "slideshow": {
     "slide_type": "fragment"
    }
   },
   "outputs": [],
   "source": [
    "inprimatu(a) # tira, kopia honek zerbaitetarako balio zuen"
   ]
  },
  {
   "cell_type": "code",
   "execution_count": null,
   "metadata": {
    "slideshow": {
     "slide_type": "fragment"
    }
   },
   "outputs": [],
   "source": [
    "print = inprimatu # hemendik aurrera gauzek \"normal\" jarraituko dute\n",
    "print(a)"
   ]
  },
  {
   "cell_type": "markdown",
   "metadata": {
    "slideshow": {
     "slide_type": "-"
    }
   },
   "source": [
    "<table border=\"0\" width=\"100%\" style=\"margin: 0px;\">\n",
    "<tr>  \n",
    "  <td style=\"text-align:left\"><a href=\"Aldagaiak.ipynb\">&lt; &lt; Aldagaiak &lt; &lt;</a></td>\n",
    "  <td style=\"text-align:right\"><a href=\"Eragileak.ipynb\">&gt; &gt; Eragileak &gt; &gt;</a></td>\n",
    "</tr>\n",
    "</table>"
   ]
  }
 ],
 "metadata": {
  "celltoolbar": "Slideshow",
  "kernelspec": {
   "display_name": "Python 3",
   "language": "python",
   "name": "python3"
  },
  "language_info": {
   "codemirror_mode": {
    "name": "ipython",
    "version": 3
   },
   "file_extension": ".py",
   "mimetype": "text/x-python",
   "name": "python",
   "nbconvert_exporter": "python",
   "pygments_lexer": "ipython3",
   "version": "3.7.6"
  },
  "rise": {
   "autolaunch": true,
   "footer": "<h2 align=\"center\">Konputaziorako Sarrera</h2>"
  }
 },
 "nbformat": 4,
 "nbformat_minor": 2
}
