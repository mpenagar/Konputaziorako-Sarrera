{
 "cells": [
  {
   "cell_type": "markdown",
   "metadata": {
    "slideshow": {
     "slide_type": "slide"
    }
   },
   "source": [
    "# Aldagaiak\n",
    "\n",
    "Pythonen, beste programazio lengoaietan bezala, balio berriak sortuko dituzten espresioak existitzen dira:"
   ]
  },
  {
   "cell_type": "code",
   "execution_count": 1,
   "metadata": {
    "slideshow": {
     "slide_type": "-"
    }
   },
   "outputs": [
    {
     "data": {
      "text/plain": [
       "52.142857142857146"
      ]
     },
     "execution_count": 1,
     "metadata": {},
     "output_type": "execute_result"
    }
   ],
   "source": [
    "365/7"
   ]
  },
  {
   "cell_type": "markdown",
   "metadata": {
    "slideshow": {
     "slide_type": "fragment"
    }
   },
   "source": [
    "Balio hauek *galdu* egiten direnez, aldagaietan *\"gorde\"* ditzakegu, aurrerago erabili ahal izateko:"
   ]
  },
  {
   "cell_type": "code",
   "execution_count": 2,
   "metadata": {
    "slideshow": {
     "slide_type": "-"
    }
   },
   "outputs": [
    {
     "name": "stdout",
     "output_type": "stream",
     "text": [
      "Urteak 52.142857142857146 ditu\n"
     ]
    }
   ],
   "source": [
    "aste = 365/7\n",
    "print(\"Urteak\",aste,\"ditu\")"
   ]
  },
  {
   "cell_type": "markdown",
   "metadata": {
    "slideshow": {
     "slide_type": "slide"
    }
   },
   "source": [
    "Balioak gordetzeko, aldagaiak eta esleipen sententziak erabiltzen dira. Esleipen sententzi batek ondoko pausuak ematen ditu:\n",
    "\n",
    "  1. Eskuinaldeko espresioaren balioa kalkulatu.\n",
    "  1. Ezkerreko aldagaiari esleitu balio hori.\n",
    "\n",
    "Tira, hau ez da guztiz zuzena...\n",
    "![scream](../../img/emoji/36x36/1f631.png)"
   ]
  },
  {
   "cell_type": "markdown",
   "metadata": {
    "slideshow": {
     "slide_type": "slide"
    }
   },
   "source": [
    "## Aldagaiak erreferentziak dira\n",
    "\n",
    "Aldagaiak **erreferentzia edo etiketa soilak** dira. Aldagaietan gordetzen den informazioa ez da esleitzen dugun balioa, baizik eta **balioa gordetzen duen objektura iristeko behar den informazioa** (bere helbidea).\n",
    "\n",
    "`aste = 365/7` sententzia exekutatzean, ondoko pausuak ematen dira:\n",
    "\n",
    "  - Eskuinaldeko espresioa ebaluatzen da.\n",
    "    - `365` eta `7` balioak izango dituzten `int` objektuak sortu.\n",
    "    - Zatiketa ebaluatzean, `52.1428...` balioa izango duen `float` objektua sortu.\n",
    "  - `aste` aldagaiari `52.1428...`-ren erreferentzia esleitu.\n",
    "\n",
    "![VariablesAndReferences1](../../img/VariablesAndReferences1.png)\n"
   ]
  },
  {
   "cell_type": "markdown",
   "metadata": {
    "slideshow": {
     "slide_type": "slide"
    }
   },
   "source": [
    "**Aldaezinak** diren informazio edo balioekin ari garenean, berdin digu aldagaiek balioak gordetzen dituztela pentsatzea edo ta aldagaiak erreferentziak direla pentsatzea. Demagun ondoko sententziak exekutatzen ditugula:\n",
    "\n",
    "``` python\n",
    "a = 1234\n",
    "b = a\n",
    "```\n",
    "\n",
    "Ondoko irudiak bi *ikuspuntuak* adierazten ditu:\n",
    "\n",
    "![VariablesAndReferences2](../../img/VariablesAndReferences2.png)\n",
    "\n",
    "\n",
    "Aldagaietan balioak gordeko balira (ezkerraldea), `b`-k `1234`-ren kopia bat gordeko luke. Aldagaiak erreferentziak balira ordea (eskuinaldea), `a` eta `b` erreferentziek objektu berdin bat erreferentziatuko lukete (bi erreferentziak berdinak dira).\n",
    "\n",
    "Ezberdinak badira ere, bi egoerak baliokideak dira eta programazioaren ikuspuntutik berdin dio modu batera edo bestera pentsatzeak."
   ]
  },
  {
   "cell_type": "markdown",
   "metadata": {
    "slideshow": {
     "slide_type": "slide"
    }
   },
   "source": [
    "**Aldakorrak** diren informazioetan, ordea, bi egoerak guztiz ezberdinak dira. Demagun zenbaki osoen informazioa ez dela soilik balio oso bat, demagun kolorea ere badutela, eta kolorez aldatu daitezkeela (`1234` zenbaki oso literala adieraztean, pythonek defektuzko kolore beltza erabili duela pentsa genezake). Demagun ondoko sententziak\n",
    "\n",
    "`a.kolorea_aldatu(\"orange\")`\n",
    "\n",
    "`a` objektuaren kolorea aldatzen duela. Ondokoa litzateke emaitza:\n",
    "\n",
    "![VariablesAndReferences3](../../img/VariablesAndReferences3.png)\n",
    "\n",
    "\n",
    "Argi ikusten denez, aldagaiek balioak gordeko balituzte, `a`-ren kolorea aldatzeak ez luke `b`-ren kolorea aldatuko. Erreferentziak direnez, ordea, `a` eta `b` erreferentziek objektu berdin bat erreferentziatzen dute, eta beraz `a`-ren kolorea aldatzean `b`-ren kolorea aldatu dugu ere."
   ]
  },
  {
   "cell_type": "markdown",
   "metadata": {
    "slideshow": {
     "slide_type": "-"
    }
   },
   "source": [
    "<table border=\"0\" width=\"100%\" style=\"margin: 0px;\">\n",
    "<tr>  \n",
    "  <td style=\"text-align:left\"><a href=\"Balio literalak eta datu motak.ipynb\">&lt; &lt; Balio literalak eta datu motak &lt; &lt;</a></td>\n",
    "  <td style=\"text-align:right\"><a href=\"Aldagai izenak.ipynb\">&gt; &gt; Aldagai izenak &gt; &gt;</a></td>\n",
    "</tr>\n",
    "</table>"
   ]
  }
 ],
 "metadata": {
  "celltoolbar": "Slideshow",
  "kernelspec": {
   "display_name": "Python 3",
   "language": "python",
   "name": "python3"
  },
  "language_info": {
   "codemirror_mode": {
    "name": "ipython",
    "version": 3
   },
   "file_extension": ".py",
   "mimetype": "text/x-python",
   "name": "python",
   "nbconvert_exporter": "python",
   "pygments_lexer": "ipython3",
   "version": "3.7.4"
  },
  "rise": {
   "autolaunch": true,
   "footer": "<h2 align=\"center\">Konputaziorako Sarrera</h2>"
  }
 },
 "nbformat": 4,
 "nbformat_minor": 2
}
