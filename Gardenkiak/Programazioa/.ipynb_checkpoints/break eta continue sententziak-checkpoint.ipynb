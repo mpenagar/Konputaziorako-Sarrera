{
 "cells": [
  {
   "cell_type": "markdown",
   "metadata": {
    "slideshow": {
     "slide_type": "slide"
    }
   },
   "source": [
    "# `break` eta `continue` sententziak\n",
    "\n",
    "Kontrol egitura errepikakorren (hau da, `for` eta `while` egituren) exekuzio fluxua aldatzen duten sententziak dira."
   ]
  },
  {
   "cell_type": "markdown",
   "metadata": {
    "slideshow": {
     "slide_type": "slide"
    }
   },
   "source": [
    "## `break` sententzia\n",
    "\n",
    "Erabilia den puntutik *barruen* (gertuen) dagoen `for` edo `while` egituraren exekuzioa amaierazten du.\n"
   ]
  },
  {
   "cell_type": "code",
   "execution_count": 2,
   "metadata": {
    "slideshow": {
     "slide_type": "fragment"
    }
   },
   "outputs": [
    {
     "name": "stdout",
     "output_type": "stream",
     "text": [
      "Idatzi zenbaki bikoiti bat: 23\n",
      "Idatzi zenbaki bikoiti bat: 27\n",
      "Idatzi zenbaki bikoiti bat: 4\n",
      "Ados\n",
      "Idatzi zenbaki bikoiti bat: 23\n",
      "Idatzi zenbaki bikoiti bat: 27\n",
      "Idatzi zenbaki bikoiti bat: 4\n",
      "Ados\n"
     ]
    }
   ],
   "source": [
    "while True :\n",
    "    x = int(input(\"Idatzi zenbaki bikoiti bat: \"))\n",
    "    if x%2 == 0 :\n",
    "        break\n",
    "print(\"Ados\")\n",
    "\n",
    "x = int(input(\"Idatzi zenbaki bikoiti bat: \"))\n",
    "while x%2 != 0 :\n",
    "    x = int(input(\"Idatzi zenbaki bikoiti bat: \"))\n",
    "print(\"Ados\")"
   ]
  },
  {
   "cell_type": "markdown",
   "metadata": {
    "slideshow": {
     "slide_type": "slide"
    }
   },
   "source": [
    "<div class=\"alert alert-warning\">\n",
    "    <code>for</code> eta <code>while</code> egituren <code>else</code> blokea ez da exekutatuko <code>break</code> sententzi bat gertatzen bada.\n",
    "</div> "
   ]
  },
  {
   "cell_type": "code",
   "execution_count": 2,
   "metadata": {
    "slideshow": {
     "slide_type": "fragment"
    }
   },
   "outputs": [
    {
     "name": "stdout",
     "output_type": "stream",
     "text": [
      "Idatzi zenbaki bikoiti bat: 5\n",
      "Idatzi zenbaki bikoiti bat: 7\n",
      "Idatzi zenbaki bikoiti bat: 9\n",
      "Idatzi zenbaki bikoiti bat: 4\n",
      "Zerbait gaizki irten da\n"
     ]
    }
   ],
   "source": [
    "while True :\n",
    "    x = int(input(\"Idatzi zenbaki bikoiti bat: \"))\n",
    "    if x%2 == 0 :\n",
    "        break\n",
    "else :\n",
    "    print(\"Ados\")\n",
    "print(\"Zerbait gaizki irten da\")"
   ]
  },
  {
   "cell_type": "markdown",
   "metadata": {
    "slideshow": {
     "slide_type": "slide"
    }
   },
   "source": [
    "<div class=\"alert alert-info\">\n",
    "    <code>for</code> eta <code>while</code> egituretan, <code>else</code> blokea <b>erabilgarria</b> izango da, baldin eta soilik baldin <code>break</code> sententzi bat existitzen bada.\n",
    "</div>\n",
    "\n",
    "Bilatu ditzagun 2 eta 20 arteko zenbaki lehen guztiak:"
   ]
  },
  {
   "cell_type": "markdown",
   "metadata": {
    "slideshow": {
     "slide_type": "slide"
    }
   },
   "source": [
    "Lehenengo, edozein $n$ zenbaki arrunt bat lehena denean pantailatik idatzxiko duen kodea sortuko dugu:"
   ]
  },
  {
   "cell_type": "code",
   "execution_count": 23,
   "metadata": {
    "slideshow": {
     "slide_type": "fragment"
    }
   },
   "outputs": [
    {
     "name": "stdout",
     "output_type": "stream",
     "text": [
      "19433\n",
      "19433\n",
      "19433\n"
     ]
    }
   ],
   "source": [
    "n = 19433\n",
    "k = 0\n",
    "for i in range(2,n):\n",
    "    if n%i == 0 :\n",
    "        k += 1\n",
    "if k == 0 :\n",
    "    print(n)\n",
    "    \n",
    "zatitzailerik_ez = True\n",
    "for i in range(2,n):\n",
    "    if n%i == 0 :\n",
    "        zatitzailerik_ez = False\n",
    "if zatitzailerik_ez :\n",
    "    print(n)\n",
    "\n",
    "# Kontuz honekin... EZ DA ZUZENA!\n",
    "#for i in range(2,n):\n",
    "#    if n%i == 0 :\n",
    "#        lehena = False\n",
    "#    else :\n",
    "#        lehena = True  \n",
    "#if lehena :\n",
    "#    print(n)\n"
   ]
  },
  {
   "cell_type": "code",
   "execution_count": 3,
   "metadata": {
    "slideshow": {
     "slide_type": "fragment"
    }
   },
   "outputs": [
    {
     "name": "stdout",
     "output_type": "stream",
     "text": [
      "2\n",
      "3\n",
      "5\n",
      "7\n",
      "11\n",
      "13\n",
      "17\n",
      "19\n"
     ]
    }
   ],
   "source": [
    "for n in range(2, 21):\n",
    "    for i in range(2, n):\n",
    "        if n % i == 0:\n",
    "            break\n",
    "    else:\n",
    "        print(n)"
   ]
  },
  {
   "cell_type": "markdown",
   "metadata": {
    "slideshow": {
     "slide_type": "slide"
    }
   },
   "source": [
    "## `continue` sententzia\n",
    "\n",
    "Erabilia den puntutik *barruen* dagoen `for` edo `while` egituraren hurrengo iteraziora jauzi egiten du.\n"
   ]
  },
  {
   "cell_type": "code",
   "execution_count": 4,
   "metadata": {
    "slideshow": {
     "slide_type": "fragment"
    }
   },
   "outputs": [
    {
     "name": "stdout",
     "output_type": "stream",
     "text": [
      "2 bikoitia da\n",
      "3\n",
      "4 bikoitia da\n",
      "5\n",
      "6 bikoitia da\n",
      "7\n",
      "8 bikoitia da\n",
      "9\n"
     ]
    }
   ],
   "source": [
    "for i in range(2, 10):\n",
    "    if i % 2 == 0:\n",
    "        print(i,\"bikoitia da\")\n",
    "        continue\n",
    "    print(i)"
   ]
  },
  {
   "cell_type": "markdown",
   "metadata": {
    "slideshow": {
     "slide_type": "-"
    }
   },
   "source": [
    "<table border=\"0\" width=\"100%\" style=\"margin: 0px;\">\n",
    "<tr>  \n",
    "  <td style=\"text-align:left\"><a href=\"for sententzia.ipynb\">&lt; &lt; for sententzia &lt; &lt;</a></td>\n",
    "  <td style=\"text-align:right\"><a href=\"Funtzioak.ipynb\">&gt; &gt; Funztioak &gt; &gt;</a></td>\n",
    "</tr>\n",
    "</table>"
   ]
  }
 ],
 "metadata": {
  "celltoolbar": "Slideshow",
  "kernelspec": {
   "display_name": "Python 3",
   "language": "python",
   "name": "python3"
  },
  "language_info": {
   "codemirror_mode": {
    "name": "ipython",
    "version": 3
   },
   "file_extension": ".py",
   "mimetype": "text/x-python",
   "name": "python",
   "nbconvert_exporter": "python",
   "pygments_lexer": "ipython3",
   "version": "3.7.4"
  },
  "rise": {
   "autolaunch": true,
   "footer": "<h2 align=\"center\">Konputaziorako Sarrera</h2>",
   "scroll": true
  }
 },
 "nbformat": 4,
 "nbformat_minor": 2
}
