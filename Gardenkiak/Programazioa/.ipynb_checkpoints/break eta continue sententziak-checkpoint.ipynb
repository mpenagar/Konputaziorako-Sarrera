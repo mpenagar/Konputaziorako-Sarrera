{
 "cells": [
  {
   "cell_type": "markdown",
   "metadata": {
    "slideshow": {
     "slide_type": "slide"
    }
   },
   "source": [
    "# `break` eta `continue` sententziak\n",
    "\n",
    "Kontrol egitura errepikakorren (hau da, `for` eta `while` egituren) exekuzio fluxua aldatzen duten sententziak dira."
   ]
  },
  {
   "cell_type": "markdown",
   "metadata": {
    "slideshow": {
     "slide_type": "slide"
    }
   },
   "source": [
    "## `break` sententzia\n",
    "\n",
    "Erabilia den puntutik *barruen* (gertuen) dagoen `for` edo `while` egituraren exekuzioa amaierazten du.\n"
   ]
  },
  {
   "cell_type": "code",
   "execution_count": 1,
   "metadata": {
    "slideshow": {
     "slide_type": "fragment"
    }
   },
   "outputs": [
    {
     "name": "stdout",
     "output_type": "stream",
     "text": [
      "Idatzi zenbaki bikoiti bat: 45\n",
      "Idatzi zenbaki bikoiti bat: 44\n",
      "Ados\n",
      "Idatzi zenbaki bikoiti bat: 45\n",
      "Idatzi zenbaki bikoiti bat: 44\n",
      "Ados\n",
      "Idatzi zenbaki bikoiti bat: 45\n",
      "Idatzi zenbaki bikoiti bat: 44\n",
      "Ados\n"
     ]
    }
   ],
   "source": [
    "x = int(input(\"Idatzi zenbaki bikoiti bat: \"))\n",
    "while x%2 != 0 :\n",
    "    x = int(input(\"Idatzi zenbaki bikoiti bat: \"))\n",
    "print(\"Ados\")\n",
    "\n",
    "while True :\n",
    "    x = int(input(\"Idatzi zenbaki bikoiti bat: \"))\n",
    "    if x%2 == 0 :\n",
    "        break\n",
    "print(\"Ados\")\n",
    "\n",
    "x = 1\n",
    "while x%2 != 0 :\n",
    "    x = int(input(\"Idatzi zenbaki bikoiti bat: \"))\n",
    "print(\"Ados\")\n"
   ]
  },
  {
   "cell_type": "markdown",
   "metadata": {
    "slideshow": {
     "slide_type": "slide"
    }
   },
   "source": [
    "<div class=\"alert alert-warning\">\n",
    "    <code>for</code> eta <code>while</code> egituren <code>else</code> blokea ez da exekutatuko <code>break</code> sententzi bat gertatzen bada.\n",
    "</div> "
   ]
  },
  {
   "cell_type": "code",
   "execution_count": 2,
   "metadata": {
    "slideshow": {
     "slide_type": "fragment"
    }
   },
   "outputs": [
    {
     "name": "stdout",
     "output_type": "stream",
     "text": [
      "Idatzi zenbaki bikoiti bat: 45\n",
      "Idatzi zenbaki bikoiti bat: 45\n",
      "Idatzi zenbaki bikoiti bat: 45\n",
      "Idatzi zenbaki bikoiti bat: 44\n",
      "Zerbait gaizki irten da\n"
     ]
    }
   ],
   "source": [
    "while True :\n",
    "    x = int(input(\"Idatzi zenbaki bikoiti bat: \"))\n",
    "    if x%2 == 0 :\n",
    "        break\n",
    "else :\n",
    "    print(\"Ados\")\n",
    "print(\"Zerbait gaizki irten da\")"
   ]
  },
  {
   "cell_type": "markdown",
   "metadata": {
    "slideshow": {
     "slide_type": "slide"
    }
   },
   "source": [
    "<div class=\"alert alert-info\">\n",
    "    <code>for</code> eta <code>while</code> egituretan, <code>else</code> blokea <b>erabilgarria</b> izango da, baldin eta soilik baldin <code>break</code> sententzi bat existitzen bada.\n",
    "</div>\n",
    "\n",
    "Bilatu ditzagun 2 eta 20 arteko zenbaki lehen guztiak:"
   ]
  },
  {
   "cell_type": "markdown",
   "metadata": {
    "slideshow": {
     "slide_type": "slide"
    }
   },
   "source": [
    "Lehenengo, edozein $n$  zenbaki arrunt bat lehena denean pantailatik idatziko duen kodea sortuko dugu:"
   ]
  },
  {
   "cell_type": "code",
   "execution_count": 8,
   "metadata": {
    "slideshow": {
     "slide_type": "fragment"
    }
   },
   "outputs": [
    {
     "name": "stdout",
     "output_type": "stream",
     "text": [
      "96337 lehena da\n"
     ]
    }
   ],
   "source": [
    "n = 96337\n",
    "k = 0\n",
    "for i in range(2,n):\n",
    "    #print('frogatzera noa',i,n,'-ren zatitzailea ote den')\n",
    "    if n % i == 0 :\n",
    "        #print(i,n,'-ren zatitzailea da')\n",
    "        k = k + 1\n",
    "if k == 0 :\n",
    "    print(n,'lehena da')\n",
    "else :\n",
    "    print(n,'ez da lehena')"
   ]
  },
  {
   "cell_type": "code",
   "execution_count": 17,
   "metadata": {
    "slideshow": {
     "slide_type": "slide"
    }
   },
   "outputs": [
    {
     "name": "stdout",
     "output_type": "stream",
     "text": [
      "96337 lehena da\n"
     ]
    }
   ],
   "source": [
    "n = 96337\n",
    "zatitzailea_topatu_dut = False\n",
    "for i in range(2,n):\n",
    "    if n % i == 0 :\n",
    "        zatitzailea_topatu_dut = True\n",
    "    #print(i,'--> zatitzailea_topatu_dut:',zatitzailea_topatu_dut)\n",
    "if zatitzailea_topatu_dut :\n",
    "    print(n,'ez da lehena')\n",
    "else :\n",
    "    print(n,'lehena da')\n",
    "\n",
    "\n",
    "# KONTUZ, HAU EZ DABIL!!!\n",
    "#for i in range(2,n):\n",
    "#    if n % i == 0 :\n",
    "#        zatitzailea_topatu_dut = True\n",
    "#    else :\n",
    "#        zatitzailea_topatu_dut = False\n",
    "#if zatitzailea_topatu_dut :\n",
    "#    print(n,'ez da lehena')\n",
    "#else :\n",
    "#    print(n,'lehena da')\n"
   ]
  },
  {
   "cell_type": "code",
   "execution_count": 20,
   "metadata": {
    "slideshow": {
     "slide_type": "slide"
    }
   },
   "outputs": [
    {
     "name": "stdout",
     "output_type": "stream",
     "text": [
      "96337 lehena da\n",
      "96337 lehena da\n"
     ]
    }
   ],
   "source": [
    "n = 96337\n",
    "#n  = 50_000_000\n",
    "\n",
    "zatitzailea_topatu_dut = False\n",
    "for i in range(2,n):\n",
    "    if n % i == 0 :\n",
    "        zatitzailea_topatu_dut = True\n",
    "        break\n",
    "if zatitzailea_topatu_dut :\n",
    "    print(n,'ez da lehena')\n",
    "else :\n",
    "    print(n,'lehena da')\n",
    "\n",
    "\n",
    "for i in range(2,n):\n",
    "    if n % i == 0 :\n",
    "        print(n,'ez da lehena')\n",
    "        break\n",
    "else :\n",
    "    print(n,'lehena da')\n",
    "    \n"
   ]
  },
  {
   "cell_type": "code",
   "execution_count": null,
   "metadata": {
    "slideshow": {
     "slide_type": "slide"
    }
   },
   "outputs": [],
   "source": [
    "for n in range(1, 100):\n",
    "    for i in range(2, n):\n",
    "        if n % i == 0:\n",
    "            break\n",
    "    else:\n",
    "        print(n)"
   ]
  },
  {
   "cell_type": "markdown",
   "metadata": {
    "slideshow": {
     "slide_type": "slide"
    }
   },
   "source": [
    "## `continue` sententzia\n",
    "\n",
    "Erabilia den puntutik *barruen* dagoen `for` edo `while` egituraren hurrengo iteraziora jauzi egiten du.\n"
   ]
  },
  {
   "cell_type": "code",
   "execution_count": null,
   "metadata": {
    "slideshow": {
     "slide_type": "fragment"
    }
   },
   "outputs": [],
   "source": [
    "for i in range(2, 10):\n",
    "    if i % 2 == 0:\n",
    "        print(i,\"bikoitia da\")\n",
    "        continue\n",
    "    print(i)"
   ]
  },
  {
   "cell_type": "markdown",
   "metadata": {
    "slideshow": {
     "slide_type": "-"
    }
   },
   "source": [
    "<table border=\"0\" width=\"100%\" style=\"margin: 0px;\">\n",
    "<tr>  \n",
    "  <td style=\"text-align:left\"><a href=\"for sententzia.ipynb\">&lt; &lt; for sententzia &lt; &lt;</a></td>\n",
    "  <td style=\"text-align:right\"><a href=\"Funtzioak.ipynb\">&gt; &gt; Funztioak &gt; &gt;</a></td>\n",
    "</tr>\n",
    "</table>"
   ]
  }
 ],
 "metadata": {
  "celltoolbar": "Slideshow",
  "kernelspec": {
   "display_name": "Python 3",
   "language": "python",
   "name": "python3"
  },
  "language_info": {
   "codemirror_mode": {
    "name": "ipython",
    "version": 3
   },
   "file_extension": ".py",
   "mimetype": "text/x-python",
   "name": "python",
   "nbconvert_exporter": "python",
   "pygments_lexer": "ipython3",
   "version": "3.7.6"
  },
  "rise": {
   "autolaunch": true,
   "footer": "<h2 align=\"center\">Konputaziorako Sarrera</h2>",
   "scroll": true
  }
 },
 "nbformat": 4,
 "nbformat_minor": 2
}
