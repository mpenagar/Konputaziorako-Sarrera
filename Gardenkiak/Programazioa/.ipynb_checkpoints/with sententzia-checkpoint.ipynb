{
 "cells": [
  {
   "cell_type": "markdown",
   "metadata": {
    "slideshow": {
     "slide_type": "slide"
    }
   },
   "source": [
    "# `with` sententzia\n",
    "\n",
    "Errekurtsoak (adibidez, fitxategiak) erabiliak diren kasuetan, `with` sententzia errekurtsoak isteaz arduratuko da:\n",
    "\n",
    "```python\n",
    "with <resorce> as x :\n",
    "    # x erabili\n",
    "    ...\n",
    "    ...\n",
    "# with sententzia amaitzean, errekurtsoa itxiko da\n",
    "```"
   ]
  },
  {
   "cell_type": "code",
   "execution_count": 1,
   "metadata": {
    "slideshow": {
     "slide_type": "slide"
    }
   },
   "outputs": [
    {
     "name": "stdout",
     "output_type": "stream",
     "text": [
      "Hau testu fitxategi bat da\n",
      "Bi ilara ditu\n",
      "Ez, bi ez, hiru jakiña!"
     ]
    }
   ],
   "source": [
    "# irikitzen diren fitxategiak beti itxi behar dira\n",
    "def erakutsi(bideizena, kodif=\"utf-8\"):\n",
    "    f = open(bideizena,encoding=kodif)\n",
    "    for s in f :\n",
    "        print(s,end=\"\")\n",
    "    f.close()\n",
    "    \n",
    "erakutsi(\"MyText.txt\")"
   ]
  },
  {
   "cell_type": "code",
   "execution_count": 1,
   "metadata": {
    "slideshow": {
     "slide_type": "slide"
    }
   },
   "outputs": [
    {
     "name": "stdout",
     "output_type": "stream",
     "text": [
      "Hau testu fitxategi bat da\n",
      "Bi ilara ditu\n",
      "Ez, bi ez, hiru jakiña!"
     ]
    }
   ],
   "source": [
    "# with sententzia arduratuko da errekurtsoak isteaz\n",
    "def erakutsi(bideizena, kodif=\"utf-8\"):\n",
    "    with open(bideizena,encoding=kodif) as f :\n",
    "        for s in f :\n",
    "            print(s,end=\"\")\n",
    "    \n",
    "erakutsi(\"MyText.txt\")"
   ]
  },
  {
   "cell_type": "markdown",
   "metadata": {
    "slideshow": {
     "slide_type": "-"
    }
   },
   "source": [
    "<table border=\"0\" width=\"100%\" style=\"margin: 0px;\">\n",
    "<tr>  \n",
    "  <td style=\"text-align:left\"><a href=\"del%20sententzia.ipynb\">&lt; &lt; del sententzia &lt; &lt;</a></td>\n",
    "  <td style=\"text-align:right\"><a href=\"Hurrengoa.ipynb\">&gt; &gt; Hurrengoa &gt; &gt;</a></td>\n",
    "</tr>\n",
    "</table>"
   ]
  }
 ],
 "metadata": {
  "celltoolbar": "Slideshow",
  "kernelspec": {
   "display_name": "Python 3",
   "language": "python",
   "name": "python3"
  },
  "language_info": {
   "codemirror_mode": {
    "name": "ipython",
    "version": 3
   },
   "file_extension": ".py",
   "mimetype": "text/x-python",
   "name": "python",
   "nbconvert_exporter": "python",
   "pygments_lexer": "ipython3",
   "version": "3.5.6"
  },
  "rise": {
   "autolaunch": true,
   "footer": "<h2 align=\"center\">Konputaziorako Sarrera</h2>",
   "scroll": true
  }
 },
 "nbformat": 4,
 "nbformat_minor": 2
}
