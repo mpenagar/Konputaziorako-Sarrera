{
 "cells": [
  {
   "cell_type": "markdown",
   "metadata": {
    "slideshow": {
     "slide_type": "slide"
    }
   },
   "source": [
    "# Multzoak\n",
    "\n",
    "* `set` motako objektuak\n",
    "* **Elementu** ez errepikatuz osotutako kolekzio aldakorra.\n",
    "  * *Baliorik gabeko* hiztegia\n",
    "* Multyzoak sortzeko aukerak:\n",
    "  1. Objektuaren berezko metodoaz &rarr; `set(it)`\n",
    "  1. Balio literala &rarr; `{e1, e2, e3, ... }`\n",
    "* `len()` funtzioa &rarr; elementu kopurua"
   ]
  },
  {
   "cell_type": "markdown",
   "metadata": {
    "slideshow": {
     "slide_type": "slide"
    }
   },
   "source": [
    "### Multzo hutsa"
   ]
  },
  {
   "cell_type": "code",
   "execution_count": 1,
   "metadata": {
    "slideshow": {
     "slide_type": "-"
    }
   },
   "outputs": [
    {
     "name": "stdout",
     "output_type": "stream",
     "text": [
      "set() 0\n"
     ]
    }
   ],
   "source": [
    "# multzo hutsa\n",
    "m = set()\n",
    "print(m,len(m))"
   ]
  },
  {
   "cell_type": "markdown",
   "metadata": {
    "slideshow": {
     "slide_type": "slide"
    }
   },
   "source": [
    "### `{e1 , e2 , e3, ... }`\n",
    "Adierazitako elementuez osotutako multzoa sortzen du:"
   ]
  },
  {
   "cell_type": "code",
   "execution_count": 2,
   "metadata": {
    "slideshow": {
     "slide_type": "-"
    }
   },
   "outputs": [
    {
     "name": "stdout",
     "output_type": "stream",
     "text": [
      "{'Ane', 'Enara', 'Jon'} 3\n"
     ]
    }
   ],
   "source": [
    "lagunak = {\"Jon\",\"Enara\",\"Ane\",\"Jon\"}\n",
    "print(lagunak,len(lagunak))"
   ]
  },
  {
   "cell_type": "markdown",
   "metadata": {
    "slideshow": {
     "slide_type": "slide"
    }
   },
   "source": [
    "### `set(iteragarria)`\n",
    "Iteragarria zeharkatu eta bere elementuez osotutako multzoa sortzen du:"
   ]
  },
  {
   "cell_type": "code",
   "execution_count": 3,
   "metadata": {
    "slideshow": {
     "slide_type": "-"
    }
   },
   "outputs": [
    {
     "name": "stdout",
     "output_type": "stream",
     "text": [
      "[0, 1, 2, 3, 4, 0, 1, 2, 3, 4, 0, 1, 2, 3, 4]\n",
      "{0, 1, 2, 3, 4}\n"
     ]
    }
   ],
   "source": [
    "zenbakiak = list(range(5))*3\n",
    "multzoa = set(zenbakiak)\n",
    "print(zenbakiak,multzoa,sep=\"\\n\")"
   ]
  },
  {
   "cell_type": "markdown",
   "metadata": {
    "slideshow": {
     "slide_type": "slide"
    }
   },
   "source": [
    "## Multzoen ezaugarriak\n",
    "\n",
    "\n",
    "* Iteragarriak &rarr; `for i in m :`\n",
    "* Aldakorrak\n",
    "\n",
    "### Multzoko elementuak  &rarr;  balio aldaezinak dituzten objektuak\n",
    "\n",
    "* Balioz aldatu ezin daitezkeenak\n",
    "* `int` &rarr; balio aldaezina\n",
    "* `float` &rarr; balio aldaezina\n",
    "* `bool` &rarr; balio aldaezina\n",
    "* `str` &rarr; balio aldaezina\n",
    "* `None` &rarr; balio aldaezina\n",
    "* `list` &rarr; **balio aldakorra**\n",
    "* `tuple` &rarr; **balio aldakorra** izan lezake"
   ]
  },
  {
   "cell_type": "markdown",
   "metadata": {
    "slideshow": {
     "slide_type": "slide"
    }
   },
   "source": [
    "## Iteragarritasuna\n",
    "* Multzo bat zeharkatzean, bere elementuak zeharkatzen ditugu.\n",
    "* Multzo bat zeharkatzean, ez dugu inongo ordenik espero.\n",
    "  * Azkeneko bertsioetan bai..."
   ]
  },
  {
   "cell_type": "code",
   "execution_count": 4,
   "metadata": {
    "slideshow": {
     "slide_type": "fragment"
    }
   },
   "outputs": [
    {
     "name": "stdout",
     "output_type": "stream",
     "text": [
      "['i', 'a', 'o', 'u', 'e']\n"
     ]
    }
   ],
   "source": [
    "m = set(\"aeiou\")\n",
    "print(list(m))"
   ]
  },
  {
   "cell_type": "markdown",
   "metadata": {
    "slideshow": {
     "slide_type": "slide"
    }
   },
   "source": [
    "## Multzoen eragileak\n",
    "* `m1==m2` , `m1!=m2` &rarr; `bool` : edukiarekiko konparaketa\n",
    "* `e in m`, `e not in m` &rarr; `bool` : `e` elementua `m` multzoan ote dagoen\n",
    "* `a is b` &rarr; `bool` : `a` objektua `b` ote den"
   ]
  },
  {
   "cell_type": "markdown",
   "metadata": {
    "slideshow": {
     "slide_type": "slide"
    }
   },
   "source": [
    "## Multzoen metodoak\n",
    "\n",
    "* Metodo hauek izendatzeko: `multzoa.metodo_izena`\n",
    "* Multzoek, [17 metodo](https://docs.python.org/3/library/stdtypes.html#set-types-set-frozenset) dituzte.\n",
    "```"
   ]
  },
  {
   "cell_type": "code",
   "execution_count": 20,
   "metadata": {
    "slideshow": {
     "slide_type": "slide"
    }
   },
   "outputs": [
    {
     "name": "stdout",
     "output_type": "stream",
     "text": [
      "{0, 1, 2, 3, 4} {3, 4, 5, 6, 7, 8, 9} {0, 1, 2, 3, 4, 5, 6, 7, 8, 9}\n",
      "{0, 1, 2, 3, 4} {3, 4, 5, 6, 7, 8, 9} {3, 4}\n",
      "{0, 1, 2, 3, 4} {3, 4, 5, 6, 7, 8, 9} {0, 1, 2}\n",
      "{0, 1, 2, 3, 4} {3, 4, 5, 6, 7, 8, 9} {5, 6, 7, 8, 9}\n",
      "{0, 1, 2, 3, 4} {3, 4, 5, 6, 7, 8, 9} {0, 1, 2, 5, 6, 7, 8, 9}\n"
     ]
    }
   ],
   "source": [
    "m = set()\n",
    "m = set(range(10))\n",
    "m = set(\"aeiou\")\n",
    "m.add(\"kaixo\")\n",
    "m.update(range(5),\"AEIOU\")\n",
    "m1 = set(range(5))\n",
    "m2 = set(range(3,10))\n",
    "m3 = m1.union(m2)\n",
    "print(m1,m2,m3)\n",
    "m3 = m1.intersection(set(range(3,10)))\n",
    "print(m1,m2,m3)\n",
    "m3 = m1.difference(m2)\n",
    "print(m1,m2,m3)\n",
    "m3 = m2.difference(m1)\n",
    "print(m1,m2,m3)\n",
    "m3 = m1.symmetric_difference(m2)\n",
    "print(m1,m2,m3)"
   ]
  },
  {
   "cell_type": "markdown",
   "metadata": {
    "slideshow": {
     "slide_type": "-"
    }
   },
   "source": [
    "<table border=\"0\" width=\"100%\" style=\"margin: 0px;\">\n",
    "<tr>  \n",
    "  <td style=\"text-align:left\"><a href=\"Hiztegiak.ipynb\">&lt; &lt; Hiztegiak &lt; &lt;</a></td>\n",
    "  <td style=\"text-align:right\"><a href=\"del%20sententzia.ipynb\">&gt; &gt; del sententzia &gt; &gt;</a></td>\n",
    "</tr>\n",
    "</table>"
   ]
  }
 ],
 "metadata": {
  "celltoolbar": "Slideshow",
  "kernelspec": {
   "display_name": "Python 3",
   "language": "python",
   "name": "python3"
  },
  "language_info": {
   "codemirror_mode": {
    "name": "ipython",
    "version": 3
   },
   "file_extension": ".py",
   "mimetype": "text/x-python",
   "name": "python",
   "nbconvert_exporter": "python",
   "pygments_lexer": "ipython3",
   "version": "3.7.4"
  },
  "rise": {
   "autolaunch": true,
   "footer": "<h2 align=\"center\">Konputaziorako Sarrera</h2>",
   "scroll": true
  }
 },
 "nbformat": 4,
 "nbformat_minor": 2
}
