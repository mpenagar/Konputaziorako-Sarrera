{
 "cells": [
  {
   "cell_type": "markdown",
   "metadata": {
    "slideshow": {
     "slide_type": "slide"
    }
   },
   "source": [
    "# `while` sententzia \n",
    "\n",
    "Programazio lengoaiek izan ohi duten oinarrizko kontrol egitura errepikakorra:\n",
    "\n",
    "``` python\n",
    "while baldintza :\n",
    "    kode-blokea1\n",
    "else :\n",
    "    kode-blokea2\n",
    "```"
   ]
  },
  {
   "cell_type": "markdown",
   "metadata": {
    "slideshow": {
     "slide_type": "slide"
    }
   },
   "source": [
    "``` python\n",
    "while baldintza :\n",
    "    kode-blokea1\n",
    "else :\n",
    "    kode-blokea2\n",
    "```\n",
    "Kontrol egituraren konportamoldea:\n",
    "\n",
    " 1. Baldintza egia bada, hurrengo pausuarekin jarraitu. Gezurra bada, azken pausura jauzi egin.\n",
    " 1. Lehenengo kode blokea exekutatu eta lehenengo pausura jauzi egin.\n",
    " 1. Bigarren kode blokea exetutatu, kontrol egitura amaituz."
   ]
  },
  {
   "cell_type": "markdown",
   "metadata": {
    "slideshow": {
     "slide_type": "slide"
    }
   },
   "source": [
    "``` python\n",
    "while baldintza :\n",
    "    kode-blokea1\n",
    "else :\n",
    "    kode-blokea2\n",
    "```\n",
    "Edo beste era batetara esanda:\n",
    "\n",
    " 1. Baldintza egia den bitartean lehenengo kode blokea exekutatuko da behin eta berriro.\n",
    " 1. Baldintza gezurra denean, bigarren kode blokea exetutatuko da, kontrol egitura amaituz."
   ]
  },
  {
   "cell_type": "code",
   "execution_count": null,
   "metadata": {
    "slideshow": {
     "slide_type": "slide"
    }
   },
   "outputs": [],
   "source": [
    "x = int(input(\"Idatzi zenbaki bikoiti bat: \"))\n",
    "while x%2 != 0 :\n",
    "    print(x,\"????\")\n",
    "    x = int(input(\"Idatzi duzun zenbakia ez zen bikoitia... idatzi beste bat: \"))\n",
    "else :\n",
    "    print(\"Ados\")"
   ]
  },
  {
   "cell_type": "markdown",
   "metadata": {
    "slideshow": {
     "slide_type": "slide"
    }
   },
   "source": [
    "`while` sententzian ere, `else` blokea hautazkoa da:"
   ]
  },
  {
   "cell_type": "code",
   "execution_count": null,
   "metadata": {
    "slideshow": {
     "slide_type": "-"
    }
   },
   "outputs": [],
   "source": [
    "x = int(input(\"Idatzi zenbaki bikoiti bat: \"))\n",
    "while x%2 != 0 :\n",
    "    x = int(input(\"Idatzi duzun zenbakia ez zen bikoitia... idatzi beste bat: \"))\n",
    "print(\"Ados\")"
   ]
  },
  {
   "cell_type": "markdown",
   "metadata": {
    "slideshow": {
     "slide_type": "slide"
    }
   },
   "source": [
    "Edozein objektu baldintza batetan erabiltzeko aukera badugu ere... kodearen argitasunak ba du bere garrantzia:"
   ]
  },
  {
   "cell_type": "code",
   "execution_count": null,
   "metadata": {
    "slideshow": {
     "slide_type": "-"
    }
   },
   "outputs": [],
   "source": [
    "x = int(input(\"Idatzi zenbaki bikoiti bat: \"))\n",
    "while x%2 :\n",
    "    x = int(input(\"Idatzi duzun zenbakia ez zen bikoitia... idatzi beste bat: \"))\n",
    "print(\"Ados\")"
   ]
  },
  {
   "cell_type": "markdown",
   "metadata": {
    "slideshow": {
     "slide_type": "-"
    }
   },
   "source": [
    "<table border=\"0\" width=\"100%\" style=\"margin: 0px;\">\n",
    "<tr>  \n",
    "  <td style=\"text-align:left\"><a href=\"Aurrekoa.ipynb\">&lt; &lt; Aurrekoa &lt; &lt;</a></td>\n",
    "  <td style=\"text-align:right\"><a href=\"for sententzia.ipynb\">&gt; &gt; for sententziak &gt; &gt;</a></td>\n",
    "</tr>\n",
    "</table>"
   ]
  }
 ],
 "metadata": {
  "celltoolbar": "Slideshow",
  "kernelspec": {
   "display_name": "Python 3",
   "language": "python",
   "name": "python3"
  },
  "language_info": {
   "codemirror_mode": {
    "name": "ipython",
    "version": 3
   },
   "file_extension": ".py",
   "mimetype": "text/x-python",
   "name": "python",
   "nbconvert_exporter": "python",
   "pygments_lexer": "ipython3",
   "version": "3.7.6"
  },
  "rise": {
   "autolaunch": true,
   "footer": "<h2 align=\"center\">Konputaziorako Sarrera</h2>",
   "scroll": true
  }
 },
 "nbformat": 4,
 "nbformat_minor": 2
}
