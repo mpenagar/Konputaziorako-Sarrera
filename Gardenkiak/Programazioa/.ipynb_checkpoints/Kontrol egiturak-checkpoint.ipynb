{
 "cells": [
  {
   "cell_type": "markdown",
   "metadata": {
    "slideshow": {
     "slide_type": "slide"
    }
   },
   "source": [
    "# Kontrol egiturak\n",
    "\n",
    "Kontrol egiturek exekuzioaren fluxua adierazteko balio dute. Defektuz, ezekuzioa sekuentziala izango da, hau da, aginduak bata bestearen atzetik exekutatuko dira adieraziak dauden ordenean:"
   ]
  },
  {
   "cell_type": "code",
   "execution_count": null,
   "metadata": {
    "slideshow": {
     "slide_type": "-"
    }
   },
   "outputs": [],
   "source": [
    "print(1)\n",
    "print(2)\n",
    "print(3)\n",
    "print(4)"
   ]
  },
  {
   "cell_type": "markdown",
   "metadata": {
    "slideshow": {
     "slide_type": "slide"
    }
   },
   "source": [
    "Kontrol egiturak bi taldetan sailkatu daitezke eratzen duten fluxu motaren arabera:\n",
    "\n",
    " 1. **Baldintzazko kontrol egiturak** &rarr; exekutatua izango den sententzia multzoa zein izango den baldintzen arabera adierazteko aukera eskeintzen dute.\n",
    "   * `IF`\n",
    " 1. **Kontrol egitura errepikakorrak** &rarr; sententzi multzo bat behin eta berriro exekutatzeko aukera eskeintzen dute.\n",
    "   * `WHILE`\n",
    "   * `FOR`"
   ]
  },
  {
   "cell_type": "markdown",
   "metadata": {
    "slideshow": {
     "slide_type": "slide"
    }
   },
   "source": [
    "## Egiturak eta sententzi multzoak (kode blokeak)\n",
    "\n",
    "Pythonek *indentazioa* erabiltzen du sententzi multzoak edo kode blokeak adierazteko. Generalean, *egitura* baten definizioa `:` zeinuaz hasten da eta barnean dauden sententzi guztiak **4 hutsunetako** indentazioa izan behar dute.\n",
    "\n",
    "```\n",
    "egitura bat :\n",
    "|   sententzia\n",
    "|   sententzia\n",
    "|   beste egitura bat :\n",
    "|   |   sententzia\n",
    "|   |   sententzia\n",
    "|   |   sententzia\n",
    "|   |   azken egitura :\n",
    "|   |   |   sententzia\n",
    "|   |   |   sententzia\n",
    "|   |   |   sententzia\n",
    "|   |   sententzia\n",
    "|   |   sententzia\n",
    "|   sentenztia\n",
    "|   sentenztia\n",
    "```\n",
    "\n",
    "Orain kontrol egiturekin ari bagara ere, eredu hau beste egitura guztietan ematen da: funtzioak, klaseak, etab."
   ]
  },
  {
   "cell_type": "markdown",
   "metadata": {
    "slideshow": {
     "slide_type": "-"
    }
   },
   "source": [
    "<table border=\"0\" width=\"100%\" style=\"margin: 0px;\">\n",
    "<tr>  \n",
    "  <td style=\"text-align:left\"><a href=\"Oinarrizko datu sarrera eta irteera.ipynb\">&lt; &lt; Oinarrizko datu sarrera eta irteera &lt; &lt;</a></td>\n",
    "  <td style=\"text-align:right\"><a href=\"if sententzia.ipynb\">&gt; &gt; if sententzia &gt; &gt;</a></td>\n",
    "</tr>\n",
    "</table>"
   ]
  }
 ],
 "metadata": {
  "celltoolbar": "Slideshow",
  "kernelspec": {
   "display_name": "Python 3",
   "language": "python",
   "name": "python3"
  },
  "language_info": {
   "codemirror_mode": {
    "name": "ipython",
    "version": 3
   },
   "file_extension": ".py",
   "mimetype": "text/x-python",
   "name": "python",
   "nbconvert_exporter": "python",
   "pygments_lexer": "ipython3",
   "version": "3.7.6"
  },
  "rise": {
   "autolaunch": true,
   "footer": "<h2 align=\"center\">Konputaziorako Sarrera</h2>",
   "scroll": true
  }
 },
 "nbformat": 4,
 "nbformat_minor": 2
}
