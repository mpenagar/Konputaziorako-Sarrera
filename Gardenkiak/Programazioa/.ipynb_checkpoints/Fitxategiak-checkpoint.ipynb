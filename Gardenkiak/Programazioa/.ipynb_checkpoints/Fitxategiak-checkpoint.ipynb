{
 "cells": [
  {
   "cell_type": "markdown",
   "metadata": {
    "slideshow": {
     "slide_type": "slide"
    }
   },
   "source": [
    "# Fitxategiak\n",
    "\n",
    "Programa baten exekuzioa amaitzean, aldagaietan gordetako emaitza guztiak *desagertu* (*galdu*) egiten dira.\n",
    "\n",
    "* Aldagaiek izaera **iragankorra** dute\n",
    "\n",
    "Guk erabiltzen ditugun programek, normalean, informazioa gordetzen dute.\n",
    "\n",
    "* Izaera **iraunkorra** dute\n",
    "* Berriro ere exekutatzean, emaitza zaharrak berreskuratzen dira.\n",
    "* Lekuren batetan gorde da informazio hori\n",
    "   * Fitxategiak\n",
    "   * *cloud* &rarr; beste norbaiten ordenagailuan dauden fitxategiak\n"
   ]
  },
  {
   "cell_type": "markdown",
   "metadata": {
    "slideshow": {
     "slide_type": "slide"
    }
   },
   "source": [
    "Sistema eragileak *fitxategi sistema* bat kudeatu eta eskeintzen dio aplikazioari.\n",
    "\n",
    "* Direktorio/fitxategi egitura hierarkikoa\n",
    "    * Edukia aztertu\n",
    "    * Edukia aldatu\n",
    "    * Atributuak (izena, jabetza, baimenak, ...) aldatu\n",
    "    * Berriak sortu\n",
    "* Direktorio/fitxategiak bere bide-izenaz adieraziak\n",
    "    * Windows &rarr; \"C:\\Users\\Alazne\\Desktop\\datuak\"\n",
    "    * Linux &rarr; \"/home/Alazne/Desktop/datuak\""
   ]
  },
  {
   "cell_type": "markdown",
   "metadata": {
    "slideshow": {
     "slide_type": "slide"
    }
   },
   "source": [
    "<table width=\"100%\" \">\n",
    "<tr>  \n",
    "    <td><img src=\"../../img/WindowsFileSystem.png\"/></td>\n",
    "    <td><img src=\"../../img/LinuxFileSystem.png\"/></td> \n",
    "</tr>\n",
    "</table>"
   ]
  },
  {
   "cell_type": "markdown",
   "metadata": {
    "slideshow": {
     "slide_type": "slide"
    }
   },
   "source": [
    "## Windows/Linux (Unix) fitxategi sistemak\n",
    "\n",
    "### Windows \n",
    "\n",
    "* Sistemaren erroak: Biltegiratze unitateetako partizioak\n",
    "    * Unitate letrak (`A:\\`, `B:\\`, `C:\\`, `D:\\`, ...)\n",
    "* Direktorioen bideizen bereizlea: `\\`\n",
    "   * `C:\\Users\\Alazne\\Desktop\\datuak`\n",
    "\n",
    "### Linux (Unix) \n",
    "\n",
    "* Sistemaren erroa: `/`\n",
    "* Direktorioen bideizen bereizlea: `/` \n",
    "    * `/home/Alazne/Desktop/datuak`\n"
   ]
  },
  {
   "cell_type": "markdown",
   "metadata": {
    "slideshow": {
     "slide_type": "slide"
    }
   },
   "source": [
    "## Windows eta bideizen bereizlea\n",
    "\n",
    "Unix-en, `\\` karakterea [*escape*](https://python-reference.readthedocs.io/en/latest/docs/str/escapes.html) karaktereak adierazteko erabilia."
   ]
  },
  {
   "cell_type": "code",
   "execution_count": null,
   "metadata": {
    "slideshow": {
     "slide_type": "-"
    }
   },
   "outputs": [],
   "source": [
    "# Tabuladorea eta lerro berria adierazteko\n",
    "print(\"a\\tb\\ncde\\tf\")"
   ]
  },
  {
   "cell_type": "code",
   "execution_count": null,
   "metadata": {
    "slideshow": {
     "slide_type": "-"
    }
   },
   "outputs": [],
   "source": [
    "# Unikode kodifikazioa zuzenean adierazteko\n",
    "print(\"Parre apur bat egin ezazu... \\U0001F602\")"
   ]
  },
  {
   "cell_type": "code",
   "execution_count": null,
   "metadata": {
    "slideshow": {
     "slide_type": "-"
    }
   },
   "outputs": [],
   "source": [
    "# Carriage Return karakterea adierazteko\n",
    "for i in range(10000):\n",
    "    print(i,end=\"\\r\",flush=True)"
   ]
  },
  {
   "cell_type": "markdown",
   "metadata": {
    "slideshow": {
     "slide_type": "slide"
    }
   },
   "source": [
    "Programazio ingurune ia ia ia ia guztiak, Unix-en oinarrituak izan dira... Python ere."
   ]
  },
  {
   "cell_type": "code",
   "execution_count": null,
   "metadata": {},
   "outputs": [],
   "source": [
    "print(\"C:\\nire\\karpeta\\totala\")"
   ]
  },
  {
   "cell_type": "code",
   "execution_count": null,
   "metadata": {},
   "outputs": [],
   "source": [
    "#print(\"C:\\Users\\Alazne\\Desktop\\datuak\")"
   ]
  },
  {
   "cell_type": "markdown",
   "metadata": {
    "slideshow": {
     "slide_type": "slide"
    }
   },
   "source": [
    "Python+Windows ingurunean bi aukera:\n",
    "* `\\\\` erabili:"
   ]
  },
  {
   "cell_type": "code",
   "execution_count": null,
   "metadata": {
    "slideshow": {
     "slide_type": "-"
    }
   },
   "outputs": [],
   "source": [
    "print(\"C:\\\\nire\\\\karpeta\\\\totala\")\n",
    "print(\"C:\\\\Users\\\\Alazne\\\\Desktop\\\\datuak\")"
   ]
  },
  {
   "cell_type": "markdown",
   "metadata": {
    "slideshow": {
     "slide_type": "-"
    }
   },
   "source": [
    "* `/` erabili (Python arduratzen da bideizenak itzultzeaz)"
   ]
  },
  {
   "cell_type": "code",
   "execution_count": null,
   "metadata": {
    "slideshow": {
     "slide_type": "-"
    }
   },
   "outputs": [],
   "source": [
    "print(\"C:/nire/karpeta/totala\")\n",
    "print(\"C:/Users/Alazne/Desktop/datuak\")"
   ]
  },
  {
   "cell_type": "markdown",
   "metadata": {
    "slideshow": {
     "slide_type": "slide"
    }
   },
   "source": [
    "## Bide izen absolutu eta erlatiboak\n",
    "\n",
    "* Bide izen **absolutua**: Fitxategi sistema errotik habiatuz, adierazi nahi dugun fitxategirako bide izena\n",
    "    * `C:/Users/Alazne/Desktop/abestia.mp3`\n",
    "    * `/home/Alazne/Desktop/abestia.mp3`\n",
    "* Bide izen **erlatiboa**: Programa exekutatzen ari deneko karpetatik habiatuz, adierazi nahi dugun fitxategirako bide izena.\n",
    "    * Programa `C:/Users/Alazne` edo `/home/Alazne` direktorioan exekutatzen balego\n",
    "    * `Desktop/abestia.mp3`"
   ]
  },
  {
   "cell_type": "markdown",
   "metadata": {
    "slideshow": {
     "slide_type": "slide"
    }
   },
   "source": [
    "Bide izen erlatiboetan:\n",
    "* `.` &rarr; gaudeneko direktorioa\n",
    "    * `./Desktop/abestia.mp3`\n",
    "* `..` &rarr; gaudeneko direktorio *kanpoko* (azpiko) direktorioa\n",
    "    * `../Alazne/Desktop/abestia.mp3`\n",
    "    * Windows: `../../Users/Alazne/Desktop/abestia.mp3`\n",
    "    * Unix: `../../home/Alazne/Desktop/abestia.mp3`"
   ]
  },
  {
   "cell_type": "markdown",
   "metadata": {
    "slideshow": {
     "slide_type": "slide"
    }
   },
   "source": [
    "## Fitxategien irakurketa\n",
    "\n",
    "Fitxategi bat irakurri ahal izateko, lehenik *fitxategi* objektu bat behar dugu. `open` funtzioak emandako bideizenari dagokion  fitxategia errepresentatzen duen objektua bueltatzen du:"
   ]
  },
  {
   "cell_type": "code",
   "execution_count": null,
   "metadata": {
    "slideshow": {
     "slide_type": "-"
    }
   },
   "outputs": [],
   "source": [
    "f = open(\"MyText.txt\",\"r\",encoding=\"utf8\")\n",
    "print(type(f))\n",
    "help(open)"
   ]
  },
  {
   "cell_type": "markdown",
   "metadata": {
    "slideshow": {
     "slide_type": "slide"
    }
   },
   "source": [
    "Demagun `MyText.txt` fitxategian ondoko edukia dugula:\n",
    "\n",
    "```\n",
    "Hau testu fitxategi bat da\n",
    "Bi ilara ditu\n",
    "Ez, bi ez, hiru jakiña!\n",
    "```\n",
    "\n",
    "Fitxategi objektuak metodoak dituzte. Metodo hoietako batek, `readline()`, ilarak banan banan irakur ditzake, ilara bakoitza karaktere kate modual bueltatuz:"
   ]
  },
  {
   "cell_type": "code",
   "execution_count": null,
   "metadata": {
    "slideshow": {
     "slide_type": "-"
    }
   },
   "outputs": [],
   "source": [
    "print(1,f.readline(),end=\"\")\n",
    "print(2,f.readline(),end=\"\")\n",
    "print(3,f.readline(),end=\"\")"
   ]
  },
  {
   "cell_type": "markdown",
   "metadata": {
    "slideshow": {
     "slide_type": "slide"
    }
   },
   "source": [
    "Fitxategia irakurtzen amaitzean, `readline()` metodoak karaktere kate hutsa bueltatzen du:"
   ]
  },
  {
   "cell_type": "code",
   "execution_count": null,
   "metadata": {
    "slideshow": {
     "slide_type": "-"
    }
   },
   "outputs": [],
   "source": [
    "print(f.readline() == \"\")"
   ]
  },
  {
   "cell_type": "markdown",
   "metadata": {
    "slideshow": {
     "slide_type": "-"
    }
   },
   "source": [
    "Eta fitxategia gehiago erabili nahi ez dugunean, itxi egin beharko genuke:"
   ]
  },
  {
   "cell_type": "code",
   "execution_count": null,
   "metadata": {
    "slideshow": {
     "slide_type": "-"
    }
   },
   "outputs": [],
   "source": [
    "f.close()"
   ]
  },
  {
   "cell_type": "markdown",
   "metadata": {
    "slideshow": {
     "slide_type": "slide"
    }
   },
   "source": [
    "Ikusitakoa laburbilduz, ondoko funtzioak testu fitxategi baten edukia pantailatik erakusten du:"
   ]
  },
  {
   "cell_type": "code",
   "execution_count": null,
   "metadata": {},
   "outputs": [],
   "source": [
    "def erakutsi(bideizena,kodifikazioa=\"utf8\"):\n",
    "    f = open(bideizena,encoding=kodifikazioa)\n",
    "    s = f.readline()\n",
    "    while s :\n",
    "        print(s,end=\"\")\n",
    "        s = f.readline()\n",
    "    f.close()\n",
    "    \n",
    "erakutsi(\"MyText.txt\")\n",
    "print(\"\\n--------------\")\n",
    "erakutsi(\"/notebooks/Konputaziorako-Sarrera-2019-2020/Gardenkiak/Programazioa/MyText.txt\")"
   ]
  },
  {
   "cell_type": "markdown",
   "metadata": {
    "slideshow": {
     "slide_type": "slide"
    }
   },
   "source": [
    "Ileren amaierako `\\n`-ak nahasten bagaitu, karaktere kateen `strip()` metodoarekin kendu dezakegu ilara irakurri bezain laster:"
   ]
  },
  {
   "cell_type": "code",
   "execution_count": null,
   "metadata": {
    "slideshow": {
     "slide_type": "-"
    }
   },
   "outputs": [],
   "source": [
    "def erakutsi(bideizena):\n",
    "    f = open(bideizena)\n",
    "    s = f.readline().strip()\n",
    "    while s :\n",
    "        print(s)\n",
    "        s = f.readline().strip()\n",
    "    f.close()\n",
    "    \n",
    "erakutsi(\"MyText.txt\")"
   ]
  },
  {
   "cell_type": "markdown",
   "metadata": {
    "slideshow": {
     "slide_type": "slide"
    }
   },
   "source": [
    "## Fitxategiak ITERAGARRIAK dira\n",
    "\n",
    "Testu fitxategi bat zeharkatzean, bere ilarak jasoko ditugu zuzenean:"
   ]
  },
  {
   "cell_type": "code",
   "execution_count": null,
   "metadata": {
    "slideshow": {
     "slide_type": "-"
    }
   },
   "outputs": [],
   "source": [
    "def erakutsi(bideizena,kodifikazioa=\"utf8\"):\n",
    "    f = open(bideizena,encoding=kodifikazioa)\n",
    "    for s in f :\n",
    "        print(s,end=\"\")\n",
    "    f.close()\n",
    "    \n",
    "erakutsi(\"MyText.txt\")"
   ]
  },
  {
   "cell_type": "markdown",
   "metadata": {
    "slideshow": {
     "slide_type": "slide"
    }
   },
   "source": [
    "## Testu fitxategiak eta Kodifikazioa\n",
    "Testu fitxategiek kodifikazio bat erabiltzen dute.\n",
    "* Kodifikazioa adierazteko, `encoding` argumentua dugu.\n",
    "```python\n",
    "open(file, encoding=None, ...)\n",
    "```\n",
    "* Adierazten ez badugu, defektuzkoa.\n",
    "    * *\"The default encoding is platform dependent\"*\n",
    "    * **BETI** adierazi beharko genuke"
   ]
  },
  {
   "cell_type": "code",
   "execution_count": null,
   "metadata": {
    "scrolled": true,
    "slideshow": {
     "slide_type": "slide"
    }
   },
   "outputs": [],
   "source": [
    "def erakutsi(bideizena, kodif=\"utf-8\"):\n",
    "    f = open(bideizena,encoding=kodif)\n",
    "    for s in f :\n",
    "        print(s,end=\"\")\n",
    "    f.close()\n",
    "    \n",
    "erakutsi(\"MyText.txt\")\n",
    "print(\"\\n------------\")\n",
    "erakutsi(\"MyText.txt\",\"utf-8\")\n",
    "print(\"\\n------------\")\n",
    "erakutsi(\"MyText.txt\",\"latin-1\")\n",
    "#print(\"\\n------------\")\n",
    "#erakutsi(\"MyText.txt\",\"ascii\")"
   ]
  },
  {
   "cell_type": "markdown",
   "metadata": {
    "slideshow": {
     "slide_type": "slide"
    }
   },
   "source": [
    "## Fitxategietan idazten\n",
    "\n",
    "Fitxategi bat irekitzean, defektuz, irakurketarako irekitzen da:\n",
    "\n",
    "```python\n",
    "open(file, mode='r', ...)\n",
    "```\n",
    "`mode` argumentuak aukera asko ditu:\n",
    "\n",
    "* `\"r\"` &rarr; *open for **r**eading (default)*\n",
    "* `\"w\"` &rarr; *open for **w**riting, truncating the file first*\n",
    "* `\"a\"` &rarr; *open for writing, **a**ppending to the end of the file if it exists*\n"
   ]
  },
  {
   "cell_type": "markdown",
   "metadata": {
    "slideshow": {
     "slide_type": "slide"
    }
   },
   "source": [
    "Fitxategi batetan idazteko bi aukera ezberdin ditugu:\n",
    "```python\n",
    "# 1 - Fitxategi objektuek duten write metodoa.\n",
    "# text argumentua BETI karaktere kate bat izan behar da \n",
    "f.write(text)\n",
    "```\n",
    "```python\n",
    "# 2 - print metodoa, file argumentua aldatuz.\n",
    "print(value, ..., sep=' ', end='\\n', file=sys.stdout, flush=False)\n",
    "```"
   ]
  },
  {
   "cell_type": "code",
   "execution_count": null,
   "metadata": {
    "slideshow": {
     "slide_type": "-"
    }
   },
   "outputs": [],
   "source": [
    "f = open(\"MyText2.txt\",\"w\",encoding=\"utf8\")\n",
    "f.write(\"Lehenengo ilara\\n\")\n",
    "print(\"Bigarren ilara\",file=f)\n",
    "f.write(\"Hirugarren ilara!!!!\")\n",
    "f.close()\n",
    "print(\"------------\")\n",
    "erakutsi(\"MyText2.txt\")"
   ]
  },
  {
   "cell_type": "markdown",
   "metadata": {
    "slideshow": {
     "slide_type": "slide"
    }
   },
   "source": [
    "`mode=\"w\"` erabiltzean, aurretik genuen edukia ezabatu egiten da: "
   ]
  },
  {
   "cell_type": "code",
   "execution_count": null,
   "metadata": {},
   "outputs": [],
   "source": [
    "erakutsi(\"MyText2.txt\")\n",
    "print(\"------------\")\n",
    "\n",
    "f = open(\"MyText2.txt\",\"w\",encoding=\"utf8\")\n",
    "print(\"Bat\",file=f)\n",
    "print(\"Bi\",file=f)\n",
    "print(\"Hiru\",file=f)\n",
    "f.close()\n",
    "\n",
    "print(\"------------\")\n",
    "erakutsi(\"MyText2.txt\")"
   ]
  },
  {
   "cell_type": "markdown",
   "metadata": {
    "slideshow": {
     "slide_type": "slide"
    }
   },
   "source": [
    "`mode=\"a\"` erabiltzean ordea, aurretik genuen edukia mantendu egiten da: "
   ]
  },
  {
   "cell_type": "code",
   "execution_count": null,
   "metadata": {
    "slideshow": {
     "slide_type": "-"
    }
   },
   "outputs": [],
   "source": [
    "f = open(\"MyText2.txt\",\"a\",encoding=\"utf8\")\n",
    "print(\"Aaaaa\",file=f)\n",
    "print(\"Bbbbb\",file=f)\n",
    "print(\"Ccccc\",file=f)\n",
    "print(1,2,3,4,file=f)\n",
    "f.write(str(1) + \" \" + str(2) + \" \" + str(3) + \" \" + str(4) + \"\\n\")\n",
    "f.close()\n",
    "print(\"------------\")\n",
    "erakutsi(\"MyText2.txt\")"
   ]
  },
  {
   "cell_type": "markdown",
   "metadata": {
    "slideshow": {
     "slide_type": "slide"
    }
   },
   "source": [
    "## Fitxategiak eta Erroreak\n",
    "Fitxategi bat irekitzean erroreak gerta daitezke:\n",
    "* Fitxategia existitzen ez bada (`FileNotFoundError`)\n",
    "* Fitxategia irikitzeko baimenik ez badugu (`PermissionError`)\n",
    "* Direktorio bat irekitzen saiatzen bagara (`IsADirectoryError`)\n"
   ]
  },
  {
   "cell_type": "code",
   "execution_count": null,
   "metadata": {
    "slideshow": {
     "slide_type": "-"
    }
   },
   "outputs": [],
   "source": [
    "erakutsi(\"MyText.txt\")\n",
    "#erakutsi(\"MyText.txtxtxtx\")\n",
    "#erakutsi(\"/notebooks/Konputaziorako-Sarrera-2019-2020/Gardenkiak/Programazioa\")"
   ]
  },
  {
   "cell_type": "markdown",
   "metadata": {
    "slideshow": {
     "slide_type": "slide"
    }
   },
   "source": [
    "* Errore/salbuespen bat gertatzean, kudeatzen ez bada, programaren exekuzioa amaitu egiten da.\n",
    "* Erroreen kudeaketa `try-except-else` kontrol egituraren bidez egiten da:\n",
    "\n",
    "```python\n",
    "try :\n",
    "    # errorea/salbuespena sortu dezakeen kodea\n",
    "except :\n",
    "    # salbuespenaren kudeaketa kodea\n",
    "else :\n",
    "    # Salbuespenik ez badago, exekutatuko\n",
    "    # den \n",
    "```"
   ]
  },
  {
   "cell_type": "markdown",
   "metadata": {
    "slideshow": {
     "slide_type": "slide"
    }
   },
   "source": [
    "Aurreko funtzioa berridatzi genezake:"
   ]
  },
  {
   "cell_type": "code",
   "execution_count": null,
   "metadata": {
    "slideshow": {
     "slide_type": "-"
    }
   },
   "outputs": [],
   "source": [
    "def erakutsi(bideizena,kodif=\"utf-8\"):\n",
    "    try :\n",
    "        f = open(bideizena,encoding=kodif)\n",
    "    except :\n",
    "        print(\"ezin izan da fitxategia ireki\")\n",
    "    else:\n",
    "        for s in f :\n",
    "            print(s,end=\"\")\n",
    "        f.close()\n",
    "    \n",
    "erakutsi(\"MyText.txt\")\n",
    "print(\"\\n------------\")\n",
    "erakutsi(\"MyText.txtxtxtx\")"
   ]
  },
  {
   "cell_type": "markdown",
   "metadata": {
    "slideshow": {
     "slide_type": "slide"
    }
   },
   "source": [
    "## BAINA...\n",
    "\n",
    "Salbuespen bat **ongi** kudeatzea oso **oso** **OSO** zaila da\n",
    "\n",
    "* Fitxategien kasuan, salbuespenak ere irakurtzen ari garenean gerta daitezke\n",
    "    * Adibidez, *pendrive* bat deskonektatuz gero.\n",
    "* Programatzaileak moduren batean jakin behar du salbuespen hori gertatu ote den.\n",
    "    * Aurreko adibidean, ez du jakingo\n",
    "* Zuzen programatutako kudeaketek, normalean, errore berriak sortzen dituzte..."
   ]
  },
  {
   "cell_type": "markdown",
   "metadata": {
    "slideshow": {
     "slide_type": "slide"
    }
   },
   "source": [
    "Beraz, erregela erraz bat:\n",
    "* EZ KUDEATU SALBUESPENIK, egiten ari zarena guztiz argi ez duzun bitartean."
   ]
  },
  {
   "cell_type": "code",
   "execution_count": null,
   "metadata": {
    "slideshow": {
     "slide_type": "-"
    }
   },
   "outputs": [],
   "source": [
    "def erakutsi(bideizena, kodif=\"utf-8\"):\n",
    "    f = open(bideizena,encoding=kodif)\n",
    "    for s in f :\n",
    "        print(s,end=\"\")\n",
    "    f.close()"
   ]
  },
  {
   "cell_type": "markdown",
   "metadata": {
    "slideshow": {
     "slide_type": "-"
    }
   },
   "source": [
    "<table border=\"0\" width=\"100%\" style=\"margin: 0px;\">\n",
    "<tr>  \n",
    "  <td style=\"text-align:left\"><a href=\"Karaktere kateak.ipynb\">&lt; &lt; Karaktere kateak &lt; &lt;</a></td>\n",
    "  <td style=\"text-align:right\"><a href=\"Zerrendak.ipynb\">&gt; &gt; Zerrendak &gt; &gt;</a></td>\n",
    "</tr>\n",
    "</table>"
   ]
  }
 ],
 "metadata": {
  "celltoolbar": "Slideshow",
  "kernelspec": {
   "display_name": "Python 3",
   "language": "python",
   "name": "python3"
  },
  "language_info": {
   "codemirror_mode": {
    "name": "ipython",
    "version": 3
   },
   "file_extension": ".py",
   "mimetype": "text/x-python",
   "name": "python",
   "nbconvert_exporter": "python",
   "pygments_lexer": "ipython3",
   "version": "3.7.6"
  },
  "rise": {
   "autolaunch": true,
   "footer": "<h2 align=\"center\">Konputaziorako Sarrera</h2>",
   "scroll": true
  }
 },
 "nbformat": 4,
 "nbformat_minor": 2
}
