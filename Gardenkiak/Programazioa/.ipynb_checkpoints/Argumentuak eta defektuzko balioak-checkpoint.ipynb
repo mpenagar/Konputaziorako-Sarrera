{
 "cells": [
  {
   "cell_type": "markdown",
   "metadata": {
    "slideshow": {
     "slide_type": "slide"
    }
   },
   "source": [
    "# Keyword argumentuak eta defektuzko balioak\n",
    "\n",
    "Funtzioen argumentuek defektuzko balioak izan ditzakete.\n",
    "\n",
    "Gogoratzen [`print` funtzioa](Oinarrizko%20datu%20sarrera%20eta%20irteera.ipynb)?\n",
    "\n",
    "```python\n",
    "print(value,...,sep=' ',end='\\n',file=sys.stdout,flush=False)\n",
    "```\n",
    "\n",
    "   * Funtzioa exekutatzean argumentuari baliorik ez ematean, defektuzko balioa jasoko du.\n",
    "   * Defektuzko balioek, erabilpen aberatseko funtzioak sortzen dituzte.\n",
    "   "
   ]
  },
  {
   "cell_type": "code",
   "execution_count": 1,
   "metadata": {
    "slideshow": {
     "slide_type": "slide"
    }
   },
   "outputs": [
    {
     "name": "stdout",
     "output_type": "stream",
     "text": [
      "1 2 3 4\n",
      "1_2_3_4\n",
      "1_2_3_4AMAITU DA1_2_3_4AMAITU DA\n",
      "1 2\n",
      "3 4\n"
     ]
    }
   ],
   "source": [
    "print(1,2,3,4)\n",
    "print(1,2,3,4,sep=\"_\")\n",
    "print(1,2,3,4,sep=\"_\",end=\"AMAITU DA\")\n",
    "print(1,2,3,4,sep=\"_\",end=\"AMAITU DA\\n\")\n",
    "print(1,end=' ')\n",
    "print(2)\n",
    "print(3,end=' ')\n",
    "print(4)"
   ]
  },
  {
   "cell_type": "code",
   "execution_count": 5,
   "metadata": {
    "slideshow": {
     "slide_type": "slide"
    }
   },
   "outputs": [
    {
     "name": "stdout",
     "output_type": "stream",
     "text": [
      "Ikesta egin nahi al duzu? (bai/ez) : BAI\n",
      "  Erantzun okerra. Saiatu berriro\n",
      "Ikesta egin nahi al duzu? (bai/ez) : bai\n",
      "18 urte beteak al dituzu? (bai/ez) : dfyj\n",
      "  Beharrezkoa da erantzutea\n",
      "18 urte beteak al dituzu? (bai/ez) : dfgj\n",
      "  Beharrezkoa da erantzutea\n",
      "18 urte beteak al dituzu? (bai/ez) : fgh\n",
      "  Beharrezkoa da erantzutea\n",
      "18 urte beteak al dituzu? (bai/ez) : fgj\n",
      "  Beharrezkoa da erantzutea\n",
      "18 urte beteak al dituzu? (bai/ez) : fgj\n",
      "  Beharrezkoa da erantzutea\n",
      "18 urte beteak al dituzu? (bai/ez) : fgj\n",
      "  Beharrezkoa da erantzutea\n",
      "18 urte beteak al dituzu? (bai/ez) : fgjk\n",
      "  Beharrezkoa da erantzutea\n",
      "18 urte beteak al dituzu? (bai/ez) : fgj\n",
      "  Beharrezkoa da erantzutea\n",
      "18 urte beteak al dituzu? (bai/ez) : dfjg\n",
      "  Beharrezkoa da erantzutea\n",
      "18 urte beteak al dituzu? (bai/ez) : fgj\n",
      "  Beharrezkoa da erantzutea\n",
      "18 urte beteak al dituzu? (bai/ez) : fgj\n",
      "  Beharrezkoa da erantzutea\n",
      "18 urte beteak al dituzu? (bai/ez) : fgj\n",
      "  Beharrezkoa da erantzutea\n",
      "18 urte beteak al dituzu? (bai/ez) : ez\n"
     ]
    }
   ],
   "source": [
    "def galdetu_bai_ez(galdera, gehienez=4, errorea='  Erantzun okerra. Saiatu berriro'):\n",
    "    for i in range(gehienez):\n",
    "        x = input(galdera)\n",
    "        if x == \"bai\" :\n",
    "            return True\n",
    "        elif x == \"ez\" :\n",
    "            return False\n",
    "        else :\n",
    "            print(errorea)\n",
    "    return None\n",
    "\n",
    "if galdetu_bai_ez(\"Ikesta egin nahi al duzu? (bai/ez) : \") :\n",
    "    e = galdetu_bai_ez(\"18 urte beteak al dituzu? (bai/ez) : \"\n",
    "                       ,1000,\n",
    "                       \"  Beharrezkoa da erantzutea\")"
   ]
  },
  {
   "cell_type": "markdown",
   "metadata": {
    "slideshow": {
     "slide_type": "slide"
    }
   },
   "source": [
    "Funtzioa exekutatzean, argumentu izenak (*keywords*) erabiltzeko aukera dugu:"
   ]
  },
  {
   "cell_type": "code",
   "execution_count": 6,
   "metadata": {
    "slideshow": {
     "slide_type": "-"
    }
   },
   "outputs": [
    {
     "name": "stdout",
     "output_type": "stream",
     "text": [
      "Bai? fsd\n",
      "  bai ala ez erantzun\n",
      "Bai? sd\n",
      "  bai ala ez erantzun\n",
      "Bai? sdg\n",
      "  bai ala ez erantzun\n"
     ]
    }
   ],
   "source": [
    "e = galdetu_bai_ez(galdera=\"Bai? \", gehienez=3, errorea=\"  bai ala ez erantzun\")"
   ]
  },
  {
   "cell_type": "markdown",
   "metadata": {
    "slideshow": {
     "slide_type": "slide"
    }
   },
   "source": [
    "*keywords*-ak erabiltzea derrigorrezkoa izango da:\n",
    "   * Argumentuak beste orden batetan adierazteko.\n",
    "   * Erabiltzen ez dugun argumentu baten atzetik.\n",
    "   * Beste keyword baten ondoren."
   ]
  },
  {
   "cell_type": "code",
   "execution_count": null,
   "metadata": {
    "slideshow": {
     "slide_type": "-"
    }
   },
   "outputs": [],
   "source": [
    "e1 = galdetu_bai_ez(gehienez=2, galdera=\"Galdera bat: \", errorea=\"  Beste aukera bat duzu\")\n",
    "e2 = galdetu_bai_ez(\"Beste galdera bat: \", errorea=\"  Erantzun bai ala ez\")"
   ]
  },
  {
   "cell_type": "markdown",
   "metadata": {
    "slideshow": {
     "slide_type": "slide"
    }
   },
   "source": [
    "### Aurreko funtzioaren erabilpen erroreak\n",
    "\n",
    "   * `galdetu_bai_ez()` &rarr; derrigorrezko argumentu bat (galdera) falta da\n",
    "   * `galdetu_bai_ez(gehienez=2, \"Nire galdera\")` &rarr; keyword baten atzetik argumentu arrunta\n",
    "   * `galdetu_bai_ez(\"Zer moduz?\",galdera=\"Zelan?\")` &rarr; argumentu bikoiztua\n",
    "   * `galdetu_bai_ez(gadera=\"einnn?\")` &rarr; keyword okerra\n"
   ]
  },
  {
   "cell_type": "markdown",
   "metadata": {
    "slideshow": {
     "slide_type": "slide"
    }
   },
   "source": [
    "### Defektuzko balioak eta objektu aldakorrak\n",
    "\n",
    "Defektuzko balioak behin bakarrik ebaluatzen dira.\n",
    "   * Berdin digu noiz... ez da gure arazoa\n",
    "   * Ulertu beharrekoa da **BEHIN BAKARRIK** ebaluatzen dela."
   ]
  },
  {
   "cell_type": "code",
   "execution_count": 8,
   "metadata": {
    "slideshow": {
     "slide_type": "fragment"
    }
   },
   "outputs": [
    {
     "name": "stdout",
     "output_type": "stream",
     "text": [
      "------> orain ebaluatu da\n",
      "Hastera goaz\n",
      "x-ren balioa:  1\n",
      "x-ren balioa:  None\n",
      "x-ren balioa:  None\n",
      "x-ren balioa:  2\n"
     ]
    }
   ],
   "source": [
    "def eaba(x=print(\"------> orain ebaluatu da\")):\n",
    "    print(\"x-ren balioa: \",x)\n",
    "\n",
    "print(\"Hastera goaz\")\n",
    "eaba(1)\n",
    "eaba()\n",
    "eaba()\n",
    "eaba(2)"
   ]
  },
  {
   "cell_type": "markdown",
   "metadata": {
    "slideshow": {
     "slide_type": "slide"
    }
   },
   "source": [
    "<div class=\"alert alert-warning\">\n",
    "    Defektuzko balioa <b>objektu aldakor bat</b> bada eta funtzioak aldatzen badu, exekuzio guztiak <b>objektu berdina</b> ariko dira aldatzen.\n",
    "</div>"
   ]
  },
  {
   "cell_type": "code",
   "execution_count": 9,
   "metadata": {
    "slideshow": {
     "slide_type": "fragment"
    }
   },
   "outputs": [
    {
     "name": "stdout",
     "output_type": "stream",
     "text": [
      "[1, 2, 5, True]\n"
     ]
    }
   ],
   "source": [
    "# zerrendak objektu aldakorrak dira...\n",
    "z = [1,2,5]\n",
    "z.append(True)\n",
    "print(z)"
   ]
  },
  {
   "cell_type": "code",
   "execution_count": 10,
   "metadata": {
    "slideshow": {
     "slide_type": "fragment"
    }
   },
   "outputs": [
    {
     "name": "stdout",
     "output_type": "stream",
     "text": [
      "z1: [1, 2, 3, 4]\n",
      "z2: [1]\n",
      "z2: [1, 1]\n",
      "z3: [1, 1]\n"
     ]
    }
   ],
   "source": [
    "def zerrendan_gorde(x,z=[]):\n",
    "    z.append(x)\n",
    "    return z\n",
    "\n",
    "z1 = [1,2,3]\n",
    "zerrendan_gorde(4,z1)\n",
    "print(\"z1:\", z1)\n",
    "\n",
    "z2 = zerrendan_gorde(1)\n",
    "print(\"z2:\", z2)\n",
    "z3 = zerrendan_gorde(1)\n",
    "print(\"z2:\", z2)\n",
    "print(\"z3:\", z2)"
   ]
  },
  {
   "cell_type": "markdown",
   "metadata": {
    "slideshow": {
     "slide_type": "slide"
    }
   },
   "source": [
    "<div class=\"alert alert-info\">\n",
    "    Defektuzko objektu aldakorrak definitzeko modu egokiagoak daude.\n",
    "</div>"
   ]
  },
  {
   "cell_type": "code",
   "execution_count": null,
   "metadata": {
    "slideshow": {
     "slide_type": "-"
    }
   },
   "outputs": [],
   "source": [
    "def zerrendan_gorde(x,z=None):\n",
    "    if z == None :\n",
    "        z = []\n",
    "    z.append(x)\n",
    "    return z\n",
    "\n",
    "z1 = [1,2,3]\n",
    "zerrendan_gorde(4,z1)\n",
    "print(\"z1:\", z1)\n",
    "\n",
    "z2 = zerrendan_gorde(1)\n",
    "print(\"z2:\", z2)\n",
    "\n",
    "z3 = zerrendan_gorde(1)\n",
    "print(\"z2:\", z2)\n",
    "print(\"z3:\", z2)"
   ]
  },
  {
   "cell_type": "markdown",
   "metadata": {
    "slideshow": {
     "slide_type": "-"
    }
   },
   "source": [
    "<table border=\"0\" width=\"100%\" style=\"margin: 0px;\">\n",
    "<tr>  \n",
    "  <td style=\"text-align:left\"><a href=\"Aldagaien erabilpen esparrua.ipynb\">&lt; &lt; Aldagaien erabilpen esparrua &lt; &lt;</a></td>\n",
    "  <td style=\"text-align:right\"><a href=\"Karaktere kateak.ipynb\">&gt; &gt; Karaktere kateak &gt; &gt;</a></td>\n",
    "</tr>\n",
    "</table>"
   ]
  }
 ],
 "metadata": {
  "celltoolbar": "Slideshow",
  "kernelspec": {
   "display_name": "Python 3",
   "language": "python",
   "name": "python3"
  },
  "rise": {
   "autolaunch": true,
   "footer": "<h2 align=\"center\">Konputaziorako Sarrera</h2>",
   "scroll": true
  }
 },
 "nbformat": 4,
 "nbformat_minor": 2
}
