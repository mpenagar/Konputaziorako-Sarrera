{
 "cells": [
  {
   "cell_type": "markdown",
   "metadata": {
    "slideshow": {
     "slide_type": "slide"
    }
   },
   "source": [
    "# `if` sententzia\n",
    "\n",
    "Oinarrizko baldintzazko kontrol egitura adierazten duen sententzia dugu. Bere egitura ondokoa da:\n",
    "\n",
    "``` python\n",
    "if baldintza1 :\n",
    "    kode-blokea1\n",
    "elif baldintza2 :\n",
    "    kode-blokea2\n",
    "elif baldintza3 :\n",
    "    kode-blokea3\n",
    "...\n",
    "else :\n",
    "    azken-kode-blokea\n",
    "```"
   ]
  },
  {
   "cell_type": "markdown",
   "metadata": {
    "slideshow": {
     "slide_type": "slide"
    }
   },
   "source": [
    "Kontrol egitura honen konportamoldea oso erraza da:\n",
    "\n",
    " 1. Lehenengo baldintza betetzen bada, lehenengo kode blokea exekutatuko da, kontrol egitura amaituz.\n",
    " 1. Aurreko baldintza betetzen ez bada eta bigarren baldintza betetzen bada, bigarren kode blokea exekutatuko da, kontrol egitura amaituz.\n",
    " 1. Aurreko baldintzak betetzen ez badira eta hirugarren baldintza betetzen bada, hirugarren kode blokea exekutatuko da, kontrol egitura amaituz.\n",
    " 1. ...\n",
    " 1. Aurreko baldintza guztiak betetzen ez badira, azken kode blokea exekutatuko da, kontrol egitura amaituz."
   ]
  },
  {
   "cell_type": "code",
   "execution_count": 10,
   "metadata": {
    "slideshow": {
     "slide_type": "slide"
    }
   },
   "outputs": [
    {
     "name": "stdout",
     "output_type": "stream",
     "text": [
      "Idatzi zenbaki oso bat: 243\n",
      "Idatzi duzun zenbakia positiboa da\n"
     ]
    }
   ],
   "source": [
    "x = int(input(\"Idatzi zenbaki oso bat: \"))\n",
    "if x == 0:\n",
    "    print(\"Idatzi duzun zenbakia 0 da\")\n",
    "elif x < 0 :\n",
    "    print(\"Idatzi duzun zenbakia negatiboa da\")\n",
    "else :\n",
    "    print(\"Idatzi duzun zenbakia positiboa da\")"
   ]
  },
  {
   "cell_type": "markdown",
   "metadata": {
    "slideshow": {
     "slide_type": "slide"
    }
   },
   "source": [
    "`if` sententziak malgutasuna du bere egiturari dagokionez:\n",
    " * `if` blokea derrigorrezkoa da eta bakarra egon daiteke.\n",
    " * `elif` blokeak hautazkoak dira, eta nahi adina egon daitezke.\n",
    " * `else` blokea hautazkoa da eta bakarra egon daiteke.\n"
   ]
  },
  {
   "cell_type": "markdown",
   "metadata": {
    "slideshow": {
     "slide_type": "slide"
    }
   },
   "source": [
    "## kontrol egitura habiatuak\n",
    "\n",
    "Kontrol egitura batetako kode bloke batetan beste kontrol egiturak egon daitezke, kontrol egitura habiatuak (*nested*, *anidadas*) sortuz:\n",
    "\n",
    "``` python\n",
    "if baldintza1 :\n",
    "    if baldintza1_1 :\n",
    "        kode-blokea1_1\n",
    "    elif baldintza1_2 :\n",
    "        kode-blokea1_2\n",
    "    else :\n",
    "        azken-kode-blokea1\n",
    "elif baldintza2 :\n",
    "    if baldintza2_1 :\n",
    "        kode-blokea1_1\n",
    "    else :\n",
    "        azken-kode-blokea2\n",
    "else :\n",
    "    if baldintza4_1 :\n",
    "        kode-blokea4_1\n",
    "```"
   ]
  },
  {
   "cell_type": "markdown",
   "metadata": {
    "slideshow": {
     "slide_type": "slide"
    }
   },
   "source": [
    "## `elif` vs *`esle: if`*\n",
    "\n",
    "`elif` gakohitza *`else: if`*-en baliokidea da (`else` baten barnean dagoen `if` bat), gehiegizko indentazioa eragozteko sortua. Ondoko bi adibideek fluxu berdina adierazten badute ere, argi dago `elif`-aren erabilpenak ulermena errazten duela:"
   ]
  },
  {
   "cell_type": "markdown",
   "metadata": {
    "slideshow": {
     "slide_type": "fragment"
    }
   },
   "source": [
    "### `elif` erabiliz:\n",
    "\n",
    "``` python\n",
    "if baldintza1 :\n",
    "    kode-blokea1\n",
    "elif baldintza2 :\n",
    "    kode-blokea2\n",
    "elif baldintza3 :\n",
    "    kode-blokea3\n",
    "else :\n",
    "    azken-kode-blokea\n",
    "```\n",
    "\n",
    "### *`esle: if`* erabiliz:\n",
    "\n",
    "``` python\n",
    "if baldintza1 :\n",
    "    kode-blokea1\n",
    "else :\n",
    "    if baldintza2 :\n",
    "        kode-blokea2\n",
    "    else :\n",
    "        if baldintza3 :\n",
    "            kode-blokea3\n",
    "        else :\n",
    "            azken-kode-blokea\n",
    "```\n",
    "\n"
   ]
  },
  {
   "cell_type": "markdown",
   "metadata": {
    "slideshow": {
     "slide_type": "-"
    }
   },
   "source": [
    "<table border=\"0\" width=\"100%\" style=\"margin: 0px;\">\n",
    "<tr>  \n",
    "  <td style=\"text-align:left\"><a href=\"Kontrol egiturak.ipynb\">&lt; &lt; Kontrol egiturak &lt; &lt;</a></td>\n",
    "  <td style=\"text-align:right\"><a href=\"while sententzia.ipynb\">&gt; &gt; while sententzia &gt; &gt;</a></td>\n",
    "</tr>\n",
    "</table>"
   ]
  }
 ],
 "metadata": {
  "celltoolbar": "Slideshow",
  "kernelspec": {
   "display_name": "Python 3",
   "language": "python",
   "name": "python3"
  },
  "language_info": {
   "codemirror_mode": {
    "name": "ipython",
    "version": 3
   },
   "file_extension": ".py",
   "mimetype": "text/x-python",
   "name": "python",
   "nbconvert_exporter": "python",
   "pygments_lexer": "ipython3",
   "version": "3.7.4"
  },
  "rise": {
   "autolaunch": true,
   "footer": "<h2 align=\"center\">Konputaziorako Sarrera</h2>",
   "scroll": true
  }
 },
 "nbformat": 4,
 "nbformat_minor": 2
}
