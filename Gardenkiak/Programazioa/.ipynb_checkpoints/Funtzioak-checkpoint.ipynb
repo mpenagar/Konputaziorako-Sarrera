{
 "cells": [
  {
   "cell_type": "markdown",
   "metadata": {
    "slideshow": {
     "slide_type": "slide"
    }
   },
   "source": [
    "# Funtzioak\n",
    "\n",
    "Funtzio bat, *azpialgoritmo* (azpiproblema) bat ebazten duen sententzia multzoa da.\n",
    "\n",
    "Problema baten barnean azpiproblemak topatzea, ebatziko duen algoritmoa azpialgoritmoen menpe adieraztearen baliokidea da.\n",
    "   * Azpiproblemak **beti** ebazteko **errazagoak** izango dira.\n",
    "   * Azpiproblema berdin bat problema ezberdinetan agertu daiteke."
   ]
  },
  {
   "cell_type": "markdown",
   "metadata": {
    "slideshow": {
     "slide_type": "slide"
    }
   },
   "source": [
    "## Adibide bat: topatu *u* urte bat bisurtea ote den\n",
    "\n",
    "   * *Urte bat bisurtea da 400-en multiploa bada edo, 4-ren multiploa bada eta 100-ena ez bada.*\n",
    "   \n",
    "<div class=\"alert alert-info\">\n",
    "    <b>bisurte</b> propietatea <b>multiplo</b> propietatearen menpe jar dezakegu.\n",
    "</div>\n",
    "\n",
    "\n",
    "   * Demagun existitzen dela `multiploa(a,b)` funtzioa, zeinak `True` bueltatzen duen `a` balioa `b`-ren multiploa denean, eta `False` ez denean."
   ]
  },
  {
   "cell_type": "markdown",
   "metadata": {
    "slideshow": {
     "slide_type": "slide"
    }
   },
   "source": [
    "Orduan, ondoko espresioak:\n",
    "\n",
    "```\n",
    "multiploa(u,400)==True or ( multiploa(u,4)==True and multiploa(u,100)==False )\n",
    "```\n",
    "\n",
    "edo egokiago idatzia:\n",
    "\n",
    "```\n",
    "multiploa(u,400) or ( multiploa(u,4) and (not multiploa(u,100)) )\n",
    "```\n",
    "\n",
    "`True` bueltatzen du `u` urtea bisurtea denean, eta `False` ez denean."
   ]
  },
  {
   "cell_type": "markdown",
   "metadata": {
    "slideshow": {
     "slide_type": "slide"
    }
   },
   "source": [
    "Sor ditzagun bi funtzio, `multiploa(a,b)` eta `bisurtea(u)`. Bi funtzioak ***boolearrak*** izango dira (`True`/`False` bueltatzen dute):  "
   ]
  },
  {
   "cell_type": "code",
   "execution_count": null,
   "metadata": {
    "slideshow": {
     "slide_type": "-"
    }
   },
   "outputs": [],
   "source": [
    "def multiploa(a,b) :\n",
    "    \"\"\"True bueltatzen du a b-ren multiploa denean, False bestela.\"\"\"\n",
    "    if a % b == 0 :\n",
    "        return True\n",
    "    else :\n",
    "        return False\n",
    "    \n",
    "def bisurtea(u) :\n",
    "    \"\"\"True bueltatzen du u bisurtea denean, False bestela.\"\"\"\n",
    "    if multiploa(u,400) or ( multiploa(u,4) and (not multiploa(u,100)) ) :\n",
    "        return True\n",
    "    else :\n",
    "        return False"
   ]
  },
  {
   "cell_type": "markdown",
   "metadata": {
    "slideshow": {
     "slide_type": "slide"
    }
   },
   "source": [
    "Froga dezagun zer gertatzen den:"
   ]
  },
  {
   "cell_type": "code",
   "execution_count": null,
   "metadata": {
    "slideshow": {
     "slide_type": "fragment"
    }
   },
   "outputs": [],
   "source": [
    "print(multiploa(27,3))\n",
    "print(multiploa(28,3))"
   ]
  },
  {
   "cell_type": "code",
   "execution_count": null,
   "metadata": {
    "slideshow": {
     "slide_type": "fragment"
    }
   },
   "outputs": [],
   "source": [
    "print(2016,bisurtea(2016))\n",
    "print(2017,bisurtea(2017))\n",
    "print(1900,bisurtea(1900))\n",
    "print(2000,bisurtea(2000))\n",
    "for u in [2016,2017,1900,2000] :\n",
    "    print(u,bisurtea(u))"
   ]
  },
  {
   "cell_type": "markdown",
   "metadata": {
    "slideshow": {
     "slide_type": "slide"
    }
   },
   "source": [
    "## Funtzio baten definizioa\n",
    "\n",
    "```python\n",
    "def funtzio_izena(a,b,c...):\n",
    "    kode-blokea\n",
    "```\n",
    "\n",
    "   * Funtzioak nahi adina argumentu izan ditzake (0, 1, 2...)\n",
    "      * argumentuak funtzioaren aldagai *pribatuak* dira.\n",
    "   * Funtzioak **BETI** balio bat bueltatzen du.\n",
    "      * `return` sententziak funtzioa amaierazten du.\n",
    "      * `return` sententziaren balioa funtzioaren emaitza izango da.\n",
    "      * `return` sententziarik ez badago &rarr; `None` bueltatzen du."
   ]
  },
  {
   "cell_type": "markdown",
   "metadata": {
    "slideshow": {
     "slide_type": "slide"
    }
   },
   "source": [
    "## Funtzio boolearrak\n",
    "\n",
    "   * `True`/`False` bueltatzen dute.\n",
    "   * Oso erabilkorrak baldintza konplexuak *enkapsulatzeko*.\n",
    "      * `multiploa(a,b)` &rarr; `bisurtea(u)` &rarr; `lehena(n)`"
   ]
  },
  {
   "cell_type": "markdown",
   "metadata": {
    "slideshow": {
     "slide_type": "slide"
    }
   },
   "source": [
    "## Funtzio boolearrak II\n",
    "\n",
    "Ondoko bi funtzioak baliokideak dira:\n",
    "\n",
    "```python\n",
    "def f1():\n",
    "    ...\n",
    "    if baldintza :\n",
    "        return True\n",
    "    else :\n",
    "        return False\n",
    "def f2():\n",
    "    ...\n",
    "    return baldintza\n",
    "```"
   ]
  },
  {
   "cell_type": "markdown",
   "metadata": {
    "slideshow": {
     "slide_type": "slide"
    }
   },
   "source": [
    "## Funtzio boolearrak III\n",
    "\n",
    "Tira, aurrekoa ez zen guztiz zuzena (Python-en edozer gauza jar dezakegu baldintza batetan...). Benetako funtzio baliokideak hauek dira:\n",
    "\n",
    "```python\n",
    "def f1():\n",
    "    ...\n",
    "    if zerbait :\n",
    "        return True\n",
    "    else :\n",
    "        return False\n",
    "\n",
    "def f2():\n",
    "    ...\n",
    "    return bool(zerbait)\n",
    "```"
   ]
  },
  {
   "cell_type": "markdown",
   "metadata": {
    "slideshow": {
     "slide_type": "slide"
    }
   },
   "source": [
    "Aurreko `multiploa(a,b)` eta `bisurtea(u)` funtzio boolearrak berridatziz:"
   ]
  },
  {
   "cell_type": "code",
   "execution_count": null,
   "metadata": {
    "slideshow": {
     "slide_type": "-"
    }
   },
   "outputs": [],
   "source": [
    "def multiploa(a,b) :\n",
    "    \"\"\"True bueltatzen du a b-ren multiploa denean, False bestela.\"\"\"\n",
    "    return a % b == 0\n",
    "    \n",
    "def bisurtea(u) :\n",
    "    \"\"\"True bueltatzen du u bisurtea denean, False bestela.\n",
    "    \n",
    "    jarraitu idazten..\"\"\"\n",
    "    return multiploa(u,400) | ( multiploa(u,4) & (not multiploa(u,100)) ) \n",
    "\n",
    "print(2016,bisurtea(2016))\n",
    "print(2017,bisurtea(2017))\n",
    "print(1900,bisurtea(1900))\n",
    "print(2000,bisurtea(2000))\n",
    "#help(print)\n",
    "help(multiploa)\n",
    "help(bisurtea)"
   ]
  },
  {
   "cell_type": "markdown",
   "metadata": {
    "slideshow": {
     "slide_type": "slide"
    }
   },
   "source": [
    "## Dokumentazioa\n",
    "\n",
    "Funtzioaren haseran jarri ditugun `\"\"\"True bueltatzen du...\"\"\"` komentarioak funtzioaren dokumentazio bilakatzen dira:"
   ]
  },
  {
   "cell_type": "code",
   "execution_count": null,
   "metadata": {
    "slideshow": {
     "slide_type": "-"
    }
   },
   "outputs": [],
   "source": [
    "help(multiploa)"
   ]
  },
  {
   "cell_type": "code",
   "execution_count": null,
   "metadata": {
    "slideshow": {
     "slide_type": "-"
    }
   },
   "outputs": [],
   "source": [
    "help(bisurtea)"
   ]
  },
  {
   "cell_type": "markdown",
   "metadata": {
    "slideshow": {
     "slide_type": "-"
    }
   },
   "source": [
    "<table border=\"0\" width=\"100%\" style=\"margin: 0px;\">\n",
    "<tr>  \n",
    "  <td style=\"text-align:left\"><a href=\"break eta continue sententziak.ipynb\">&lt; &lt; break eta continue sententziak &lt; &lt;</a></td>\n",
    "  <td style=\"text-align:right\"><a href=\"Aldagaien erabilpen esparrua.ipynb\">&gt; &gt; Aldagaien erabilpen esparrua &gt; &gt;</a></td>\n",
    "</tr>\n",
    "</table>"
   ]
  }
 ],
 "metadata": {
  "celltoolbar": "Slideshow",
  "kernelspec": {
   "display_name": "Python 3",
   "language": "python",
   "name": "python3"
  },
  "language_info": {
   "codemirror_mode": {
    "name": "ipython",
    "version": 3
   },
   "file_extension": ".py",
   "mimetype": "text/x-python",
   "name": "python",
   "nbconvert_exporter": "python",
   "pygments_lexer": "ipython3",
   "version": "3.7.6"
  },
  "rise": {
   "autolaunch": true,
   "footer": "<h2 align=\"center\">Konputaziorako Sarrera</h2>",
   "scroll": true
  }
 },
 "nbformat": 4,
 "nbformat_minor": 2
}
