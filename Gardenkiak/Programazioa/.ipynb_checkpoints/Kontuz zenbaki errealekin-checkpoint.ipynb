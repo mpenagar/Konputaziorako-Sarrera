{
 "cells": [
  {
   "cell_type": "markdown",
   "metadata": {
    "slideshow": {
     "slide_type": "slide"
    }
   },
   "source": [
    "# Kontuz zenbaki errealekin...\n",
    "\n",
    "Zenbaki errealek duten kodifikazioa dela eta, doitasun arazoak sor daitezke non-nahi."
   ]
  },
  {
   "cell_type": "markdown",
   "metadata": {
    "slideshow": {
     "slide_type": "slide"
    }
   },
   "source": [
    "## Zenbaki bat `4`-ren multiploa den jakiteko...\n",
    "\n",
    "Ez erabili `i//4 == i/4` , `i%4 ==0` baizik:"
   ]
  },
  {
   "cell_type": "code",
   "execution_count": 1,
   "metadata": {
    "scrolled": true,
    "slideshow": {
     "slide_type": "fragment"
    }
   },
   "outputs": [
    {
     "name": "stdout",
     "output_type": "stream",
     "text": [
      "True\n",
      "False\n",
      "10000000000000001 1e+16\n"
     ]
    }
   ],
   "source": [
    "i = 40000000000000004\n",
    "print(i % 4 == 0)\n",
    "print(i // 4 == i / 4)\n",
    "print(i // 4 , i / 4)"
   ]
  },
  {
   "cell_type": "code",
   "execution_count": 35,
   "metadata": {
    "scrolled": true,
    "slideshow": {
     "slide_type": "fragment"
    }
   },
   "outputs": [
    {
     "name": "stdout",
     "output_type": "stream",
     "text": [
      "False\n",
      "True\n",
      "10000000000000000 1e+16\n"
     ]
    }
   ],
   "source": [
    "i = 40000000000000001\n",
    "print(i % 4 == 0)\n",
    "print(i // 4 == i / 4)\n",
    "print(i // 4 , i / 4)"
   ]
  }
 ],
 "metadata": {
  "celltoolbar": "Slideshow",
  "kernelspec": {
   "display_name": "Python 3",
   "language": "python",
   "name": "python3"
  },
  "language_info": {
   "codemirror_mode": {
    "name": "ipython",
    "version": 3
   },
   "file_extension": ".py",
   "mimetype": "text/x-python",
   "name": "python",
   "nbconvert_exporter": "python",
   "pygments_lexer": "ipython3",
   "version": "3.5.6"
  },
  "rise": {
   "autolaunch": true
  }
 },
 "nbformat": 4,
 "nbformat_minor": 2
}
