{
 "cells": [
  {
   "cell_type": "markdown",
   "metadata": {
    "slideshow": {
     "slide_type": "slide"
    }
   },
   "source": [
    "# Fitxategiak\n",
    "\n",
    "Programa baten exekuzioa amaitzean, aldagaietan gordetako emaitza guztiak *desagertu* (*galdu*) egiten dira.\n",
    "\n",
    "* Aldagaiek izaera **iragankorra** dute\n",
    "\n",
    "Guk erabiltzen ditugun programek, normalean, informazioa gordetzen dute.\n",
    "\n",
    "* Izaera **iraunkorra** dute\n",
    "* Berriro ere exekutatzean, emaitza zaharrak berreskuratzen dira.\n",
    "* Lekuren batetan gorde da informazio hori\n",
    "   * Fitxategiak\n",
    "   * *cloud* &rarr; beste norbaiten ordenagailuan dauden fitxategiak\n"
   ]
  },
  {
   "cell_type": "markdown",
   "metadata": {
    "slideshow": {
     "slide_type": "slide"
    }
   },
   "source": [
    "Sistema eragileak *fitxategi sistema* bat kudeatu eta eskeintzen dio aplikazioari.\n",
    "\n",
    "* Direktorio/fitxategi egitura hierarkikoa\n",
    "    * Edukia aztertu\n",
    "    * Edukia aldatu\n",
    "    * Atributuak (izena, jabetza, baimenak, ...) aldatu\n",
    "    * Berriak sortu\n",
    "* Direktorio/fitxategiak bere bide-izenaz adieraziak\n",
    "    * Windows &rarr; \"C:\\Users\\Alazne\\Desktop\\datuak\"\n",
    "    * Linux &rarr; \"/home/Alazne/Desktop/datuak\""
   ]
  },
  {
   "cell_type": "markdown",
   "metadata": {
    "slideshow": {
     "slide_type": "slide"
    }
   },
   "source": [
    "<table width=\"100%\" \">\n",
    "<tr>  \n",
    "    <td><img src=\"../../img/WindowsFileSystem.png\"/></td>\n",
    "    <td><img src=\"../../img/LinuxFileSystem.png\"/></td> \n",
    "</tr>\n",
    "</table>"
   ]
  },
  {
   "cell_type": "markdown",
   "metadata": {
    "slideshow": {
     "slide_type": "slide"
    }
   },
   "source": [
    "## Windows/Linux (Unix) fitxategi sistemak\n",
    "\n",
    "### Windows \n",
    "\n",
    "* Sistemaren erroak: Biltegiratze unitateetako partizioak\n",
    "    * Unitate letrak (`A:\\`, `B:\\`, `C:\\`, `D:\\`, ...)\n",
    "* Direktorioen bideizen bereizlea: `\\`\n",
    "   * `C:\\Users\\Alazne\\Desktop\\datuak`\n",
    "\n",
    "### Linux (Unix) \n",
    "\n",
    "* Sistemaren erroa: `/`\n",
    "* Direktorioen bideizen bereizlea: `/` \n",
    "    * `/home/Alazne/Desktop/datuak`\n"
   ]
  },
  {
   "cell_type": "markdown",
   "metadata": {
    "slideshow": {
     "slide_type": "slide"
    }
   },
   "source": [
    "## Windows eta bideizen bereizlea\n",
    "\n",
    "Unix-en, `\\` karakterea [*escape*](https://python-reference.readthedocs.io/en/latest/docs/str/escapes.html) karaktereak adierazteko erabilia."
   ]
  },
  {
   "cell_type": "code",
   "execution_count": 1,
   "metadata": {
    "slideshow": {
     "slide_type": "-"
    }
   },
   "outputs": [
    {
     "name": "stdout",
     "output_type": "stream",
     "text": [
      "a\tb\n",
      "cde\tf\n"
     ]
    }
   ],
   "source": [
    "# Tabuladorea eta lerro berria adierazteko\n",
    "print(\"a\\tb\\ncde\\tf\")"
   ]
  },
  {
   "cell_type": "code",
   "execution_count": 2,
   "metadata": {
    "slideshow": {
     "slide_type": "-"
    }
   },
   "outputs": [
    {
     "name": "stdout",
     "output_type": "stream",
     "text": [
      "Parre apur bat egin ezazu... 😂\n"
     ]
    }
   ],
   "source": [
    "# Unikode kodifikazioa zuzenean adierazteko\n",
    "print(\"Parre apur bat egin ezazu... \\U0001F602\")"
   ]
  },
  {
   "cell_type": "code",
   "execution_count": 5,
   "metadata": {
    "slideshow": {
     "slide_type": "-"
    }
   },
   "outputs": [
    {
     "name": "stdout",
     "output_type": "stream",
     "text": [
      "9999\r"
     ]
    }
   ],
   "source": [
    "# Carriage Return karakterea adierazteko\n",
    "for i in range(10000):\n",
    "    print(i,end=\"\\r\",flush=True)"
   ]
  },
  {
   "cell_type": "markdown",
   "metadata": {
    "slideshow": {
     "slide_type": "slide"
    }
   },
   "source": [
    "Programazio ingurune ia ia ia ia guztiak, Unix-en oinarrituak izan dira... Python ere."
   ]
  },
  {
   "cell_type": "code",
   "execution_count": 6,
   "metadata": {},
   "outputs": [
    {
     "name": "stdout",
     "output_type": "stream",
     "text": [
      "C:\n",
      "ire\\karpeta\totala\n"
     ]
    }
   ],
   "source": [
    "print(\"C:\\nire\\karpeta\\totala\")"
   ]
  },
  {
   "cell_type": "code",
   "execution_count": 8,
   "metadata": {},
   "outputs": [],
   "source": [
    "#print(\"C:\\Users\\Alazne\\Desktop\\datuak\")"
   ]
  },
  {
   "cell_type": "markdown",
   "metadata": {
    "slideshow": {
     "slide_type": "slide"
    }
   },
   "source": [
    "Python+Windows ingurunean bi aukera:\n",
    "* `\\\\` erabili:"
   ]
  },
  {
   "cell_type": "code",
   "execution_count": 9,
   "metadata": {
    "slideshow": {
     "slide_type": "-"
    }
   },
   "outputs": [
    {
     "name": "stdout",
     "output_type": "stream",
     "text": [
      "C:\\nire\\karpeta\\totala\n",
      "C:\\Users\\Alazne\\Desktop\\datuak\n"
     ]
    }
   ],
   "source": [
    "print(\"C:\\\\nire\\\\karpeta\\\\totala\")\n",
    "print(\"C:\\\\Users\\\\Alazne\\\\Desktop\\\\datuak\")"
   ]
  },
  {
   "cell_type": "markdown",
   "metadata": {
    "slideshow": {
     "slide_type": "-"
    }
   },
   "source": [
    "* `/` erabili (Python arduratzen da bideizenak itzultzeaz)"
   ]
  },
  {
   "cell_type": "code",
   "execution_count": 10,
   "metadata": {
    "slideshow": {
     "slide_type": "-"
    }
   },
   "outputs": [
    {
     "name": "stdout",
     "output_type": "stream",
     "text": [
      "C:/nire/karpeta/totala\n",
      "C:/Users/Alazne/Desktop/datuak\n"
     ]
    }
   ],
   "source": [
    "print(\"C:/nire/karpeta/totala\")\n",
    "print(\"C:/Users/Alazne/Desktop/datuak\")"
   ]
  },
  {
   "cell_type": "markdown",
   "metadata": {
    "slideshow": {
     "slide_type": "slide"
    }
   },
   "source": [
    "## Bide izen absolutu eta erlatiboak\n",
    "\n",
    "* Bide izen **absolutua**: Fitxategi sistema errotik habiatuz, adierazi nahi dugun fitxategirako bide izena\n",
    "    * `C:/Users/Alazne/Desktop/abestia.mp3`\n",
    "    * `/home/Alazne/Desktop/abestia.mp3`\n",
    "* Bide izen **erlatiboa**: Programa exekutatzen ari deneko karpetatik habiatuz, adierazi nahi dugun fitxategirako bide izena.\n",
    "    * Programa `C:/Users/Alazne` edo `/home/Alazne` direktorioan exekutatzen balego\n",
    "    * `Desktop/abestia.mp3`"
   ]
  },
  {
   "cell_type": "markdown",
   "metadata": {
    "slideshow": {
     "slide_type": "slide"
    }
   },
   "source": [
    "Bide izen erlatiboetan:\n",
    "* `.` &rarr; gaudeneko direktorioa\n",
    "    * `./Desktop/abestia.mp3`\n",
    "* `..` &rarr; gaudeneko direktorio *kanpoko* (azpiko) direktorioa\n",
    "    * `../Alazne/Desktop/abestia.mp3`\n",
    "    * Windows: `../../Users/Alazne/Desktop/abestia.mp3`\n",
    "    * Unix: `../../home/Alazne/Desktop/abestia.mp3`"
   ]
  },
  {
   "cell_type": "markdown",
   "metadata": {
    "slideshow": {
     "slide_type": "slide"
    }
   },
   "source": [
    "## Fitxategien irakurketa\n",
    "\n",
    "Fitxategi bat irakurri ahal izateko, lehenik *fitxategi* objektu bat behar dugu. `open` funtzioak emandako bideizenari dagokion  fitxategia errepresentatzen duen objektua bueltatzen du:"
   ]
  },
  {
   "cell_type": "code",
   "execution_count": 12,
   "metadata": {
    "slideshow": {
     "slide_type": "-"
    }
   },
   "outputs": [
    {
     "name": "stdout",
     "output_type": "stream",
     "text": [
      "<class '_io.TextIOWrapper'>\n",
      "Help on built-in function open in module io:\n",
      "\n",
      "open(file, mode='r', buffering=-1, encoding=None, errors=None, newline=None, closefd=True, opener=None)\n",
      "    Open file and return a stream.  Raise OSError upon failure.\n",
      "    \n",
      "    file is either a text or byte string giving the name (and the path\n",
      "    if the file isn't in the current working directory) of the file to\n",
      "    be opened or an integer file descriptor of the file to be\n",
      "    wrapped. (If a file descriptor is given, it is closed when the\n",
      "    returned I/O object is closed, unless closefd is set to False.)\n",
      "    \n",
      "    mode is an optional string that specifies the mode in which the file\n",
      "    is opened. It defaults to 'r' which means open for reading in text\n",
      "    mode.  Other common values are 'w' for writing (truncating the file if\n",
      "    it already exists), 'x' for creating and writing to a new file, and\n",
      "    'a' for appending (which on some Unix systems, means that all writes\n",
      "    append to the end of the file regardless of the current seek position).\n",
      "    In text mode, if encoding is not specified the encoding used is platform\n",
      "    dependent: locale.getpreferredencoding(False) is called to get the\n",
      "    current locale encoding. (For reading and writing raw bytes use binary\n",
      "    mode and leave encoding unspecified.) The available modes are:\n",
      "    \n",
      "    ========= ===============================================================\n",
      "    Character Meaning\n",
      "    --------- ---------------------------------------------------------------\n",
      "    'r'       open for reading (default)\n",
      "    'w'       open for writing, truncating the file first\n",
      "    'x'       create a new file and open it for writing\n",
      "    'a'       open for writing, appending to the end of the file if it exists\n",
      "    'b'       binary mode\n",
      "    't'       text mode (default)\n",
      "    '+'       open a disk file for updating (reading and writing)\n",
      "    'U'       universal newline mode (deprecated)\n",
      "    ========= ===============================================================\n",
      "    \n",
      "    The default mode is 'rt' (open for reading text). For binary random\n",
      "    access, the mode 'w+b' opens and truncates the file to 0 bytes, while\n",
      "    'r+b' opens the file without truncation. The 'x' mode implies 'w' and\n",
      "    raises an `FileExistsError` if the file already exists.\n",
      "    \n",
      "    Python distinguishes between files opened in binary and text modes,\n",
      "    even when the underlying operating system doesn't. Files opened in\n",
      "    binary mode (appending 'b' to the mode argument) return contents as\n",
      "    bytes objects without any decoding. In text mode (the default, or when\n",
      "    't' is appended to the mode argument), the contents of the file are\n",
      "    returned as strings, the bytes having been first decoded using a\n",
      "    platform-dependent encoding or using the specified encoding if given.\n",
      "    \n",
      "    'U' mode is deprecated and will raise an exception in future versions\n",
      "    of Python.  It has no effect in Python 3.  Use newline to control\n",
      "    universal newlines mode.\n",
      "    \n",
      "    buffering is an optional integer used to set the buffering policy.\n",
      "    Pass 0 to switch buffering off (only allowed in binary mode), 1 to select\n",
      "    line buffering (only usable in text mode), and an integer > 1 to indicate\n",
      "    the size of a fixed-size chunk buffer.  When no buffering argument is\n",
      "    given, the default buffering policy works as follows:\n",
      "    \n",
      "    * Binary files are buffered in fixed-size chunks; the size of the buffer\n",
      "      is chosen using a heuristic trying to determine the underlying device's\n",
      "      \"block size\" and falling back on `io.DEFAULT_BUFFER_SIZE`.\n",
      "      On many systems, the buffer will typically be 4096 or 8192 bytes long.\n",
      "    \n",
      "    * \"Interactive\" text files (files for which isatty() returns True)\n",
      "      use line buffering.  Other text files use the policy described above\n",
      "      for binary files.\n",
      "    \n",
      "    encoding is the name of the encoding used to decode or encode the\n",
      "    file. This should only be used in text mode. The default encoding is\n",
      "    platform dependent, but any encoding supported by Python can be\n",
      "    passed.  See the codecs module for the list of supported encodings.\n",
      "    \n",
      "    errors is an optional string that specifies how encoding errors are to\n",
      "    be handled---this argument should not be used in binary mode. Pass\n",
      "    'strict' to raise a ValueError exception if there is an encoding error\n",
      "    (the default of None has the same effect), or pass 'ignore' to ignore\n",
      "    errors. (Note that ignoring encoding errors can lead to data loss.)\n",
      "    See the documentation for codecs.register or run 'help(codecs.Codec)'\n",
      "    for a list of the permitted encoding error strings.\n",
      "    \n",
      "    newline controls how universal newlines works (it only applies to text\n",
      "    mode). It can be None, '', '\\n', '\\r', and '\\r\\n'.  It works as\n",
      "    follows:\n",
      "    \n",
      "    * On input, if newline is None, universal newlines mode is\n",
      "      enabled. Lines in the input can end in '\\n', '\\r', or '\\r\\n', and\n",
      "      these are translated into '\\n' before being returned to the\n",
      "      caller. If it is '', universal newline mode is enabled, but line\n",
      "      endings are returned to the caller untranslated. If it has any of\n",
      "      the other legal values, input lines are only terminated by the given\n",
      "      string, and the line ending is returned to the caller untranslated.\n",
      "    \n",
      "    * On output, if newline is None, any '\\n' characters written are\n",
      "      translated to the system default line separator, os.linesep. If\n",
      "      newline is '' or '\\n', no translation takes place. If newline is any\n",
      "      of the other legal values, any '\\n' characters written are translated\n",
      "      to the given string.\n",
      "    \n",
      "    If closefd is False, the underlying file descriptor will be kept open\n",
      "    when the file is closed. This does not work when a file name is given\n",
      "    and must be True in that case.\n",
      "    \n",
      "    A custom opener can be used by passing a callable as *opener*. The\n",
      "    underlying file descriptor for the file object is then obtained by\n",
      "    calling *opener* with (*file*, *flags*). *opener* must return an open\n",
      "    file descriptor (passing os.open as *opener* results in functionality\n",
      "    similar to passing None).\n",
      "    \n",
      "    open() returns a file object whose type depends on the mode, and\n",
      "    through which the standard file operations such as reading and writing\n",
      "    are performed. When open() is used to open a file in a text mode ('w',\n",
      "    'r', 'wt', 'rt', etc.), it returns a TextIOWrapper. When used to open\n",
      "    a file in a binary mode, the returned class varies: in read binary\n",
      "    mode, it returns a BufferedReader; in write binary and append binary\n",
      "    modes, it returns a BufferedWriter, and in read/write mode, it returns\n",
      "    a BufferedRandom.\n",
      "    \n",
      "    It is also possible to use a string or bytearray as a file for both\n",
      "    reading and writing. For strings StringIO can be used like a file\n",
      "    opened in a text mode, and for bytes a BytesIO can be used like a file\n",
      "    opened in a binary mode.\n",
      "\n"
     ]
    }
   ],
   "source": [
    "f = open(\"MyText.txt\",\"r\",encoding=\"utf8\")\n",
    "print(type(f))\n",
    "help(open)"
   ]
  },
  {
   "cell_type": "markdown",
   "metadata": {
    "slideshow": {
     "slide_type": "slide"
    }
   },
   "source": [
    "Demagun `MyText.txt` fitxategian ondoko edukia dugula:\n",
    "\n",
    "```\n",
    "Hau testu fitxategi bat da\n",
    "Bi ilara ditu\n",
    "Ez, bi ez, hiru jakiña!\n",
    "```\n",
    "\n",
    "Fitxategi objektuak metodoak dituzte. Metodo hoietako batek, `readline()`, ilarak banan banan irakur ditzake, ilara bakoitza karaktere kate modual bueltatuz:"
   ]
  },
  {
   "cell_type": "code",
   "execution_count": 22,
   "metadata": {
    "slideshow": {
     "slide_type": "-"
    }
   },
   "outputs": [
    {
     "name": "stdout",
     "output_type": "stream",
     "text": [
      "1 Hau testu fitxategi bat da\n",
      "2 Bi ilara ditu\n",
      "3 Ez, bi ez, hiru jakiña!\n",
      "4 True"
     ]
    }
   ],
   "source": [
    "f = open(\"MyText.txt\",\"r\",encoding=\"utf8\")\n",
    "print(1,f.readline(),end=\"\")\n",
    "print(2,f.readline(),end=\"\")\n",
    "print(3,f.readline(),end=\"\")\n",
    "print(4,f.readline()==\"\",end=\"\")\n",
    "f.close()"
   ]
  },
  {
   "cell_type": "markdown",
   "metadata": {
    "slideshow": {
     "slide_type": "slide"
    }
   },
   "source": [
    "Fitxategia irakurtzen amaitzean, `readline()` metodoak karaktere kate hutsa bueltatzen du:"
   ]
  },
  {
   "cell_type": "code",
   "execution_count": null,
   "metadata": {
    "slideshow": {
     "slide_type": "-"
    }
   },
   "outputs": [],
   "source": [
    "print(f.readline() == \"\")"
   ]
  },
  {
   "cell_type": "markdown",
   "metadata": {
    "slideshow": {
     "slide_type": "-"
    }
   },
   "source": [
    "Eta fitxategia gehiago erabili nahi ez dugunean, itxi egin beharko genuke:"
   ]
  },
  {
   "cell_type": "code",
   "execution_count": null,
   "metadata": {
    "slideshow": {
     "slide_type": "-"
    }
   },
   "outputs": [],
   "source": [
    "f.close()"
   ]
  },
  {
   "cell_type": "markdown",
   "metadata": {
    "slideshow": {
     "slide_type": "slide"
    }
   },
   "source": [
    "Ikusitakoa laburbilduz, ondoko funtzioak testu fitxategi baten edukia pantailatik erakusten du:"
   ]
  },
  {
   "cell_type": "code",
   "execution_count": 23,
   "metadata": {},
   "outputs": [
    {
     "name": "stdout",
     "output_type": "stream",
     "text": [
      "Hau testu fitxategi bat da\n",
      "Bi ilara ditu\n",
      "Ez, bi ez, hiru jakiña!\n",
      "\n",
      "--------------\n",
      "Hau testu fitxategi bat da\n",
      "Bi ilara ditu\n",
      "Ez, bi ez, hiru jakiña!\n"
     ]
    }
   ],
   "source": [
    "def erakutsi(bideizena,kodifikazioa=\"utf8\"):\n",
    "    f = open(bideizena,encoding=kodifikazioa)\n",
    "    s = f.readline()\n",
    "    #while len(s) != 0 :\n",
    "    while s :\n",
    "        print(s,end=\"\")\n",
    "        s = f.readline()\n",
    "    f.close()\n",
    "    \n",
    "erakutsi(\"MyText.txt\")\n",
    "print(\"\\n--------------\")\n",
    "erakutsi(\"/notebooks/Konputaziorako-Sarrera/Gardenkiak/Programazioa/MyText.txt\")"
   ]
  },
  {
   "cell_type": "markdown",
   "metadata": {
    "slideshow": {
     "slide_type": "slide"
    }
   },
   "source": [
    "Ileren amaierako `\\n`-ak nahasten bagaitu, karaktere kateen `rstrip()` metodoarekin kendu dezakegu ilara irakurri bezain laster:"
   ]
  },
  {
   "cell_type": "code",
   "execution_count": 24,
   "metadata": {
    "slideshow": {
     "slide_type": "-"
    }
   },
   "outputs": [
    {
     "name": "stdout",
     "output_type": "stream",
     "text": [
      "Hau testu fitxategi bat da\n",
      "Bi ilara ditu\n",
      "Ez, bi ez, hiru jakiña!\n"
     ]
    }
   ],
   "source": [
    "# Kontuz lerro hutsekin!!!\n",
    "def erakutsi(bideizena,kodifikazioa=\"utf8\"):\n",
    "    f = open(bideizena, encoding=kodifikazioa)\n",
    "    s = f.readline().rstrip()\n",
    "    while s :\n",
    "        print(s)\n",
    "        s = f.readline().rstrip()\n",
    "    f.close()\n",
    "    \n",
    "erakutsi(\"MyText.txt\")"
   ]
  },
  {
   "cell_type": "markdown",
   "metadata": {
    "slideshow": {
     "slide_type": "slide"
    }
   },
   "source": [
    "## Fitxategiak ITERAGARRIAK dira\n",
    "\n",
    "Testu fitxategi bat zeharkatzean, bere ilarak jasoko ditugu zuzenean:"
   ]
  },
  {
   "cell_type": "code",
   "execution_count": 26,
   "metadata": {
    "slideshow": {
     "slide_type": "-"
    }
   },
   "outputs": [
    {
     "name": "stdout",
     "output_type": "stream",
     "text": [
      "Hau testu fitxategi bat da\n",
      "Bi ilara ditu\n",
      "Ez, bi ez, hiru jakiña!\n"
     ]
    }
   ],
   "source": [
    "def erakutsi(bideizena,kodifikazioa=\"utf8\"):\n",
    "    f = open(bideizena,encoding=kodifikazioa)\n",
    "    for s in f :\n",
    "        print(s,end=\"\")\n",
    "    f.close()\n",
    "\n",
    "def erakutsi(bideizena,kodifikazioa=\"utf8\"):\n",
    "    f = open(bideizena,encoding=kodifikazioa)\n",
    "    for s in f :\n",
    "        s = s.rstrip()\n",
    "        print(s)\n",
    "    f.close()\n",
    "    \n",
    "erakutsi(\"MyText.txt\")"
   ]
  },
  {
   "cell_type": "markdown",
   "metadata": {
    "slideshow": {
     "slide_type": "slide"
    }
   },
   "source": [
    "## Testu fitxategiak eta Kodifikazioa\n",
    "Testu fitxategiek kodifikazio bat erabiltzen dute.\n",
    "* Kodifikazioa adierazteko, `encoding` argumentua dugu.\n",
    "```python\n",
    "open(file, encoding=None, ...)\n",
    "```\n",
    "* Adierazten ez badugu, defektuzkoa.\n",
    "    * *\"The default encoding is platform dependent\"*\n",
    "    * **BETI** adierazi beharko genuke"
   ]
  },
  {
   "cell_type": "code",
   "execution_count": 32,
   "metadata": {
    "scrolled": true,
    "slideshow": {
     "slide_type": "slide"
    }
   },
   "outputs": [
    {
     "name": "stdout",
     "output_type": "stream",
     "text": [
      "\n",
      "------------\n",
      "Hau testu fitxategi bat da\n",
      "Bi ilara ditu\n",
      "Ez, bi ez, hiru jakiña!\n"
     ]
    }
   ],
   "source": [
    "def erakutsi(bideizena, kodif=\"utf-8\"):\n",
    "    f = open(bideizena,encoding=kodif)\n",
    "    for s in f :\n",
    "        print(s,end=\"\")\n",
    "    f.close()\n",
    "    \n",
    "#erakutsi(\"MyText.txt\")\n",
    "print(\"\\n------------\")\n",
    "erakutsi(\"MyText.txt\",\"utf-8\")\n",
    "#print(\"\\n------------\")\n",
    "#erakutsi(\"MyText.txt\",\"latin-1\")\n",
    "#print(\"\\n------------\")\n",
    "#erakutsi(\"MyText.txt\",\"ascii\")"
   ]
  },
  {
   "cell_type": "markdown",
   "metadata": {
    "slideshow": {
     "slide_type": "slide"
    }
   },
   "source": [
    "## Fitxategietan idazten\n",
    "\n",
    "Fitxategi bat irekitzean, defektuz, irakurketarako irekitzen da:\n",
    "\n",
    "```python\n",
    "open(file, mode='r', ...)\n",
    "```\n",
    "`mode` argumentuak aukera asko ditu:\n",
    "\n",
    "* `\"r\"` &rarr; *open for **r**eading (default)*\n",
    "* `\"w\"` &rarr; *open for **w**riting, truncating the file first*\n",
    "* `\"a\"` &rarr; *open for writing, **a**ppending to the end of the file if it exists*\n"
   ]
  },
  {
   "cell_type": "markdown",
   "metadata": {
    "slideshow": {
     "slide_type": "slide"
    }
   },
   "source": [
    "Fitxategi batetan idazteko bi aukera ezberdin ditugu:\n",
    "```python\n",
    "# 1 - Fitxategi objektuek duten write metodoa.\n",
    "# text argumentua BETI karaktere kate bat izan behar da \n",
    "f.write(text)\n",
    "```\n",
    "```python\n",
    "# 2 - print metodoa, file argumentua aldatuz.\n",
    "print(value, ..., sep=' ', end='\\n', file=sys.stdout, flush=False)\n",
    "```"
   ]
  },
  {
   "cell_type": "code",
   "execution_count": 35,
   "metadata": {
    "slideshow": {
     "slide_type": "-"
    }
   },
   "outputs": [
    {
     "name": "stdout",
     "output_type": "stream",
     "text": [
      "------------\n",
      "Lehenengo ilara\n",
      "Bigarren ilara\n",
      "Hirugarren ilara!!!!"
     ]
    }
   ],
   "source": [
    "f = open(\"MyText2.txt\",\"w\",encoding=\"utf8\")\n",
    "f.write(\"Lehenengo ilara\\n\")\n",
    "print(\"Bigarren ilara\",file=f)\n",
    "f.write(\"Hirugarren ilara!!!!\")\n",
    "f.close()\n",
    "print(\"------------\")\n",
    "erakutsi(\"MyText2.txt\")"
   ]
  },
  {
   "cell_type": "markdown",
   "metadata": {
    "slideshow": {
     "slide_type": "slide"
    }
   },
   "source": [
    "`mode=\"w\"` erabiltzean, aurretik genuen edukia ezabatu egiten da: "
   ]
  },
  {
   "cell_type": "code",
   "execution_count": 36,
   "metadata": {},
   "outputs": [
    {
     "name": "stdout",
     "output_type": "stream",
     "text": [
      "Lehenengo ilara\n",
      "Bigarren ilara\n",
      "Hirugarren ilara!!!!------------\n",
      "------------\n",
      "Bat\n",
      "Bi\n",
      "Hiru\n"
     ]
    }
   ],
   "source": [
    "erakutsi(\"MyText2.txt\")\n",
    "print(\"------------\")\n",
    "\n",
    "f = open(\"MyText2.txt\",\"w\",encoding=\"utf8\")\n",
    "print(\"Bat\",file=f)\n",
    "print(\"Bi\",file=f)\n",
    "print(\"Hiru\",file=f)\n",
    "f.close()\n",
    "\n",
    "print(\"------------\")\n",
    "erakutsi(\"MyText2.txt\")"
   ]
  },
  {
   "cell_type": "markdown",
   "metadata": {
    "slideshow": {
     "slide_type": "slide"
    }
   },
   "source": [
    "`mode=\"a\"` erabiltzean ordea, aurretik genuen edukia mantendu egiten da: "
   ]
  },
  {
   "cell_type": "code",
   "execution_count": 37,
   "metadata": {
    "slideshow": {
     "slide_type": "-"
    }
   },
   "outputs": [
    {
     "name": "stdout",
     "output_type": "stream",
     "text": [
      "Bat\n",
      "Bi\n",
      "Hiru\n",
      "------------\n",
      "Bat\n",
      "Bi\n",
      "Hiru\n",
      "Aaaaa\n",
      "Bbbbb\n",
      "Ccccc\n",
      "1 2 3 4\n",
      "1 2 3 4\n"
     ]
    }
   ],
   "source": [
    "erakutsi(\"MyText2.txt\")\n",
    "print(\"------------\")\n",
    "f = open(\"MyText2.txt\",\"a\",encoding=\"utf8\")\n",
    "print(\"Aaaaa\",file=f)\n",
    "print(\"Bbbbb\",file=f)\n",
    "print(\"Ccccc\",file=f)\n",
    "print(1,2,3,4,file=f)\n",
    "f.write(str(1) + \" \" + str(2) + \" \" + str(3) + \" \" + str(4) + \"\\n\")\n",
    "f.close()\n",
    "erakutsi(\"MyText2.txt\")"
   ]
  },
  {
   "cell_type": "markdown",
   "metadata": {
    "slideshow": {
     "slide_type": "slide"
    }
   },
   "source": [
    "## Fitxategiak eta Erroreak\n",
    "Fitxategi bat irekitzean erroreak gerta daitezke:\n",
    "* Fitxategia existitzen ez bada (`FileNotFoundError`)\n",
    "* Fitxategia irikitzeko baimenik ez badugu (`PermissionError`)\n",
    "* Direktorio bat irekitzen saiatzen bagara (`IsADirectoryError`)\n"
   ]
  },
  {
   "cell_type": "code",
   "execution_count": 42,
   "metadata": {
    "slideshow": {
     "slide_type": "-"
    }
   },
   "outputs": [
    {
     "name": "stdout",
     "output_type": "stream",
     "text": [
      "Hau testu fitxategi bat da\n",
      "Bi ilara ditu\n",
      "Ez, bi ez, hiru jakiña!\n"
     ]
    }
   ],
   "source": [
    "erakutsi(\"MyText.txt\")\n",
    "#erakutsi(\"MyText.txtxtxtx\")\n",
    "#erakutsi(\"/notebooks/Konputaziorako-Sarrera/Gardenkiak/Programazioa\")"
   ]
  },
  {
   "cell_type": "markdown",
   "metadata": {
    "slideshow": {
     "slide_type": "slide"
    }
   },
   "source": [
    "* Errore/salbuespen bat gertatzean, kudeatzen ez bada, programaren exekuzioa amaitu egiten da.\n",
    "* Erroreen kudeaketa `try-except-else` kontrol egituraren bidez egiten da:\n",
    "\n",
    "```python\n",
    "try :\n",
    "    # errorea/salbuespena sortu dezakeen kodea\n",
    "except :\n",
    "    # salbuespenaren kudeaketa kodea\n",
    "else :\n",
    "    # Salbuespenik ez badago, exekutatuko\n",
    "    # den \n",
    "```"
   ]
  },
  {
   "cell_type": "markdown",
   "metadata": {
    "slideshow": {
     "slide_type": "slide"
    }
   },
   "source": [
    "Aurreko funtzioa berridatzi genezake:"
   ]
  },
  {
   "cell_type": "code",
   "execution_count": 46,
   "metadata": {
    "slideshow": {
     "slide_type": "-"
    }
   },
   "outputs": [
    {
     "name": "stdout",
     "output_type": "stream",
     "text": [
      "Hau testu fitxategi bat da\n",
      "Bi ilara ditu\n",
      "Ez, bi ez, hiru jakiña!\n",
      "\n",
      "------------\n",
      "ezin izan da fitxategia ireki\n",
      "\n",
      "------------\n",
      "ezin izan da fitxategia ireki\n"
     ]
    }
   ],
   "source": [
    "def erakutsi(bideizena,kodif=\"utf-8\"):\n",
    "    try :\n",
    "        f = open(bideizena,encoding=kodif)\n",
    "    except :\n",
    "        print(\"ezin izan da fitxategia ireki\")\n",
    "    else:\n",
    "        for s in f :\n",
    "            print(s,end=\"\")\n",
    "        f.close()\n",
    "    \n",
    "erakutsi(\"MyText.txt\")\n",
    "print(\"\\n------------\")\n",
    "erakutsi(\"MyText.txtxtxtx\")\n",
    "print(\"\\n------------\")\n",
    "erakutsi(\"MyText.txt\",\"utf17\")"
   ]
  },
  {
   "cell_type": "markdown",
   "metadata": {
    "slideshow": {
     "slide_type": "slide"
    }
   },
   "source": [
    "## BAINA...\n",
    "\n",
    "Salbuespen bat **ongi** kudeatzea oso **oso** **OSO** zaila da\n",
    "\n",
    "* Fitxategien kasuan, salbuespenak ere irakurtzen ari garenean gerta daitezke\n",
    "    * Adibidez, *pendrive* bat deskonektatuz gero.\n",
    "* Programatzaileak moduren batean jakin behar du salbuespen hori gertatu ote den.\n",
    "    * Aurreko adibidean, ez du jakingo\n",
    "* Zuzen programatutako kudeaketek, normalean, errore berriak sortzen dituzte..."
   ]
  },
  {
   "cell_type": "markdown",
   "metadata": {
    "slideshow": {
     "slide_type": "slide"
    }
   },
   "source": [
    "Beraz, erregela erraz bat:\n",
    "* EZ KUDEATU SALBUESPENIK, egiten ari zarena guztiz argi ez duzun bitartean."
   ]
  },
  {
   "cell_type": "code",
   "execution_count": null,
   "metadata": {
    "slideshow": {
     "slide_type": "-"
    }
   },
   "outputs": [],
   "source": [
    "def erakutsi(bideizena, kodif=\"utf-8\"):\n",
    "    f = open(bideizena,encoding=kodif)\n",
    "    for s in f :\n",
    "        print(s,end=\"\")\n",
    "    f.close()"
   ]
  },
  {
   "cell_type": "markdown",
   "metadata": {
    "slideshow": {
     "slide_type": "-"
    }
   },
   "source": [
    "<table border=\"0\" width=\"100%\" style=\"margin: 0px;\">\n",
    "<tr>  \n",
    "  <td style=\"text-align:left\"><a href=\"Karaktere kateak.ipynb\">&lt; &lt; Karaktere kateak &lt; &lt;</a></td>\n",
    "  <td style=\"text-align:right\"><a href=\"Zerrendak.ipynb\">&gt; &gt; Zerrendak &gt; &gt;</a></td>\n",
    "</tr>\n",
    "</table>"
   ]
  }
 ],
 "metadata": {
  "celltoolbar": "Slideshow",
  "kernelspec": {
   "display_name": "Python 3",
   "language": "python",
   "name": "python3"
  },
  "language_info": {
   "codemirror_mode": {
    "name": "ipython",
    "version": 3
   },
   "file_extension": ".py",
   "mimetype": "text/x-python",
   "name": "python",
   "nbconvert_exporter": "python",
   "pygments_lexer": "ipython3",
   "version": "3.7.6"
  },
  "rise": {
   "autolaunch": true,
   "footer": "<h2 align=\"center\">Konputaziorako Sarrera</h2>",
   "scroll": true
  }
 },
 "nbformat": 4,
 "nbformat_minor": 2
}
