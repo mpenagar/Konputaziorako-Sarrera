{
 "cells": [
  {
   "cell_type": "markdown",
   "metadata": {
    "slideshow": {
     "slide_type": "slide"
    }
   },
   "source": [
    "# Oinarrizko datu sarrera eta irteera\n",
    "\n",
    "Aurreko ataletan ikusi dugunez, `print()` funtzioa pantailatik informazioa erakusteko erabiliko dugu. Atal honetan, sarrera-irteerako oinarrizko beste funtzio bat ere aztertuko dugu, `input()` funtzioa hain zuzen ere (bi funtzio hauek eta aurreko ataletan ikusitako beste guztiak, Python-en [*Built-in Functions*](https://docs.python.org/3/library/functions.html) multzoan definitzen dira)."
   ]
  },
  {
   "cell_type": "markdown",
   "metadata": {
    "slideshow": {
     "slide_type": "slide"
    }
   },
   "source": [
    "## `print()` funtzioa\n",
    "\n",
    "Informazioa testu moduan erakusteko balio duen funtzioa da. Objektu sorta bat jaso eta bakoitzaren balioa testu moduan erakutsiko du:"
   ]
  },
  {
   "cell_type": "code",
   "execution_count": 8,
   "metadata": {
    "slideshow": {
     "slide_type": "-"
    }
   },
   "outputs": [
    {
     "name": "stdout",
     "output_type": "stream",
     "text": [
      "1____3.4____kaixo#AMAIERA#\n",
      "1 3.4 kaixo\n"
     ]
    },
    {
     "data": {
      "text/plain": [
       "'3.43.43.43.4'"
      ]
     },
     "execution_count": 8,
     "metadata": {},
     "output_type": "execute_result"
    }
   ],
   "source": [
    "a = 1\n",
    "b = 3.4\n",
    "c = \"kaixo\"\n",
    "print(a,b,c,sep=\"____\",end=\"#AMAIERA#\\n\")\n",
    "print(a,b,c)\n",
    "str(3.4)*4"
   ]
  },
  {
   "cell_type": "markdown",
   "metadata": {
    "slideshow": {
     "slide_type": "-"
    }
   },
   "source": [
    "`print()` funtzioari ematen dizkiogun objektuak karaktere kate bilakatuko dira `str()` funtzioaren bidez, ondoren testu hoiek pantailatik erakusteko. Funtzioak objektuak jasoko dituela esan badugu ere, funtzioa erabiltzean espresioak erabil ditzakegu (funtzioari emango zaion objektua, espresioaren emaitza izango da):"
   ]
  },
  {
   "cell_type": "code",
   "execution_count": null,
   "metadata": {
    "slideshow": {
     "slide_type": "-"
    }
   },
   "outputs": [],
   "source": [
    "print(a*4, b>=2, c+\"?\")"
   ]
  },
  {
   "cell_type": "markdown",
   "metadata": {
    "slideshow": {
     "slide_type": "slide"
    }
   },
   "source": [
    "Python-eko funtzioen argumentuek defektuzko balioak izan ditzakete. `print()` funtzioak halako lau argumentu ditu, bere konportamoldea aldatzeko erabil daitezkeenak (ezer adierazi ezean, defektuzko balioa izango dute):"
   ]
  },
  {
   "cell_type": "code",
   "execution_count": 4,
   "metadata": {
    "slideshow": {
     "slide_type": "-"
    }
   },
   "outputs": [
    {
     "name": "stdout",
     "output_type": "stream",
     "text": [
      "Help on built-in function print in module builtins:\n",
      "\n",
      "print(...)\n",
      "    print(value, ..., sep=' ', end='\\n', file=sys.stdout, flush=False)\n",
      "    \n",
      "    Prints the values to a stream, or to sys.stdout by default.\n",
      "    Optional keyword arguments:\n",
      "    file:  a file-like object (stream); defaults to the current sys.stdout.\n",
      "    sep:   string inserted between values, default a space.\n",
      "    end:   string appended after the last value, default a newline.\n",
      "    flush: whether to forcibly flush the stream.\n",
      "\n"
     ]
    }
   ],
   "source": [
    "help(print)"
   ]
  },
  {
   "cell_type": "markdown",
   "metadata": {
    "slideshow": {
     "slide_type": "-"
    }
   },
   "source": [
    " * `sep` &rarr; balioen artean gehitutako karattere katea (defektuz, hutsunea).\n",
    " * `end` &rarr; amaieran gehitutako karaktere katea (defektuz, lerro berri bat).\n",
    " * `file` &rarr; *non* idatzi (defektuz, irteera estandarra).\n",
    " * `flush` &rarr; *flushing*-a behartu ala ez."
   ]
  },
  {
   "cell_type": "markdown",
   "metadata": {
    "slideshow": {
     "slide_type": "slide"
    }
   },
   "source": [
    "`print()` funtzioa bitxia da, argumentu kopuru mugagabea duelako. Hau dela eta `sep`, `end`, `file` edo ta `flush` argumentuei beste balio bat ematea nahi badugu, beren izena erabili beharko dugu (hau beti egin daiteke):"
   ]
  },
  {
   "cell_type": "code",
   "execution_count": 9,
   "metadata": {
    "slideshow": {
     "slide_type": "-"
    }
   },
   "outputs": [
    {
     "name": "stdout",
     "output_type": "stream",
     "text": [
      "4 <--> True <--> kaixo?\n",
      "THE END\n",
      "EPA\n"
     ]
    }
   ],
   "source": [
    "print(a*4, b>=2, c+\"?\", sep=\" <--> \", end=\"\\nTHE END\\n\")\n",
    "print(\"EPA\")"
   ]
  },
  {
   "cell_type": "markdown",
   "metadata": {
    "slideshow": {
     "slide_type": "-"
    }
   },
   "source": [
    "Argumentuen izena jartzeak edozein ordenetan adierazteko aukera ere ematen digu:"
   ]
  },
  {
   "cell_type": "code",
   "execution_count": 10,
   "metadata": {
    "slideshow": {
     "slide_type": "-"
    }
   },
   "outputs": [
    {
     "name": "stdout",
     "output_type": "stream",
     "text": [
      "4 <--> True <--> kaixo?\n",
      "THE END\n"
     ]
    }
   ],
   "source": [
    "print(a*4, b>=2, c+\"?\", end=\"\\nTHE END\\n\", sep=\" <--> \")"
   ]
  },
  {
   "cell_type": "markdown",
   "metadata": {
    "slideshow": {
     "slide_type": "slide"
    }
   },
   "source": [
    "Izen bidez adierazitako argumentuei *keyword* argumentu deritzo, eta beti amaieran azaldu behar dira:"
   ]
  },
  {
   "cell_type": "code",
   "execution_count": 11,
   "metadata": {
    "slideshow": {
     "slide_type": "-"
    }
   },
   "outputs": [
    {
     "ename": "SyntaxError",
     "evalue": "positional argument follows keyword argument (<ipython-input-11-a62ab4e7ba57>, line 1)",
     "output_type": "error",
     "traceback": [
      "\u001b[0;36m  File \u001b[0;32m\"<ipython-input-11-a62ab4e7ba57>\"\u001b[0;36m, line \u001b[0;32m1\u001b[0m\n\u001b[0;31m    print(end=\"\\nTHE END\\n\", sep=\" <--> \", a*4, b>=2, c+\"?\")\u001b[0m\n\u001b[0m                                          ^\u001b[0m\n\u001b[0;31mSyntaxError\u001b[0m\u001b[0;31m:\u001b[0m positional argument follows keyword argument\n"
     ]
    }
   ],
   "source": [
    "print(end=\"\\nTHE END\\n\", sep=\" <--> \", a*4, b>=2, c+\"?\")"
   ]
  },
  {
   "cell_type": "markdown",
   "metadata": {
    "slideshow": {
     "slide_type": "slide"
    }
   },
   "source": [
    "## `input()` funtzioa\n",
    "\n",
    "`input()` funtzioak sistemaren sarrera estandarra erabiliko du, erabiltzailearengandik informazioa jaso ahal izateko teklatuaren bidez. Funtzoio honek exekuzioa geldiarazten du, erabiltzaileak *Return* (*Enter*) tekla sakatu arte. Orduan, erabiltzaileak idatzitako testua bueltatuko du "
   ]
  },
  {
   "cell_type": "code",
   "execution_count": 13,
   "metadata": {
    "slideshow": {
     "slide_type": "-"
    }
   },
   "outputs": [
    {
     "name": "stdout",
     "output_type": "stream",
     "text": [
      "Kaixo!!!\n",
      "Ados, Kaixo!!! idatzi duzu\n"
     ]
    }
   ],
   "source": [
    "a = input()\n",
    "print(\"Ados,\",a,\"idatzi duzu\")"
   ]
  },
  {
   "cell_type": "markdown",
   "metadata": {
    "slideshow": {
     "slide_type": "slide"
    }
   },
   "source": [
    "`input()` funtzioak defektuzko `''` balioa duen `prompt` argumentua du:"
   ]
  },
  {
   "cell_type": "code",
   "execution_count": 15,
   "metadata": {
    "slideshow": {
     "slide_type": "-"
    }
   },
   "outputs": [],
   "source": [
    "#help(input)"
   ]
  },
  {
   "cell_type": "markdown",
   "metadata": {
    "slideshow": {
     "slide_type": "-"
    }
   },
   "source": [
    " * `prompt` &rarr; pantailatik erakutsiko den mezua (defektuz, hutsa).\n",
    "\n",
    "Argumentu honekin, erabiltzaileari jakinaraziko diogu bere zain gaudela:"
   ]
  },
  {
   "cell_type": "code",
   "execution_count": 16,
   "metadata": {
    "slideshow": {
     "slide_type": "-"
    }
   },
   "outputs": [
    {
     "name": "stdout",
     "output_type": "stream",
     "text": [
      "Idatzi balio bat: 457\n",
      "Ados, 457 idatzi duzu\n"
     ]
    }
   ],
   "source": [
    "a = input(\"Idatzi balio bat: \")\n",
    "print(\"Ados,\",a,\"idatzi duzu\")"
   ]
  },
  {
   "cell_type": "markdown",
   "metadata": {
    "slideshow": {
     "slide_type": "slide"
    }
   },
   "source": [
    "Beti kontutan izan beharreko bi gauza:\n",
    " 1. `input()` funtzioak bueltatzen duenarekin **ZERBAIT** egin behar da (**gorde**, adibidez).\n",
    " 1. `input()` funtzioak **KARAKTERE KATE** bat bueltatzen du (**ez da zenbaki bat**)."
   ]
  },
  {
   "cell_type": "code",
   "execution_count": 19,
   "metadata": {
    "slideshow": {
     "slide_type": "-"
    }
   },
   "outputs": [
    {
     "name": "stdout",
     "output_type": "stream",
     "text": [
      "Idatzi balio bat: 1234\n",
      "Jasotako 1234 balioa <class 'str'> motakoa da\n",
      "a * 2 : 12341234\n",
      "Orain 1234 balioa <class 'int'> motakoa da\n",
      "a * 2 : 2468\n",
      "Idatzi balio bat: 1234\n"
     ]
    }
   ],
   "source": [
    "a = input(\"Idatzi balio bat: \")\n",
    "print(\"Jasotako\", a, \"balioa\", type(a), \"motakoa da\")\n",
    "print(\"a * 2 :\" , a*2)\n",
    "a = int(a)\n",
    "print(\"Orain\", a, \"balioa\", type(a), \"motakoa da\")\n",
    "print(\"a * 2 :\" , a*2)\n",
    "    \n",
    "\n"
   ]
  },
  {
   "cell_type": "markdown",
   "metadata": {
    "slideshow": {
     "slide_type": "-"
    }
   },
   "source": [
    "<table border=\"0\" width=\"100%\" style=\"margin: 0px;\">\n",
    "<tr>  \n",
    "  <td style=\"text-align:left\"><a href=\"Eragileak.ipynb\">&lt; &lt; Eragileak &lt; &lt;</a></td>\n",
    "  <td style=\"text-align:right\"><a href=\"Kontrol egiturak.ipynb\">&gt; &gt; Kontrol egiturak &gt; &gt;</a></td>\n",
    "</tr>\n",
    "</table>"
   ]
  }
 ],
 "metadata": {
  "celltoolbar": "Slideshow",
  "kernelspec": {
   "display_name": "Python 3",
   "language": "python",
   "name": "python3"
  },
  "language_info": {
   "codemirror_mode": {
    "name": "ipython",
    "version": 3
   },
   "file_extension": ".py",
   "mimetype": "text/x-python",
   "name": "python",
   "nbconvert_exporter": "python",
   "pygments_lexer": "ipython3",
   "version": "3.7.6"
  },
  "rise": {
   "autolaunch": true,
   "footer": "<h2 align=\"center\">Konputaziorako Sarrera</h2>"
  }
 },
 "nbformat": 4,
 "nbformat_minor": 2
}
