{
 "cells": [
  {
   "cell_type": "markdown",
   "metadata": {},
   "source": [
    "# Una prueba de Notebook\n",
    "\n",
    "Creo que esto es texto, sin más...\n",
    "\n",
    "## Función factorial\n",
    "\n",
    "La función factorial,\n",
    "$$fak\\left(n\\right) = \\prod_{i=1}^{n}{i}$$\n",
    "puede ser implementada de manera recursiva\n",
    "\n",
    "```python\n",
    "def fak(n):\n",
    "    if n < 2 :\n",
    "        return n\n",
    "    else:\n",
    "        return n * fak(n-1)\n",
    "```\n",
    "\n",
    "o iterativa\n",
    "\n",
    "```python\n",
    "def fak(n):\n",
    "    p = 1\n",
    "    for i in range(2,n+1):\n",
    "        p *= i\n",
    "    return p\n",
    "```\n",
    "\n",
    "Podemos hacer uso de otros lenguajes de programación:\n",
    "\n",
    "```java\n",
    "public static long fak(long n){\n",
    "    long p = n;\n",
    "    while (--n > 1) p *= n;\n",
    "    return p;\n",
    "}\n",
    "```\n"
   ]
  },
  {
   "cell_type": "code",
   "execution_count": 1,
   "metadata": {},
   "outputs": [],
   "source": [
    "def fak(n):\n",
    "    if n < 2 :\n",
    "        return n\n",
    "    else:\n",
    "        return n * fak(n-1)"
   ]
  },
  {
   "cell_type": "markdown",
   "metadata": {},
   "source": [
    "Podemos obtener el factorial de una secuencia de números naturales:"
   ]
  },
  {
   "cell_type": "code",
   "execution_count": 2,
   "metadata": {},
   "outputs": [
    {
     "data": {
      "text/plain": [
       "[0, 1, 2, 6, 24, 120, 720, 5040, 40320, 362880]"
      ]
     },
     "execution_count": 2,
     "metadata": {},
     "output_type": "execute_result"
    }
   ],
   "source": [
    "[fak(i) for i in range(10)]"
   ]
  },
  {
   "cell_type": "markdown",
   "metadata": {},
   "source": [
    "##  La librería matplotlib\n",
    "\n",
    "El contenido ha sido obtenido de:\n",
    "\n",
    "   * http://nbviewer.jupyter.org/github/jrjohansson/scientific-python-lectures/blob/master/Lecture-4-Matplotlib.ipynb"
   ]
  },
  {
   "cell_type": "code",
   "execution_count": 3,
   "metadata": {},
   "outputs": [],
   "source": [
    "import matplotlib.pyplot as plt\n",
    "import numpy as np"
   ]
  },
  {
   "cell_type": "code",
   "execution_count": 4,
   "metadata": {},
   "outputs": [],
   "source": [
    "x = np.linspace(0, 5, 100)\n",
    "y = x ** 2"
   ]
  },
  {
   "cell_type": "code",
   "execution_count": 5,
   "metadata": {
    "scrolled": true
   },
   "outputs": [
    {
     "data": {
      "image/png": "[encoded data removed]",
      "text/plain": [
       "<Figure size 432x288 with 1 Axes>"
      ]
     },
     "metadata": {},
     "output_type": "display_data"
    }
   ],
   "source": [
    "fig = plt.figure()\n",
    "\n",
    "axes = fig.add_axes([0.1, 0.1, 0.8, 0.8]) # left, bottom, width, height (range 0 to 1)\n",
    "\n",
    "axes.plot(x, y, 'r')\n",
    "\n",
    "axes.set_xlabel('x')\n",
    "axes.set_ylabel('y')\n",
    "axes.set_title('title');"
   ]
  },
  {
   "cell_type": "markdown",
   "metadata": {},
   "source": [
    "## Un sencillo histograma"
   ]
  },
  {
   "cell_type": "code",
   "execution_count": 8,
   "metadata": {},
   "outputs": [
    {
     "data": {
      "image/png": "[encoded data removed]",
      "text/plain": [
       "<Figure size 864x288 with 2 Axes>"
      ]
     },
     "metadata": {},
     "output_type": "display_data"
    }
   ],
   "source": [
    "n = 500000\n",
    "d1 = np.random.randn(n)\n",
    "d2 = np.random.gamma(8.0,4.0,n)\n",
    "fig, axes = plt.subplots(1, 2, figsize=(12,4))\n",
    "\n",
    "axes[0].hist(d1, bins=100)\n",
    "axes[0].set_title(\"Normal Distribution\")\n",
    "axes[0].set_xlim((min(d1), max(d1)))\n",
    "\n",
    "axes[1].hist(d2, bins=100)\n",
    "axes[1].set_title(\"Gamma Distribution\")\n",
    "axes[1].set_xlim((min(d2), max(d2)));"
   ]
  },
  {
   "cell_type": "code",
   "execution_count": null,
   "metadata": {},
   "outputs": [],
   "source": []
  }
 ],
 "metadata": {
  "kernelspec": {
   "display_name": "Python 3",
   "language": "python",
   "name": "python3"
  },
  "language_info": {
   "codemirror_mode": {
    "name": "ipython",
    "version": 3
   },
   "file_extension": ".py",
   "mimetype": "text/x-python",
   "name": "python",
   "nbconvert_exporter": "python",
   "pygments_lexer": "ipython3",
   "version": "3.5.2"
  }
 },
 "nbformat": 4,
 "nbformat_minor": 2
}
