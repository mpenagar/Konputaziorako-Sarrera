{
 "cells": [
  {
   "cell_type": "markdown",
   "metadata": {},
   "source": [
    "# Testu fitxategi batetako hitz/karaktereak kontatzen... "
   ]
  },
  {
   "cell_type": "markdown",
   "metadata": {},
   "source": [
    "## 1 - Testu fitxategia deskargatu\n",
    "\n",
    "Testu handi bat behar dugu, adibidez Biblia.\n",
    "\n",
    "   * https://www.google.com/search?q=bible.txt"
   ]
  },
  {
   "cell_type": "code",
   "execution_count": 1,
   "metadata": {},
   "outputs": [
    {
     "name": "stdout",
     "output_type": "stream",
     "text": [
      "--2020-09-14 13:18:36--  http://www.gutenberg.org/ebooks/10.txt.utf-8\n",
      "Resolving www.gutenberg.org (www.gutenberg.org)... 152.19.134.47, 2610:28:3090:3000:0:bad:cafe:47\n",
      "Connecting to www.gutenberg.org (www.gutenberg.org)|152.19.134.47|:80... connected.\n",
      "HTTP request sent, awaiting response... 302 Found\n",
      "Location: http://www.gutenberg.org/cache/epub/10/pg10.txt [following]\n",
      "--2020-09-14 13:18:36--  http://www.gutenberg.org/cache/epub/10/pg10.txt\n",
      "Reusing existing connection to www.gutenberg.org:80.\n",
      "HTTP request sent, awaiting response... 200 OK\n",
      "Length: 4452519 (4.2M) [text/plain]\n",
      "Saving to: ‘10.txt.utf-8’\n",
      "\n",
      "10.txt.utf-8        100%[===================>]   4.25M  1.25MB/s    in 3.4s    \n",
      "\n",
      "2020-09-14 13:18:40 (1.25 MB/s) - ‘10.txt.utf-8’ saved [4452519/4452519]\n",
      "\n"
     ]
    }
   ],
   "source": [
    "!wget http://www.gutenberg.org/ebooks/10.txt.utf-8"
   ]
  },
  {
   "cell_type": "markdown",
   "metadata": {},
   "source": [
    "## 2 - Edukia aztertu\n",
    "\n",
    "Fitxategia ireki:"
   ]
  },
  {
   "cell_type": "code",
   "execution_count": 8,
   "metadata": {},
   "outputs": [],
   "source": [
    "txt = open('10.txt.utf-8', encoding=\"utf8\").read()"
   ]
  },
  {
   "cell_type": "markdown",
   "metadata": {},
   "source": [
    "Karaktere kopurua:"
   ]
  },
  {
   "cell_type": "code",
   "execution_count": 9,
   "metadata": {},
   "outputs": [
    {
     "data": {
      "text/plain": [
       "4352286"
      ]
     },
     "execution_count": 9,
     "metadata": {},
     "output_type": "execute_result"
    }
   ],
   "source": [
    "len(txt)"
   ]
  },
  {
   "cell_type": "markdown",
   "metadata": {},
   "source": [
    "Aurrera jarraitzako, lehenengo 200 karaktereekin jolastuko gara oraingoz..."
   ]
  },
  {
   "cell_type": "code",
   "execution_count": 10,
   "metadata": {},
   "outputs": [
    {
     "data": {
      "text/plain": [
       "\"\\ufeffThe Project Gutenberg EBook of The King James Bible\\n\\n\\n**********************************************************************\\nEBOOK (#10) WAS ONE OF PROJECT GUTENBERG'S EARLY FILES PRODUCED AT A\\nTIME \""
      ]
     },
     "execution_count": 10,
     "metadata": {},
     "output_type": "execute_result"
    }
   ],
   "source": [
    "txt = txt[:200]\n",
    "txt"
   ]
  },
  {
   "cell_type": "markdown",
   "metadata": {},
   "source": [
    "## 3 - Alfabetikoak ez diren karaktereak hutsune bilakatu"
   ]
  },
  {
   "cell_type": "code",
   "execution_count": 11,
   "metadata": {},
   "outputs": [
    {
     "data": {
      "text/plain": [
       "'abcdefghijklmnopqrstuvwxyzABCDEFGHIJKLMNOPQRSTUVWXYZ'"
      ]
     },
     "execution_count": 11,
     "metadata": {},
     "output_type": "execute_result"
    }
   ],
   "source": [
    "import string\n",
    "string.ascii_letters"
   ]
  },
  {
   "cell_type": "markdown",
   "metadata": {},
   "source": [
    "Testuko karaktere guztiak zerrenda batean jarri, alfabetikoak ez direnak hutsune bilakatuz:"
   ]
  },
  {
   "cell_type": "code",
   "execution_count": 14,
   "metadata": {},
   "outputs": [
    {
     "data": {
      "text/plain": [
       "[' ', 'T', 'h', 'e', ' ', 'P', 'r', 'o', 'j', 'e']"
      ]
     },
     "execution_count": 14,
     "metadata": {},
     "output_type": "execute_result"
    }
   ],
   "source": [
    "kzerrenda = [c if c in string.ascii_letters else \" \" for c in txt]\n",
    "# lehenengo amarrak erakutsi soilik\n",
    "kzerrenda[:10]"
   ]
  },
  {
   "cell_type": "markdown",
   "metadata": {},
   "source": [
    "Orain, karaktere zerrenda berriro ere testu (karaktere kate) bilakatu"
   ]
  },
  {
   "cell_type": "code",
   "execution_count": 15,
   "metadata": {},
   "outputs": [
    {
     "data": {
      "text/plain": [
       "' The Project Gutenberg EBook of The King James Bible                                                                          EBOOK       WAS ONE OF PROJECT GUTENBERG S EARLY FILES PRODUCED AT A TIME '"
      ]
     },
     "execution_count": 15,
     "metadata": {},
     "output_type": "execute_result"
    }
   ],
   "source": [
    "txt = \"\".join(kzerrenda)\n",
    "txt"
   ]
  },
  {
   "cell_type": "markdown",
   "metadata": {},
   "source": [
    "## 4 - Karaktere guztyiak minuskuletara pasatu"
   ]
  },
  {
   "cell_type": "code",
   "execution_count": 16,
   "metadata": {},
   "outputs": [
    {
     "data": {
      "text/plain": [
       "' the project gutenberg ebook of the king james bible                                                                          ebook       was one of project gutenberg s early files produced at a time '"
      ]
     },
     "execution_count": 16,
     "metadata": {},
     "output_type": "execute_result"
    }
   ],
   "source": [
    "txt = txt.lower()\n",
    "txt"
   ]
  },
  {
   "cell_type": "markdown",
   "metadata": {},
   "source": [
    "## 5 - Testua hitz zerrenda bilakatu"
   ]
  },
  {
   "cell_type": "code",
   "execution_count": 17,
   "metadata": {},
   "outputs": [
    {
     "data": {
      "text/plain": [
       "['the',\n",
       " 'project',\n",
       " 'gutenberg',\n",
       " 'ebook',\n",
       " 'of',\n",
       " 'the',\n",
       " 'king',\n",
       " 'james',\n",
       " 'bible',\n",
       " 'ebook',\n",
       " 'was',\n",
       " 'one',\n",
       " 'of',\n",
       " 'project',\n",
       " 'gutenberg',\n",
       " 's',\n",
       " 'early',\n",
       " 'files',\n",
       " 'produced',\n",
       " 'at',\n",
       " 'a',\n",
       " 'time']"
      ]
     },
     "execution_count": 17,
     "metadata": {},
     "output_type": "execute_result"
    }
   ],
   "source": [
    "hitz_zerrenda = txt.split()\n",
    "hitz_zerrenda"
   ]
  },
  {
   "cell_type": "markdown",
   "metadata": {},
   "source": [
    "## 6 - Zerrendako hitzak kontatu\n",
    "\n",
    "Python-eko _hiztegiak_ kontatzeko balio dute..."
   ]
  },
  {
   "cell_type": "code",
   "execution_count": 18,
   "metadata": {},
   "outputs": [
    {
     "data": {
      "text/plain": [
       "{'the': 2,\n",
       " 'project': 2,\n",
       " 'gutenberg': 2,\n",
       " 'ebook': 2,\n",
       " 'of': 2,\n",
       " 'king': 1,\n",
       " 'james': 1,\n",
       " 'bible': 1,\n",
       " 'was': 1,\n",
       " 'one': 1,\n",
       " 's': 1,\n",
       " 'early': 1,\n",
       " 'files': 1,\n",
       " 'produced': 1,\n",
       " 'at': 1,\n",
       " 'a': 1,\n",
       " 'time': 1}"
      ]
     },
     "execution_count": 18,
     "metadata": {},
     "output_type": "execute_result"
    }
   ],
   "source": [
    "kontagailua = {}\n",
    "for hitz in hitz_zerrenda :\n",
    "    if hitz in kontagailua :\n",
    "        kontagailua[hitz] += 1\n",
    "    else:\n",
    "        kontagailua[hitz] = 1\n",
    "kontagailua"
   ]
  },
  {
   "cell_type": "markdown",
   "metadata": {},
   "source": [
    "## 7 - Agerpen kopuruarekiko ordenatu"
   ]
  },
  {
   "cell_type": "markdown",
   "metadata": {},
   "source": [
    "Kontagailuaren elementuak zuzenean ordenatu ditzakegu, baina..."
   ]
  },
  {
   "cell_type": "code",
   "execution_count": 19,
   "metadata": {},
   "outputs": [
    {
     "data": {
      "text/plain": [
       "[('a', 1),\n",
       " ('at', 1),\n",
       " ('bible', 1),\n",
       " ('early', 1),\n",
       " ('ebook', 2),\n",
       " ('files', 1),\n",
       " ('gutenberg', 2),\n",
       " ('james', 1),\n",
       " ('king', 1),\n",
       " ('of', 2),\n",
       " ('one', 1),\n",
       " ('produced', 1),\n",
       " ('project', 2),\n",
       " ('s', 1),\n",
       " ('the', 2),\n",
       " ('time', 1),\n",
       " ('was', 1)]"
      ]
     },
     "execution_count": 19,
     "metadata": {},
     "output_type": "execute_result"
    }
   ],
   "source": [
    "sorted(kontagailua.items())"
   ]
  },
  {
   "cell_type": "markdown",
   "metadata": {},
   "source": [
    "Elementuak atzekoz aurrera jar ditzakegu (lehenengo kopurua, ondoren hitza):"
   ]
  },
  {
   "cell_type": "code",
   "execution_count": 20,
   "metadata": {},
   "outputs": [
    {
     "data": {
      "text/plain": [
       "[(2, 'the'),\n",
       " (2, 'project'),\n",
       " (2, 'gutenberg'),\n",
       " (2, 'ebook'),\n",
       " (2, 'of'),\n",
       " (1, 'king'),\n",
       " (1, 'james'),\n",
       " (1, 'bible'),\n",
       " (1, 'was'),\n",
       " (1, 'one'),\n",
       " (1, 's'),\n",
       " (1, 'early'),\n",
       " (1, 'files'),\n",
       " (1, 'produced'),\n",
       " (1, 'at'),\n",
       " (1, 'a'),\n",
       " (1, 'time')]"
      ]
     },
     "execution_count": 20,
     "metadata": {},
     "output_type": "execute_result"
    }
   ],
   "source": [
    "elementuak = [(b,a) for a,b in kontagailua.items()]\n",
    "elementuak"
   ]
  },
  {
   "cell_type": "markdown",
   "metadata": {},
   "source": [
    "Orain bai, agerpen kopuruarekiko ordenatuko ditugu, baina..."
   ]
  },
  {
   "cell_type": "code",
   "execution_count": 21,
   "metadata": {},
   "outputs": [
    {
     "data": {
      "text/plain": [
       "[(1, 'a'),\n",
       " (1, 'at'),\n",
       " (1, 'bible'),\n",
       " (1, 'early'),\n",
       " (1, 'files'),\n",
       " (1, 'james'),\n",
       " (1, 'king'),\n",
       " (1, 'one'),\n",
       " (1, 'produced'),\n",
       " (1, 's'),\n",
       " (1, 'time'),\n",
       " (1, 'was'),\n",
       " (2, 'ebook'),\n",
       " (2, 'gutenberg'),\n",
       " (2, 'of'),\n",
       " (2, 'project'),\n",
       " (2, 'the')]"
      ]
     },
     "execution_count": 21,
     "metadata": {},
     "output_type": "execute_result"
    }
   ],
   "source": [
    "sorted(elementuak)"
   ]
  },
  {
   "cell_type": "markdown",
   "metadata": {},
   "source": [
    "Atzekoz aurrera ordenatuz gero:"
   ]
  },
  {
   "cell_type": "code",
   "execution_count": 22,
   "metadata": {},
   "outputs": [
    {
     "data": {
      "text/plain": [
       "[(2, 'the'),\n",
       " (2, 'project'),\n",
       " (2, 'of'),\n",
       " (2, 'gutenberg'),\n",
       " (2, 'ebook'),\n",
       " (1, 'was'),\n",
       " (1, 'time'),\n",
       " (1, 's'),\n",
       " (1, 'produced'),\n",
       " (1, 'one'),\n",
       " (1, 'king'),\n",
       " (1, 'james'),\n",
       " (1, 'files'),\n",
       " (1, 'early'),\n",
       " (1, 'bible'),\n",
       " (1, 'at'),\n",
       " (1, 'a')]"
      ]
     },
     "execution_count": 22,
     "metadata": {},
     "output_type": "execute_result"
    }
   ],
   "source": [
    "sorted(elementuak, reverse=True)"
   ]
  },
  {
   "cell_type": "markdown",
   "metadata": {},
   "source": [
    "## 8 - Orain testu osoarekin"
   ]
  },
  {
   "cell_type": "code",
   "execution_count": 23,
   "metadata": {},
   "outputs": [
    {
     "data": {
      "text/plain": [
       "[(64204, 'the'),\n",
       " (51765, 'and'),\n",
       " (34791, 'of'),\n",
       " (13660, 'to'),\n",
       " (12927, 'that'),\n",
       " (12725, 'in'),\n",
       " (10422, 'he'),\n",
       " (9840, 'shall'),\n",
       " (8998, 'for'),\n",
       " (8997, 'unto'),\n",
       " (8854, 'i'),\n",
       " (8473, 'his'),\n",
       " (8236, 'a'),\n",
       " (7964, 'lord'),\n",
       " (7379, 'they'),\n",
       " (7032, 'be'),\n",
       " (7017, 'is'),\n",
       " (6659, 'him'),\n",
       " (6618, 'not'),\n",
       " (6430, 'them')]"
      ]
     },
     "execution_count": 23,
     "metadata": {},
     "output_type": "execute_result"
    }
   ],
   "source": [
    "txt = open('10.txt.utf-8', encoding=\"utf8\").read()\n",
    "kzerrenda = [c if c in string.ascii_letters else \" \" for c in txt]\n",
    "txt = \"\".join(kzerrenda)\n",
    "txt = txt.lower()\n",
    "hitz_zerrenda = txt.split()\n",
    "\n",
    "kontagailua = {}\n",
    "for hitz in hitz_zerrenda :\n",
    "    if hitz in kontagailua :\n",
    "        kontagailua[hitz] += 1\n",
    "    else:\n",
    "        kontagailua[hitz] = 1\n",
    "\n",
    "elementuak = [(b,a) for a,b in kontagailua.items()]\n",
    "ordenatuak = sorted(elementuak , reverse=True)\n",
    "ordenatuak[:20]"
   ]
  },
  {
   "cell_type": "markdown",
   "metadata": {},
   "source": [
    "## 9 - Karaktereen agerpena\n",
    "\n",
    "Testua hitz zerrenda bilakatzen ez badugu, karaktereak kontatuko ditugu:"
   ]
  },
  {
   "cell_type": "code",
   "execution_count": 25,
   "metadata": {},
   "outputs": [
    {
     "data": {
      "text/plain": [
       "[(412265, 'e'),\n",
       " (317765, 't'),\n",
       " (282690, 'h'),\n",
       " (275735, 'a'),\n",
       " (243208, 'o'),\n",
       " (225065, 'n'),\n",
       " (193974, 'i'),\n",
       " (190038, 's'),\n",
       " (170339, 'r'),\n",
       " (158103, 'd'),\n",
       " (129947, 'l'),\n",
       " (83550, 'f'),\n",
       " (83476, 'u'),\n",
       " (79945, 'm'),\n",
       " (65496, 'w'),\n",
       " (58578, 'y'),\n",
       " (55307, 'g'),\n",
       " (55070, 'c'),\n",
       " (48880, 'b'),\n",
       " (43260, 'p'),\n",
       " (30368, 'v'),\n",
       " (22295, 'k'),\n",
       " (8890, 'j'),\n",
       " (2972, 'z'),\n",
       " (1479, 'x'),\n",
       " (964, 'q')]"
      ]
     },
     "execution_count": 25,
     "metadata": {},
     "output_type": "execute_result"
    }
   ],
   "source": [
    "txt = open('10.txt.utf-8', encoding=\"utf8\").read()\n",
    "kzerrenda = [c for c in txt if c in string.ascii_letters]\n",
    "txt = \"\".join(kzerrenda)\n",
    "txt = txt.lower()\n",
    "\n",
    "kontagailua = {}\n",
    "for kar in txt :\n",
    "    if kar in kontagailua :\n",
    "        kontagailua[kar] += 1\n",
    "    else:\n",
    "        kontagailua[kar] = 1\n",
    "\n",
    "elementuak = list((b,a) for a,b in kontagailua.items())\n",
    "ordenatuak = sorted(elementuak , reverse=True)\n",
    "ordenatuak"
   ]
  }
 ],
 "metadata": {
  "kernelspec": {
   "display_name": "Python 3",
   "language": "python",
   "name": "python3"
  },
  "language_info": {
   "codemirror_mode": {
    "name": "ipython",
    "version": 3
   },
   "file_extension": ".py",
   "mimetype": "text/x-python",
   "name": "python",
   "nbconvert_exporter": "python",
   "pygments_lexer": "ipython3",
   "version": "3.7.6"
  }
 },
 "nbformat": 4,
 "nbformat_minor": 2
}
