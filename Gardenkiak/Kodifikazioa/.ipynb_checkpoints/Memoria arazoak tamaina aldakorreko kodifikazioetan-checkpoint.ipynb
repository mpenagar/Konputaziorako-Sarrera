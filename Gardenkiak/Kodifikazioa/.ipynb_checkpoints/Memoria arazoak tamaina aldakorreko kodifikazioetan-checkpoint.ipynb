{
 "cells": [
  {
   "cell_type": "markdown",
   "metadata": {},
   "source": [
    "# Memoria arazoak tamaina aldakorreko kodifikazioetan"
   ]
  },
  {
   "cell_type": "markdown",
   "metadata": {},
   "source": [
    "Python-en, zenbaki osoek tamaina aldakorreko kodifikazioa erabiltzen dute. Hau dela eta, zenbaki osoen aritmetikak ez du errorerik izango:"
   ]
  },
  {
   "cell_type": "code",
   "execution_count": null,
   "metadata": {},
   "outputs": [],
   "source": [
    "a = 1000000000000000000000000000000000000000000000000000000000000000000000000000000\n",
    "a + 1 - a"
   ]
  },
  {
   "cell_type": "markdown",
   "metadata": {},
   "source": [
    "Balio osoen tanmaina handitu ahala, kodifikazioak erabiltzen duen memoria kopurua handitzen joango da.\n",
    "\n",
    "$k$ bit-etako kodifikazio batetan $[-2^{k-1},2^{k-1}-1]$ tarteko zenbakiak adieraz daitezke. Hau dela eta, $z=2^j$ zenbakia kodifikatu ahal izateko, _gutxienez_ $j+2$ bit beharko ditugu:"
   ]
  },
  {
   "cell_type": "code",
   "execution_count": null,
   "metadata": {},
   "outputs": [],
   "source": [
    "z = 2\n",
    "j = 1\n",
    "for i in range(10):\n",
    "    tamaina = j + 2\n",
    "    print('2^',j,' = ',z,' --> ', tamaina,' bit --> froga aritmetikoa: ',(z+1-z),sep='')\n",
    "    z = z * z\n",
    "    j = j * 2"
   ]
  },
  {
   "cell_type": "markdown",
   "metadata": {},
   "source": [
    "Geroz eta zenbaki handiagoak sortu, gero eta memoria handiagoa beharko dugu zenbaki hauek adierazteko..."
   ]
  },
  {
   "cell_type": "code",
   "execution_count": null,
   "metadata": {},
   "outputs": [],
   "source": [
    "z = 2\n",
    "j = 1\n",
    "for i in range(30):\n",
    "    tamaina = j + 2\n",
    "    print('2^',j,' --> ',tamaina/8/1024/1024,' MByte --> froga aritmetikoa: ',(z+1-z),sep='',flush=True)\n",
    "    z = z * z\n",
    "    j = j * 2\n",
    "print('Eginda!')"
   ]
  }
 ],
 "metadata": {
  "kernelspec": {
   "display_name": "Python 3",
   "language": "python",
   "name": "python3"
  },
  "language_info": {
   "codemirror_mode": {
    "name": "ipython",
    "version": 3
   },
   "file_extension": ".py",
   "mimetype": "text/x-python",
   "name": "python",
   "nbconvert_exporter": "python",
   "pygments_lexer": "ipython3",
   "version": "3.7.4"
  }
 },
 "nbformat": 4,
 "nbformat_minor": 2
}
