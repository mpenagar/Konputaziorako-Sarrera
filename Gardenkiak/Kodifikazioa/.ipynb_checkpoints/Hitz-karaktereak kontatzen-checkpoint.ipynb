{
 "cells": [
  {
   "cell_type": "markdown",
   "metadata": {},
   "source": [
    "# Testu fitxategi batetako hitz/karaktereak kontatzen..."
   ]
  },
  {
   "cell_type": "markdown",
   "metadata": {},
   "source": [
    "## 1 - Testu fitxategia deskargatu\n",
    "\n",
    "Testu handi bat behar dugu, adibidez Biblia.\n",
    "\n",
    "   * https://www.google.com/search?q=bible.txt"
   ]
  },
  {
   "cell_type": "code",
   "execution_count": null,
   "metadata": {},
   "outputs": [],
   "source": [
    "!wget http://www.gutenberg.org/ebooks/10.txt.utf-8"
   ]
  },
  {
   "cell_type": "markdown",
   "metadata": {},
   "source": [
    "## 2 - Edukia aztertu\n",
    "\n",
    "Fitxategia ireki:"
   ]
  },
  {
   "cell_type": "code",
   "execution_count": null,
   "metadata": {},
   "outputs": [],
   "source": [
    "txt = open('10.txt.utf-8', encoding=\"utf8\").read()"
   ]
  },
  {
   "cell_type": "markdown",
   "metadata": {},
   "source": [
    "Karaktere kopurua:"
   ]
  },
  {
   "cell_type": "code",
   "execution_count": null,
   "metadata": {},
   "outputs": [],
   "source": [
    "len(txt)"
   ]
  },
  {
   "cell_type": "markdown",
   "metadata": {},
   "source": [
    "Aurrera jarraitzako, lehenengo 200 karaktereekin jolastuko gara oraingoz..."
   ]
  },
  {
   "cell_type": "code",
   "execution_count": null,
   "metadata": {},
   "outputs": [],
   "source": [
    "txt = txt[:100]\n",
    "txt"
   ]
  },
  {
   "cell_type": "markdown",
   "metadata": {},
   "source": [
    "## 3 - Alfabetikoak ez diren karaktereak hutsune bilakatu"
   ]
  },
  {
   "cell_type": "code",
   "execution_count": null,
   "metadata": {},
   "outputs": [],
   "source": [
    "import string\n",
    "string.ascii_letters"
   ]
  },
  {
   "cell_type": "markdown",
   "metadata": {},
   "source": [
    "Testuko karaktere guztiak zerrenda batean jarri, alfabetikoak ez direnak hutsune bilakatuz:"
   ]
  },
  {
   "cell_type": "code",
   "execution_count": null,
   "metadata": {},
   "outputs": [],
   "source": [
    "kzerrenda = [c if c in string.ascii_letters else \" \" for c in txt]\n",
    "# lehenengo amarrak erakutsi soilik\n",
    "kzerrenda[:10]"
   ]
  },
  {
   "cell_type": "markdown",
   "metadata": {},
   "source": [
    "Orain, jkaraktere zerrenda berriro ere testu (karaktere kate) bilakatu"
   ]
  },
  {
   "cell_type": "code",
   "execution_count": null,
   "metadata": {},
   "outputs": [],
   "source": [
    "txt = \"\".join(kzerrenda)\n",
    "txt"
   ]
  },
  {
   "cell_type": "markdown",
   "metadata": {},
   "source": [
    "## 4 - Karaktere guztyiak minuskuletara pasatu"
   ]
  },
  {
   "cell_type": "code",
   "execution_count": null,
   "metadata": {},
   "outputs": [],
   "source": [
    "txt = txt.lower()\n",
    "txt"
   ]
  },
  {
   "cell_type": "markdown",
   "metadata": {},
   "source": [
    "## 5 - Testua hitz zerrenda bilakatu"
   ]
  },
  {
   "cell_type": "code",
   "execution_count": null,
   "metadata": {},
   "outputs": [],
   "source": [
    "hitz_zerrenda = txt.split()\n",
    "hitz_zerrenda"
   ]
  },
  {
   "cell_type": "markdown",
   "metadata": {},
   "source": [
    "## 6 - Zerrendako hitzak kontatu\n",
    "\n",
    "Python-eko _hiztegiak_ kontatzeko balio dute..."
   ]
  },
  {
   "cell_type": "code",
   "execution_count": null,
   "metadata": {},
   "outputs": [],
   "source": [
    "kontagailua = {}\n",
    "for hitz in hitz_zerrenda :\n",
    "    if hitz in kontagailua :\n",
    "        kontagailua[hitz] += 1\n",
    "    else:\n",
    "        kontagailua[hitz] = 1\n",
    "kontagailua"
   ]
  },
  {
   "cell_type": "markdown",
   "metadata": {},
   "source": [
    "## 7 - Agerpen kopuruarekiko ordenatu"
   ]
  },
  {
   "cell_type": "markdown",
   "metadata": {},
   "source": [
    "Kontagailuaren elementuak zuzenean ordenatu ditzakegu, baina..."
   ]
  },
  {
   "cell_type": "code",
   "execution_count": null,
   "metadata": {},
   "outputs": [],
   "source": [
    "sorted(kontagailua.items())"
   ]
  },
  {
   "cell_type": "markdown",
   "metadata": {},
   "source": [
    "Elementuak atzekoz aurrera jar ditzakegu (lehenengo kopurua, ondoren hitza):"
   ]
  },
  {
   "cell_type": "code",
   "execution_count": null,
   "metadata": {},
   "outputs": [],
   "source": [
    "elementuak = list((b,a) for a,b in kontagailua.items())\n",
    "elementuak"
   ]
  },
  {
   "cell_type": "markdown",
   "metadata": {},
   "source": [
    "Orain bai, agerpen kopuruarekiko ordenatuko ditugu, baina..."
   ]
  },
  {
   "cell_type": "code",
   "execution_count": null,
   "metadata": {},
   "outputs": [],
   "source": [
    "sorted(elementuak)"
   ]
  },
  {
   "cell_type": "markdown",
   "metadata": {},
   "source": [
    "Atzekoz aurrera ordenatuz gero:"
   ]
  },
  {
   "cell_type": "code",
   "execution_count": null,
   "metadata": {},
   "outputs": [],
   "source": [
    "sorted(elementuak, reverse=True)"
   ]
  },
  {
   "cell_type": "markdown",
   "metadata": {},
   "source": [
    "## 8 - Orain testu osoarekin"
   ]
  },
  {
   "cell_type": "code",
   "execution_count": null,
   "metadata": {},
   "outputs": [],
   "source": [
    "txt = open('10.txt.utf-8', encoding=\"utf8\").read()\n",
    "kzerrenda = [c if c in string.ascii_letters else \" \" for c in txt]\n",
    "txt = \"\".join(kzerrenda)\n",
    "txt = txt.lower()\n",
    "hitz_zerrenda = txt.split()\n",
    "\n",
    "kontagailua = {}\n",
    "for hitz in hitz_zerrenda :\n",
    "    if hitz in kontagailua :\n",
    "        kontagailua[hitz] += 1\n",
    "    else:\n",
    "        kontagailua[hitz] = 1\n",
    "kontagailua\n",
    "\n",
    "elementuak = list((b,a) for a,b in kontagailua.items())\n",
    "ordenatuak = sorted(elementuak , reverse=True)\n",
    "ordenatuak[:20]"
   ]
  },
  {
   "cell_type": "markdown",
   "metadata": {},
   "source": [
    "## 9 - Karaktereen agerpena\n",
    "\n",
    "Testua hitz zerrenda bilakatzen ez badugu, karaktereak kontatuko ditugu:"
   ]
  },
  {
   "cell_type": "code",
   "execution_count": null,
   "metadata": {},
   "outputs": [],
   "source": [
    "txt = open('10.txt.utf-8', encoding=\"utf8\").read()\n",
    "kzerrenda = [c for c in txt if c in string.ascii_letters]\n",
    "txt = \"\".join(kzerrenda)\n",
    "txt = txt.lower()\n",
    "\n",
    "kontagailua = {}\n",
    "for kar in txt :\n",
    "    if kar in kontagailua :\n",
    "        kontagailua[kar] += 1\n",
    "    else:\n",
    "        kontagailua[kar] = 1\n",
    "kontagailua\n",
    "\n",
    "elementuak = list((b,a) for a,b in kontagailua.items())\n",
    "ordenatuak = sorted(elementuak , reverse=True)\n",
    "ordenatuak"
   ]
  }
 ],
 "metadata": {
  "kernelspec": {
   "display_name": "Python 3",
   "language": "python",
   "name": "python3"
  },
  "language_info": {
   "codemirror_mode": {
    "name": "ipython",
    "version": 3
   },
   "file_extension": ".py",
   "mimetype": "text/x-python",
   "name": "python",
   "nbconvert_exporter": "python",
   "pygments_lexer": "ipython3",
   "version": "3.7.6"
  }
 },
 "nbformat": 4,
 "nbformat_minor": 2
}
