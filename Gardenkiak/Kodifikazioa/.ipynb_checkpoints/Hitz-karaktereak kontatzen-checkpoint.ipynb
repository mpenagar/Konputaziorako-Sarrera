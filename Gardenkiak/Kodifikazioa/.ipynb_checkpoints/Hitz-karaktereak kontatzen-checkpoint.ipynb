{
 "cells": [
  {
   "cell_type": "markdown",
   "metadata": {},
   "source": [
    "# Testu fitxategi batetako hitz/karaktereak kontatzen..."
   ]
  },
  {
   "cell_type": "markdown",
   "metadata": {},
   "source": [
    "## 1 - Testu fitxategia deskargatu\n",
    "\n",
    "Testu handi bat behar dugu, adibidez Biblia. "
   ]
  },
  {
   "cell_type": "code",
   "execution_count": null,
   "metadata": {},
   "outputs": [],
   "source": [
    "!wget https://github.com/mxw/grmr/raw/master/src/finaltests/bible.txt"
   ]
  },
  {
   "cell_type": "markdown",
   "metadata": {},
   "source": [
    "## 2 - Edukia aztertu\n",
    "\n",
    "Fitxategia ireki:"
   ]
  },
  {
   "cell_type": "code",
   "execution_count": null,
   "metadata": {},
   "outputs": [],
   "source": [
    "txt = open('bible.txt').read()"
   ]
  },
  {
   "cell_type": "markdown",
   "metadata": {},
   "source": [
    "Karaktere kopurua:"
   ]
  },
  {
   "cell_type": "code",
   "execution_count": null,
   "metadata": {},
   "outputs": [],
   "source": [
    "len(txt)"
   ]
  },
  {
   "cell_type": "markdown",
   "metadata": {},
   "source": [
    "Aurrera jarraitzako, lehenengo 99 karaktereekin jolastuko dugu oraingoz..."
   ]
  },
  {
   "cell_type": "code",
   "execution_count": null,
   "metadata": {},
   "outputs": [],
   "source": [
    "txt = txt[:99]\n",
    "txt"
   ]
  },
  {
   "cell_type": "markdown",
   "metadata": {},
   "source": [
    "## 3 - Alfabetikoak ez diren karaktereak hutsune bilakatu\n",
    "\n",
    "Adierazpen Erregularrak ([_Regular Expression_](https://en.wikipedia.org/wiki/Regular_expression)) tresna ahaltsuak dira..."
   ]
  },
  {
   "cell_type": "code",
   "execution_count": null,
   "metadata": {},
   "outputs": [],
   "source": [
    "import re\n",
    "txt = re.sub('[^a-zA-Z]+', ' ', txt)\n",
    "txt"
   ]
  },
  {
   "cell_type": "markdown",
   "metadata": {},
   "source": [
    "## 4 - Karaktere guztyiak minuskuletara pasatu"
   ]
  },
  {
   "cell_type": "code",
   "execution_count": null,
   "metadata": {},
   "outputs": [],
   "source": [
    "txt = txt.lower()\n",
    "txt"
   ]
  },
  {
   "cell_type": "markdown",
   "metadata": {},
   "source": [
    "## 5 - Testua hitz zerrenda bilakatu"
   ]
  },
  {
   "cell_type": "code",
   "execution_count": null,
   "metadata": {},
   "outputs": [],
   "source": [
    "hitz_zerrenda = txt.split()\n",
    "hitz_zerrenda"
   ]
  },
  {
   "cell_type": "markdown",
   "metadata": {},
   "source": [
    "## 6 - Zerrendako hitzak kontatu\n",
    "\n",
    "Python-eko _collections_ moduluak kontatzeko balio duen _Counter_ objektu mota du..."
   ]
  },
  {
   "cell_type": "code",
   "execution_count": null,
   "metadata": {},
   "outputs": [],
   "source": [
    "from collections import Counter\n",
    "kontagailua = Counter(hitz_zerrenda)\n",
    "kontagailua"
   ]
  },
  {
   "cell_type": "markdown",
   "metadata": {},
   "source": [
    "## 7 - Agerpen kopuruarekiko ordenatu"
   ]
  },
  {
   "cell_type": "markdown",
   "metadata": {},
   "source": [
    "Kontagailuaren elementuak zuzenean ordenatu ditzakegu, baina..."
   ]
  },
  {
   "cell_type": "code",
   "execution_count": null,
   "metadata": {},
   "outputs": [],
   "source": [
    "sorted(kontagailua.items())"
   ]
  },
  {
   "cell_type": "markdown",
   "metadata": {},
   "source": [
    "Elementuak atzekoz aurrera jar ditzakegu (lehenengo kopurua, ondoren hitza):"
   ]
  },
  {
   "cell_type": "code",
   "execution_count": null,
   "metadata": {},
   "outputs": [],
   "source": [
    "kontagailua2 = list((b,a) for a,b in kontagailua.items())\n",
    "kontagailua2"
   ]
  },
  {
   "cell_type": "markdown",
   "metadata": {},
   "source": [
    "Orain bai, agerpen kopuruarekiko ordenatuko ditugu, baina..."
   ]
  },
  {
   "cell_type": "code",
   "execution_count": null,
   "metadata": {},
   "outputs": [],
   "source": [
    "sorted(kontagailua2)"
   ]
  },
  {
   "cell_type": "markdown",
   "metadata": {},
   "source": [
    "Atzekoz aurrera ordenatuz gero:"
   ]
  },
  {
   "cell_type": "code",
   "execution_count": null,
   "metadata": {},
   "outputs": [],
   "source": [
    "sorted(kontagailua2 , reverse=True)"
   ]
  },
  {
   "cell_type": "markdown",
   "metadata": {},
   "source": [
    "## 8 - Orain testu osoarekin"
   ]
  },
  {
   "cell_type": "code",
   "execution_count": null,
   "metadata": {},
   "outputs": [],
   "source": [
    "txt = open('bible.txt').read()\n",
    "txt = re.sub('[^a-zA-Z]+', ' ', txt)\n",
    "txt = txt.lower()\n",
    "hitz_zerrenda = txt.split()\n",
    "kontagailua = Counter(hitz_zerrenda)\n",
    "kontagailua2 = list((b,a) for a,b in kontagailua.items())\n",
    "ordenatua = sorted(kontagailua2 , reverse=True)\n",
    "ordenatua[:20]"
   ]
  },
  {
   "cell_type": "markdown",
   "metadata": {},
   "source": [
    "## 9 - Karaktereen agerpena"
   ]
  },
  {
   "cell_type": "code",
   "execution_count": null,
   "metadata": {},
   "outputs": [],
   "source": [
    "txt = open('bible.txt').read()\n",
    "txt = re.sub('[^a-zA-Z]+', '', txt)\n",
    "txt = txt.lower()\n",
    "kontagailua = Counter(txt)\n",
    "kontagailua2 = list((b,a) for a,b in kontagailua.items())\n",
    "ordenatua = sorted(kontagailua2 , reverse=True)\n",
    "ordenatua[:20]"
   ]
  }
 ],
 "metadata": {
  "kernelspec": {
   "display_name": "Python 3",
   "language": "python",
   "name": "python3"
  },
  "language_info": {
   "codemirror_mode": {
    "name": "ipython",
    "version": 3
   },
   "file_extension": ".py",
   "mimetype": "text/x-python",
   "name": "python",
   "nbconvert_exporter": "python",
   "pygments_lexer": "ipython3",
   "version": "3.7.4"
  }
 },
 "nbformat": 4,
 "nbformat_minor": 2
}
