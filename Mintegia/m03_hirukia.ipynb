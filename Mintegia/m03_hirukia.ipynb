{
 "cells": [
  {
   "cell_type": "code",
   "execution_count": 11,
   "metadata": {},
   "outputs": [
    {
     "name": "stdout",
     "output_type": "stream",
     "text": [
      "Idatzi zenbaki oso bat: 23\n",
      "Idatzi beste zenbaki oso bat: 2352\n",
      "Idatzi beste zenbaki oso bat: 24\n",
      "ez\n",
      "ez\n"
     ]
    }
   ],
   "source": [
    "a = int(input(\"Idatzi zenbaki oso bat: \"))\n",
    "b = int(input(\"Idatzi beste zenbaki oso bat: \"))\n",
    "c = int(input(\"Idatzi beste zenbaki oso bat: \"))\n",
    "\n",
    "#if a >= b+c :\n",
    "#    ezin_da_hirukirik_egin = True\n",
    "#else :\n",
    "#    ezin_da_hirukirik_egin = False\n",
    "\n",
    "# Baliokidea:\n",
    "# ezin_da_hirukirik_egin = (a >= (b+c))\n",
    "\n",
    "#if (a >= (b+c)) or (b >= (a+c)) or (c >= (a+b)) :\n",
    "#    ezin_da_hirukirik_egin = True\n",
    "#else :\n",
    "#    ezin_da_hirukirik_egin = False\n",
    "    \n",
    "# Baliokidea:\n",
    "#ezin_da_hirukirik_egin = ((a >= (b+c)) or (b >= (a+c)) or (c >= (a+b)))\n",
    "\n",
    "if ((a >= (b+c)) or (b >= (a+c)) or (c >= (a+b))) :\n",
    "    print('ez')\n",
    "else :\n",
    "    print('bai')\n",
    "\n",
    "if ((a < (b+c)) and (b < (a+c)) and (c < (a+b))) :\n",
    "    print('bai')\n",
    "else :\n",
    "    print('ez')\n"
   ]
  }
 ],
 "metadata": {
  "kernelspec": {
   "display_name": "Python 3",
   "language": "python",
   "name": "python3"
  },
  "language_info": {
   "codemirror_mode": {
    "name": "ipython",
    "version": 3
   },
   "file_extension": ".py",
   "mimetype": "text/x-python",
   "name": "python",
   "nbconvert_exporter": "python",
   "pygments_lexer": "ipython3",
   "version": "3.7.4"
  }
 },
 "nbformat": 4,
 "nbformat_minor": 2
}
