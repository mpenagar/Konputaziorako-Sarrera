{
 "cells": [
  {
   "cell_type": "markdown",
   "metadata": {},
   "source": [
    "### 3\n",
    "Egizu funtzio bat $a$ zenbaki erreal baten $b$ potentzia osoa\n",
    "kalkulatzen duena $a^b$."
   ]
  },
  {
   "cell_type": "markdown",
   "metadata": {},
   "source": [
    "* errepikatu `x = x + a` $\\to$ akumuladorea\n",
    "* errepikatu `x = x + 1` $\\to$ kontadorea\n"
   ]
  },
  {
   "cell_type": "code",
   "execution_count": 11,
   "metadata": {},
   "outputs": [
    {
     "name": "stdout",
     "output_type": "stream",
     "text": [
      "6\n",
      "8\n",
      "0\n",
      "1\n",
      "0.25\n"
     ]
    }
   ],
   "source": [
    "def a_bider_b(a,b):\n",
    "    x = a\n",
    "    for _ in range(b-1):\n",
    "        x = x + a\n",
    "    return x\n",
    "def a_ber_b(a,b):\n",
    "    x = a\n",
    "    for _ in range(b-1):\n",
    "        x = x * a\n",
    "    return x\n",
    "\n",
    "def a_bider_b(a,b):\n",
    "    x = 0\n",
    "    for _ in range(b):\n",
    "        x = x + a\n",
    "    return x\n",
    "def a_ber_b(a,b):\n",
    "    x = 1\n",
    "    for _ in range(b):\n",
    "        x = x * a\n",
    "    return x\n",
    "def a_ber_b(a,b):\n",
    "    if b>=0 :\n",
    "        x = 1\n",
    "        for _ in range(b):\n",
    "            x = x * a\n",
    "        return x\n",
    "    else :\n",
    "        return 1/a_ber_b(a,-b)\n",
    "\n",
    "print(a_bider_b(2,3))\n",
    "print(a_ber_b(2,3))\n",
    "print(a_bider_b(2,0))\n",
    "print(a_ber_b(2,0))\n",
    "print(a_ber_b(2,-2))"
   ]
  },
  {
   "cell_type": "code",
   "execution_count": 10,
   "metadata": {},
   "outputs": [
    {
     "data": {
      "text/plain": [
       "(int, float, float)"
      ]
     },
     "execution_count": 10,
     "metadata": {},
     "output_type": "execute_result"
    }
   ],
   "source": [
    "type(2*4),type(2*4.3),type(2.5*4.3)"
   ]
  },
  {
   "cell_type": "code",
   "execution_count": null,
   "metadata": {},
   "outputs": [],
   "source": [
    "2**10 = int(exp(10 * log(2)))"
   ]
  }
 ],
 "metadata": {
  "kernelspec": {
   "display_name": "Python 3",
   "language": "python",
   "name": "python3"
  },
  "language_info": {
   "codemirror_mode": {
    "name": "ipython",
    "version": 3
   },
   "file_extension": ".py",
   "mimetype": "text/x-python",
   "name": "python",
   "nbconvert_exporter": "python",
   "pygments_lexer": "ipython3",
   "version": "3.7.6"
  }
 },
 "nbformat": 4,
 "nbformat_minor": 4
}
