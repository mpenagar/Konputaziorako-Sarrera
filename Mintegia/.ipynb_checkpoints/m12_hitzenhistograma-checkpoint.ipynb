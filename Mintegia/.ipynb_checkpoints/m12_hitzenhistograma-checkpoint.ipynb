{
 "cells": [
  {
   "cell_type": "code",
   "execution_count": 14,
   "metadata": {},
   "outputs": [],
   "source": [
    "def histograma(fizena, kodif=\"utf8\"):\n",
    "    with open(fizena,\"r\",encoding=kodif) as f :\n",
    "        h = {}\n",
    "        for x in f :\n",
    "            for y in x.split():\n",
    "                if y in h :\n",
    "                    h[y] = h[y] + 1\n",
    "                else :\n",
    "                    h[y] = 1\n",
    "        return h\n",
    "\n",
    "def histograma(fizena, kodif=\"utf8\"):\n",
    "    with open(fizena,\"r\",encoding=kodif) as f :\n",
    "        h = {}\n",
    "        for x in f :\n",
    "            for y in x.split():\n",
    "                h[y] = h.get(y,0) + 1\n",
    "        return h\n",
    "\n",
    "h = histograma(\"bible.txt\")"
   ]
  },
  {
   "cell_type": "code",
   "execution_count": 15,
   "metadata": {},
   "outputs": [
    {
     "name": "stdout",
     "output_type": "stream",
     "text": [
      "[('youth:', 7), ('youth;', 8), ('youth?', 2), ('youthful', 1), ('youths', 1), ('youths,', 1), ('zeal', 13), ('zeal,', 3), ('zealous', 8), ('zealously', 2)]\n",
      "[(8932, 'unto'), (9510, 'he'), (9762, 'shall'), (12221, 'in'), (12464, 'that'), (12735, 'And'), (13457, 'to'), (34547, 'of'), (38641, 'and'), (62252, 'the')]\n"
     ]
    }
   ],
   "source": [
    "print(sorted(h.items())[-10:])\n",
    "\n",
    "z = []\n",
    "for hitza,n in h.items() :\n",
    "    z.append((n,hitza))\n",
    "\n",
    "print(sorted(z)[-10:])"
   ]
  }
 ],
 "metadata": {
  "kernelspec": {
   "display_name": "Python 3",
   "language": "python",
   "name": "python3"
  },
  "language_info": {
   "codemirror_mode": {
    "name": "ipython",
    "version": 3
   },
   "file_extension": ".py",
   "mimetype": "text/x-python",
   "name": "python",
   "nbconvert_exporter": "python",
   "pygments_lexer": "ipython3",
   "version": "3.7.4"
  }
 },
 "nbformat": 4,
 "nbformat_minor": 2
}
