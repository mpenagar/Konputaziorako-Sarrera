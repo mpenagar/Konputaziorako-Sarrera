{
 "cells": [
  {
   "cell_type": "code",
   "execution_count": 19,
   "metadata": {},
   "outputs": [
    {
     "name": "stdout",
     "output_type": "stream",
     "text": [
      "Idatzi zenbaki erreal bat: 2\n",
      "Idatzi zenbaki oso bat: -3\n",
      "Berreketaren emaitza 0.125 da\n",
      "Berreketaren emaitza 0.125 da\n"
     ]
    }
   ],
   "source": [
    "a = float(input(\"Idatzi zenbaki erreal bat: \"))\n",
    "n = int(input(\"Idatzi zenbaki oso bat: \"))\n",
    "x = 1\n",
    "for i in range(abs(n)):\n",
    "    x = x * a\n",
    "if n < 0 :\n",
    "    x = 1.0 / x\n",
    "print(\"Berreketaren emaitza\",x,\"da\")\n",
    "\n",
    "def berreketa(a,n):\n",
    "    #print(\"Kalkulatzen...\",a,\"^\",n)\n",
    "    if n > 0 :\n",
    "        return a * berreketa(a,n-1)\n",
    "    elif n == 0 :\n",
    "        return 1.0\n",
    "    else :\n",
    "        return 1.0 / berreketa(a,-n)\n",
    "    \n",
    "print(\"Berreketaren emaitza\",berreketa(a,n),\"da\")\n",
    "    \n",
    "    "
   ]
  }
 ],
 "metadata": {
  "kernelspec": {
   "display_name": "Python 3",
   "language": "python",
   "name": "python3"
  },
  "language_info": {
   "codemirror_mode": {
    "name": "ipython",
    "version": 3
   },
   "file_extension": ".py",
   "mimetype": "text/x-python",
   "name": "python",
   "nbconvert_exporter": "python",
   "pygments_lexer": "ipython3",
   "version": "3.7.4"
  }
 },
 "nbformat": 4,
 "nbformat_minor": 2
}
