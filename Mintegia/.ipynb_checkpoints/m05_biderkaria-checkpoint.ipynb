{
 "cells": [
  {
   "cell_type": "code",
   "execution_count": 5,
   "metadata": {},
   "outputs": [
    {
     "name": "stdout",
     "output_type": "stream",
     "text": [
      "Idatzi zenbaki arrunt bat: 10\n",
      "Biderkariaren emaitza 3628800 da\n"
     ]
    }
   ],
   "source": [
    "n = int(input(\"Idatzi zenbaki arrunt bat: \"))\n",
    "a = 1\n",
    "for k in range(1,n+1):\n",
    "    a = a * k\n",
    "print(\"Biderkariaren emaitza\",a,\"da\")"
   ]
  }
 ],
 "metadata": {
  "kernelspec": {
   "display_name": "Python 3",
   "language": "python",
   "name": "python3"
  },
  "language_info": {
   "codemirror_mode": {
    "name": "ipython",
    "version": 3
   },
   "file_extension": ".py",
   "mimetype": "text/x-python",
   "name": "python",
   "nbconvert_exporter": "python",
   "pygments_lexer": "ipython3",
   "version": "3.7.4"
  }
 },
 "nbformat": 4,
 "nbformat_minor": 2
}
