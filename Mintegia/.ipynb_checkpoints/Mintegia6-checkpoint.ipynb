{
 "cells": [
  {
   "cell_type": "markdown",
   "metadata": {},
   "source": [
    "## 4\n",
    "Hutsuneen\tbidez\tbanandutako\thitzez\tosoturiko\tkaraktere\tkate\tbat\tjasotzen\t\n",
    "duen\t funtzioa\t diseinatu,\t kontutan\t harturik\t hutsunerik\t gabeko\t katea\t\n",
    "bueltatu\tbeharko\tduela.\tEgin\tezazu\tsplit\tmetodoa\terabiliz\teta\terabili\tgabe."
   ]
  },
  {
   "cell_type": "code",
   "execution_count": 4,
   "metadata": {},
   "outputs": [],
   "source": [
    "def hutsunerik_gabe(s):\n",
    "    z = s.split()\n",
    "    e = ''\n",
    "    for x in z :\n",
    "        e += x\n",
    "    return e"
   ]
  },
  {
   "cell_type": "code",
   "execution_count": 6,
   "metadata": {},
   "outputs": [],
   "source": [
    "def hutsunerik_gabe(s):\n",
    "    e = ''\n",
    "    for x in s.split() :\n",
    "        e += x\n",
    "    return e"
   ]
  },
  {
   "cell_type": "code",
   "execution_count": 16,
   "metadata": {},
   "outputs": [],
   "source": [
    "def hutsunerik_gabe(s):\n",
    "    return \"\".join(s.split())"
   ]
  },
  {
   "cell_type": "code",
   "execution_count": 17,
   "metadata": {},
   "outputs": [
    {
     "data": {
      "text/plain": [
       "'lkglkjhglkulkjhlklkjhlkjhlkjlkjhlkjlkjhlkuhl'"
      ]
     },
     "execution_count": 17,
     "metadata": {},
     "output_type": "execute_result"
    }
   ],
   "source": [
    "s = \"lkg lkjhglku lkjhlk lkj hlkjh lkj lkjhlk jlkjhlku hl\"\n",
    "#s.split()\n",
    "#\"\".join(s.split())\n",
    "hutsunerik_gabe(s)\n"
   ]
  },
  {
   "cell_type": "code",
   "execution_count": 26,
   "metadata": {},
   "outputs": [],
   "source": [
    "def hutsunerik_gabe2(s):\n",
    "    return s.replace(\" \",\"\")"
   ]
  },
  {
   "cell_type": "code",
   "execution_count": 27,
   "metadata": {},
   "outputs": [
    {
     "data": {
      "text/plain": [
       "'lkglkjhglkulkjhlklkjhlkjhlkjlkjhlkjlkjhlkuhl'"
      ]
     },
     "execution_count": 27,
     "metadata": {},
     "output_type": "execute_result"
    }
   ],
   "source": [
    "s = \"lkg lkjhglku lkjhlk lkj hlkjh lkj lkjhlk jlkjhlku hl\"\n",
    "#s.replace(\" \",\"\")\n",
    "hutsunerik_gabe2(s)"
   ]
  },
  {
   "cell_type": "markdown",
   "metadata": {},
   "source": [
    "### 8\n",
    "\n",
    "Funtzio bat diseinatu karaktere kate bat jasotzen duena. Kate horretan `'zenbaki'` hitza agertzen den bakoitzean zenbaki erreal bat agertuko da hutsune baten ostean. Funtzioak zenbaki guztien batuketa bueltatu beharko du."
   ]
  },
  {
   "cell_type": "code",
   "execution_count": 3,
   "metadata": {},
   "outputs": [
    {
     "data": {
      "text/plain": [
       "90.774"
      ]
     },
     "execution_count": 3,
     "metadata": {},
     "output_type": "execute_result"
    }
   ],
   "source": [
    "def f8(s):\n",
    "    b = 0\n",
    "    z = s.split()\n",
    "    for i,w in enumerate(z):\n",
    "        if w == 'zenbaki':\n",
    "            b += float(z[i+1])\n",
    "    return b\n",
    "\n",
    "# Exekuszio adibidea:\n",
    "f8('kaixo zenbaki 34.54 baten atzean beste zenbaki 56.234 agertu daiteke baina hau 10000.34 ez batu')"
   ]
  },
  {
   "cell_type": "code",
   "execution_count": 4,
   "metadata": {},
   "outputs": [
    {
     "data": {
      "text/plain": [
       "90.774"
      ]
     },
     "execution_count": 4,
     "metadata": {},
     "output_type": "execute_result"
    }
   ],
   "source": [
    "def f8(s):\n",
    "    b = 0\n",
    "    z = s.split()\n",
    "    for w1,w2 in zip(z,z[1:]):\n",
    "        if w1 == 'zenbaki':\n",
    "            b += float(w2)\n",
    "    return b\n",
    "\n",
    "# Exekuszio adibidea:\n",
    "f8('kaixo zenbaki 34.54 baten atzean beste zenbaki 56.234 agertu daiteke baina hau 10000.34 ez batu')"
   ]
  }
 ],
 "metadata": {
  "kernelspec": {
   "display_name": "Python 3",
   "language": "python",
   "name": "python3"
  },
  "language_info": {
   "codemirror_mode": {
    "name": "ipython",
    "version": 3
   },
   "file_extension": ".py",
   "mimetype": "text/x-python",
   "name": "python",
   "nbconvert_exporter": "python",
   "pygments_lexer": "ipython3",
   "version": "3.7.6"
  }
 },
 "nbformat": 4,
 "nbformat_minor": 4
}
