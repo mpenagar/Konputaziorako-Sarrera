{
 "cells": [
  {
   "cell_type": "code",
   "execution_count": 6,
   "metadata": {},
   "outputs": [
    {
     "data": {
      "text/plain": [
       "523.5987755983333"
      ]
     },
     "execution_count": 6,
     "metadata": {},
     "output_type": "execute_result"
    }
   ],
   "source": [
    "pi = 3.14159265359\n",
    "4 / 3 * pi * (5 ** 3)"
   ]
  },
  {
   "cell_type": "code",
   "execution_count": 14,
   "metadata": {},
   "outputs": [
    {
     "data": {
      "text/plain": [
       "523.5987755982989"
      ]
     },
     "execution_count": 14,
     "metadata": {},
     "output_type": "execute_result"
    }
   ],
   "source": [
    "import math\n",
    "#math.pi\n",
    "4 / 3 * math.pi * (5 ** 3)"
   ]
  },
  {
   "cell_type": "code",
   "execution_count": 20,
   "metadata": {},
   "outputs": [
    {
     "data": {
      "text/plain": [
       "int"
      ]
     },
     "execution_count": 20,
     "metadata": {},
     "output_type": "execute_result"
    }
   ],
   "source": [
    "type(5 ** 3)"
   ]
  },
  {
   "cell_type": "code",
   "execution_count": 15,
   "metadata": {},
   "outputs": [
    {
     "data": {
      "text/plain": [
       "523.5987755982989"
      ]
     },
     "execution_count": 15,
     "metadata": {},
     "output_type": "execute_result"
    }
   ],
   "source": [
    "from math import pi\n",
    "#pi\n",
    "4 / 3 * pi * (5 ** 3)"
   ]
  },
  {
   "cell_type": "code",
   "execution_count": 22,
   "metadata": {},
   "outputs": [
    {
     "data": {
      "text/plain": [
       "113.09733552923254"
      ]
     },
     "execution_count": 22,
     "metadata": {},
     "output_type": "execute_result"
    }
   ],
   "source": [
    "r = 3\n",
    "4 / 3 * pi * (r ** 3)"
   ]
  },
  {
   "cell_type": "code",
   "execution_count": 25,
   "metadata": {},
   "outputs": [
    {
     "name": "stdout",
     "output_type": "stream",
     "text": [
      "Idatzi esferaren erradioa:5.3246532\n",
      "Esferaren volumena: 632.3573783771174\n"
     ]
    }
   ],
   "source": [
    "from math import pi\n",
    "r = float(input('Idatzi esferaren erradioa:'))\n",
    "v = 4 / 3 * pi * (r ** 3)\n",
    "print('Esferaren volumena:',v)"
   ]
  },
  {
   "cell_type": "markdown",
   "metadata": {},
   "source": [
    "Liburu\tbaten\tprezioa\t24.95€\tda.\tBaina liburutegientzako\t%40\tko deskontua\n",
    "aplikatzen\tda.\tLiburuak bildaltzeko gastuak\tere\tgehitu beharko dira\t3€\t\n",
    "lehenengo kopiarentzat\teta\t0.75\t€\tgainontzekoentzat.\tIdatzi\t60\tliburuen prezio\n",
    "totala kalkulatzen duen\tprograma.\t"
   ]
  },
  {
   "cell_type": "code",
   "execution_count": 30,
   "metadata": {},
   "outputs": [
    {
     "data": {
      "text/plain": [
       "945.4499999999999"
      ]
     },
     "execution_count": 30,
     "metadata": {},
     "output_type": "execute_result"
    }
   ],
   "source": [
    "p = 24.95\n",
    "d = 40\n",
    "g1 = 3\n",
    "g2 = 0.75\n",
    "n = 60\n",
    "# deskontudun prezioa\n",
    "#p-p*d/100\n",
    "#p*(1-d/100)\n",
    "# n liburu deskontuaz eta gastu handiekin\n",
    "n * p*(1-d/100) + n * g1\n",
    "# n liburu deskontuaz eta gastu errealekin\n",
    "n * p*(1-d/100) + g1 + (n-1) * g2\n",
    "\n",
    "lib = 1\n",
    "lib = 0\n",
    "\n",
    "n * p*(1-lib*d/100) + g1 + (n-1) * g2\n",
    "\n",
    "\n",
    "\n"
   ]
  },
  {
   "cell_type": "code",
   "execution_count": 32,
   "metadata": {},
   "outputs": [
    {
     "name": "stdout",
     "output_type": "stream",
     "text": [
      "Zenbat liburu nahi dituzu?60\n",
      "Liburutegi bat al zara? (1:bai, 0:ez)0\n",
      "Zure prezioa: 1544.25 €\n"
     ]
    }
   ],
   "source": [
    "p = 24.95\n",
    "d = 40\n",
    "g1 = 3\n",
    "g2 = 0.75\n",
    "n = int(input(\"Zenbat liburu nahi dituzu?\"))\n",
    "lib = int(input(\"Liburutegi bat al zara? (1:bai, 0:ez)\"))\n",
    "prezioa = n * p*(1-lib*d/100) + g1 + (n-1) * g2\n",
    "print(\"Zure prezioa:\",prezioa,\"€\")"
   ]
  }
 ],
 "metadata": {
  "kernelspec": {
   "display_name": "Python 3",
   "language": "python",
   "name": "python3"
  },
  "language_info": {
   "codemirror_mode": {
    "name": "ipython",
    "version": 3
   },
   "file_extension": ".py",
   "mimetype": "text/x-python",
   "name": "python",
   "nbconvert_exporter": "python",
   "pygments_lexer": "ipython3",
   "version": "3.7.6"
  }
 },
 "nbformat": 4,
 "nbformat_minor": 4
}
