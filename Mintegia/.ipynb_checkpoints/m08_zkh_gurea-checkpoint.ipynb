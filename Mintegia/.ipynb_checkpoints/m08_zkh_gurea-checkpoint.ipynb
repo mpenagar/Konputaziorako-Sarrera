{
 "cells": [
  {
   "cell_type": "code",
   "execution_count": 1,
   "metadata": {},
   "outputs": [],
   "source": [
    "a = 2**5 * 3**2 * 5**3\n",
    "b = 2**4 * 3**3 * 5**3\n",
    "print(a,b)\n",
    "print(2**4 * 3**2 * 5**3)\n"
   ]
  },
  {
   "cell_type": "code",
   "execution_count": 2,
   "metadata": {},
   "outputs": [
    {
     "name": "stdout",
     "output_type": "stream",
     "text": [
      "18000\n"
     ]
    }
   ],
   "source": [
    "def minimoa(x,y):\n",
    "    if x < y :\n",
    "        return x\n",
    "    else :\n",
    "        return y\n",
    "    \n",
    "def zkh1(x,y):\n",
    "    for i in range(1,min(x,y)+1) :\n",
    "        if (x % i == 0) and (y % i == 0) :\n",
    "            e = i\n",
    "    return e\n",
    "\n",
    "print(zkh1(a,b))"
   ]
  },
  {
   "cell_type": "code",
   "execution_count": 3,
   "metadata": {},
   "outputs": [
    {
     "name": "stdout",
     "output_type": "stream",
     "text": [
      "18000\n"
     ]
    }
   ],
   "source": [
    "def zkh2(x,y):\n",
    "    i = min(x,y)\n",
    "    while (x % i != 0) or (y % i != 0) :\n",
    "        i = i - 1\n",
    "    return i\n",
    "\n",
    "print(zkh2(a,b))\n"
   ]
  },
  {
   "cell_type": "code",
   "execution_count": 4,
   "metadata": {},
   "outputs": [
    {
     "name": "stdout",
     "output_type": "stream",
     "text": [
      "18000\n"
     ]
    }
   ],
   "source": [
    "def zkh3(x,y):\n",
    "    for i in range(min(x,y),0,-1) :\n",
    "        if (x % i == 0) and (y % i == 0) :\n",
    "            return i\n",
    "        \n",
    "print(zkh3(a,b))"
   ]
  },
  {
   "cell_type": "code",
   "execution_count": 5,
   "metadata": {},
   "outputs": [
    {
     "name": "stdout",
     "output_type": "stream",
     "text": [
      "18000\n"
     ]
    }
   ],
   "source": [
    "def zkh4(x,y):\n",
    "    i = 1\n",
    "    z = min(x,y)\n",
    "    while i*i <= z :\n",
    "        if x % i == 0 :\n",
    "            if y % (x//i) == 0 :\n",
    "                return x//i\n",
    "            elif y % i == 0 :\n",
    "                e = i\n",
    "        i += 1\n",
    "    return e\n",
    "\n",
    "print(zkh4(a,b))"
   ]
  },
  {
   "cell_type": "code",
   "execution_count": 6,
   "metadata": {},
   "outputs": [
    {
     "name": "stdout",
     "output_type": "stream",
     "text": [
      "18000\n"
     ]
    }
   ],
   "source": [
    "def zkh_euc(x,y):\n",
    "    while y > 0 :\n",
    "        x,y = y,x%y\n",
    "    return x\n",
    "        \n",
    "print(zkh_euc(a,b))"
   ]
  },
  {
   "cell_type": "code",
   "execution_count": 7,
   "metadata": {},
   "outputs": [
    {
     "name": "stdout",
     "output_type": "stream",
     "text": [
      "18000\n"
     ]
    }
   ],
   "source": [
    "def zkh_euc_err(x,y):\n",
    "    h = x % y\n",
    "    if h == 0 :\n",
    "        return y\n",
    "    else :\n",
    "        return zkh_euc_err(y,h)\n",
    "        \n",
    "print(zkh_euc_err(a,b))"
   ]
  },
  {
   "cell_type": "code",
   "execution_count": 8,
   "metadata": {},
   "outputs": [
    {
     "name": "stdout",
     "output_type": "stream",
     "text": [
      "2.54 ms ± 163 µs per loop (mean ± std. dev. of 7 runs, 100 loops each)\n",
      "1.53 ms ± 12.6 µs per loop (mean ± std. dev. of 7 runs, 1000 loops each)\n",
      "1.26 ms ± 22.8 µs per loop (mean ± std. dev. of 7 runs, 1000 loops each)\n",
      "814 ns ± 4.5 ns per loop (mean ± std. dev. of 7 runs, 1000000 loops each)\n",
      "331 ns ± 14 ns per loop (mean ± std. dev. of 7 runs, 1000000 loops each)\n",
      "427 ns ± 17.3 ns per loop (mean ± std. dev. of 7 runs, 1000000 loops each)\n"
     ]
    }
   ],
   "source": [
    "%timeit zkh1(a,b)\n",
    "%timeit zkh2(a,b)\n",
    "%timeit zkh3(a,b)\n",
    "%timeit zkh4(a,b)\n",
    "%timeit zkh_euc(a,b)\n",
    "%timeit zkh_euc_err(a,b)\n"
   ]
  }
 ],
 "metadata": {
  "kernelspec": {
   "display_name": "Python 3",
   "language": "python",
   "name": "python3"
  },
  "language_info": {
   "codemirror_mode": {
    "name": "ipython",
    "version": 3
   },
   "file_extension": ".py",
   "mimetype": "text/x-python",
   "name": "python",
   "nbconvert_exporter": "python",
   "pygments_lexer": "ipython3",
   "version": "3.7.4"
  }
 },
 "nbformat": 4,
 "nbformat_minor": 2
}
