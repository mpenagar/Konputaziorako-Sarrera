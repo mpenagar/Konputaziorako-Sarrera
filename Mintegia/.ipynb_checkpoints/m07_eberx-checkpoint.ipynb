{
 "cells": [
  {
   "cell_type": "code",
   "execution_count": 24,
   "metadata": {},
   "outputs": [
    {
     "name": "stdout",
     "output_type": "stream",
     "text": [
      "2.7182818284590455 2.7182818284590455\n",
      "84.4 µs ± 10 µs per loop (mean ± std. dev. of 7 runs, 1000 loops each)\n",
      "8.04 µs ± 211 ns per loop (mean ± std. dev. of 7 runs, 1000 loops each)\n"
     ]
    }
   ],
   "source": [
    "import math\n",
    "def eberx_v1(x):\n",
    "    b = 0\n",
    "    for i in range(100):\n",
    "        s = x ** i / math.factorial(i)\n",
    "        b = b + s\n",
    "    return b\n",
    "\n",
    "def eberx_v2(x):\n",
    "    b = 1\n",
    "    s = 1\n",
    "    for i in range(1,100):\n",
    "        s = s * x / i\n",
    "        b = b + s\n",
    "    return b\n",
    "\n",
    "print(eberx_v1(1.0),eberx_v2(1.0))\n",
    "\n",
    "%timeit -n 1000 eberx_v1(1.0)\n",
    "%timeit -n 1000 eberx_v2(1.0)"
   ]
  }
 ],
 "metadata": {
  "kernelspec": {
   "display_name": "Python 3",
   "language": "python",
   "name": "python3"
  },
  "language_info": {
   "codemirror_mode": {
    "name": "ipython",
    "version": 3
   },
   "file_extension": ".py",
   "mimetype": "text/x-python",
   "name": "python",
   "nbconvert_exporter": "python",
   "pygments_lexer": "ipython3",
   "version": "3.7.4"
  }
 },
 "nbformat": 4,
 "nbformat_minor": 2
}
