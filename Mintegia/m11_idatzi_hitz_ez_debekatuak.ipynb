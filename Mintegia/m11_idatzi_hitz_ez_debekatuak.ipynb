{
 "cells": [
  {
   "cell_type": "code",
   "execution_count": 1,
   "metadata": {},
   "outputs": [],
   "source": [
    "k = \"Gaur ez naiz bazkaltzera joango! Eta Zu?\"\n",
    "d = \"!?\""
   ]
  },
  {
   "cell_type": "code",
   "execution_count": 5,
   "metadata": {},
   "outputs": [],
   "source": [
    "def debekatuta(hitza,debekua):\n",
    "    for k in debekua:        \n",
    "        if k in hitza :\n",
    "            return False\n",
    "    return True"
   ]
  },
  {
   "cell_type": "code",
   "execution_count": 6,
   "metadata": {},
   "outputs": [
    {
     "name": "stdout",
     "output_type": "stream",
     "text": [
      "Gaur True\n",
      "ez True\n",
      "naiz True\n",
      "bazkaltzera True\n",
      "joango! False\n",
      "Eta True\n",
      "Zu? False\n"
     ]
    }
   ],
   "source": [
    "for h in k.split():\n",
    "    print(h,debekatuta(h,d))"
   ]
  },
  {
   "cell_type": "code",
   "execution_count": null,
   "metadata": {},
   "outputs": [],
   "source": [
    "def f(d,i1,i2):\n",
    "    f1 = open(i1,\"r\")\n",
    "    f2 = open(i2,\"w\")\n",
    "    \n",
    "    for line in f1 :\n",
    "        z = []\n",
    "        for h in line.split():\n",
    "            if debekatuta(h,d) :\n",
    "                z.append(h)\n",
    "        print(\" \".join(z),file=f2)\n",
    "    f1.close()\n",
    "    f2.close()\n",
    "    \n",
    "\n",
    "d = input(\"Debekatutako karaktereak: \")\n",
    "izena1 = input(\"Irakurtzeko fitxategiaren izena: \")\n",
    "izena2 = input(\"Idazteko fitxategiaren izena: \")\n",
    "f(d,izena1,izena2)"
   ]
  }
 ],
 "metadata": {
  "kernelspec": {
   "display_name": "Python 3",
   "language": "python",
   "name": "python3"
  },
  "language_info": {
   "codemirror_mode": {
    "name": "ipython",
    "version": 3
   },
   "file_extension": ".py",
   "mimetype": "text/x-python",
   "name": "python",
   "nbconvert_exporter": "python",
   "pygments_lexer": "ipython3",
   "version": "3.7.4"
  }
 },
 "nbformat": 4,
 "nbformat_minor": 2
}
