{
 "cells": [
  {
   "cell_type": "code",
   "execution_count": 42,
   "metadata": {},
   "outputs": [
    {
     "name": "stdout",
     "output_type": "stream",
     "text": [
      "False\n",
      "True\n",
      "False\n",
      "True\n"
     ]
    }
   ],
   "source": [
    "def palindromoa_ote(h):\n",
    "    h2 = \"\"\n",
    "    for i in range(1,len(h)+1):\n",
    "        h2 = h2 + h[-i]\n",
    "    if h2 == h :\n",
    "        return True\n",
    "    else :\n",
    "        return False\n",
    "\n",
    "def palindromoa_ote(h):\n",
    "    h2 = \"\"\n",
    "    for i in range(1,len(h)+1):\n",
    "        h2 = h2 + h[-i]\n",
    "    return h2 == h\n",
    "    \n",
    "def palindromoa_ote(h):\n",
    "    h2 = \"\"\n",
    "    for i in range(len(h)):\n",
    "        h2 = h[i] + h2 \n",
    "    return h2 == h\n",
    "\n",
    "def palindromoa_ote(h):\n",
    "    h2 = \"\"\n",
    "    for k in h:\n",
    "        h2 = k + h2 \n",
    "    return h2 == h\n",
    "\n",
    "def palindromoa_ote(h):\n",
    "    z1 = list(h)\n",
    "    z2 = z1[:]\n",
    "    z2.reverse()\n",
    "    return z1 == z2\n",
    "\n",
    "def palindromoa_ote(h):\n",
    "    z = list(h)\n",
    "    return z == z[::-1]\n",
    "\n",
    "def palindromoa_ote(h):\n",
    "    return h == h[::-1]\n",
    "    \n",
    "print(palindromoa_ote(\"airea\"))\n",
    "print(palindromoa_ote(\"aisia\"))\n",
    "print(palindromoa_ote(\"gaur\"))\n",
    "print(palindromoa_ote(\"aEEa\"))\n"
   ]
  }
 ],
 "metadata": {
  "kernelspec": {
   "display_name": "Python 3",
   "language": "python",
   "name": "python3"
  },
  "language_info": {
   "codemirror_mode": {
    "name": "ipython",
    "version": 3
   },
   "file_extension": ".py",
   "mimetype": "text/x-python",
   "name": "python",
   "nbconvert_exporter": "python",
   "pygments_lexer": "ipython3",
   "version": "3.7.4"
  }
 },
 "nbformat": 4,
 "nbformat_minor": 2
}
