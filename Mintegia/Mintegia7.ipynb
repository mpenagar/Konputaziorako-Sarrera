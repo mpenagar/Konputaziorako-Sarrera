{
 "cells": [
  {
   "cell_type": "markdown",
   "metadata": {},
   "source": [
    "### 8\n",
    "\n",
    "Idatzi funtzio bat fixategi bat jasotzen duena argumentu moduan.\n",
    "Fitxategiaren lerro bakoitzean zenbaki oso bat egongo da (positiboa edo\n",
    "negatiboa izan daiteke). Funtzioak zenbaki guztiak irakurriko ditu eta\n",
    "maximoa bueltatuko du."
   ]
  },
  {
   "cell_type": "code",
   "execution_count": 11,
   "metadata": {},
   "outputs": [
    {
     "data": {
      "text/plain": [
       "99999999999999"
      ]
     },
     "execution_count": 11,
     "metadata": {},
     "output_type": "execute_result"
    }
   ],
   "source": [
    "def zenbaki_maximoa(fizena,kodifikazioa=\"utf8\"):\n",
    "    f = open(fizena,mode=\"r\",encoding=kodifikazioa)\n",
    "    imax = None\n",
    "    for ilara in f :\n",
    "        ilara = ilara.rstrip()\n",
    "        i = int(ilara)\n",
    "        # kontuz!!!\n",
    "        #if i > imax or imax == None :\n",
    "        if imax == None or  i > imax :\n",
    "            imax = i\n",
    "        #print(i,imax)\n",
    "    f.close()\n",
    "    return imax\n",
    "    \n",
    "    \n",
    "zenbaki_maximoa('zenbakiak.txt')    "
   ]
  },
  {
   "cell_type": "code",
   "execution_count": 12,
   "metadata": {},
   "outputs": [
    {
     "data": {
      "text/plain": [
       "99999999999999"
      ]
     },
     "execution_count": 12,
     "metadata": {},
     "output_type": "execute_result"
    }
   ],
   "source": [
    "def zenbaki_maximoa(fizena,kodifikazioa=\"utf8\"):\n",
    "    f = open(fizena,mode=\"r\",encoding=kodifikazioa)\n",
    "    for ilara in f :\n",
    "        imax = int(ilara.rstrip())\n",
    "        break\n",
    "    for ilara in f :\n",
    "        ilara = ilara.rstrip()\n",
    "        i = int(ilara)\n",
    "        if i > imax :\n",
    "            imax = i\n",
    "        #print(i,imax)\n",
    "    f.close()\n",
    "    return imax\n",
    "    \n",
    "    \n",
    "zenbaki_maximoa('zenbakiak.txt')    "
   ]
  }
 ],
 "metadata": {
  "kernelspec": {
   "display_name": "Python 3",
   "language": "python",
   "name": "python3"
  },
  "language_info": {
   "codemirror_mode": {
    "name": "ipython",
    "version": 3
   },
   "file_extension": ".py",
   "mimetype": "text/x-python",
   "name": "python",
   "nbconvert_exporter": "python",
   "pygments_lexer": "ipython3",
   "version": "3.7.6"
  }
 },
 "nbformat": 4,
 "nbformat_minor": 4
}
