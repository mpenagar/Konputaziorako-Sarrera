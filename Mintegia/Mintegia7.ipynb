{
 "cells": [
  {
   "cell_type": "markdown",
   "metadata": {},
   "source": [
    "## 4\n",
    "Programa\tbat\tidatzi\ttestu\tfitxategi\tbatean\t‘e’\thizkia\tez\tdaukaten\thitzen\t\n",
    "portzentaia\tpantailatik\tinprimatzen\tduena."
   ]
  },
  {
   "cell_type": "code",
   "execution_count": 21,
   "metadata": {},
   "outputs": [],
   "source": [
    "def e_ez_duten_hitzen_portzentaia(fizena,kodifikazioa=\"utf8\"):\n",
    "    f = open(fizena,encoding=kodifikazioa)\n",
    "    k1 = 0\n",
    "    k2 = 0\n",
    "    for ilara in f:\n",
    "        for hitza in ilara.split():\n",
    "            k1 += 1\n",
    "            if \"e\" not in hitza :\n",
    "                k2 += 1\n",
    "    f.close()\n",
    "    return k2 / k1 * 100\n",
    "    \n",
    "    "
   ]
  },
  {
   "cell_type": "code",
   "execution_count": 22,
   "metadata": {},
   "outputs": [
    {
     "data": {
      "text/plain": [
       "53.84615384615385"
      ]
     },
     "execution_count": 22,
     "metadata": {},
     "output_type": "execute_result"
    }
   ],
   "source": [
    "e_ez_duten_hitzen_portzentaia(\"froga.txt\")"
   ]
  }
 ],
 "metadata": {
  "kernelspec": {
   "display_name": "Python 3",
   "language": "python",
   "name": "python3"
  },
  "language_info": {
   "codemirror_mode": {
    "name": "ipython",
    "version": 3
   },
   "file_extension": ".py",
   "mimetype": "text/x-python",
   "name": "python",
   "nbconvert_exporter": "python",
   "pygments_lexer": "ipython3",
   "version": "3.7.6"
  }
 },
 "nbformat": 4,
 "nbformat_minor": 4
}
