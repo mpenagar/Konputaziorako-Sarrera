{
 "cells": [
  {
   "cell_type": "markdown",
   "metadata": {},
   "source": [
    "## 2\n",
    "Egizu\tprograma\tbat\terabiltzaileari\tzenbaki\toso\teta\tposiBbo\tbat\t\n",
    "eskatu\teta\tlehena\tden\tedo\tez\tkalkulatzen\tduena,\temaitza\tpantailaBk\t\n",
    "inprimatuz.\t"
   ]
  },
  {
   "cell_type": "code",
   "execution_count": 1,
   "metadata": {},
   "outputs": [
    {
     "name": "stdout",
     "output_type": "stream",
     "text": [
      "Idatzi zenbaki arrunt bat:1000\n",
      "1000 ez da lehena\n"
     ]
    }
   ],
   "source": [
    "n = int(input(\"Idatzi zenbaki arrunt bat:\"))\n",
    "k = 0\n",
    "for i in range(2,n):\n",
    "    if n%i == 0 :\n",
    "        k += 1\n",
    "if k == 0 :\n",
    "    print(n,\"lehena da\")\n",
    "else :\n",
    "    print(n,\"ez da lehena\")"
   ]
  },
  {
   "cell_type": "code",
   "execution_count": 5,
   "metadata": {},
   "outputs": [
    {
     "name": "stdout",
     "output_type": "stream",
     "text": [
      "Idatzi zenbaki arrunt bat:2\n",
      "2 lehena da\n"
     ]
    }
   ],
   "source": [
    "n = int(input(\"Idatzi zenbaki arrunt bat:\"))\n",
    "for i in range(2,n):\n",
    "    if n%i == 0 :\n",
    "        print(n,\"ez da lehena\")\n",
    "        break\n",
    "else:\n",
    "    print(n,\"lehena da\")    "
   ]
  },
  {
   "cell_type": "code",
   "execution_count": 9,
   "metadata": {},
   "outputs": [
    {
     "name": "stdout",
     "output_type": "stream",
     "text": [
      "[]\n",
      "[]\n",
      "[2]\n",
      "[2, 3]\n"
     ]
    }
   ],
   "source": [
    "print(list(range(2,1)))\n",
    "print(list(range(2,2)))\n",
    "print(list(range(2,3)))\n",
    "print(list(range(2,4)))\n"
   ]
  }
 ],
 "metadata": {
  "kernelspec": {
   "display_name": "Python 3",
   "language": "python",
   "name": "python3"
  },
  "language_info": {
   "codemirror_mode": {
    "name": "ipython",
    "version": 3
   },
   "file_extension": ".py",
   "mimetype": "text/x-python",
   "name": "python",
   "nbconvert_exporter": "python",
   "pygments_lexer": "ipython3",
   "version": "3.7.6"
  }
 },
 "nbformat": 4,
 "nbformat_minor": 4
}
