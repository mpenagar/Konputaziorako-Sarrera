{
 "cells": [
  {
   "cell_type": "code",
   "execution_count": 17,
   "metadata": {},
   "outputs": [
    {
     "name": "stdout",
     "output_type": "stream",
     "text": [
      "5 3\n",
      "3 5\n",
      "5 3\n",
      "3 5\n"
     ]
    }
   ],
   "source": [
    "a = 5\n",
    "b = 3\n",
    "print(a,b)\n",
    "\n",
    "\n",
    "# kontuz!!!\n",
    "#a = b\n",
    "#b = a\n",
    "#print(a,b)\n",
    "\n",
    "\n",
    "x = a\n",
    "y = b\n",
    "a = y\n",
    "b = x\n",
    "\n",
    "print(a,b)\n",
    "\n",
    "x = a\n",
    "a = b\n",
    "b = x\n",
    "\n",
    "print(a,b)\n",
    "\n",
    "a,b = b,a\n",
    "\n",
    "print(a,b)\n"
   ]
  }
 ],
 "metadata": {
  "kernelspec": {
   "display_name": "Python 3",
   "language": "python",
   "name": "python3"
  },
  "language_info": {
   "codemirror_mode": {
    "name": "ipython",
    "version": 3
   },
   "file_extension": ".py",
   "mimetype": "text/x-python",
   "name": "python",
   "nbconvert_exporter": "python",
   "pygments_lexer": "ipython3",
   "version": "3.7.4"
  }
 },
 "nbformat": 4,
 "nbformat_minor": 2
}
