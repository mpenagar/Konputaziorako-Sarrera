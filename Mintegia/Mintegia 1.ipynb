{
 "cells": [
  {
   "cell_type": "markdown",
   "metadata": {},
   "source": [
    "### 1\n",
    "Idatzi r=5 eko esfera baten bolumena kalkulatzen duen programa, kontutan izanda esfera baten bolumena $\\frac{4}{3} \\pi r^3$ formularen bitartez kalkulatzen dela."
   ]
  },
  {
   "cell_type": "code",
   "execution_count": 3,
   "metadata": {},
   "outputs": [
    {
     "name": "stdout",
     "output_type": "stream",
     "text": [
      "523.5987755982989\n"
     ]
    }
   ],
   "source": [
    "import math\n",
    "print(4/3*math.pi*5**3)"
   ]
  },
  {
   "cell_type": "code",
   "execution_count": 4,
   "metadata": {},
   "outputs": [
    {
     "name": "stdout",
     "output_type": "stream",
     "text": [
      "523.5987755982989\n"
     ]
    }
   ],
   "source": [
    "from math import pi\n",
    "print(4/3*pi*5**3)"
   ]
  },
  {
   "cell_type": "code",
   "execution_count": 6,
   "metadata": {},
   "outputs": [
    {
     "name": "stdout",
     "output_type": "stream",
     "text": [
      "523.5987755982989\n"
     ]
    }
   ],
   "source": [
    "from math import pi as π\n",
    "print(4/3*π*5**3)"
   ]
  },
  {
   "cell_type": "markdown",
   "metadata": {},
   "source": [
    "### 2\n",
    "Aldatu orain programa r=3 duen esferaren bolumena kalkulatzeko"
   ]
  },
  {
   "cell_type": "code",
   "execution_count": 8,
   "metadata": {},
   "outputs": [
    {
     "name": "stdout",
     "output_type": "stream",
     "text": [
      "157.47913854527116\n"
     ]
    }
   ],
   "source": [
    "r = 3\n",
    "print(4/3*π*r**3)"
   ]
  },
  {
   "cell_type": "markdown",
   "metadata": {},
   "source": [
    "### 3\n",
    "Liburu baten prezioa 24.95€ da. Baina liburutegientzako %40 ko deskontua\n",
    "aplikatzen da. Liburuak bildaltzeko gastuak ere gehitu beharko dira 3€\n",
    "lehenengo kopiarentzat eta 0.75 € gainontzekoentzat. Idatzi 60 liburuen prezio\n",
    "totala kalkulatzen duen programa."
   ]
  },
  {
   "cell_type": "code",
   "execution_count": 26,
   "metadata": {},
   "outputs": [
    {
     "name": "stdout",
     "output_type": "stream",
     "text": [
      "-650.06\n"
     ]
    }
   ],
   "source": [
    "n = 60\n",
    "prez = 24.95\n",
    "desk = 40\n",
    "port_lehen = 3\n",
    "port_lehen_kop = 1\n",
    "port_hurren = 0.75\n",
    "\n",
    "n = 2\n",
    "prez = 24.95\n",
    "desk = 40\n",
    "port_lehen = 3\n",
    "port_lehen_kop = 100\n",
    "port_hurren = 10\n",
    "\n",
    "# Liburuen prezioa\n",
    "totala = n * prez * (100 - desk) / 100\n",
    "# Porteak\n",
    "totala += port_lehen * port_lehen_kop + port_hurren * (n - port_lehen_kop)\n",
    "print(totala)"
   ]
  },
  {
   "cell_type": "code",
   "execution_count": null,
   "metadata": {},
   "outputs": [],
   "source": []
  }
 ],
 "metadata": {
  "kernelspec": {
   "display_name": "Python 3",
   "language": "python",
   "name": "python3"
  },
  "language_info": {
   "codemirror_mode": {
    "name": "ipython",
    "version": 3
   },
   "file_extension": ".py",
   "mimetype": "text/x-python",
   "name": "python",
   "nbconvert_exporter": "python",
   "pygments_lexer": "ipython3",
   "version": "3.7.6"
  }
 },
 "nbformat": 4,
 "nbformat_minor": 4
}
