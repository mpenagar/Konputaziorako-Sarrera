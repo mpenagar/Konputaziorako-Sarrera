{
 "cells": [
  {
   "cell_type": "code",
   "execution_count": 17,
   "metadata": {},
   "outputs": [
    {
     "name": "stdout",
     "output_type": "stream",
     "text": [
      "Help on module eoa:\n",
      "\n",
      "NAME\n",
      "    eoa\n",
      "\n",
      "FILE\n",
      "    /notebooks/Konputaziorako-Sarrera-2019-2020/Mintegia/eoa.py\n",
      "\n",
      "\n",
      "<module 'eoa' from '/notebooks/Konputaziorako-Sarrera-2019-2020/Mintegia/eoa.py'>\n"
     ]
    },
    {
     "ename": "AttributeError",
     "evalue": "module 'eoa' has no attribute 'kaixo'",
     "output_type": "error",
     "traceback": [
      "\u001b[0;31m\u001b[0m",
      "\u001b[0;31mAttributeError\u001b[0mTraceback (most recent call last)",
      "\u001b[0;32m<ipython-input-17-8b5ea4a99fcb>\u001b[0m in \u001b[0;36m<module>\u001b[0;34m\u001b[0m\n\u001b[1;32m      2\u001b[0m \u001b[0mhelp\u001b[0m\u001b[0;34m(\u001b[0m\u001b[0meoa\u001b[0m\u001b[0;34m)\u001b[0m\u001b[0;34m\u001b[0m\u001b[0;34m\u001b[0m\u001b[0m\n\u001b[1;32m      3\u001b[0m \u001b[0mprint\u001b[0m\u001b[0;34m(\u001b[0m\u001b[0meoa\u001b[0m\u001b[0;34m)\u001b[0m\u001b[0;34m\u001b[0m\u001b[0;34m\u001b[0m\u001b[0m\n\u001b[0;32m----> 4\u001b[0;31m \u001b[0meoa\u001b[0m\u001b[0;34m.\u001b[0m\u001b[0mkaixo\u001b[0m\u001b[0;34m\u001b[0m\u001b[0;34m\u001b[0m\u001b[0m\n\u001b[0m",
      "\u001b[0;31mAttributeError\u001b[0m: module 'eoa' has no attribute 'kaixo'"
     ]
    }
   ],
   "source": [
    "import eoa\n",
    "help(eoa)\n",
    "print(eoa)\n",
    "eoa.kaixo"
   ]
  }
 ],
 "metadata": {
  "kernelspec": {
   "display_name": "Python 3",
   "language": "python",
   "name": "python3"
  },
  "language_info": {
   "codemirror_mode": {
    "name": "ipython",
    "version": 3
   },
   "file_extension": ".py",
   "mimetype": "text/x-python",
   "name": "python",
   "nbconvert_exporter": "python",
   "pygments_lexer": "ipython3",
   "version": "3.7.4"
  }
 },
 "nbformat": 4,
 "nbformat_minor": 2
}
