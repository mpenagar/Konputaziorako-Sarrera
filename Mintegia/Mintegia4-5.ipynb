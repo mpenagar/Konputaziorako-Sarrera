{
 "cells": [
  {
   "cell_type": "markdown",
   "metadata": {},
   "source": [
    "# Funtzioak I"
   ]
  },
  {
   "cell_type": "markdown",
   "metadata": {},
   "source": [
    "## 3\n",
    "Diseinatu funtzio bat zaBketa\tbaten\tzaBdura osoa\teta\tbeste funtzio bat\n",
    "zaBketaren hondarra bueltatzeko,\tsuposatuz\t/,\t//\teta\t%\teragigaiak exisBzen\n",
    "ez direla.\t\n"
   ]
  },
  {
   "cell_type": "code",
   "execution_count": 11,
   "metadata": {},
   "outputs": [],
   "source": [
    "def zatidura_osoa(a,b):\n",
    "    k = 0\n",
    "    while a >= b :\n",
    "        a -= b\n",
    "        k += 1\n",
    "        #print(a,k)\n",
    "    return k"
   ]
  },
  {
   "cell_type": "code",
   "execution_count": 13,
   "metadata": {},
   "outputs": [],
   "source": [
    "def hondarra(a,b):\n",
    "    while a >= b :\n",
    "        a -= b\n",
    "    return a"
   ]
  },
  {
   "cell_type": "code",
   "execution_count": 14,
   "metadata": {},
   "outputs": [
    {
     "name": "stdout",
     "output_type": "stream",
     "text": [
      "6 6\n"
     ]
    }
   ],
   "source": [
    "print(45//7,zatidura_osoa(45,7))"
   ]
  },
  {
   "cell_type": "code",
   "execution_count": 15,
   "metadata": {},
   "outputs": [
    {
     "name": "stdout",
     "output_type": "stream",
     "text": [
      "3 3\n"
     ]
    }
   ],
   "source": [
    "print(45%7,hondarra(45,7))"
   ]
  },
  {
   "cell_type": "code",
   "execution_count": 16,
   "metadata": {},
   "outputs": [],
   "source": [
    "def zatidura_osoa_hondarra(a,b):\n",
    "    k = 0\n",
    "    while a >= b :\n",
    "        a -= b\n",
    "        k += 1\n",
    "        #print(a,k)\n",
    "    return k,a"
   ]
  },
  {
   "cell_type": "code",
   "execution_count": 17,
   "metadata": {},
   "outputs": [
    {
     "data": {
      "text/plain": [
       "(6, 3)"
      ]
     },
     "execution_count": 17,
     "metadata": {},
     "output_type": "execute_result"
    }
   ],
   "source": [
    "zatidura_osoa_hondarra(45,7)"
   ]
  },
  {
   "cell_type": "markdown",
   "metadata": {},
   "source": [
    "# Funtzioak II"
   ]
  },
  {
   "cell_type": "markdown",
   "metadata": {},
   "source": [
    "## 1 \n",
    "Egizu\tprograma\tnagusi\tbat\tbi\tzenbaki\toso\terabiltzaileari\teskatuz\teta\t\n",
    "beraien\tZKH-a\tkalkulatzen\tduena.\tHorretarako\tfuntzio\tbat\tdefinitu\tbi\t\n",
    "zenbakiak\targumentu\tmoduan\tjasotzen\tdituena\teta\tberaien\tZKH-a\t\n",
    "bueltatzen\tduena.\tErabili\tezazu\tondoko\talgoritmoa:\t"
   ]
  },
  {
   "cell_type": "code",
   "execution_count": 18,
   "metadata": {},
   "outputs": [],
   "source": [
    "def zkh_euklides(a,b):\n",
    "    if a < b :\n",
    "        #x = a\n",
    "        #a = b\n",
    "        #b = x\n",
    "        a,b = b,a\n",
    "    while b != 0 :\n",
    "        #x = a\n",
    "        #a = b\n",
    "        #b = x%b\n",
    "        a,b = b,a%b\n",
    "    return a"
   ]
  },
  {
   "cell_type": "code",
   "execution_count": 20,
   "metadata": {},
   "outputs": [
    {
     "data": {
      "text/plain": [
       "7"
      ]
     },
     "execution_count": 20,
     "metadata": {},
     "output_type": "execute_result"
    }
   ],
   "source": [
    "zkh_euklides(2353253,234532452)"
   ]
  },
  {
   "cell_type": "code",
   "execution_count": 25,
   "metadata": {},
   "outputs": [],
   "source": [
    "def zkh_euklides(a,b):\n",
    "    while b != 0 :\n",
    "        a,b = b,a%b\n",
    "    return a"
   ]
  },
  {
   "cell_type": "code",
   "execution_count": 27,
   "metadata": {},
   "outputs": [
    {
     "data": {
      "text/plain": [
       "1"
      ]
     },
     "execution_count": 27,
     "metadata": {},
     "output_type": "execute_result"
    }
   ],
   "source": [
    "zkh_euklides(456,2345)"
   ]
  },
  {
   "cell_type": "markdown",
   "metadata": {},
   "source": [
    "## 2\n",
    "Egizu aurreko ariketako gauza bera baina orain euclides-en algoritmoa erabili beharrean, zuk asmatutako algoritmo bat erabili ZKH-a kalkultzeko."
   ]
  },
  {
   "cell_type": "code",
   "execution_count": 28,
   "metadata": {},
   "outputs": [],
   "source": [
    "def zkh(a,b):\n",
    "    i = min(a,b)\n",
    "    while a%i != 0  or  b%i != 0 :\n",
    "        i -= 1\n",
    "    return i"
   ]
  },
  {
   "cell_type": "code",
   "execution_count": 30,
   "metadata": {},
   "outputs": [
    {
     "data": {
      "text/plain": [
       "7"
      ]
     },
     "execution_count": 30,
     "metadata": {},
     "output_type": "execute_result"
    }
   ],
   "source": [
    "zkh_euklides(2353253,234532452)"
   ]
  }
 ],
 "metadata": {
  "kernelspec": {
   "display_name": "Python 3",
   "language": "python",
   "name": "python3"
  },
  "language_info": {
   "codemirror_mode": {
    "name": "ipython",
    "version": 3
   },
   "file_extension": ".py",
   "mimetype": "text/x-python",
   "name": "python",
   "nbconvert_exporter": "python",
   "pygments_lexer": "ipython3",
   "version": "3.7.6"
  }
 },
 "nbformat": 4,
 "nbformat_minor": 4
}
