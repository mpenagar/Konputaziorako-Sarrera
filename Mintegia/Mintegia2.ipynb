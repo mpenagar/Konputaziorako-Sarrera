{
 "cells": [
  {
   "cell_type": "markdown",
   "metadata": {},
   "source": [
    "## 5 \n",
    "Programa!bat idatzi urte bat eskatzen duena!eta!urte hori bisustua\n",
    "den!ala!ez esaten!duena.!GOGORATU!!!Urte bat bisustua izango!da!\n",
    "4003gaiGk!zaGgarria denean,!edo!43gaiGk!zaGgarria izanez gero!1003\n",
    "gaiGk!zaGgarria ez bada.!!"
   ]
  },
  {
   "cell_type": "code",
   "execution_count": 12,
   "metadata": {},
   "outputs": [
    {
     "name": "stdout",
     "output_type": "stream",
     "text": [
      "Idatzi urte bat:2000\n",
      "2000 urtea bisustua da\n"
     ]
    }
   ],
   "source": [
    "u = int(input(\"Idatzi urte bat:\"))\n",
    "\n",
    "if u%400 == 0 or (u%4 == 0 and u%100 != 0) :\n",
    "    print(u,\"urtea bisustua da\")\n",
    "else :\n",
    "    print(u,\"urtea ez da bisustua\")"
   ]
  }
 ],
 "metadata": {
  "kernelspec": {
   "display_name": "Python 3",
   "language": "python",
   "name": "python3"
  },
  "language_info": {
   "codemirror_mode": {
    "name": "ipython",
    "version": 3
   },
   "file_extension": ".py",
   "mimetype": "text/x-python",
   "name": "python",
   "nbconvert_exporter": "python",
   "pygments_lexer": "ipython3",
   "version": "3.7.6"
  }
 },
 "nbformat": 4,
 "nbformat_minor": 4
}
