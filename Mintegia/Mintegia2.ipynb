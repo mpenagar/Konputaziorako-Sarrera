{
 "cells": [
  {
   "cell_type": "markdown",
   "metadata": {},
   "source": [
    "### 3\n",
    "Demagun hiru makila dituzula,!beraien luzeraren arabera posiblea\n",
    "izango!da!edo ez beraiekin triangelu bat osatzea.!Adibidez:!\n",
    "1.!makila!=!12!cm,!2.!makila!=!1cm,!3.!makila!=2cm!3>!EZ!DA!POSIBLE!\n",
    "Edozein makilaren luzeera beste!bien!batura baino handiagoa\n",
    "bada ez!da!posible!triangelua osotzea.!\n",
    "Programa!bat diseinatu!3!zenbaki!oso!teklatuGk jasotzen\n",
    "dituena!eta!pantailaGk bai inprimatzen duena triangelua\n",
    "osotu ahal bada!eta!\n",
    "ez\n",
    " kontrako kasuan.!"
   ]
  },
  {
   "cell_type": "code",
   "execution_count": 8,
   "metadata": {},
   "outputs": [
    {
     "name": "stdout",
     "output_type": "stream",
     "text": [
      "Idatzi alde baten luzera: 34\n",
      "Idatzi alde baten luzera: 53\n",
      "Idatzi alde baten luzera: 43\n",
      "triangelua osotu ahal da\n"
     ]
    }
   ],
   "source": [
    "a = float(input('Idatzi alde baten luzera: '))\n",
    "b = float(input('Idatzi alde baten luzera: '))\n",
    "c = float(input('Idatzi alde baten luzera: '))\n",
    "\n",
    "#if a>b>c or a>c>b :\n",
    "if a>=b and a>=c :\n",
    "    # a alde luzea\n",
    "    if a < b+c :\n",
    "        print('triangelua osotu ahal da')\n",
    "    else :\n",
    "        print('triangelua ezin da sotu')        \n",
    "elif b>=c :\n",
    "    # b alde luzea\n",
    "    if b < a+c :\n",
    "        print('triangelua osotu ahal da')\n",
    "    else :\n",
    "        print('triangelua ezin da sotu')        \n",
    "else :\n",
    "    # c alde luzea\n",
    "    if c < a+b :\n",
    "        print('triangelua osotu ahal da')\n",
    "    else :\n",
    "        print('triangelua ezin da sotu')        \n",
    "    "
   ]
  },
  {
   "cell_type": "code",
   "execution_count": 7,
   "metadata": {},
   "outputs": [
    {
     "name": "stdout",
     "output_type": "stream",
     "text": [
      "Idatzi alde baten luzera: 435\n",
      "Idatzi alde baten luzera: 34\n",
      "Idatzi alde baten luzera: 45\n",
      "triangelua ezin da sotu\n"
     ]
    }
   ],
   "source": [
    "a = float(input('Idatzi alde baten luzera: '))\n",
    "b = float(input('Idatzi alde baten luzera: '))\n",
    "c = float(input('Idatzi alde baten luzera: '))\n",
    "\n",
    "#if a>b>c or a>c>b :\n",
    "if a>=b and a>=c :\n",
    "    # a alde luzea\n",
    "    x = (a < b+c)\n",
    "elif b>=c :\n",
    "    # b alde luzea\n",
    "    x = (b < a+c)\n",
    "else :\n",
    "    # c alde luzea\n",
    "    x = (c < a+b)\n",
    "if x :\n",
    "    print('triangelua osotu ahal da')\n",
    "else :\n",
    "    print('triangelua ezin da sotu')        \n",
    "  "
   ]
  },
  {
   "cell_type": "code",
   "execution_count": 7,
   "metadata": {},
   "outputs": [
    {
     "name": "stdout",
     "output_type": "stream",
     "text": [
      "Idatzi alde baten luzera: 435\n",
      "Idatzi alde baten luzera: 34\n",
      "Idatzi alde baten luzera: 45\n",
      "triangelua ezin da sotu\n"
     ]
    }
   ],
   "source": [
    "a = float(input('Idatzi alde baten luzera: '))\n",
    "b = float(input('Idatzi alde baten luzera: '))\n",
    "c = float(input('Idatzi alde baten luzera: '))\n",
    "\n",
    "if a>b+c or b>a+c or c>a+b :\n",
    "    print('triangelua ezin da sotu')        \n",
    "else :\n",
    "    print('triangelua osotu ahal da')\n",
    "\n",
    "if not (a>b+c or b>a+c or c>a+b) :\n",
    "    print('triangelua osotu ahal da')\n",
    "else :\n",
    "    print('triangelua ezin da sotu')        \n",
    "  "
   ]
  },
  {
   "cell_type": "code",
   "execution_count": 4,
   "metadata": {},
   "outputs": [
    {
     "data": {
      "text/plain": [
       "True"
      ]
     },
     "execution_count": 4,
     "metadata": {},
     "output_type": "execute_result"
    }
   ],
   "source": [
    "3>2>1>0"
   ]
  }
 ],
 "metadata": {
  "kernelspec": {
   "display_name": "Python 3",
   "language": "python",
   "name": "python3"
  },
  "language_info": {
   "codemirror_mode": {
    "name": "ipython",
    "version": 3
   },
   "file_extension": ".py",
   "mimetype": "text/x-python",
   "name": "python",
   "nbconvert_exporter": "python",
   "pygments_lexer": "ipython3",
   "version": "3.7.6"
  }
 },
 "nbformat": 4,
 "nbformat_minor": 4
}
