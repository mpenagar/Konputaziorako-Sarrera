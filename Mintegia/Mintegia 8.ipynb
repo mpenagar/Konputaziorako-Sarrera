{
 "cells": [
  {
   "cell_type": "markdown",
   "metadata": {},
   "source": [
    "### 5\n",
    "\n",
    "Idatzi funtzio bat zerrenda bat jasotzen duena eta zenbaki oso bikoiti guztiak zenbaki berdinari dagokion karaktere kateagatik ordezkatzen dituena.\n"
   ]
  },
  {
   "cell_type": "code",
   "execution_count": 1,
   "metadata": {},
   "outputs": [
    {
     "name": "stdout",
     "output_type": "stream",
     "text": [
      "[2435, 23, 235, '34462', '56', 5, 23, '56', '25346', '314', 61, '34']\n"
     ]
    }
   ],
   "source": [
    "def bikoiti2str(z):\n",
    "    for i in range(len(z)):\n",
    "        if z[i] % 2 == 0 :\n",
    "            z[i] = str(z[i])\n",
    "\n",
    "zer = [ 2435,23,235,34462,56,5,23,56,25346,314,61,34]\n",
    "bikoiti2str(zer)\n",
    "print(zer)"
   ]
  },
  {
   "cell_type": "code",
   "execution_count": 3,
   "metadata": {},
   "outputs": [
    {
     "name": "stdout",
     "output_type": "stream",
     "text": [
      "[2435, 23, 235, 34462, 56, 5, 23, 56, 25346, 314, 61, 34]\n"
     ]
    }
   ],
   "source": [
    "# HAU EZ DABIL!!!\n",
    "def bikoiti2str(z):\n",
    "    for x in z:\n",
    "        if x % 2 == 0 :\n",
    "            x = str(x)\n",
    "\n",
    "zer = [ 2435,23,235,34462,56,5,23,56,25346,314,61,34]\n",
    "bikoiti2str(zer)\n",
    "print(zer)"
   ]
  }
 ],
 "metadata": {
  "kernelspec": {
   "display_name": "Python 3",
   "language": "python",
   "name": "python3"
  },
  "language_info": {
   "codemirror_mode": {
    "name": "ipython",
    "version": 3
   },
   "file_extension": ".py",
   "mimetype": "text/x-python",
   "name": "python",
   "nbconvert_exporter": "python",
   "pygments_lexer": "ipython3",
   "version": "3.7.6"
  }
 },
 "nbformat": 4,
 "nbformat_minor": 4
}
