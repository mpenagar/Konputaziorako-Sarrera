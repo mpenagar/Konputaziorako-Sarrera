{
 "cells": [
  {
   "attachments": {
    "image-2.png": {
     "image/png": "[encoded data removed]"
    }
   },
   "cell_type": "markdown",
   "metadata": {},
   "source": [
    "### 2\n",
    "\n",
    "Egizu funtzio bat hipoteka baB dagokion hileko ordainketa kalkulatzen\n",
    "duena. Kontutan hartu interesa eta epea hilekoak direla.\n",
    "\n",
    "![image-2.png](attachment:image-2.png)"
   ]
  },
  {
   "cell_type": "code",
   "execution_count": 15,
   "metadata": {},
   "outputs": [
    {
     "data": {
      "text/plain": [
       "11282.541002081534"
      ]
     },
     "execution_count": 15,
     "metadata": {},
     "output_type": "execute_result"
    }
   ],
   "source": [
    "def f2(kapitala,interesa,epea):\n",
    "    return kapitala * interesa / 100 / (1 - (1 + interesa/100)**(-epea))\n",
    "\n",
    "f2(100000,5,12)"
   ]
  },
  {
   "cell_type": "markdown",
   "metadata": {},
   "source": [
    "### 3 \n",
    "Diseinatu funtzio bat zaBketa baten zaBdura osoa eta beste funtzio bat\n",
    "zaBketaren hondarra bueltatzeko, suposatuz /, // eta % eragigaiak exisBzen\n",
    "ez direla."
   ]
  },
  {
   "cell_type": "code",
   "execution_count": null,
   "metadata": {},
   "outputs": [],
   "source": [
    "def zatidura_osoa(a,b):\n",
    "    k = 0\n",
    "    while a >= b :\n",
    "        a = a - b\n",
    "        k = k + 1\n",
    "    return k\n",
    "\n",
    "def hondarra(a,b):\n",
    "    while a >= b :\n",
    "        a = a - b\n",
    "    return a\n",
    "\n",
    "def hondarra(a,b):\n",
    "    return a - zatidura_osoa(a,b) * b\n",
    "\n",
    "def zatidura_osoa_eta_hondarra(a,b):\n",
    "    k = 0\n",
    "    while a >= b :\n",
    "        a = a - b\n",
    "        k = k + 1\n",
    "    return [k,a]\n"
   ]
  },
  {
   "cell_type": "markdown",
   "metadata": {},
   "source": [
    "### 4\n",
    "Diseinatu funtzio bat ondoko funtzioen hurbilketa bat kalkulatzen duena.\n",
    "\n",
    "$$e^x = \\sum_{n=0}^{\\infty}{\\frac{x^n}{n!}} \\approx \\sum_{n=0}^{100}{\\frac{x^n}{n!}}$$"
   ]
  },
  {
   "cell_type": "code",
   "execution_count": 28,
   "metadata": {},
   "outputs": [],
   "source": [
    "def fak(n):\n",
    "    if n == 0 :\n",
    "        return 1\n",
    "    else :\n",
    "        b = 1\n",
    "        for i in range(1,n+1) :\n",
    "            b = b * i\n",
    "        return b\n",
    "\n",
    "def exponentziala(x):\n",
    "    b = 0\n",
    "    for n in range(101) :\n",
    "        b = b + (x**n)/fak(n)\n",
    "    return b"
   ]
  },
  {
   "cell_type": "code",
   "execution_count": 30,
   "metadata": {},
   "outputs": [
    {
     "data": {
      "text/plain": [
       "3.552713678800501e-15"
      ]
     },
     "execution_count": 30,
     "metadata": {},
     "output_type": "execute_result"
    }
   ],
   "source": [
    "from math import e\n",
    "from math import exp\n",
    "\n",
    "exponentziala(3.43) - exp(3.43)"
   ]
  }
 ],
 "metadata": {
  "kernelspec": {
   "display_name": "Python 3",
   "language": "python",
   "name": "python3"
  },
  "language_info": {
   "codemirror_mode": {
    "name": "ipython",
    "version": 3
   },
   "file_extension": ".py",
   "mimetype": "text/x-python",
   "name": "python",
   "nbconvert_exporter": "python",
   "pygments_lexer": "ipython3",
   "version": "3.7.6"
  }
 },
 "nbformat": 4,
 "nbformat_minor": 4
}
