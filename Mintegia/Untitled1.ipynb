{
 "cells": [
  {
   "cell_type": "markdown",
   "metadata": {},
   "source": [
    "## 2\n",
    "Egizu\tprograma\tbat\terabiltzaileari\tzenbaki\toso\teta\tposiBbo\tbat\t\n",
    "eskatu\teta\tlehena\tden\tedo\tez\tkalkulatzen\tduena,\temaitza\tpantailaBk\t\n",
    "inprimatuz.\t"
   ]
  },
  {
   "cell_type": "code",
   "execution_count": null,
   "metadata": {},
   "outputs": [],
   "source": [
    "n = int(input(\"Idatzi zenbaki arrunt bat:\"))\n",
    "k = 0\n",
    "for i in range(2,n):\n",
    "    if n%i == 0 :\n",
    "        k += 1\n",
    "if k == 0 :\n",
    "    print(n,\"lehena da\")\n",
    "else :\n",
    "    print(n,\"ez da lehena\")"
   ]
  }
 ],
 "metadata": {
  "kernelspec": {
   "display_name": "Python 3",
   "language": "python",
   "name": "python3"
  },
  "language_info": {
   "codemirror_mode": {
    "name": "ipython",
    "version": 3
   },
   "file_extension": ".py",
   "mimetype": "text/x-python",
   "name": "python",
   "nbconvert_exporter": "python",
   "pygments_lexer": "ipython3",
   "version": "3.7.6"
  }
 },
 "nbformat": 4,
 "nbformat_minor": 4
}
