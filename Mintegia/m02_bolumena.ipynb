{
 "cells": [
  {
   "cell_type": "code",
   "execution_count": 8,
   "metadata": {},
   "outputs": [
    {
     "name": "stdout",
     "output_type": "stream",
     "text": [
      "3.141592653589793\n",
      "3.141592653589793\n",
      "3.141592653589793\n",
      "294.5243112740431\n",
      "294.5243112740431\n"
     ]
    }
   ],
   "source": [
    "import math\n",
    "\n",
    "print(math.pi)\n",
    "\n",
    "from math import pi\n",
    "\n",
    "print(pi)\n",
    "\n",
    "from math import pi as pi_konstantea\n",
    "\n",
    "print(pi_konstantea)\n",
    "\n",
    "vol = 3/4*pi*5**3\n",
    "print(vol)\n",
    "\n",
    "r = 5\n",
    "vol = 3/4*pi*r**3\n",
    "print(vol)"
   ]
  }
 ],
 "metadata": {
  "kernelspec": {
   "display_name": "Python 3",
   "language": "python",
   "name": "python3"
  },
  "language_info": {
   "codemirror_mode": {
    "name": "ipython",
    "version": 3
   },
   "file_extension": ".py",
   "mimetype": "text/x-python",
   "name": "python",
   "nbconvert_exporter": "python",
   "pygments_lexer": "ipython3",
   "version": "3.7.4"
  }
 },
 "nbformat": 4,
 "nbformat_minor": 2
}
