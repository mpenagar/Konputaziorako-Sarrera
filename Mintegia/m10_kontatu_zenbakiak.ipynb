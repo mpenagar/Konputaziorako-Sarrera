{
 "cells": [
  {
   "cell_type": "code",
   "execution_count": 1,
   "metadata": {},
   "outputs": [],
   "source": [
    "k = \"afdg zenbaki 45.34434 zsdf bgsdf bgadfgzas dfg adfg zenbaki 34.5645 df fd gfd gd fg zenbaki 23.1234 dfg\""
   ]
  },
  {
   "cell_type": "code",
   "execution_count": 8,
   "metadata": {},
   "outputs": [
    {
     "data": {
      "text/plain": [
       "103.03224"
      ]
     },
     "execution_count": 8,
     "metadata": {},
     "output_type": "execute_result"
    }
   ],
   "source": [
    "def kontatu(x):\n",
    "    z = x.split()\n",
    "    e = 0.0\n",
    "    for i in z :\n",
    "        if i == \"zenbaki\" :\n",
    "            j = z.index(\"zenbaki\")\n",
    "            e += float(z[j+1])\n",
    "            z[j] = None\n",
    "    return e\n",
    "kontatu(k)"
   ]
  },
  {
   "cell_type": "code",
   "execution_count": 9,
   "metadata": {},
   "outputs": [
    {
     "data": {
      "text/plain": [
       "103.03224"
      ]
     },
     "execution_count": 9,
     "metadata": {},
     "output_type": "execute_result"
    }
   ],
   "source": [
    "def kontatu(x):\n",
    "    z = x.split()\n",
    "    e = 0.0\n",
    "    m = False\n",
    "    for i in z :\n",
    "        if i == \"zenbaki\" :\n",
    "            m = True\n",
    "        elif m :\n",
    "            e += float(i)\n",
    "            m = False\n",
    "    return e\n",
    "kontatu(k)"
   ]
  },
  {
   "cell_type": "code",
   "execution_count": 10,
   "metadata": {},
   "outputs": [
    {
     "data": {
      "text/plain": [
       "103.03224"
      ]
     },
     "execution_count": 10,
     "metadata": {},
     "output_type": "execute_result"
    }
   ],
   "source": [
    "def kontatu(x):\n",
    "    z = x.split()\n",
    "    e = 0.0\n",
    "    for i in range(len(z)) :\n",
    "        if z[i] == \"zenbaki\" :\n",
    "            e += float(z[i+1])\n",
    "    return e\n",
    "kontatu(k)"
   ]
  },
  {
   "cell_type": "code",
   "execution_count": 11,
   "metadata": {},
   "outputs": [
    {
     "data": {
      "text/plain": [
       "103.03224"
      ]
     },
     "execution_count": 11,
     "metadata": {},
     "output_type": "execute_result"
    }
   ],
   "source": [
    "def kontatu(x):\n",
    "    z = x.split()\n",
    "    e = 0.0\n",
    "    i = 0\n",
    "    while i < len(z) :\n",
    "        if z[i] == \"zenbaki\" :\n",
    "            e += float(z[i+1])\n",
    "            i += 2\n",
    "        else :\n",
    "            i += 1\n",
    "    return e\n",
    "kontatu(k)"
   ]
  }
 ],
 "metadata": {
  "kernelspec": {
   "display_name": "Python 3",
   "language": "python",
   "name": "python3"
  },
  "language_info": {
   "codemirror_mode": {
    "name": "ipython",
    "version": 3
   },
   "file_extension": ".py",
   "mimetype": "text/x-python",
   "name": "python",
   "nbconvert_exporter": "python",
   "pygments_lexer": "ipython3",
   "version": "3.7.4"
  }
 },
 "nbformat": 4,
 "nbformat_minor": 2
}
