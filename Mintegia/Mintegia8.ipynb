{
 "cells": [
  {
   "cell_type": "markdown",
   "metadata": {},
   "source": [
    "## 1 \n",
    "Idatzi funtzio bat zenbaki osoz osoturiko lista bat jasotzen duena eta balio maximoa\n",
    "bueltatzen duena.\n"
   ]
  },
  {
   "cell_type": "code",
   "execution_count": 1,
   "metadata": {},
   "outputs": [],
   "source": [
    "def maximoa(z):\n",
    "    return sorted(z)[-1]"
   ]
  },
  {
   "cell_type": "code",
   "execution_count": 1,
   "metadata": {},
   "outputs": [],
   "source": [
    "def maximoa(z):\n",
    "    xmax = z[0]\n",
    "    for x in z[1:] :\n",
    "        if x > xmax :\n",
    "            xmax = x\n",
    "    return xmax"
   ]
  },
  {
   "cell_type": "code",
   "execution_count": 2,
   "metadata": {},
   "outputs": [
    {
     "data": {
      "text/plain": [
       "[2, 51, 51, 213, 213, 325, 1245, 4213, 12421]"
      ]
     },
     "execution_count": 2,
     "metadata": {},
     "output_type": "execute_result"
    }
   ],
   "source": [
    "z = [213,213,51,51,325,1245,12421,4213,2]\n",
    "z.sort()\n",
    "z"
   ]
  },
  {
   "cell_type": "code",
   "execution_count": 3,
   "metadata": {},
   "outputs": [
    {
     "name": "stdout",
     "output_type": "stream",
     "text": [
      "['kjf', 'lhjtgskut', 'ljhfgl', 'lkjhgk', 'ouyfkjy']\n"
     ]
    }
   ],
   "source": [
    "z = [\"lkjhgk\",\"lhjtgskut\",\"kjf\",\"ljhfgl\",\"ouyfkjy\"]\n",
    "print(sorted(z))"
   ]
  },
  {
   "cell_type": "code",
   "execution_count": 5,
   "metadata": {},
   "outputs": [
    {
     "name": "stdout",
     "output_type": "stream",
     "text": [
      "['kjf', 'lkjhgk', 'ljhfgl', 'ouyfkjy', 'lhjtgskut']\n"
     ]
    }
   ],
   "source": [
    "#help(sorted)\n",
    "print(sorted(z,key=len))"
   ]
  },
  {
   "cell_type": "markdown",
   "metadata": {},
   "source": [
    "## 2\n",
    "Gauza berdina egin baina balio maximoa eta bere posizioa bueltatuz"
   ]
  },
  {
   "cell_type": "code",
   "execution_count": null,
   "metadata": {},
   "outputs": [],
   "source": [
    "def maximoa(z):\n",
    "    xmax,imax = z[0],0\n",
    "    for i in range(1,len(z)):\n",
    "        if z[i] > xmax :\n",
    "            xmax,imax = z[i],i\n",
    "    return xmax,imax\n",
    "\n",
    "def maximoa(z):\n",
    "    xmax = z[0]\n",
    "    for x in z[1:] :\n",
    "        if x > xmax :\n",
    "            xmax = x\n",
    "    return xmax,z.index(xmax)"
   ]
  },
  {
   "cell_type": "markdown",
   "metadata": {},
   "source": [
    "## 3\n",
    "Idatzi funtzio bat ordenatuta_ote deiturikoa lista bat jasotzen duena argumentu\n",
    "moduan eta True bueltatzen duena lista goranzko ordenean ordenatuta dagoenean\n",
    "eta False kontrako kasuan. Hau da, ordenatuta_ote([1,2,2]) True bueltatuko du eta\n",
    "ordenatuta_ote([‘b’,’a’]) False bueltatuko du. GOGORATU listaren elementuak <\n",
    "eta > sinboloekin konparatu daitezkela."
   ]
  },
  {
   "cell_type": "code",
   "execution_count": null,
   "metadata": {},
   "outputs": [],
   "source": [
    "def ordenatuta_ote(z):\n",
    "    for i in range(len(z)-1):\n",
    "        if z[i] > z[i+1] :\n",
    "            return False\n",
    "    return True\n",
    "\n",
    "def ordenatuta_ote(z):\n",
    "    #if z == sorted(z) :\n",
    "    #    return True\n",
    "    #else:\n",
    "    #    return False\n",
    "    return z == sorted(z)\n",
    "\n",
    "def ordenatuta_ote(z):\n",
    "    return z[] <= z[1:]\n"
   ]
  },
  {
   "cell_type": "code",
   "execution_count": 6,
   "metadata": {},
   "outputs": [],
   "source": [
    "z=list(range(10))"
   ]
  }
 ],
 "metadata": {
  "kernelspec": {
   "display_name": "Python 3",
   "language": "python",
   "name": "python3"
  },
  "language_info": {
   "codemirror_mode": {
    "name": "ipython",
    "version": 3
   },
   "file_extension": ".py",
   "mimetype": "text/x-python",
   "name": "python",
   "nbconvert_exporter": "python",
   "pygments_lexer": "ipython3",
   "version": "3.7.6"
  }
 },
 "nbformat": 4,
 "nbformat_minor": 4
}
