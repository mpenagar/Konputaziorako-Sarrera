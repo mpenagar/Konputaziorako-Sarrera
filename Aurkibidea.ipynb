{
 "cells": [
  {
   "cell_type": "markdown",
   "metadata": {
    "slideshow": {
     "slide_type": "slide"
    }
   },
   "source": [
    "# Konputaziorako Sarrera - Aurkibidea\n",
    "\n",
    "## I ATALA - Informazioaren kodifikazioa\n",
    "\n",
    "\n",
    "\n",
    "* [Informazioaren Kodifikazioa](Gardenkiak/Kodifikazioa/2%20-%20Informazioaren%20Kodifikazioa.pdf)\n",
    "   * [Kodifikazio adibide bat: Zenbaki errealak](Gardenkiak/Kodifikazioa/Zenbaki%20errealak%20eta%20Kodifikazioa.ipynb)\n",
    "   * [Hitz-karaktereak kontatzen](Gardenkiak/Kodifikazioa/Hitz-karaktereak%20kontatzen.ipynb)\n",
    "   * [Memoria arazoak tamaina aldakorreko kodifikazioetan](Gardenkiak/Kodifikazioa/Memoria%20arazoak%20tamaina%20aldakorreko%20kodifikazioetan.ipynb)\n",
    "* [Konpresioa](Gardenkiak/Kodifikazioa/2.2%20-%20Konpresioa.pdf)\n",
    "* [Programazio Lengoaiak](Gardenkiak/Kodifikazioa/2.3%20-%20Programazio%20lengooaiak.pdf)\n",
    "\n",
    "\n",
    "\n",
    "## II ATALA - Programazioa (Python)\n",
    "\n",
    "1. [Python Programazio Lengoaia - Ezaugarri batzuk](Gardenkiak/Programazioa/Python%20Programazio%20Lengoaia%20-%20Ezaugarri%20batzuk.ipynb)\n",
    "1. [Balio literalak eta datu motak](Gardenkiak/Programazioa/Balio%20literalak%20eta%20datu%20motak.ipynb)\n",
    "1. [Aldagaiak](Gardenkiak/Programazioa/Aldagaiak.ipynb)\n",
    "  1. [Aldagai izenak](Gardenkiak/Programazioa/Aldagai%20izenak.ipynb)\n",
    "1. [Eragileak](Gardenkiak/Programazioa/Eragileak.ipynb)\n",
    "1. [Oinarrizko datu sarrera eta irteera](Gardenkiak/Programazioa/Oinarrizko%20datu%20sarrera%20eta%20irteera.ipynb)\n",
    "1. [Kontrol egiturak](Gardenkiak/Programazioa/Kontrol%20egiturak.ipynb)\n",
    "  1. [`if` sententzia](Gardenkiak/Programazioa/if%20sententzia.ipynb)\n",
    "  1. [`while` sententzia](Gardenkiak/Programazioa/while%20sententzia.ipynb)\n",
    "  1. [`for` sententzia](Gardenkiak/Programazioa/for%20sententzia.ipynb)\n",
    "  1. [`break` eta `continue` sententziak](Gardenkiak/Programazioa/break%20eta%20continue%20sententziak.ipynb)\n",
    "1. [Funtzioak](Gardenkiak/Programazioa/Funtzioak.ipynb)\n",
    "  1. [Aldagaien erabilpen esparrua](Gardenkiak/Programazioa/Aldagaien%20erabilpen%20esparrua.ipynb)\n",
    "  1. [Argumentuak eta defektuzko balioak](Gardenkiak/Programazioa/Argumentuak%20eta%20defektuzko%20balioak.ipynb)\n",
    "1. [Karaktere kateak](Gardenkiak/Programazioa/Karaktere%20kateak.ipynb)\n",
    "1. [Fitxategiak](Gardenkiak/Programazioa/Fitxategiak.ipynb)\n",
    "1. [Zerrendak (Listak)](Gardenkiak/Programazioa/Zerrendak.ipynb)\n",
    "  1. [Matrizeak: zerrenden zerrendak](Gardenkiak/Programazioa/ZerrendenZerrendak.ipynb)\n",
    "1. [N-Koteak (Tuplak)](Gardenkiak/Programazioa/NKoteak.ipynb)\n",
    "1. [Hiztegiak](Gardenkiak/Programazioa/Hiztegiak.ipynb)\n",
    "1. [Multzoak](Gardenkiak/Programazioa/Hiztegiak.ipynb)\n",
    "1. [`del` Sententzia](Gardenkiak/Programazioa/del%20sententzia.ipynb)\n",
    "1. [`with` Sententzia](Gardenkiak/Programazioa/with%20sententzia.ipynb)"
   ]
  }
 ],
 "metadata": {
  "celltoolbar": "Slideshow",
  "kernelspec": {
   "display_name": "Python 3",
   "language": "python",
   "name": "python3"
  },
  "language_info": {
   "codemirror_mode": {
    "name": "ipython",
    "version": 3
   },
   "file_extension": ".py",
   "mimetype": "text/x-python",
   "name": "python",
   "nbconvert_exporter": "python",
   "pygments_lexer": "ipython3",
   "version": "3.7.4"
  }
 },
 "nbformat": 4,
 "nbformat_minor": 2
}
