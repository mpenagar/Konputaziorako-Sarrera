{
 "cells": [
  {
   "cell_type": "code",
   "execution_count": 28,
   "metadata": {},
   "outputs": [
    {
     "name": "stdout",
     "output_type": "stream",
     "text": [
      "-2258310734253066967\n",
      "461168602073323009\n",
      "23462436245\n",
      "1\n",
      "485696759011399484\n",
      "313156\n"
     ]
    }
   ],
   "source": [
    "k = \"kaixo, zer moduz? wrtghsfghsfgh sgfh sfg hsfg hsfg hsfa\"\n",
    "\n",
    "print(hash(k))\n",
    "\n",
    "print(hash(1.2000000001))\n",
    "\n",
    "print(hash(23462436245))\n",
    "\n",
    "print(hash(1))\n",
    "\n",
    "print(hash((1,2,3,5)))\n",
    "\n",
    "print(hash(print))\n"
   ]
  }
 ],
 "metadata": {
  "kernelspec": {
   "display_name": "Python 3",
   "language": "python",
   "name": "python3"
  },
  "language_info": {
   "codemirror_mode": {
    "name": "ipython",
    "version": 3
   },
   "file_extension": ".py",
   "mimetype": "text/x-python",
   "name": "python",
   "nbconvert_exporter": "python",
   "pygments_lexer": "ipython3",
   "version": "3.7.4"
  }
 },
 "nbformat": 4,
 "nbformat_minor": 2
}
