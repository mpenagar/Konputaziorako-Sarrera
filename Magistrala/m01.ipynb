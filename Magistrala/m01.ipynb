{
 "cells": [
  {
   "cell_type": "code",
   "execution_count": 3,
   "metadata": {},
   "outputs": [
    {
     "name": "stdout",
     "output_type": "stream",
     "text": [
      "kaixo nola zaude?\n"
     ]
    }
   ],
   "source": [
    "z = ['kaixo','nola','zaude?']\n",
    "print(\" \".join(z))"
   ]
  },
  {
   "cell_type": "code",
   "execution_count": 7,
   "metadata": {},
   "outputs": [
    {
     "name": "stdout",
     "output_type": "stream",
     "text": [
      "-->bzsxvc b vbcv bzc vbzc vb zcvb cv bzcv bzc vbzcvbzxcv<--\n",
      "-->     bzsxvc b vbcv bzc vbzc vb zcvb cv bzcv bzc vbzcvbzxcv<--\n",
      "-->bzsxvc b vbcv bzc vbzc vb zcvb cv bzcv bzc vbzcvbzxcv     <--\n"
     ]
    }
   ],
   "source": [
    "t = \"     bzsxvc b vbcv bzc vbzc vb zcvb cv bzcv bzc vbzcvbzxcv     \"\n",
    "print('-->',t.strip(),'<--',sep='')\n",
    "print('-->',t.rstrip(),'<--',sep='')\n",
    "print('-->',t.lstrip(),'<--',sep='')"
   ]
  },
  {
   "cell_type": "code",
   "execution_count": 9,
   "metadata": {},
   "outputs": [
    {
     "data": {
      "text/plain": [
       "'fXXXXga bat arXXXXpa'"
      ]
     },
     "execution_count": 9,
     "metadata": {},
     "output_type": "execute_result"
    }
   ],
   "source": [
    "t = \"froga bat arropa\"\n",
    "t.replace(\"ro\",\"XXXX\")"
   ]
  },
  {
   "cell_type": "code",
   "execution_count": 13,
   "metadata": {},
   "outputs": [
    {
     "data": {
      "text/plain": [
       "'bzsxvc b vbcv bzc vbzc vb zcvb cv bzcv bzc vbzcvbzxcv'"
      ]
     },
     "execution_count": 13,
     "metadata": {},
     "output_type": "execute_result"
    }
   ],
   "source": [
    "t = \"     bzsxvc b vbcv bzc vbzc     vb    zcvb cv bzcv bzc vbzcvbzxcv     \"\n",
    "\" \".join(t.split())"
   ]
  }
 ],
 "metadata": {
  "kernelspec": {
   "display_name": "Python 3",
   "language": "python",
   "name": "python3"
  },
  "language_info": {
   "codemirror_mode": {
    "name": "ipython",
    "version": 3
   },
   "file_extension": ".py",
   "mimetype": "text/x-python",
   "name": "python",
   "nbconvert_exporter": "python",
   "pygments_lexer": "ipython3",
   "version": "3.7.4"
  }
 },
 "nbformat": 4,
 "nbformat_minor": 2
}
