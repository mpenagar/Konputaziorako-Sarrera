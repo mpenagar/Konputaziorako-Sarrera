{
 "cells": [
  {
   "cell_type": "markdown",
   "metadata": {},
   "source": [
    "## 2021 - Urtarrila - 3"
   ]
  },
  {
   "cell_type": "code",
   "execution_count": 4,
   "metadata": {},
   "outputs": [
    {
     "name": "stdout",
     "output_type": "stream",
     "text": [
      "['Drama', 'Drama', 'Action', 'Drama', 'Biography', 'Action', 'Drama', 'Western', 'Drama', 'Action', 'Action']\n",
      "['The Shawshank Redemption', 'The godfather', 'The Dark Knight', '12 Agry Men', 'Schindler’s List', 'The Lord of the Rings: The Return of the King', 'Pulp Fiction', 'The Good, the Bad and the Ugly', 'Fight Club', 'Inception', 'The matrix']\n",
      "['9.2', '9.1', '9.0', '8.9', '8.9', '8.9', '8.9', '8.8', '8.8', '8.8', '8.7']\n"
     ]
    }
   ],
   "source": [
    "def info_process(file_name):\n",
    "    file=open(file_name)\n",
    "    h={}\n",
    "    z1=[]\n",
    "    z2=[]\n",
    "    z3=[]\n",
    "    for line in file:\n",
    "        x = line.split()\n",
    "        z1.append(x[-3])\n",
    "        z2.append(\" \".join(x[:-3]))\n",
    "        z3.append(x[-1])\n",
    "    file.close()\n",
    "    return (z1,z2,z3)\n",
    "\n",
    "z = info_process('filmak.txt')\n",
    "print(*z,sep='\\n')"
   ]
  },
  {
   "cell_type": "markdown",
   "metadata": {},
   "source": [
    "### b)\n",
    "Sortu ezazu best action funtzio bat, aurreko info process funtzioak bueltatutako datu egitura jaso eta\n",
    "akziozko pelikularik famatuenaren izenburua bueltatuko duena."
   ]
  },
  {
   "cell_type": "code",
   "execution_count": 6,
   "metadata": {},
   "outputs": [
    {
     "data": {
      "text/plain": [
       "'The Dark Knight'"
      ]
     },
     "execution_count": 6,
     "metadata": {},
     "output_type": "execute_result"
    }
   ],
   "source": [
    "def best_action(z):\n",
    "    max_punt = -1\n",
    "    izenburua = None\n",
    "    z0 = z[0]\n",
    "    z1 = z[1]\n",
    "    z2 = z[2]\n",
    "    for i in range(len(z0)):\n",
    "        punt = float(z2[i])\n",
    "        if z0[i] == 'Action' and punt > max_punt :\n",
    "            max_punt = punt\n",
    "            izenburua = z1[i]\n",
    "    return izenburua\n",
    "\n",
    "best_action(z)"
   ]
  },
  {
   "cell_type": "markdown",
   "metadata": {},
   "source": [
    "### c)\n",
    "Sortu ezazu search funtzio bat, aurreko info process funtzioak bueltatutako datu egitura eta karaktere\n",
    "kate bat jaso, eta karaktere kate hori bere barnean duten izenburuen zerrenda bueltatuko duena. Izenburuko\n",
    "karaktereek ez dute zertan bilaketa kateko maiuskula/minuskula errepresentazio berdina izan beharrik."
   ]
  },
  {
   "cell_type": "code",
   "execution_count": 9,
   "metadata": {},
   "outputs": [
    {
     "data": {
      "text/plain": [
       "['The Shawshank Redemption', 'The Good, the Bad and the Ugly']"
      ]
     },
     "execution_count": 9,
     "metadata": {},
     "output_type": "execute_result"
    }
   ],
   "source": [
    "def search(z,txt):\n",
    "    izenburuak = z[1]\n",
    "    x = []\n",
    "    txt = txt.lower()\n",
    "    for iz in izenburuak:\n",
    "        if txt in iz.lower() :\n",
    "            x.append(iz)\n",
    "    return x\n",
    "\n",
    "search(z,\"an\")"
   ]
  },
  {
   "cell_type": "markdown",
   "metadata": {},
   "source": [
    "## 4\n",
    "\n",
    "### a)\n",
    "\n",
    "Sortu ezazu funtzio bat, zerrenda batek mendi itxura ote duen bueltatuko duena\n",
    "\n",
    "```python\n",
    "def mendi(z):\n",
    "    ...\n",
    "    return True,False\n",
    "```"
   ]
  },
  {
   "cell_type": "markdown",
   "metadata": {},
   "source": [
    "### b)\n",
    "Sortu ezazu funtzio bat, matrize (zerrenden zerrenda) bat jaso eta mendi itxura duten ilara kopurua bueltatuko\n",
    "duena"
   ]
  },
  {
   "cell_type": "code",
   "execution_count": 10,
   "metadata": {},
   "outputs": [],
   "source": [
    "def f4b(mat):\n",
    "    k = 0\n",
    "    for ilara in mat:\n",
    "        if mendi(ilara) :\n",
    "            k += 1\n",
    "    return k"
   ]
  },
  {
   "cell_type": "markdown",
   "metadata": {},
   "source": [
    "### c)\n",
    "Sortu ezazu funtzio bat, matrize (zerrenden zerrenda) bat jaso eta mendi itxura duten zutabe kopurua bueltatuko\n",
    "duena"
   ]
  },
  {
   "cell_type": "code",
   "execution_count": 11,
   "metadata": {},
   "outputs": [],
   "source": [
    "def f4c(mat):\n",
    "    k = 0\n",
    "    zutabe_kop = len(mat[0])\n",
    "    for i in range(zutabe_kop):\n",
    "        zutabe = []\n",
    "        for ilara in mat:\n",
    "            zutabe.append(ilara[i])\n",
    "        if mendi(zutabe) :\n",
    "            k += 1\n",
    "    return k"
   ]
  },
  {
   "cell_type": "markdown",
   "metadata": {},
   "source": [
    "Indexazio bikoitza erabiliz:"
   ]
  },
  {
   "cell_type": "code",
   "execution_count": 11,
   "metadata": {},
   "outputs": [],
   "source": [
    "def f4c(mat):\n",
    "    k = 0\n",
    "    zutabe_kop = len(mat[0])\n",
    "    for j in range(zutabe_kop):\n",
    "        zutabe = []\n",
    "        for i in range(len(mat)):\n",
    "            zutabe.append(mat[i][j])\n",
    "        if mendi(zutabe) :\n",
    "            k += 1\n",
    "    return k"
   ]
  },
  {
   "cell_type": "markdown",
   "metadata": {},
   "source": [
    "## 2020 - Urtarrila - 5\n",
    "\n",
    "Zenbaki arruntez osotutako matrize karratu batetako ilara, zutabe eta diagonal printzipalen batura berdina de-\n",
    "nean, matrize hori Karratu Magikoa dela diogu (baturari konstante magiko deritzo). Sortu ezazu matrize bat\n",
    "(zerrenden zerrenda) jaso eta karratu magikoa ote den bueltatuko duen funtzioa."
   ]
  },
  {
   "cell_type": "code",
   "execution_count": 13,
   "metadata": {},
   "outputs": [],
   "source": [
    "def karratu_magikoa(mat):\n",
    "    km = sum(mat[0])\n",
    "    for z in mat[1:]:\n",
    "        if sum(z) != km :\n",
    "            return False\n",
    "    tamaina = len(mat)\n",
    "    for j in range(tamaina):\n",
    "        b = 0\n",
    "        for z in mat:\n",
    "            b += z[j]\n",
    "        if b != km :\n",
    "            return False\n",
    "    d1 = 0\n",
    "    d2 = 0\n",
    "    for i in range(tamaina):\n",
    "        z = mat[i]\n",
    "        d1 += z[i]\n",
    "        d2 += z[tamaina-1-i]\n",
    "        #d2 += z[-i-1]\n",
    "    #for i,z in enumerate(mat):\n",
    "    #    d1 += z[i]\n",
    "    #    d2 += z[tamaina-1-i]   \n",
    "    if d1 != km or d2 != km:\n",
    "        return False\n",
    "    return True\n",
    "        "
   ]
  },
  {
   "cell_type": "code",
   "execution_count": 14,
   "metadata": {},
   "outputs": [
    {
     "name": "stdout",
     "output_type": "stream",
     "text": [
      "(0, [1, 2, 3])\n",
      "(1, [4, 5, 6])\n",
      "(2, [7, 8, 9])\n"
     ]
    }
   ],
   "source": [
    "mat = [[1,2,3],[4,5,6],[7,8,9]]\n",
    "print(*enumerate(mat),sep='\\n')"
   ]
  }
 ],
 "metadata": {
  "kernelspec": {
   "display_name": "Python 3",
   "language": "python",
   "name": "python3"
  },
  "language_info": {
   "codemirror_mode": {
    "name": "ipython",
    "version": 3
   },
   "file_extension": ".py",
   "mimetype": "text/x-python",
   "name": "python",
   "nbconvert_exporter": "python",
   "pygments_lexer": "ipython3",
   "version": "3.7.6"
  }
 },
 "nbformat": 4,
 "nbformat_minor": 4
}
