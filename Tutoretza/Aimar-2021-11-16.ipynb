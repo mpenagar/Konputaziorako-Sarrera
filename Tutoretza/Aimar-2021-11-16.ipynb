{
 "cells": [
  {
   "cell_type": "markdown",
   "metadata": {},
   "source": [
    "## Mintegia 4 - 4"
   ]
  },
  {
   "cell_type": "code",
   "execution_count": 1,
   "metadata": {},
   "outputs": [],
   "source": [
    "def fak(n):\n",
    "    \"1 * 2 * 3 * 4 .. * n\"\n",
    "    b = 1\n",
    "    for i in range(2,n+1):\n",
    "        b = b * i\n",
    "    return b"
   ]
  },
  {
   "cell_type": "code",
   "execution_count": 7,
   "metadata": {},
   "outputs": [
    {
     "name": "stdout",
     "output_type": "stream",
     "text": [
      "fak( 1 ) = 1\n",
      "fak( 2 ) = 2\n",
      "fak( 3 ) = 6\n",
      "fak( 4 ) = 24\n",
      "fak( 5 ) = 120\n",
      "fak( 6 ) = 720\n",
      "fak( 7 ) = 5040\n",
      "fak( 8 ) = 40320\n",
      "fak( 9 ) = 362880\n"
     ]
    }
   ],
   "source": [
    "for i in range(1,10):\n",
    "    print('fak(',i,') =',fak(i))"
   ]
  },
  {
   "cell_type": "code",
   "execution_count": 23,
   "metadata": {},
   "outputs": [],
   "source": [
    "def exp(x):\n",
    "    b = 0\n",
    "    for i in range(100):\n",
    "        b += x**i / fak(i)\n",
    "    return b"
   ]
  },
  {
   "cell_type": "code",
   "execution_count": 26,
   "metadata": {},
   "outputs": [
    {
     "data": {
      "text/plain": [
       "0.0"
      ]
     },
     "execution_count": 26,
     "metadata": {},
     "output_type": "execute_result"
    }
   ],
   "source": [
    "import math\n",
    "math.exp(1.234)-exp(1.234)"
   ]
  },
  {
   "cell_type": "code",
   "execution_count": 27,
   "metadata": {},
   "outputs": [],
   "source": [
    "def exp(x):\n",
    "    b = 1\n",
    "    s = 1\n",
    "    for i in range(1,101):\n",
    "        s *= x / i\n",
    "        b += s\n",
    "    return b"
   ]
  },
  {
   "cell_type": "code",
   "execution_count": 28,
   "metadata": {},
   "outputs": [
    {
     "data": {
      "text/plain": [
       "0.0"
      ]
     },
     "execution_count": 28,
     "metadata": {},
     "output_type": "execute_result"
    }
   ],
   "source": [
    "math.exp(1.234)-exp(1.234)"
   ]
  },
  {
   "cell_type": "markdown",
   "metadata": {},
   "source": [
    "## Mintegia 5 - 3"
   ]
  },
  {
   "cell_type": "code",
   "execution_count": 29,
   "metadata": {},
   "outputs": [],
   "source": [
    "def mkt(a,b):\n",
    "    if a > b :\n",
    "        a,b = b,a\n",
    "    i = 1\n",
    "    while (b * i) % a != 0 :\n",
    "        i += 1\n",
    "    return b * i"
   ]
  },
  {
   "cell_type": "code",
   "execution_count": 32,
   "metadata": {},
   "outputs": [
    {
     "data": {
      "text/plain": [
       "210"
      ]
     },
     "execution_count": 32,
     "metadata": {},
     "output_type": "execute_result"
    }
   ],
   "source": [
    "mkt(10,21)"
   ]
  }
 ],
 "metadata": {
  "kernelspec": {
   "display_name": "Python 3",
   "language": "python",
   "name": "python3"
  },
  "language_info": {
   "codemirror_mode": {
    "name": "ipython",
    "version": 3
   },
   "file_extension": ".py",
   "mimetype": "text/x-python",
   "name": "python",
   "nbconvert_exporter": "python",
   "pygments_lexer": "ipython3",
   "version": "3.7.6"
  }
 },
 "nbformat": 4,
 "nbformat_minor": 4
}
