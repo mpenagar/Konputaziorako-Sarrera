{
 "cells": [
  {
   "cell_type": "markdown",
   "metadata": {},
   "source": [
    "## Laborategi azterketa\n",
    "\n",
    "https://bit.ly/321BpV4 helbidean dagoen eta utf8 kodifikazioa duen bizkaia_utf8.txt testu fitxategian Bizkaiako herriek azken 7 egunetan izandako Covid positiboak ageri dira. Testu fitxategiko ilara bakoitzean herri bateko datuak hutsunez bananduak agertzen dira ondoren adierazten den moduan (herriaren izena hitz bakarrez adierazia egongo da beti):\n",
    "\n",
    "```\n",
    "Abadiño 8 1 3 6 12 2 12\n",
    "Abanto 5 13 18 5 8 10 5\n",
    "Ajangiz 0 0 0 0 0 0 0\n",
    "Alonsotegi 5 4 2 5 1 3 3\n",
    "...\n",
    "```\n",
    "\n",
    "Sortu ezazu funtzio bat, halako fitxategi baten bideizena eta bere kodifikazioa argumentu moduan jaso eta zerrenda berri bat bueltatuko duena. Zerrendako elementuak herri bakoitzeko izena eta azken 7 egunetako positibo totalaz osotutako bikoteak (tuplak) izango dira. Aurreko kasuan, adibidez, emaitza halako zerbait litzateke:\n",
    "\n",
    "`[('Abadiño', 44), ('Abanto', 64), ('Ajangiz', 0), ('Alonsotegi', 23), ...]`\n"
   ]
  },
  {
   "cell_type": "code",
   "execution_count": 10,
   "metadata": {},
   "outputs": [],
   "source": [
    "def f1(bideizena,kodif=\"utf8\"):\n",
    "    f = open(bideizena,encoding=kodif)\n",
    "    z = []\n",
    "    for ilara in f :\n",
    "        x = ilara.split()\n",
    "        b = 0\n",
    "        for txt in x[1:]:\n",
    "            b += int(txt)\n",
    "        z .append((x[0],b))\n",
    "    f.close()\n",
    "    return z"
   ]
  },
  {
   "cell_type": "markdown",
   "metadata": {},
   "source": [
    "Sortu ezazu funtzio bat, aurreko funtzioak bueltatzen duen moduko zerrenda bat jaso eta azkeneko 7 egunetan positibo gehien izan dituen herriaren izena bueltatuko duena. Aurreko ariketako testu fitxategiarekin lortutako zerrenda prozesatzean, adibidez, emaitza 'Bilbo' litzateke."
   ]
  },
  {
   "cell_type": "code",
   "execution_count": 13,
   "metadata": {},
   "outputs": [
    {
     "data": {
      "text/plain": [
       "'Bilbo'"
      ]
     },
     "execution_count": 13,
     "metadata": {},
     "output_type": "execute_result"
    }
   ],
   "source": [
    "def f2(z):\n",
    "    kasuak_max = -1\n",
    "    for herria,kasuak in z:\n",
    "        if kasuak > kasuak_max :\n",
    "            herria_max = herria\n",
    "            kasuak_max = kasuak\n",
    "    return herria_max\n",
    "    \n",
    "f2(f1('bizkaia_utf8.txt'))"
   ]
  },
  {
   "cell_type": "markdown",
   "metadata": {},
   "source": [
    "### testutik zerrendetara"
   ]
  },
  {
   "cell_type": "code",
   "execution_count": 15,
   "metadata": {},
   "outputs": [
    {
     "name": "stdout",
     "output_type": "stream",
     "text": [
      "Idatzi hutsunez banandutako zenbaki zerrenda bat:123 23 423 423 42\n",
      "123 23 423 423 42\n",
      "[123, 23, 423, 423, 42]\n"
     ]
    }
   ],
   "source": [
    "txt = input('Idatzi hutsunez banandutako zenbaki zerrenda bat:')\n",
    "print(txt)\n",
    "z = []\n",
    "for x in txt.split():\n",
    "    z.append(int(x))\n",
    "print(z)"
   ]
  },
  {
   "cell_type": "markdown",
   "metadata": {},
   "source": [
    "Sortu funtzio bat, teklatutik hutsunez banandutako zenbaki zerrenda bat irakurri eta balio maximoa pantailatik erakutsiko duena."
   ]
  },
  {
   "cell_type": "code",
   "execution_count": null,
   "metadata": {},
   "outputs": [],
   "source": [
    "def f():\n",
    "    txt = input('Idatzi hutsunez banandutako zenbaki zerrenda bat:')\n",
    "    z = txt.split()\n",
    "    maximoa = float(z[0])\n",
    "    for x in z[1:]:\n",
    "        d = float(x)\n",
    "        if d > maximoa:\n",
    "            maximoa = d\n",
    "    print(maximoa)"
   ]
  },
  {
   "cell_type": "markdown",
   "metadata": {},
   "source": [
    "## `dict.fromkeys()`"
   ]
  },
  {
   "cell_type": "code",
   "execution_count": 16,
   "metadata": {},
   "outputs": [
    {
     "data": {
      "text/plain": [
       "{'a': None, 'e': None, 'i': None, 'o': None, 'u': None}"
      ]
     },
     "execution_count": 16,
     "metadata": {},
     "output_type": "execute_result"
    }
   ],
   "source": [
    "dict.fromkeys(\"aeiou\")"
   ]
  },
  {
   "cell_type": "code",
   "execution_count": 19,
   "metadata": {},
   "outputs": [
    {
     "data": {
      "text/plain": [
       "{'a': 0, 'e': 0, 'i': 0, 'o': 0, 'u': 0}"
      ]
     },
     "execution_count": 19,
     "metadata": {},
     "output_type": "execute_result"
    }
   ],
   "source": [
    "dict.fromkeys(\"aeiou\",0)"
   ]
  },
  {
   "cell_type": "code",
   "execution_count": 20,
   "metadata": {},
   "outputs": [
    {
     "data": {
      "text/plain": [
       "{'a': 'XX', 'e': 'XX', 'i': 'XX', 'o': 'XX', 'u': 'XX'}"
      ]
     },
     "execution_count": 20,
     "metadata": {},
     "output_type": "execute_result"
    }
   ],
   "source": [
    "dict.fromkeys(\"aeiou\",\"XX\")"
   ]
  },
  {
   "cell_type": "code",
   "execution_count": 21,
   "metadata": {},
   "outputs": [
    {
     "data": {
      "text/plain": [
       "{0: '', 1: '', 2: '', 3: '', 4: '', 5: '', 6: '', 7: '', 8: '', 9: ''}"
      ]
     },
     "execution_count": 21,
     "metadata": {},
     "output_type": "execute_result"
    }
   ],
   "source": [
    "dict.fromkeys(range(10),\"\")"
   ]
  },
  {
   "cell_type": "markdown",
   "metadata": {},
   "source": [
    "`fromkeys` exekutatzeko `dict`edo edozein hiztegi erabil daiteke (berdin dio):"
   ]
  },
  {
   "cell_type": "code",
   "execution_count": 23,
   "metadata": {},
   "outputs": [
    {
     "data": {
      "text/plain": [
       "{0: '', 1: '', 2: '', 3: '', 4: '', 5: '', 6: '', 7: '', 8: '', 9: ''}"
      ]
     },
     "execution_count": 23,
     "metadata": {},
     "output_type": "execute_result"
    }
   ],
   "source": [
    "h1 = {1:\"bat\" , 2:\"bi\"}\n",
    "dict.fromkeys(range(10),\"\")"
   ]
  },
  {
   "cell_type": "code",
   "execution_count": 22,
   "metadata": {},
   "outputs": [
    {
     "data": {
      "text/plain": [
       "{0: '', 1: '', 2: '', 3: '', 4: '', 5: '', 6: '', 7: '', 8: '', 9: ''}"
      ]
     },
     "execution_count": 22,
     "metadata": {},
     "output_type": "execute_result"
    }
   ],
   "source": [
    "h1 = {1:\"bat\" , 2:\"bi\"}\n",
    "h1.fromkeys(range(10),\"\")"
   ]
  },
  {
   "cell_type": "markdown",
   "metadata": {},
   "source": [
    "## Tuplak\n",
    "\n",
    "* Aldaezinak: barneko elementuak ZEIN diren ezin da aldatu\n",
    "* Balio aldakorra: arneko elementuen balioa aldakorra izan daiteke"
   ]
  },
  {
   "cell_type": "code",
   "execution_count": 28,
   "metadata": {},
   "outputs": [
    {
     "name": "stdout",
     "output_type": "stream",
     "text": [
      "(1, 'kjhf', [1, 3, 'agur'])\n"
     ]
    }
   ],
   "source": [
    "t = (1,\"kjhf\",[1,2,3])\n",
    "\n",
    "#Ezin dut egin:\n",
    "#t[1] = \"agur\"\n",
    "#t[2] = \"agur\"\n",
    "\n",
    "# egin dezaket:\n",
    "t[2].append(\"agur\")\n",
    "t[2].remove(2)\n",
    "print(t)"
   ]
  }
 ],
 "metadata": {
  "kernelspec": {
   "display_name": "Python 3",
   "language": "python",
   "name": "python3"
  },
  "language_info": {
   "codemirror_mode": {
    "name": "ipython",
    "version": 3
   },
   "file_extension": ".py",
   "mimetype": "text/x-python",
   "name": "python",
   "nbconvert_exporter": "python",
   "pygments_lexer": "ipython3",
   "version": "3.7.6"
  }
 },
 "nbformat": 4,
 "nbformat_minor": 4
}
