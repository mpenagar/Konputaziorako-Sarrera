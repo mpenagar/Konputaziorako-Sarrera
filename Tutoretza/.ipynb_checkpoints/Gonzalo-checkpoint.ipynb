{
 "cells": [
  {
   "cell_type": "code",
   "execution_count": 4,
   "metadata": {},
   "outputs": [],
   "source": [
    "def datuak_proz(bideizen_in,bideizen_out):\n",
    "    fin = open(bideizen_in)\n",
    "    fout = open(bideizen_out,\"w\")\n",
    "    \n",
    "    for lerroa in fin :\n",
    "        hitzak = lerroa.split()\n",
    "        txt = hitzak[0].lower() + \" \" + hitzak[4] + \" \" + hitzak[7][:-1] + \" \" + hitzak[9][:-4] + \"\\n\"\n",
    "        fout.write(txt)\n",
    "    \n",
    "    fin.close()\n",
    "    fout.close()\n",
    "    \n",
    "datuak_proz(\"untitled.txt\",\"out.txt\")"
   ]
  },
  {
   "cell_type": "code",
   "execution_count": 5,
   "metadata": {},
   "outputs": [],
   "source": [
    "def datuak_proz(bideizen_in,bideizen_out):\n",
    "    fin = open(bideizen_in)\n",
    "    fout = open(bideizen_out,\"w\")\n",
    "    \n",
    "    for lerroa in fin :\n",
    "        hitzak = lerroa.split()\n",
    "        hitzak[0] = hitzak[0].lower()\n",
    "        hitzak[7] = hitzak[7][:-1]\n",
    "        hitzak[9] = hitzak[9][:-4]\n",
    "        del hitzak[8]\n",
    "        del hitzak[6]\n",
    "        del hitzak[5]\n",
    "        del hitzak[3]\n",
    "        del hitzak[2]\n",
    "        del hitzak[1]\n",
    "        txt = \" \".join(hitzak) + \"\\n\"\n",
    "        fout.write(txt)\n",
    "    \n",
    "    fin.close()\n",
    "    fout.close()\n",
    "    \n",
    "datuak_proz(\"untitled.txt\",\"out.txt\")"
   ]
  },
  {
   "cell_type": "code",
   "execution_count": 8,
   "metadata": {},
   "outputs": [
    {
     "data": {
      "text/plain": [
       "[64.6, 66.2, 14.2]"
      ]
     },
     "execution_count": 8,
     "metadata": {},
     "output_type": "execute_result"
    }
   ],
   "source": [
    "def euri_datuak(bideizena):\n",
    "    f = open(bideizena)\n",
    "    z = []\n",
    "    for lerroa in f :\n",
    "        hitzak = lerroa.split()\n",
    "        euria_str = hitzak[1] # euria_str hitz (karaktere kate) bat da\n",
    "        euria_float = float(euria_str)\n",
    "        z.append(euria_float)    \n",
    "    f.close()\n",
    "    return z\n",
    "\n",
    "euri_datuak(\"out.txt\")"
   ]
  },
  {
   "cell_type": "code",
   "execution_count": 16,
   "metadata": {},
   "outputs": [
    {
     "name": "stdout",
     "output_type": "stream",
     "text": [
      "[64.6, 66.2, 14.2]\n"
     ]
    },
    {
     "data": {
      "text/plain": [
       "(3, 2)"
      ]
     },
     "execution_count": 16,
     "metadata": {},
     "output_type": "execute_result"
    }
   ],
   "source": [
    "def min_max(lista):\n",
    "    max_val = lista[0]\n",
    "    min_val = lista[0]\n",
    "    for i in range(len(lista)):\n",
    "        if lista[i] <= min_val :\n",
    "            min_val = lista[i]\n",
    "            min_pos = i\n",
    "        if lista[i] >= max_val :\n",
    "            max_val = lista[i]\n",
    "            max_pos = i\n",
    "    return min_pos+1 , max_pos+1\n",
    "\n",
    "print(euri_datuak(\"out.txt\"))\n",
    "min_max(euri_datuak(\"out.txt\"))"
   ]
  },
  {
   "cell_type": "code",
   "execution_count": 17,
   "metadata": {},
   "outputs": [
    {
     "name": "stdout",
     "output_type": "stream",
     "text": [
      "[64.6, 66.2, 14.2]\n"
     ]
    },
    {
     "data": {
      "text/plain": [
       "(3, 2)"
      ]
     },
     "execution_count": 17,
     "metadata": {},
     "output_type": "execute_result"
    }
   ],
   "source": [
    "def min_max(lista):\n",
    "    max_val = lista[0]\n",
    "    min_val = lista[0]\n",
    "    min_pos = 0\n",
    "    max_pos = 0\n",
    "    for i in range(1,len(lista)):\n",
    "        if lista[i] < min_val :\n",
    "            min_val = lista[i]\n",
    "            min_pos = i\n",
    "        elif lista[i] > max_val :\n",
    "            max_val = lista[i]\n",
    "            max_pos = i\n",
    "    return min_pos+1 , max_pos+1\n",
    "\n",
    "print(euri_datuak(\"out.txt\"))\n",
    "min_max(euri_datuak(\"out.txt\"))"
   ]
  }
 ],
 "metadata": {
  "kernelspec": {
   "display_name": "Python 3",
   "language": "python",
   "name": "python3"
  },
  "language_info": {
   "codemirror_mode": {
    "name": "ipython",
    "version": 3
   },
   "file_extension": ".py",
   "mimetype": "text/x-python",
   "name": "python",
   "nbconvert_exporter": "python",
   "pygments_lexer": "ipython3",
   "version": "3.7.6"
  }
 },
 "nbformat": 4,
 "nbformat_minor": 4
}
