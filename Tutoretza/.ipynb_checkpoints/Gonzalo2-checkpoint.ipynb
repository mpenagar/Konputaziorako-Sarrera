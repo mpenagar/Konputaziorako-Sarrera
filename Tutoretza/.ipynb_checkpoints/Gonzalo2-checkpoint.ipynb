{
 "cells": [
  {
   "cell_type": "code",
   "execution_count": 1,
   "metadata": {},
   "outputs": [],
   "source": [
    "def nire_funtzioa(a,b,c):\n",
    "    return a+b,a*c"
   ]
  },
  {
   "cell_type": "code",
   "execution_count": 2,
   "metadata": {},
   "outputs": [
    {
     "data": {
      "text/plain": [
       "(5, 8)"
      ]
     },
     "execution_count": 2,
     "metadata": {},
     "output_type": "execute_result"
    }
   ],
   "source": [
    "nire_funtzioa(2,3,4)"
   ]
  },
  {
   "cell_type": "code",
   "execution_count": 5,
   "metadata": {},
   "outputs": [
    {
     "name": "stdout",
     "output_type": "stream",
     "text": [
      "5\n",
      "5\n",
      "5\n"
     ]
    }
   ],
   "source": [
    "# 1. aukera\n",
    "print(nire_funtzioa(2,3,4)[0])\n",
    "\n",
    "# 2. aukera\n",
    "t = nire_funtzioa(2,3,4)\n",
    "print(t[0])\n",
    "\n",
    "# 3. aukera\n",
    "# x,y,z = 234,34,23\n",
    "# x,y,z = range(3)\n",
    "# x,y,z = \"abc\"\n",
    "emaitza,_ = nire_funtzioa(2,3,4)\n",
    "print(emaitza)\n"
   ]
  },
  {
   "cell_type": "code",
   "execution_count": 9,
   "metadata": {},
   "outputs": [],
   "source": [
    "def bitarrean(n):\n",
    "    if n == 0 :\n",
    "        return '0'\n",
    "    s = ''\n",
    "    while n > 0 :\n",
    "        s = str(n % 2) + s\n",
    "        n = n // 2\n",
    "    return s"
   ]
  },
  {
   "cell_type": "code",
   "execution_count": 11,
   "metadata": {},
   "outputs": [
    {
     "data": {
      "text/plain": [
       "'1001001'"
      ]
     },
     "execution_count": 11,
     "metadata": {},
     "output_type": "execute_result"
    }
   ],
   "source": [
    "bitarrean(73)"
   ]
  },
  {
   "cell_type": "code",
   "execution_count": 12,
   "metadata": {},
   "outputs": [
    {
     "data": {
      "text/plain": [
       "'0b1001001'"
      ]
     },
     "execution_count": 12,
     "metadata": {},
     "output_type": "execute_result"
    }
   ],
   "source": [
    "bin(73)"
   ]
  },
  {
   "cell_type": "code",
   "execution_count": null,
   "metadata": {},
   "outputs": [],
   "source": [
    "def atzekoz_aurrera_berdina_ote(s):\n",
    "    if s == s[::-1] :\n",
    "        return True\n",
    "    else:\n",
    "        return False"
   ]
  },
  {
   "cell_type": "code",
   "execution_count": 28,
   "metadata": {},
   "outputs": [],
   "source": [
    "def f(xxxx):\n",
    "    if espresio_boolearra :\n",
    "        return True\n",
    "    else:\n",
    "        return False\n",
    "    \n",
    "def f(xxxx):\n",
    "    return espresio_boolearra"
   ]
  },
  {
   "cell_type": "code",
   "execution_count": 29,
   "metadata": {},
   "outputs": [],
   "source": [
    "def atzekoz_aurrera_berdina_ote(s):\n",
    "    return s == s[::-1]\n",
    "    "
   ]
  },
  {
   "cell_type": "code",
   "execution_count": 33,
   "metadata": {},
   "outputs": [
    {
     "data": {
      "text/plain": [
       "True"
      ]
     },
     "execution_count": 33,
     "metadata": {},
     "output_type": "execute_result"
    }
   ],
   "source": [
    "atzekoz_aurrera_berdina_ote(\"ama\")"
   ]
  },
  {
   "cell_type": "code",
   "execution_count": 34,
   "metadata": {},
   "outputs": [
    {
     "data": {
      "text/plain": [
       "False"
      ]
     },
     "execution_count": 34,
     "metadata": {},
     "output_type": "execute_result"
    }
   ],
   "source": [
    "atzekoz_aurrera_berdina_ote(\"aita\")"
   ]
  },
  {
   "cell_type": "code",
   "execution_count": 37,
   "metadata": {},
   "outputs": [
    {
     "data": {
      "text/plain": [
       "3"
      ]
     },
     "execution_count": 37,
     "metadata": {},
     "output_type": "execute_result"
    }
   ],
   "source": [
    "'1001001'.count('1')"
   ]
  },
  {
   "cell_type": "code",
   "execution_count": 38,
   "metadata": {},
   "outputs": [],
   "source": [
    "def xy_baldintza(n):\n",
    "    # 1. aukera\n",
    "    z = list(str(n))\n",
    "    x = int(z[0])\n",
    "    y = int(z[1])    \n",
    "    # 2. aukera\n",
    "    z = str(n)\n",
    "    x = int(z[0])\n",
    "    y = int(z[1])    \n",
    "    # 3. aukera\n",
    "    x,y = str(n)\n",
    "    x,y = int(x),int(y)\n",
    "    # 4. aukera\n",
    "    x = n // 10\n",
    "    y = n % 10\n",
    "    \n",
    "    txt = bitarrean(n)\n",
    "    \n",
    "    if len(txt) == x and txt.count('1') == y :\n",
    "        return True\n",
    "    else :\n",
    "        return False\n",
    "    # modu trinkoagoi batean...\n",
    "    return len(txt) == x and txt.count('1') == y\n",
    "    "
   ]
  },
  {
   "cell_type": "code",
   "execution_count": 39,
   "metadata": {},
   "outputs": [],
   "source": [
    "def sheldon_cooper(n):\n",
    "    txt = bitarrean(n)\n",
    "    if atzekoz_aurrera_berdina_ote(txt) and xy_baldintza(n):\n",
    "        return True\n",
    "    else :\n",
    "        return False\n",
    "    \n",
    "\n",
    "def sheldon_cooper(n):\n",
    "    return atzekoz_aurrera_berdina_ote(bitarrean(n)) and xy_baldintza(n)\n"
   ]
  },
  {
   "cell_type": "code",
   "execution_count": 40,
   "metadata": {},
   "outputs": [
    {
     "data": {
      "text/plain": [
       "True"
      ]
     },
     "execution_count": 40,
     "metadata": {},
     "output_type": "execute_result"
    }
   ],
   "source": [
    "sheldon_cooper(73)"
   ]
  }
 ],
 "metadata": {
  "kernelspec": {
   "display_name": "Python 3",
   "language": "python",
   "name": "python3"
  },
  "language_info": {
   "codemirror_mode": {
    "name": "ipython",
    "version": 3
   },
   "file_extension": ".py",
   "mimetype": "text/x-python",
   "name": "python",
   "nbconvert_exporter": "python",
   "pygments_lexer": "ipython3",
   "version": "3.7.6"
  }
 },
 "nbformat": 4,
 "nbformat_minor": 4
}
