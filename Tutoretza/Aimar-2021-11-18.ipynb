{
 "cells": [
  {
   "cell_type": "markdown",
   "metadata": {},
   "source": [
    "## 5 - 6\n",
    "Sortu Python programazio lengoaian n eta m aldagaiak jaso, eta `[1, n]`\n",
    "tartean, m-ren multiploak diren zenbakien inbertsuen batura\n",
    "kalkulatuko duen funtzioa. Saiatu funtzioa bizkorrago egiten."
   ]
  },
  {
   "cell_type": "code",
   "execution_count": 2,
   "metadata": {},
   "outputs": [
    {
     "name": "stdout",
     "output_type": "stream",
     "text": [
      "13\n",
      "26\n",
      "39\n",
      "52\n",
      "65\n",
      "78\n",
      "91\n"
     ]
    }
   ],
   "source": [
    "def inbertsuenbatura(n,m):\n",
    "    for i in range(1,n//m+1):\n",
    "        print(i*m)\n",
    "        \n",
    "inbertsuenbatura(100,13)"
   ]
  },
  {
   "cell_type": "code",
   "execution_count": 3,
   "metadata": {},
   "outputs": [
    {
     "name": "stdout",
     "output_type": "stream",
     "text": [
      "13\n",
      "26\n",
      "39\n",
      "52\n",
      "65\n",
      "78\n",
      "91\n"
     ]
    }
   ],
   "source": [
    "def inbertsuenbatura(n,m):\n",
    "    i = 1\n",
    "    while i*m <= n:\n",
    "        print(i*m)\n",
    "        i += 1\n",
    "        \n",
    "inbertsuenbatura(100,13)"
   ]
  },
  {
   "cell_type": "code",
   "execution_count": 5,
   "metadata": {},
   "outputs": [
    {
     "name": "stdout",
     "output_type": "stream",
     "text": [
      "13\n",
      "26\n",
      "39\n",
      "52\n",
      "65\n",
      "78\n",
      "91\n"
     ]
    }
   ],
   "source": [
    "def inbertsuenbatura(n,m):\n",
    "    for i in range(m,n+1,m):\n",
    "        print(i)\n",
    "        \n",
    "inbertsuenbatura(100,13)"
   ]
  },
  {
   "cell_type": "code",
   "execution_count": 6,
   "metadata": {},
   "outputs": [
    {
     "data": {
      "text/plain": [
       "0.19945054945054944"
      ]
     },
     "execution_count": 6,
     "metadata": {},
     "output_type": "execute_result"
    }
   ],
   "source": [
    "def inbertsuenbatura(n,m):\n",
    "    b = 0\n",
    "    for i in range(m,n+1,m):\n",
    "        b += 1/i\n",
    "    return b\n",
    "\n",
    "inbertsuenbatura(100,13)"
   ]
  },
  {
   "cell_type": "markdown",
   "metadata": {},
   "source": [
    "## 2019 Azaroa 1"
   ]
  },
  {
   "cell_type": "code",
   "execution_count": 7,
   "metadata": {},
   "outputs": [],
   "source": [
    "def biribila(n):\n",
    "    b = 0\n",
    "    for i in range(1,n+1):\n",
    "        if n%i == 0 :\n",
    "            b += 1\n",
    "    #if n%b == 0 :\n",
    "    #    return True\n",
    "    #else :\n",
    "    #    return False\n",
    "    return n%b == 0"
   ]
  },
  {
   "cell_type": "code",
   "execution_count": 14,
   "metadata": {},
   "outputs": [
    {
     "data": {
      "text/plain": [
       "7071.067811865475"
      ]
     },
     "execution_count": 14,
     "metadata": {},
     "output_type": "execute_result"
    }
   ],
   "source": [
    "biribila(50_000_000)\n",
    "50_000_000**0.5"
   ]
  },
  {
   "cell_type": "markdown",
   "metadata": {},
   "source": [
    "## 2019 Azaroa 3"
   ]
  },
  {
   "cell_type": "code",
   "execution_count": 15,
   "metadata": {},
   "outputs": [],
   "source": [
    "def biribila(n):\n",
    "    b = 0\n",
    "    i = 1\n",
    "    while i*i < n :\n",
    "        if n%i == 0 :\n",
    "            b += 2\n",
    "        i += 1\n",
    "    if i*i == n :\n",
    "        b += 1\n",
    "    return n%b == 0"
   ]
  },
  {
   "cell_type": "code",
   "execution_count": 20,
   "metadata": {},
   "outputs": [
    {
     "data": {
      "text/plain": [
       "False"
      ]
     },
     "execution_count": 20,
     "metadata": {},
     "output_type": "execute_result"
    }
   ],
   "source": [
    "biribila(50_000_000)"
   ]
  },
  {
   "cell_type": "markdown",
   "metadata": {},
   "source": [
    "## 2019 Abendua 1"
   ]
  },
  {
   "cell_type": "code",
   "execution_count": 46,
   "metadata": {},
   "outputs": [
    {
     "data": {
      "text/plain": [
       "'Arrate Martinez de Gereño Lopez de Bengoa'"
      ]
     },
     "execution_count": 46,
     "metadata": {},
     "output_type": "execute_result"
    }
   ],
   "source": [
    "def f1_luzeena(fizena,kodif):\n",
    "    f = open(fizena,encoding=kodif)\n",
    "    luzeena = \"\"\n",
    "    for ilara in f :\n",
    "        ilara = ilara.rstrip()\n",
    "        #print(ilara[ilara.index(' ')+1:])\n",
    "        #print(ilara.split(maxsplit=1)[1])\n",
    "        izenabizen = ilara[ilara.index(' ')+1:]\n",
    "        if len(izenabizen) > len(luzeena) :\n",
    "            luzeena = izenabizen\n",
    "            #print(luzeena)\n",
    "    f.close()\n",
    "    return luzeena\n",
    "    \n",
    "f1_luzeena('2019Abendua.txt','utf8')"
   ]
  },
  {
   "cell_type": "code",
   "execution_count": 42,
   "metadata": {},
   "outputs": [
    {
     "data": {
      "text/plain": [
       "['6.3', 'Joanes Lejarza Aiestaran']"
      ]
     },
     "execution_count": 42,
     "metadata": {},
     "output_type": "execute_result"
    }
   ],
   "source": [
    "s='6.3 Joanes Lejarza Aiestaran'\n",
    "s[s.index(' ')+1:]\n",
    "s.split(maxsplit=1)"
   ]
  },
  {
   "cell_type": "code",
   "execution_count": 51,
   "metadata": {},
   "outputs": [
    {
     "data": {
      "text/plain": [
       "'Ane Perez Legarreta'"
      ]
     },
     "execution_count": 51,
     "metadata": {},
     "output_type": "execute_result"
    }
   ],
   "source": [
    "def f1_motzena(fizena,kodif):\n",
    "    f = open(fizena,encoding=kodif)\n",
    "    ilara = f.readline()\n",
    "    motzena = ilara[ilara.index(' ')+1:]\n",
    "    for ilara in f :\n",
    "        ilara = ilara.rstrip()\n",
    "        #print(ilara[ilara.index(' ')+1:])\n",
    "        #print(ilara.split(maxsplit=1)[1])\n",
    "        izenabizen = ilara[ilara.index(' ')+1:]\n",
    "        if len(izenabizen) < len(motzena) :\n",
    "            motzena = izenabizen\n",
    "            #print(motzena)\n",
    "    f.close()\n",
    "    return motzena\n",
    "    \n",
    "f1_motzena('2019Abendua.txt','utf8')"
   ]
  }
 ],
 "metadata": {
  "kernelspec": {
   "display_name": "Python 3",
   "language": "python",
   "name": "python3"
  },
  "language_info": {
   "codemirror_mode": {
    "name": "ipython",
    "version": 3
   },
   "file_extension": ".py",
   "mimetype": "text/x-python",
   "name": "python",
   "nbconvert_exporter": "python",
   "pygments_lexer": "ipython3",
   "version": "3.7.6"
  }
 },
 "nbformat": 4,
 "nbformat_minor": 4
}
